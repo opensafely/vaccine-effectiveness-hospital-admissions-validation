{
 "cells": [
  {
   "cell_type": "code",
   "execution_count": 1,
   "metadata": {},
   "outputs": [],
   "source": [
    "import pandas as pd\n",
    "import os\n",
    "import matplotlib.pyplot as plt\n",
    "import seaborn as sn\n",
    "import numpy as np\n",
    "from datetime import datetime, timedelta\n",
    "os.chdir('../')"
   ]
  },
  {
   "cell_type": "code",
   "execution_count": 2,
   "metadata": {},
   "outputs": [],
   "source": [
    "df = pd.read_csv('output/input_2021-06-01.csv.gz', parse_dates=[\"ae_attendance_date\", \"ae_attendance_hosp_discharge_date\", \"emergency_covid_hospital_admission_date\", \"ae_before_date\", \"ae_before_with_hospital_discharge_date\"])\n",
    "\n",
    "if not os.path.exists('output/jun'):\n",
    "    os.mkdir('output/jun')\n",
    "\n",
    "def produce_matrix(columns_list, names, filename, size=(7, 7)):\n",
    "    confusion_matrix = []\n",
    "    for i in columns_list:\n",
    "        row = []\n",
    "        for j in columns_list:\n",
    "            equal = i.eq(j).sum()\n",
    "            row.append(int(round_to_5(equal)))\n",
    "\n",
    "        confusion_matrix.append(row)\n",
    "\n",
    "\n",
    "    plt.figure(figsize=size)\n",
    "    mask = np.zeros_like(confusion_matrix)\n",
    "    mask[np.triu_indices_from(mask, k=1)] = True\n",
    "\n",
    "    with sn.axes_style(\"white\"):\n",
    "\n",
    "        sn.heatmap(confusion_matrix, mask=mask, annot=True, fmt=\"d\", xticklabels=names, yticklabels=names)\n",
    "        plt.yticks(rotation=0) \n",
    "        plt.savefig(f\"output/jun/{filename}.jpeg\", bbox_inches='tight')\n",
    "        plt.show()\n",
    "        \n",
    "def round_to_5(number):\n",
    "    return 5 * round((number / 5))\n",
    "\n",
    "def performance_metrics(tp, fp, tn, fn):\n",
    "    tp = round_to_5(tp)\n",
    "    fp = round_to_5(fp)\n",
    "    tn = round_to_5(tn)\n",
    "    fn = round_to_5(fn)\n",
    "    \n",
    "    sensitivity = round((tp/(tp+fn)) *100, 2)\n",
    "    specificity = round((tn/(tn+fp)) *100, 2)\n",
    "    fdr = round((fp/(fp+tp)) *100, 2)\n",
    "    return [tp, fp, sensitivity, specificity, fdr]\n",
    "\n",
    "\n",
    "ae_discharge_dict = {\n",
    "    1066341000000100: \"Ambulatory Emergency Care\",\n",
    "    19712007: \"Patient Transfer\",\n",
    "    183919006: \"Hospice\",\n",
    "    1066361000000104: \"High dependency unit\",\n",
    "    305398007: \"Mortuary\",\n",
    "    1066381000000108: \"Special baby care unit\",\n",
    "    1066331000000109: \"Emergency department short stay ward\",\n",
    "    306705005: \"Police custody\",\n",
    "    306706006: \"Ward\",\n",
    "    306689006: \"Home\",\n",
    "    306694006: \"Nursing Home\",\n",
    "    306691003: \"Residential Home\",\n",
    "    1066351000000102: \"Hospital at home\",\n",
    "    1066401000000108: \"Neonatal ICU\",\n",
    "    1066371000000106: \"Coronary Care Unit\",\n",
    "    50861005: \"Legal Custody\",\n",
    "    1066391000000105: \"ICU\",\n",
    "    \"missing\": \"missing\",\n",
    "}\n",
    "\n",
    "hosp_discharge_list = [str(306706006), str(1066331000000109), str(1066391000000105), str(1066361000000104)]\n"
   ]
  },
  {
   "cell_type": "markdown",
   "metadata": {},
   "source": [
    "## Number of emergency covid hospital admissions and those that can be identified in A&E attendances\n",
    "### Any A&E attendance"
   ]
  },
  {
   "cell_type": "code",
   "execution_count": 3,
   "metadata": {},
   "outputs": [
    {
     "name": "stdout",
     "output_type": "stream",
     "text": [
      "Number of emergency covid hospital admissions: 800\n",
      "Number with A&E attendance before admission: 500 (62.5%)\n",
      "---\n",
      "Number of A&E attendances: 400\n"
     ]
    }
   ],
   "source": [
    "num_emergency_cov_admissions = round_to_5(df['emergency_covid_hospital_admission_date'].count())\n",
    "ae_before = (df.loc[\n",
    "    df[\"ae_before_date\"].notnull()\n",
    ", \"patient_id\"])\n",
    "print(f'Number of emergency covid hospital admissions: {num_emergency_cov_admissions}')\n",
    "print(f'Number with A&E attendance before admission: {round_to_5(len(ae_before))} ({round((round_to_5(len(ae_before))/num_emergency_cov_admissions)*100, 2)}%)')\n",
    "\n",
    "ae = round_to_5(len(df[\n",
    "    (df[\"ae_attendance_date\"].notnull())\n",
    "]))\n",
    "\n",
    "ae_with_hosp_discharge = round_to_5(len(df[\n",
    "    (df[\"ae_attendance_hosp_discharge_date\"].notnull())\n",
    "]))\n",
    "\n",
    "summary_table = pd.DataFrame({\n",
    "    \"emergency covid hospital admission\": num_emergency_cov_admissions,\n",
    "    \"ae attendance before admission\": round_to_5(len(ae_before)),\n",
    "    \"ae_attendance\": ae, \n",
    "    \"ae attendance with hospital discharge\": ae_with_hosp_discharge,\n",
    "    \n",
    "}, index=[\"count\"])\n",
    "\n",
    "summary_table.to_csv(\"output/jun/summary_table.csv\")\n",
    "\n",
    "print('---')\n",
    "print(f'Number of A&E attendances: {ae}')"
   ]
  },
  {
   "cell_type": "markdown",
   "metadata": {},
   "source": [
    "#### Method 1 - Discharge destination\n",
    "Restrict to those that attended A&E and had a hospital discharge destination (hospital ward, emergency short stay ward, icu)."
   ]
  },
  {
   "cell_type": "code",
   "execution_count": 4,
   "metadata": {},
   "outputs": [
    {
     "name": "stdout",
     "output_type": "stream",
     "text": [
      "Number with A&E attendance with hospital discharge before admission: 500 (62.5%)\n"
     ]
    },
    {
     "ename": "ZeroDivisionError",
     "evalue": "division by zero",
     "output_type": "error",
     "traceback": [
      "\u001b[0;31m---------------------------------------------------------------------------\u001b[0m",
      "\u001b[0;31mZeroDivisionError\u001b[0m                         Traceback (most recent call last)",
      "\u001b[0;32m/var/folders/6d/gn8xz2l52x32r5r2m_yxl_vr0000gp/T/ipykernel_26771/2275324461.py\u001b[0m in \u001b[0;36m<module>\u001b[0;34m\u001b[0m\n\u001b[1;32m     36\u001b[0m \u001b[0;34m\u001b[0m\u001b[0m\n\u001b[1;32m     37\u001b[0m \u001b[0;34m\u001b[0m\u001b[0m\n\u001b[0;32m---> 38\u001b[0;31m \u001b[0mdischarge_destination\u001b[0m \u001b[0;34m=\u001b[0m \u001b[0mperformance_metrics\u001b[0m\u001b[0;34m(\u001b[0m\u001b[0mtp_ae_hosp_discharge\u001b[0m\u001b[0;34m,\u001b[0m \u001b[0mfp_ae_hosp_discharge\u001b[0m\u001b[0;34m,\u001b[0m \u001b[0mtn_ae_hosp_discharge\u001b[0m\u001b[0;34m,\u001b[0m \u001b[0mfn_ae_hosp_discharge\u001b[0m\u001b[0;34m)\u001b[0m\u001b[0;34m\u001b[0m\u001b[0;34m\u001b[0m\u001b[0m\n\u001b[0m\u001b[1;32m     39\u001b[0m \u001b[0;34m\u001b[0m\u001b[0m\n\u001b[1;32m     40\u001b[0m \u001b[0mprint\u001b[0m\u001b[0;34m(\u001b[0m\u001b[0;34mf'False positives (FDR): {fp_ae_hosp_discharge} ({discharge_destination[4]}%)'\u001b[0m\u001b[0;34m)\u001b[0m\u001b[0;34m\u001b[0m\u001b[0;34m\u001b[0m\u001b[0m\n",
      "\u001b[0;32m/var/folders/6d/gn8xz2l52x32r5r2m_yxl_vr0000gp/T/ipykernel_26771/2648676151.py\u001b[0m in \u001b[0;36mperformance_metrics\u001b[0;34m(tp, fp, tn, fn)\u001b[0m\n\u001b[1;32m     37\u001b[0m     \u001b[0msensitivity\u001b[0m \u001b[0;34m=\u001b[0m \u001b[0mround\u001b[0m\u001b[0;34m(\u001b[0m\u001b[0;34m(\u001b[0m\u001b[0mtp\u001b[0m\u001b[0;34m/\u001b[0m\u001b[0;34m(\u001b[0m\u001b[0mtp\u001b[0m\u001b[0;34m+\u001b[0m\u001b[0mfn\u001b[0m\u001b[0;34m)\u001b[0m\u001b[0;34m)\u001b[0m \u001b[0;34m*\u001b[0m\u001b[0;36m100\u001b[0m\u001b[0;34m,\u001b[0m \u001b[0;36m2\u001b[0m\u001b[0;34m)\u001b[0m\u001b[0;34m\u001b[0m\u001b[0;34m\u001b[0m\u001b[0m\n\u001b[1;32m     38\u001b[0m     \u001b[0mspecificity\u001b[0m \u001b[0;34m=\u001b[0m \u001b[0mround\u001b[0m\u001b[0;34m(\u001b[0m\u001b[0;34m(\u001b[0m\u001b[0mtn\u001b[0m\u001b[0;34m/\u001b[0m\u001b[0;34m(\u001b[0m\u001b[0mtn\u001b[0m\u001b[0;34m+\u001b[0m\u001b[0mfp\u001b[0m\u001b[0;34m)\u001b[0m\u001b[0;34m)\u001b[0m \u001b[0;34m*\u001b[0m\u001b[0;36m100\u001b[0m\u001b[0;34m,\u001b[0m \u001b[0;36m2\u001b[0m\u001b[0;34m)\u001b[0m\u001b[0;34m\u001b[0m\u001b[0;34m\u001b[0m\u001b[0m\n\u001b[0;32m---> 39\u001b[0;31m     \u001b[0mfdr\u001b[0m \u001b[0;34m=\u001b[0m \u001b[0mround\u001b[0m\u001b[0;34m(\u001b[0m\u001b[0;34m(\u001b[0m\u001b[0mfp\u001b[0m\u001b[0;34m/\u001b[0m\u001b[0;34m(\u001b[0m\u001b[0mfp\u001b[0m\u001b[0;34m+\u001b[0m\u001b[0mtp\u001b[0m\u001b[0;34m)\u001b[0m\u001b[0;34m)\u001b[0m \u001b[0;34m*\u001b[0m\u001b[0;36m100\u001b[0m\u001b[0;34m,\u001b[0m \u001b[0;36m2\u001b[0m\u001b[0;34m)\u001b[0m\u001b[0;34m\u001b[0m\u001b[0;34m\u001b[0m\u001b[0m\n\u001b[0m\u001b[1;32m     40\u001b[0m     \u001b[0;32mreturn\u001b[0m \u001b[0;34m[\u001b[0m\u001b[0mtp\u001b[0m\u001b[0;34m,\u001b[0m \u001b[0mfp\u001b[0m\u001b[0;34m,\u001b[0m \u001b[0msensitivity\u001b[0m\u001b[0;34m,\u001b[0m \u001b[0mspecificity\u001b[0m\u001b[0;34m,\u001b[0m \u001b[0mfdr\u001b[0m\u001b[0;34m]\u001b[0m\u001b[0;34m\u001b[0m\u001b[0;34m\u001b[0m\u001b[0m\n\u001b[1;32m     41\u001b[0m \u001b[0;34m\u001b[0m\u001b[0m\n",
      "\u001b[0;31mZeroDivisionError\u001b[0m: division by zero"
     ]
    }
   ],
   "source": [
    "ae_hosp_before = (df.loc[\n",
    "    df[\"ae_before_with_hospital_discharge_date\"].notnull()\n",
    ", \"patient_id\"])\n",
    "\n",
    "print(f'Number with A&E attendance with hospital discharge before admission: {round_to_5(len(ae_hosp_before))} ({round((round_to_5(len(ae_hosp_before))/num_emergency_cov_admissions)*100, 2)}%)')\n",
    "\n",
    "emergency_admission_filter = (\n",
    "        (df[\"emergency_covid_hospital_admission_date\"].notnull()) &\n",
    "        (\n",
    "            (df[\"ae_attendance_date\"] < df[\"emergency_covid_hospital_admission_date\"]) &\n",
    "            (df[\"ae_attendance_date\"] > (df[\"emergency_covid_hospital_admission_date\"] - timedelta(days = 14)))\n",
    "        )\n",
    "    ) \n",
    "\n",
    "\n",
    "tp_ae_hosp_discharge = round_to_5(len(df[\n",
    "    (df[\"discharge_destination\"].isin(hosp_discharge_list)) & \n",
    "    emergency_admission_filter\n",
    "]))\n",
    "\n",
    "fp_ae_hosp_discharge = round_to_5(len(df[\n",
    "    (df[\"discharge_destination\"].isin(hosp_discharge_list)) & \n",
    "    ~emergency_admission_filter\n",
    "]))\n",
    "\n",
    "\n",
    "tn_ae_hosp_discharge = round_to_5(len(df[\n",
    "    ~(df[\"discharge_destination\"].isin(hosp_discharge_list)) & \n",
    "    ~emergency_admission_filter\n",
    "]))\n",
    "\n",
    "fn_ae_hosp_discharge = round_to_5(len(df[\n",
    "    ~(df[\"discharge_destination\"].isin(hosp_discharge_list)) & \n",
    "    emergency_admission_filter\n",
    "]))\n",
    "\n",
    "\n",
    "discharge_destination = performance_metrics(tp_ae_hosp_discharge, fp_ae_hosp_discharge, tn_ae_hosp_discharge, fn_ae_hosp_discharge)\n",
    "\n",
    "print(f'False positives (FDR): {fp_ae_hosp_discharge} ({discharge_destination[4]}%)')"
   ]
  },
  {
   "cell_type": "markdown",
   "metadata": {},
   "source": [
    "#### Method 2 - Diagnosis code\n",
    "Restrict to those with a COVID-19 diagnosis code or respiratory-related diagnosis code from the [emergency care diagnosis refset](https://termbrowser.nhs.uk/?perspective=full&conceptId1=991411000000109&edition=uk-edition&release=v20220216&server=https://termbrowser.nhs.uk/sct-browser-api/snomed&langRefset=900000000000508004)"
   ]
  },
  {
   "cell_type": "code",
   "execution_count": 5,
   "metadata": {},
   "outputs": [
    {
     "name": "stdout",
     "output_type": "stream",
     "text": [
      "Number with A&E attendance and covid diagnosis code before admission: 500 (62.5%)\n",
      "Number with A&E attendance and respiratory code before admission: 500 (62.5%)\n",
      "False positives (FDR) - A&E attendance and covid diagnosis code: 480 (96.0%)\n",
      "False positives (FDR) - A&E attendance and respiratory diagnosis code: 480 (96.0%)\n"
     ]
    }
   ],
   "source": [
    "ae_cov_before = (df.loc[\n",
    "    df[\"ae_before_with_covid\"]==1\n",
    ", \"patient_id\"])\n",
    "\n",
    "ae_resp_before = (df.loc[\n",
    "    df[\"ae_before_with_resp\"]==1\n",
    ", \"patient_id\"])\n",
    "\n",
    "print(f'Number with A&E attendance and covid diagnosis code before admission: {round_to_5(len(ae_cov_before))} ({round((round_to_5(len(ae_cov_before))/num_emergency_cov_admissions)*100, 2)}%)')\n",
    "print(f'Number with A&E attendance and respiratory code before admission: {round_to_5(len(ae_resp_before))} ({round((round_to_5(len(ae_resp_before))/num_emergency_cov_admissions)*100, 2)}%)')\n",
    "\n",
    "tp_ae_cov = round_to_5(len(df[\n",
    "    (df[\"ae_cov\"]==1) & \n",
    "    emergency_admission_filter\n",
    "]))\n",
    "\n",
    "fp_ae_cov = round_to_5(len(df[\n",
    "    (df[\"ae_cov\"]==1) & \n",
    "    ~emergency_admission_filter \n",
    "]))\n",
    "\n",
    "tn_ae_cov = round_to_5(len(df[\n",
    "    (df[\"ae_cov\"]==0) & \n",
    "    ~emergency_admission_filter\n",
    "]))\n",
    "\n",
    "fn_ae_cov = round_to_5(len(df[\n",
    "    (df[\"ae_cov\"]==0) & \n",
    "    emergency_admission_filter \n",
    "]))\n",
    "\n",
    "tp_ae_resp = round_to_5(len(df[\n",
    "    (df[\"ae_resp\"]==1) & \n",
    "    emergency_admission_filter \n",
    "]))\n",
    "\n",
    "fp_ae_resp = round_to_5(len(df[\n",
    "    (df[\"ae_resp\"]==1) & \n",
    "    ~emergency_admission_filter  \n",
    "]))\n",
    "\n",
    "tn_ae_resp = round_to_5(len(df[\n",
    "    (df[\"ae_resp\"]==0) & \n",
    "    ~emergency_admission_filter  \n",
    "]))\n",
    "\n",
    "fn_ae_resp = round_to_5(len(df[\n",
    "    (df[\"ae_resp\"]==0) & \n",
    "    emergency_admission_filter \n",
    "]))\n",
    "\n",
    "\n",
    "diagnosis_code_cov = performance_metrics(tp_ae_cov, fp_ae_cov, tn_ae_cov, fn_ae_cov)\n",
    "diagnosis_code_resp = performance_metrics(tp_ae_resp, fp_ae_resp, tn_ae_resp, fn_ae_resp)\n",
    "\n",
    "print(f'False positives (FDR) - A&E attendance and covid diagnosis code: {fp_ae_cov} ({diagnosis_code_cov[4]}%)')\n",
    "print(f'False positives (FDR) - A&E attendance and respiratory diagnosis code: {fp_ae_resp} ({diagnosis_code_resp[4]}%)')"
   ]
  },
  {
   "cell_type": "markdown",
   "metadata": {},
   "source": [
    "#### Method 3 - Identification in primary care\n",
    "\n",
    "Restrict to those with a probable or suspected COVID-19 code recorded in primary care in the 2 weeks prior to A&E attendance."
   ]
  },
  {
   "cell_type": "code",
   "execution_count": 6,
   "metadata": {},
   "outputs": [
    {
     "name": "stdout",
     "output_type": "stream",
     "text": [
      "Number with A&E attendance and recent suspected covid code in primary care before admission: 500 (62.5%)\n",
      "Number with A&E attendance and recent probable covid code in primary care before admission: 500 (62.5%)\n",
      "False positives (FDR) - A&E attendance and probable covid code in primary care: 96.0%)\n",
      "False positives (FDR) - A&E attendance and suspected covid code in primary care: 96.0%)\n"
     ]
    }
   ],
   "source": [
    "ae_prim_care_probable_before = (df.loc[\n",
    "    df[\"ae_before_with_prim_care_probable\"]==1\n",
    ", \"patient_id\"])\n",
    "\n",
    "ae_prim_care_suspected_before = (df.loc[\n",
    "    df[\"ae_before_with_prim_care_suspected\"]==1\n",
    ", \"patient_id\"])\n",
    "\n",
    "print(f'Number with A&E attendance and recent suspected covid code in primary care before admission: {round_to_5(len(ae_prim_care_suspected_before))} ({round((round_to_5(len(ae_prim_care_suspected_before))/num_emergency_cov_admissions)*100, 2)}%)')\n",
    "print(f'Number with A&E attendance and recent probable covid code in primary care before admission: {round_to_5(len(ae_prim_care_probable_before))} ({round((round_to_5(len(ae_prim_care_probable_before))/num_emergency_cov_admissions)*100, 2)}%)')\n",
    "\n",
    "tp_ae_suspected = round_to_5(len(df[\n",
    "    (df[\"suspected_covid_primary_care_before_ae\"]==1) & \n",
    "    emergency_admission_filter \n",
    "]))\n",
    "\n",
    "fp_ae_suspected = round_to_5(len(df[\n",
    "    (df[\"suspected_covid_primary_care_before_ae\"]==1) & \n",
    "    ~emergency_admission_filter \n",
    "]))\n",
    "\n",
    "tn_ae_suspected = round_to_5(len(df[\n",
    "    (df[\"suspected_covid_primary_care_before_ae\"]==0) & \n",
    "    emergency_admission_filter\n",
    "]))\n",
    "\n",
    "\n",
    "fn_ae_suspected = round_to_5(len(df[\n",
    "    (df[\"suspected_covid_primary_care_before_ae\"]==0) & \n",
    "    ~emergency_admission_filter  \n",
    "]))\n",
    "\n",
    "tp_ae_probable = round_to_5(len(df[\n",
    "    (df[\"covid_primary_care_before_ae\"]==1) & \n",
    "    emergency_admission_filter \n",
    "]))\n",
    "\n",
    "fp_ae_probable = round_to_5(len(df[\n",
    "    (df[\"covid_primary_care_before_ae\"]==1) & \n",
    "    ~emergency_admission_filter \n",
    "]))\n",
    "\n",
    "tn_ae_probable = round_to_5(len(df[\n",
    "    (df[\"covid_primary_care_before_ae\"]==0) & \n",
    "    emergency_admission_filter  \n",
    "]))\n",
    "\n",
    "fn_ae_probable = round_to_5(len(df[\n",
    "    (df[\"covid_primary_care_before_ae\"]==0) & \n",
    "    ~emergency_admission_filter  \n",
    "]))\n",
    "\n",
    "prim_care_suspected = performance_metrics(tp_ae_suspected, fp_ae_suspected, tn_ae_suspected, fn_ae_suspected)\n",
    "prim_care_probable = performance_metrics(tp_ae_probable, fp_ae_probable, tn_ae_probable, fn_ae_probable)\n",
    "print(f'False positives (FDR) - A&E attendance and probable covid code in primary care: {prim_care_probable[4]}%)')\n",
    "print(f'False positives (FDR) - A&E attendance and suspected covid code in primary care: {prim_care_suspected[4]}%)')"
   ]
  },
  {
   "cell_type": "markdown",
   "metadata": {},
   "source": [
    "#### Method 4 - Positive test result\n",
    "\n",
    "Restrict to those with a positive COVID-19 test result recorded up to 4 weeks prior to A&E attendance."
   ]
  },
  {
   "cell_type": "code",
   "execution_count": 7,
   "metadata": {},
   "outputs": [
    {
     "name": "stdout",
     "output_type": "stream",
     "text": [
      "Number with A&E attendance and recent positive test (2 weeks) before admission: 500 (62.5%)\n",
      "Number with A&E attendance and recent positive test (4 weeks) before admissio: 500 (62.5%)\n",
      "False positives (FDR) - A&E attendance and recent positive test (2 weeks): 490 (98.0%)\n",
      "False positives (FDR) - A&E attendance and recent positive test (4 weeks): 480 (96.0%)\n"
     ]
    }
   ],
   "source": [
    "ae_pos_test_before_2_weeks = (df.loc[\n",
    "    df[\"ae_before_with_positive_covid_test_2_weeks\"]==1\n",
    ", \"patient_id\"])\n",
    "\n",
    "ae_pos_test_before = (df.loc[\n",
    "    df[\"ae_before_with_positive_covid_test\"]==1\n",
    ", \"patient_id\"])\n",
    "\n",
    "\n",
    "print(f'Number with A&E attendance and recent positive test (2 weeks) before admission: {round_to_5(len(ae_pos_test_before_2_weeks))} ({round((round_to_5(len(ae_pos_test_before_2_weeks))/num_emergency_cov_admissions)*100, 2)}%)')\n",
    "print(f'Number with A&E attendance and recent positive test (4 weeks) before admissio: {round_to_5(len(ae_pos_test_before))} ({round((round_to_5(len(ae_pos_test_before))/num_emergency_cov_admissions)*100, 2)}%)')\n",
    "\n",
    "tp_ae_test = round_to_5(len(df[\n",
    "    (df[\"pos_test\"]==1) & \n",
    "    emergency_admission_filter   \n",
    "]))\n",
    "\n",
    "fp_ae_test = round_to_5(len(df[\n",
    "    (df[\"pos_test\"]==1) & \n",
    "    ~emergency_admission_filter   \n",
    "]))\n",
    "\n",
    "tn_ae_test = round_to_5(len(df[\n",
    "    (df[\"pos_test\"]==0) & \n",
    "    ~emergency_admission_filter   \n",
    "]))\n",
    "\n",
    "fn_ae_test = round_to_5(len(df[\n",
    "    (df[\"pos_test\"]==0) & \n",
    "    emergency_admission_filter   \n",
    "]))\n",
    "\n",
    "tp_ae_test_2_weeks = round_to_5(len(df[\n",
    "    (df[\"pos_test_2_weeks\"]==1) & \n",
    "    emergency_admission_filter    \n",
    "]))\n",
    "\n",
    "fp_ae_test_2_weeks = round_to_5(len(df[\n",
    "    (df[\"pos_test_2_weeks\"]==1) & \n",
    "    ~emergency_admission_filter   \n",
    "]))\n",
    "\n",
    "tn_ae_test_2_weeks = round_to_5(len(df[\n",
    "    (df[\"pos_test_2_weeks\"]==0) & \n",
    "    ~emergency_admission_filter    \n",
    "]))\n",
    "\n",
    "fn_ae_test_2_weeks = round_to_5(len(df[\n",
    "    (df[\"pos_test_2_weeks\"]==0) & \n",
    "    emergency_admission_filter    \n",
    "]))\n",
    "\n",
    "positive_test_2_weeks = performance_metrics(tp_ae_test_2_weeks, fp_ae_test_2_weeks, tn_ae_test_2_weeks, fn_ae_test_2_weeks)\n",
    "positive_test_4_weeks = performance_metrics(tp_ae_test, fp_ae_test, tn_ae_test, fn_ae_test)\n",
    "\n",
    "print(f'False positives (FDR) - A&E attendance and recent positive test (2 weeks): {fp_ae_test_2_weeks} ({positive_test_2_weeks[4]}%)')\n",
    "print(f'False positives (FDR) - A&E attendance and recent positive test (4 weeks): {fp_ae_test} ({positive_test_4_weeks[4]}%)')\n"
   ]
  },
  {
   "cell_type": "markdown",
   "metadata": {},
   "source": [
    "####  Combining approaches"
   ]
  },
  {
   "cell_type": "markdown",
   "metadata": {},
   "source": [
    "##### Diagnosis codes (resp or cov) with recent positive test"
   ]
  },
  {
   "cell_type": "code",
   "execution_count": 8,
   "metadata": {},
   "outputs": [
    {
     "name": "stdout",
     "output_type": "stream",
     "text": [
      "Number with A&E attendance with either covid or respiratory diagnosis code and recent positive test (2 weeks) before admission: 385 (48.12%)\n",
      "False positives (FDR): 365 (97.33%)\n"
     ]
    }
   ],
   "source": [
    "ae_hos_resp_cov_plus_test_2_weeks = (df.loc[(\n",
    "        (df[\"ae_before_with_covid\"]==1) | \n",
    "        (df[\"ae_before_with_resp\"]==1) \n",
    "    )&\n",
    "    (df[\"ae_before_with_positive_covid_test_2_weeks\"]==1)\n",
    ", \"patient_id\"])\n",
    "\n",
    "print(f'Number with A&E attendance with either covid or respiratory diagnosis code and recent positive test (2 weeks) before admission: {round_to_5(len(ae_hos_resp_cov_plus_test_2_weeks))} ({round((round_to_5(len(ae_hos_resp_cov_plus_test_2_weeks))/num_emergency_cov_admissions)*100, 2)}%)')\n",
    "\n",
    "tp_ae_hos_resp_cov_plus_test_2_weeks = round_to_5(len(df[\n",
    "    (\n",
    "        (\n",
    "            (df[\"ae_cov\"]==1) |\n",
    "            (df[\"ae_resp\"]==1)    \n",
    "        )&\n",
    "        (df[\"pos_test_2_weeks\"]==1)\n",
    "    )\n",
    "    & \n",
    "    emergency_admission_filter   \n",
    "]))\n",
    "\n",
    "fp_ae_hos_resp_cov_plus_test_2_weeks = round_to_5(len(df[\n",
    "    (\n",
    "        (\n",
    "            (df[\"ae_cov\"]==1) |\n",
    "            (df[\"ae_resp\"]==1)    \n",
    "        )&\n",
    "        (df[\"pos_test_2_weeks\"]==1)\n",
    "    )\n",
    "    & \n",
    "    ~emergency_admission_filter   \n",
    "]))\n",
    "\n",
    "tn_ae_hos_resp_cov_plus_test_2_weeks = round_to_5(len(df[\n",
    "    ~(\n",
    "        (\n",
    "            (df[\"ae_cov\"]==1) |\n",
    "            (df[\"ae_resp\"]==1)    \n",
    "        )&\n",
    "        (df[\"pos_test_2_weeks\"]==1)\n",
    "    )\n",
    "    & \n",
    "    ~emergency_admission_filter   \n",
    "]))\n",
    "\n",
    "fn_ae_hos_resp_cov_plus_test_2_weeks = round_to_5(len(df[\n",
    "    ~(\n",
    "        (\n",
    "            (df[\"ae_cov\"]==1) |\n",
    "            (df[\"ae_resp\"]==1)    \n",
    "        )&\n",
    "        (df[\"pos_test_2_weeks\"]==1)\n",
    "    )\n",
    "    & \n",
    "    emergency_admission_filter   \n",
    "]))\n",
    "\n",
    "\n",
    "code_plus_test = performance_metrics(tp_ae_hos_resp_cov_plus_test_2_weeks, fp_ae_hos_resp_cov_plus_test_2_weeks, tn_ae_hos_resp_cov_plus_test_2_weeks, fn_ae_hos_resp_cov_plus_test_2_weeks)\n",
    "print(f'False positives (FDR): {fp_ae_hos_resp_cov_plus_test_2_weeks} ({code_plus_test[4]}%)')\n"
   ]
  },
  {
   "cell_type": "markdown",
   "metadata": {},
   "source": [
    "##### Covid in primary care with recent positive test"
   ]
  },
  {
   "cell_type": "code",
   "execution_count": 9,
   "metadata": {},
   "outputs": [
    {
     "name": "stdout",
     "output_type": "stream",
     "text": [
      "Number with A&E attendance with suspected or probable covid in primary care and recent positive test (2 weeks) before admission: 375 (46.88%)\n",
      "False positives (FDR): 360 (97.3%)\n"
     ]
    }
   ],
   "source": [
    "ae_hosp_prim_care_before_plus_2_week_test = (df.loc[\n",
    "    \n",
    "    \n",
    "    (\n",
    "        (df[\"ae_before_with_prim_care_suspected\"]==1) | \n",
    "        (df[\"ae_before_with_prim_care_probable\"]==1) \n",
    "    )\n",
    "&\n",
    "    (df[\"ae_before_with_positive_covid_test_2_weeks\"]==1)\n",
    ", \"patient_id\"])\n",
    "\n",
    "print(f'Number with A&E attendance with suspected or probable covid in primary care and recent positive test (2 weeks) before admission: {round_to_5(len(ae_hosp_prim_care_before_plus_2_week_test))} ({round((round_to_5(len(ae_hosp_prim_care_before_plus_2_week_test))/num_emergency_cov_admissions)*100, 2)}%)')\n",
    "\n",
    "tp_ae_hosp_prim_care_before_plus_2_week_test = round_to_5(len(df[\n",
    "    (\n",
    "        (\n",
    "            (df[\"covid_primary_care_before_ae\"]==1) |\n",
    "            (df[\"suspected_covid_primary_care_before_ae\"]==1)    \n",
    "        )&\n",
    "        (df[\"pos_test_2_weeks\"]==1)\n",
    "    )\n",
    "    & \n",
    "    emergency_admission_filter   \n",
    "]))\n",
    "\n",
    "\n",
    "fp_ae_hosp_prim_care_before_plus_2_week_test = round_to_5(len(df[\n",
    "    (\n",
    "        (\n",
    "            (df[\"covid_primary_care_before_ae\"]==1) |\n",
    "            (df[\"suspected_covid_primary_care_before_ae\"]==1)    \n",
    "        )&\n",
    "        (df[\"pos_test_2_weeks\"]==1)\n",
    "    )\n",
    "    & \n",
    "    ~emergency_admission_filter   \n",
    "]))\n",
    "\n",
    "tn_ae_hosp_prim_care_before_plus_2_week_test = round_to_5(len(df[\n",
    "    ~(\n",
    "        (\n",
    "            (df[\"covid_primary_care_before_ae\"]==1) |\n",
    "            (df[\"suspected_covid_primary_care_before_ae\"]==1)    \n",
    "        )&\n",
    "        (df[\"pos_test_2_weeks\"]==1)\n",
    "    )\n",
    "    & \n",
    "    ~emergency_admission_filter   \n",
    "]))\n",
    "\n",
    "fn_ae_hosp_prim_care_before_plus_2_week_test = round_to_5(len(df[\n",
    "    ~(\n",
    "        (\n",
    "            (df[\"covid_primary_care_before_ae\"]==1) |\n",
    "            (df[\"suspected_covid_primary_care_before_ae\"]==1)    \n",
    "        )&\n",
    "        (df[\"pos_test_2_weeks\"]==1)\n",
    "    )\n",
    "    & \n",
    "    emergency_admission_filter   \n",
    "]))\n",
    "\n",
    "\n",
    "\n",
    "\n",
    "primary_care_plus_test = performance_metrics(tp_ae_hosp_prim_care_before_plus_2_week_test, fp_ae_hosp_prim_care_before_plus_2_week_test, tn_ae_hosp_prim_care_before_plus_2_week_test, fn_ae_hosp_prim_care_before_plus_2_week_test)\n",
    "\n",
    "print(f'False positives (FDR): {fp_ae_hosp_prim_care_before_plus_2_week_test} ({primary_care_plus_test[4]}%)')\n"
   ]
  },
  {
   "cell_type": "markdown",
   "metadata": {},
   "source": [
    "##### Recent positive test and either covid in primary care or diagnosis code (resp or cov)"
   ]
  },
  {
   "cell_type": "code",
   "execution_count": 10,
   "metadata": {},
   "outputs": [
    {
     "name": "stdout",
     "output_type": "stream",
     "text": [
      "Number with A&E attendance with recent positive test and either suspected or probable covid in primary care or a covid or respiratory diagnosis code on attendance: 475 (59.38%)\n",
      "False positives (FDR): 460 (97.87%)\n"
     ]
    }
   ],
   "source": [
    "combined_before = (df.loc[\n",
    "        (df[\"ae_before_with_positive_covid_test_2_weeks\"]==1) &\n",
    "        (\n",
    "            (df[\"ae_before_with_prim_care_suspected\"]==1) | \n",
    "            (df[\"ae_before_with_prim_care_probable\"]==1) |\n",
    "            (df[\"ae_before_with_covid\"]==1) | \n",
    "            (df[\"ae_before_with_resp\"]==1)   \n",
    "        )\n",
    ", \"patient_id\"])\n",
    "\n",
    "print(f'Number with A&E attendance with recent positive test and either suspected or probable covid in primary care or a covid or respiratory diagnosis code on attendance: {round_to_5(len(combined_before))} ({round((round_to_5(len(combined_before))/num_emergency_cov_admissions)*100, 2)}%)')\n",
    "\n",
    "tp_combined_before = round_to_5(len(df[\n",
    "    (\n",
    "        (\n",
    "            (df[\"covid_primary_care_before_ae\"]==1) |\n",
    "            (df[\"suspected_covid_primary_care_before_ae\"]==1) |\n",
    "            (df[\"ae_cov\"]==1) |\n",
    "            (df[\"ae_resp\"]==1)\n",
    "        \n",
    "        )\n",
    "        &\n",
    "        (df[\"pos_test_2_weeks\"]==1)\n",
    "    )\n",
    "    & \n",
    "    emergency_admission_filter   \n",
    "]))\n",
    "\n",
    "fp_combined_before = round_to_5(len(df[\n",
    "    (\n",
    "        (\n",
    "            (df[\"covid_primary_care_before_ae\"]==1) |\n",
    "            (df[\"suspected_covid_primary_care_before_ae\"]==1) |\n",
    "            (df[\"ae_cov\"]==1) |\n",
    "            (df[\"ae_resp\"]==1)\n",
    "        \n",
    "        )\n",
    "        &\n",
    "        (df[\"pos_test_2_weeks\"]==1)\n",
    "    )\n",
    "    & \n",
    "    ~emergency_admission_filter   \n",
    "]))\n",
    "\n",
    "\n",
    "tn_combined_before = round_to_5(len(df[\n",
    "    ~(\n",
    "        (\n",
    "            (df[\"covid_primary_care_before_ae\"]==1) |\n",
    "            (df[\"suspected_covid_primary_care_before_ae\"]==1) |\n",
    "            (df[\"ae_cov\"]==1) |\n",
    "            (df[\"ae_resp\"]==1)\n",
    "        \n",
    "        )\n",
    "        &\n",
    "        (df[\"pos_test_2_weeks\"]==1)\n",
    "    )\n",
    "    & \n",
    "    ~emergency_admission_filter   \n",
    "]))\n",
    "\n",
    "\n",
    "fn_combined_before = round_to_5(len(df[\n",
    "    ~(\n",
    "        (\n",
    "            (df[\"covid_primary_care_before_ae\"]==1) |\n",
    "            (df[\"suspected_covid_primary_care_before_ae\"]==1) |\n",
    "            (df[\"ae_cov\"]==1) |\n",
    "            (df[\"ae_resp\"]==1)\n",
    "        \n",
    "        )\n",
    "        &\n",
    "        (df[\"pos_test_2_weeks\"]==1)\n",
    "    )\n",
    "    & \n",
    "    emergency_admission_filter   \n",
    "]))\n",
    "\n",
    "pos_test_prim_care_or_diagnosis_code = performance_metrics(tp_combined_before, fp_combined_before, tn_combined_before, fn_combined_before)\n",
    "print(f'False positives (FDR): {fp_combined_before} ({pos_test_prim_care_or_diagnosis_code[4]}%)')\n"
   ]
  },
  {
   "cell_type": "code",
   "execution_count": 11,
   "metadata": {},
   "outputs": [
    {
     "ename": "NameError",
     "evalue": "name 'discharge_destination' is not defined",
     "output_type": "error",
     "traceback": [
      "\u001b[0;31m---------------------------------------------------------------------------\u001b[0m",
      "\u001b[0;31mNameError\u001b[0m                                 Traceback (most recent call last)",
      "\u001b[0;32m/var/folders/6d/gn8xz2l52x32r5r2m_yxl_vr0000gp/T/ipykernel_26771/3296456457.py\u001b[0m in \u001b[0;36m<module>\u001b[0;34m\u001b[0m\n\u001b[1;32m      1\u001b[0m \u001b[0midentification_table_index\u001b[0m \u001b[0;34m=\u001b[0m \u001b[0;34m[\u001b[0m\u001b[0;34m\"tp\"\u001b[0m\u001b[0;34m,\u001b[0m \u001b[0;34m\"fp\"\u001b[0m\u001b[0;34m,\u001b[0m \u001b[0;34m\"sensitivity\"\u001b[0m\u001b[0;34m,\u001b[0m \u001b[0;34m\"specificity\"\u001b[0m\u001b[0;34m,\u001b[0m \u001b[0;34m\"fdr\"\u001b[0m\u001b[0;34m]\u001b[0m\u001b[0;34m\u001b[0m\u001b[0;34m\u001b[0m\u001b[0m\n\u001b[1;32m      2\u001b[0m identification_table = pd.DataFrame({\n\u001b[0;32m----> 3\u001b[0;31m     \u001b[0;34m\"discharge_destination\"\u001b[0m\u001b[0;34m:\u001b[0m \u001b[0mpd\u001b[0m\u001b[0;34m.\u001b[0m\u001b[0mSeries\u001b[0m\u001b[0;34m(\u001b[0m\u001b[0mdischarge_destination\u001b[0m\u001b[0;34m,\u001b[0m\u001b[0mindex\u001b[0m\u001b[0;34m=\u001b[0m\u001b[0midentification_table_index\u001b[0m\u001b[0;34m)\u001b[0m\u001b[0;34m,\u001b[0m\u001b[0;34m\u001b[0m\u001b[0;34m\u001b[0m\u001b[0m\n\u001b[0m\u001b[1;32m      4\u001b[0m     \u001b[0;34m\"covid_diagnosis_code\"\u001b[0m\u001b[0;34m:\u001b[0m \u001b[0mpd\u001b[0m\u001b[0;34m.\u001b[0m\u001b[0mSeries\u001b[0m\u001b[0;34m(\u001b[0m\u001b[0mdiagnosis_code_cov\u001b[0m\u001b[0;34m,\u001b[0m\u001b[0mindex\u001b[0m\u001b[0;34m=\u001b[0m\u001b[0midentification_table_index\u001b[0m\u001b[0;34m)\u001b[0m\u001b[0;34m,\u001b[0m\u001b[0;34m\u001b[0m\u001b[0;34m\u001b[0m\u001b[0m\n\u001b[1;32m      5\u001b[0m     \u001b[0;34m\"resp_diagnosis_code\"\u001b[0m\u001b[0;34m:\u001b[0m \u001b[0mpd\u001b[0m\u001b[0;34m.\u001b[0m\u001b[0mSeries\u001b[0m\u001b[0;34m(\u001b[0m\u001b[0mdiagnosis_code_resp\u001b[0m\u001b[0;34m,\u001b[0m\u001b[0mindex\u001b[0m\u001b[0;34m=\u001b[0m\u001b[0midentification_table_index\u001b[0m\u001b[0;34m)\u001b[0m\u001b[0;34m,\u001b[0m\u001b[0;34m\u001b[0m\u001b[0;34m\u001b[0m\u001b[0m\n",
      "\u001b[0;31mNameError\u001b[0m: name 'discharge_destination' is not defined"
     ]
    }
   ],
   "source": [
    "identification_table_index = [\"tp\", \"fp\", \"sensitivity\", \"specificity\", \"fdr\"]\n",
    "identification_table = pd.DataFrame({\n",
    "    \"discharge_destination\": pd.Series(discharge_destination,index=identification_table_index),\n",
    "    \"covid_diagnosis_code\": pd.Series(diagnosis_code_cov,index=identification_table_index),\n",
    "    \"resp_diagnosis_code\": pd.Series(diagnosis_code_resp,index=identification_table_index),\n",
    "    \"primary_care_suspected\": pd.Series(prim_care_suspected,index=identification_table_index),\n",
    "    \"primary_care_probable\": pd.Series(prim_care_probable,index=identification_table_index),\n",
    "    \"positive_test_2_weeks\": pd.Series(positive_test_2_weeks,index=identification_table_index),\n",
    "    \"positive_test_4_weeks\": pd.Series(positive_test_4_weeks,index=identification_table_index),\n",
    "    \"diagnosis_code_with_positive_test\": pd.Series(code_plus_test,index=identification_table_index),\n",
    "    \"primary_care_with_positive_test\": pd.Series(primary_care_plus_test,index=identification_table_index),\n",
    "    \"pos_test_prim_care_or_diagnosis\": pd.Series(pos_test_prim_care_or_diagnosis_code,index=identification_table_index)\n",
    "    \n",
    "})\n",
    "identification_table.to_csv(\"output/jun/identification_table_no_hosp_discharge.csv\")"
   ]
  },
  {
   "cell_type": "code",
   "execution_count": 12,
   "metadata": {},
   "outputs": [
    {
     "data": {
      "image/png": "[encoded data removed]",
      "text/plain": [
       "<Figure size 504x504 with 2 Axes>"
      ]
     },
     "metadata": {
      "needs_background": "light"
     },
     "output_type": "display_data"
    }
   ],
   "source": [
    "produce_matrix(columns_list = [ae_hosp_before, ae_cov_before, ae_resp_before, ae_prim_care_probable_before, ae_prim_care_suspected_before, ae_pos_test_before_2_weeks, ae_pos_test_before, ae_hos_resp_cov_plus_test_2_weeks, ae_hosp_prim_care_before_plus_2_week_test], names=[\"Hospital discharge\", \"Covid diagnosis code\", \"Respiratory diagnosis code\", \"Probable covid code\", \"Suspected covid code\", \"Recent positive test (2 weeks)\", \"Recent positive test (4 weeks)\", \"Diagnosis codes (resp or cov) with recent positive test\", \"Covid in primary care with recent positive test\", \"Recent positive test and either covid in primary care or diagnosis code (resp or cov)\"], filename=\"cm_no_hosp_discharge\")\n"
   ]
  },
  {
   "cell_type": "markdown",
   "metadata": {},
   "source": [
    "### Restrict to A&E attendance with hospital discharge"
   ]
  },
  {
   "cell_type": "code",
   "execution_count": 13,
   "metadata": {},
   "outputs": [
    {
     "name": "stdout",
     "output_type": "stream",
     "text": [
      "Number of A&E attendances with hospital discharge: 400\n"
     ]
    }
   ],
   "source": [
    "ae_with_hosp_discharge = round_to_5(len(df[\n",
    "    (df[\"ae_attendance_hosp_discharge_date\"].notnull())\n",
    "]))\n",
    "print(f'Number of A&E attendances with hospital discharge: {ae_with_hosp_discharge}')"
   ]
  },
  {
   "cell_type": "markdown",
   "metadata": {},
   "source": [
    "#### Method 1 - Discharge destination\n",
    "Restrict to those that attended A&E and had a hospital discharge destination (hospital ward, emergency short stay ward, icu)."
   ]
  },
  {
   "cell_type": "code",
   "execution_count": 14,
   "metadata": {},
   "outputs": [
    {
     "name": "stdout",
     "output_type": "stream",
     "text": [
      "Number with A&E attendance with hospital discharge before admission: 500 (62.5%)\n",
      "False positives (FDR): 40 (100.0%)\n"
     ]
    }
   ],
   "source": [
    "emergency_admission_filter_hosp_discharge = (\n",
    "        (df[\"emergency_covid_hospital_admission_date\"].notnull()) &\n",
    "        (\n",
    "            (df[\"ae_attendance_date\"] < df[\"emergency_covid_hospital_admission_date\"]) &\n",
    "            (df[\"ae_attendance_date\"] > (df[\"emergency_covid_hospital_admission_date\"] - timedelta(days = 14))) &\n",
    "            (df[\"discharge_destination\"].isin(hosp_discharge_list))\n",
    "        )\n",
    "    ) \n",
    "\n",
    "\n",
    "ae_hosp_before = (df.loc[\n",
    "    df[\"ae_before_with_hospital_discharge_date\"].notnull()\n",
    ", \"patient_id\"])\n",
    "\n",
    "print(f'Number with A&E attendance with hospital discharge before admission: {round_to_5(len(ae_hosp_before))} ({round((round_to_5(len(ae_hosp_before))/num_emergency_cov_admissions)*100, 2)}%)')\n",
    "\n",
    "tp_ae_hosp_discharge = round_to_5(len(df[\n",
    "    (df[\"discharge_destination\"].isin(hosp_discharge_list)) & \n",
    "    emergency_admission_filter\n",
    "]))\n",
    "\n",
    "fp_ae_hosp_discharge = round_to_5(len(df[\n",
    "    (df[\"discharge_destination\"].isin(hosp_discharge_list)) & \n",
    "    ~emergency_admission_filter\n",
    "]))\n",
    "\n",
    "tn_ae_hosp_discharge = round_to_5(len(df[\n",
    "    ~(df[\"discharge_destination\"].isin(hosp_discharge_list)) & \n",
    "    ~emergency_admission_filter\n",
    "]))\n",
    "\n",
    "fp_ae_hosp_discharge = round_to_5(len(df[\n",
    "    ~(df[\"discharge_destination\"].isin(hosp_discharge_list)) & \n",
    "    emergency_admission_filter\n",
    "]))\n",
    "\n",
    "\n",
    "discharge_destination = performance_metrics(tp_ae_hosp_discharge, fp_ae_hosp_discharge, tn_ae_hosp_discharge, fn_ae_hosp_discharge)\n",
    "print(f'False positives (FDR): {fp_ae_hosp_discharge} ({discharge_destination[4]}%)')"
   ]
  },
  {
   "cell_type": "markdown",
   "metadata": {},
   "source": [
    "#### Method 2 - Diagnosis code\n",
    "Restrict to those with a COVID-19 diagnosis code or respiratory-related diagnosis code from the [emergency care diagnosis refset](https://termbrowser.nhs.uk/?perspective=full&conceptId1=991411000000109&edition=uk-edition&release=v20220216&server=https://termbrowser.nhs.uk/sct-browser-api/snomed&langRefset=900000000000508004)"
   ]
  },
  {
   "cell_type": "code",
   "execution_count": 15,
   "metadata": {},
   "outputs": [
    {
     "name": "stdout",
     "output_type": "stream",
     "text": [
      "Number with A&E attendance and covid diagnosis code before admission: 500 (62.5%)\n",
      "Number with A&E attendance and respiratory code before admission: 500 (62.5%)\n"
     ]
    },
    {
     "ename": "ZeroDivisionError",
     "evalue": "division by zero",
     "output_type": "error",
     "traceback": [
      "\u001b[0;31m---------------------------------------------------------------------------\u001b[0m",
      "\u001b[0;31mZeroDivisionError\u001b[0m                         Traceback (most recent call last)",
      "\u001b[0;32m/var/folders/6d/gn8xz2l52x32r5r2m_yxl_vr0000gp/T/ipykernel_26771/1413385209.py\u001b[0m in \u001b[0;36m<module>\u001b[0;34m\u001b[0m\n\u001b[1;32m     51\u001b[0m \u001b[0;34m\u001b[0m\u001b[0m\n\u001b[1;32m     52\u001b[0m \u001b[0;34m\u001b[0m\u001b[0m\n\u001b[0;32m---> 53\u001b[0;31m \u001b[0mdiagnosis_code_cov\u001b[0m \u001b[0;34m=\u001b[0m \u001b[0mperformance_metrics\u001b[0m\u001b[0;34m(\u001b[0m\u001b[0mtp_ae_cov\u001b[0m\u001b[0;34m,\u001b[0m \u001b[0mfp_ae_cov\u001b[0m\u001b[0;34m,\u001b[0m \u001b[0mtn_ae_cov\u001b[0m\u001b[0;34m,\u001b[0m \u001b[0mfn_ae_cov\u001b[0m\u001b[0;34m)\u001b[0m\u001b[0;34m\u001b[0m\u001b[0;34m\u001b[0m\u001b[0m\n\u001b[0m\u001b[1;32m     54\u001b[0m \u001b[0mdiagnosis_code_resp\u001b[0m \u001b[0;34m=\u001b[0m \u001b[0mperformance_metrics\u001b[0m\u001b[0;34m(\u001b[0m\u001b[0mtp_ae_resp\u001b[0m\u001b[0;34m,\u001b[0m \u001b[0mfp_ae_resp\u001b[0m\u001b[0;34m,\u001b[0m \u001b[0mtn_ae_resp\u001b[0m\u001b[0;34m,\u001b[0m \u001b[0mfn_ae_resp\u001b[0m\u001b[0;34m)\u001b[0m\u001b[0;34m\u001b[0m\u001b[0;34m\u001b[0m\u001b[0m\n\u001b[1;32m     55\u001b[0m \u001b[0;34m\u001b[0m\u001b[0m\n",
      "\u001b[0;32m/var/folders/6d/gn8xz2l52x32r5r2m_yxl_vr0000gp/T/ipykernel_26771/2648676151.py\u001b[0m in \u001b[0;36mperformance_metrics\u001b[0;34m(tp, fp, tn, fn)\u001b[0m\n\u001b[1;32m     35\u001b[0m     \u001b[0mfn\u001b[0m \u001b[0;34m=\u001b[0m \u001b[0mround_to_5\u001b[0m\u001b[0;34m(\u001b[0m\u001b[0mfn\u001b[0m\u001b[0;34m)\u001b[0m\u001b[0;34m\u001b[0m\u001b[0;34m\u001b[0m\u001b[0m\n\u001b[1;32m     36\u001b[0m \u001b[0;34m\u001b[0m\u001b[0m\n\u001b[0;32m---> 37\u001b[0;31m     \u001b[0msensitivity\u001b[0m \u001b[0;34m=\u001b[0m \u001b[0mround\u001b[0m\u001b[0;34m(\u001b[0m\u001b[0;34m(\u001b[0m\u001b[0mtp\u001b[0m\u001b[0;34m/\u001b[0m\u001b[0;34m(\u001b[0m\u001b[0mtp\u001b[0m\u001b[0;34m+\u001b[0m\u001b[0mfn\u001b[0m\u001b[0;34m)\u001b[0m\u001b[0;34m)\u001b[0m \u001b[0;34m*\u001b[0m\u001b[0;36m100\u001b[0m\u001b[0;34m,\u001b[0m \u001b[0;36m2\u001b[0m\u001b[0;34m)\u001b[0m\u001b[0;34m\u001b[0m\u001b[0;34m\u001b[0m\u001b[0m\n\u001b[0m\u001b[1;32m     38\u001b[0m     \u001b[0mspecificity\u001b[0m \u001b[0;34m=\u001b[0m \u001b[0mround\u001b[0m\u001b[0;34m(\u001b[0m\u001b[0;34m(\u001b[0m\u001b[0mtn\u001b[0m\u001b[0;34m/\u001b[0m\u001b[0;34m(\u001b[0m\u001b[0mtn\u001b[0m\u001b[0;34m+\u001b[0m\u001b[0mfp\u001b[0m\u001b[0;34m)\u001b[0m\u001b[0;34m)\u001b[0m \u001b[0;34m*\u001b[0m\u001b[0;36m100\u001b[0m\u001b[0;34m,\u001b[0m \u001b[0;36m2\u001b[0m\u001b[0;34m)\u001b[0m\u001b[0;34m\u001b[0m\u001b[0;34m\u001b[0m\u001b[0m\n\u001b[1;32m     39\u001b[0m     \u001b[0mfdr\u001b[0m \u001b[0;34m=\u001b[0m \u001b[0mround\u001b[0m\u001b[0;34m(\u001b[0m\u001b[0;34m(\u001b[0m\u001b[0mfp\u001b[0m\u001b[0;34m/\u001b[0m\u001b[0;34m(\u001b[0m\u001b[0mfp\u001b[0m\u001b[0;34m+\u001b[0m\u001b[0mtp\u001b[0m\u001b[0;34m)\u001b[0m\u001b[0;34m)\u001b[0m \u001b[0;34m*\u001b[0m\u001b[0;36m100\u001b[0m\u001b[0;34m,\u001b[0m \u001b[0;36m2\u001b[0m\u001b[0;34m)\u001b[0m\u001b[0;34m\u001b[0m\u001b[0;34m\u001b[0m\u001b[0m\n",
      "\u001b[0;31mZeroDivisionError\u001b[0m: division by zero"
     ]
    }
   ],
   "source": [
    "ae_cov_before = (df.loc[\n",
    "    df[\"ae_before_with_hospital_discharge_covid\"]==1\n",
    ", \"patient_id\"])\n",
    "\n",
    "ae_resp_before = (df.loc[\n",
    "    df[\"ae_before_with_hospital_discharge_resp\"]==1\n",
    ", \"patient_id\"])\n",
    "\n",
    "print(f'Number with A&E attendance and covid diagnosis code before admission: {round_to_5(len(ae_cov_before))} ({round((round_to_5(len(ae_cov_before))/num_emergency_cov_admissions)*100, 2)}%)')\n",
    "print(f'Number with A&E attendance and respiratory code before admission: {round_to_5(len(ae_resp_before))} ({round((round_to_5(len(ae_resp_before))/num_emergency_cov_admissions)*100, 2)}%)')\n",
    "\n",
    "tp_ae_cov = round_to_5(len(df[\n",
    "    (df[\"ae_cov\"]==1)  & \n",
    "    emergency_admission_filter_hosp_discharge\n",
    "]))\n",
    "\n",
    "fp_ae_cov = round_to_5(len(df[\n",
    "    (df[\"ae_cov\"]==1)  & \n",
    "    ~emergency_admission_filter_hosp_discharge\n",
    "]))\n",
    "\n",
    "tn_ae_cov = round_to_5(len(df[\n",
    "    (df[\"ae_cov\"]==0)  & \n",
    "    ~emergency_admission_filter_hosp_discharge\n",
    "]))\n",
    "\n",
    "fn_ae_cov = round_to_5(len(df[\n",
    "    (df[\"ae_cov\"]==0)  & \n",
    "    emergency_admission_filter_hosp_discharge\n",
    "]))\n",
    "\n",
    "tp_ae_resp = round_to_5(len(df[\n",
    "    (df[\"ae_resp\"]==1)  & \n",
    "    emergency_admission_filter_hosp_discharge\n",
    "]))\n",
    "\n",
    "fp_ae_resp = round_to_5(len(df[\n",
    "    (df[\"ae_resp\"]==1)  & \n",
    "    ~emergency_admission_filter_hosp_discharge\n",
    "]))\n",
    "\n",
    "tn_ae_resp = round_to_5(len(df[\n",
    "    (df[\"ae_resp\"]==0)  & \n",
    "    ~emergency_admission_filter_hosp_discharge\n",
    "]))\n",
    "\n",
    "fn_ae_resp = round_to_5(len(df[\n",
    "    (df[\"ae_resp\"]==0)  & \n",
    "    emergency_admission_filter_hosp_discharge\n",
    "]))\n",
    "\n",
    "\n",
    "diagnosis_code_cov = performance_metrics(tp_ae_cov, fp_ae_cov, tn_ae_cov, fn_ae_cov)\n",
    "diagnosis_code_resp = performance_metrics(tp_ae_resp, fp_ae_resp, tn_ae_resp, fn_ae_resp)\n",
    "\n",
    "print(f'False positives (FDR) - A&E attendance and covid diagnosis code: {fp_ae_cov} ({diagnosis_code_cov[4]}%)')\n",
    "print(f'False positives (FDR) - A&E attendance and respiratory diagnosis code: {fp_ae_resp} ({diagnosis_code_resp[4]}%)')"
   ]
  },
  {
   "cell_type": "markdown",
   "metadata": {},
   "source": [
    "#### Method 3 - Identification in primary care\n",
    "\n",
    "Restrict to those with a probable or suspected COVID-19 code recorded in primary care in the 2 weeks prior to A&E attendance."
   ]
  },
  {
   "cell_type": "code",
   "execution_count": 17,
   "metadata": {},
   "outputs": [
    {
     "name": "stdout",
     "output_type": "stream",
     "text": [
      "Number with A&E attendance and recent suspected covid code in primary care before admission: 500 (62.5%)\n",
      "Number with A&E attendance and recent probable covid code in primary care before admission: 500 (62.5%)\n"
     ]
    },
    {
     "ename": "ZeroDivisionError",
     "evalue": "division by zero",
     "output_type": "error",
     "traceback": [
      "\u001b[0;31m---------------------------------------------------------------------------\u001b[0m",
      "\u001b[0;31mZeroDivisionError\u001b[0m                         Traceback (most recent call last)",
      "\u001b[0;32m/var/folders/6d/gn8xz2l52x32r5r2m_yxl_vr0000gp/T/ipykernel_26771/1923448341.py\u001b[0m in \u001b[0;36m<module>\u001b[0;34m\u001b[0m\n\u001b[1;32m     51\u001b[0m \u001b[0;34m\u001b[0m\u001b[0m\n\u001b[1;32m     52\u001b[0m \u001b[0;34m\u001b[0m\u001b[0m\n\u001b[0;32m---> 53\u001b[0;31m \u001b[0mprim_care_suspected\u001b[0m \u001b[0;34m=\u001b[0m \u001b[0mperformance_metrics\u001b[0m\u001b[0;34m(\u001b[0m\u001b[0mtp_ae_suspected\u001b[0m\u001b[0;34m,\u001b[0m \u001b[0mfp_ae_suspected\u001b[0m\u001b[0;34m,\u001b[0m \u001b[0mtn_ae_suspected\u001b[0m\u001b[0;34m,\u001b[0m \u001b[0mfn_ae_suspected\u001b[0m\u001b[0;34m)\u001b[0m\u001b[0;34m\u001b[0m\u001b[0;34m\u001b[0m\u001b[0m\n\u001b[0m\u001b[1;32m     54\u001b[0m \u001b[0mprim_care_probable\u001b[0m \u001b[0;34m=\u001b[0m \u001b[0mperformance_metrics\u001b[0m\u001b[0;34m(\u001b[0m\u001b[0mtp_ae_probable\u001b[0m\u001b[0;34m,\u001b[0m \u001b[0mfp_ae_probable\u001b[0m\u001b[0;34m,\u001b[0m \u001b[0mtn_ae_probable\u001b[0m\u001b[0;34m,\u001b[0m \u001b[0mfn_ae_probable\u001b[0m\u001b[0;34m)\u001b[0m\u001b[0;34m\u001b[0m\u001b[0;34m\u001b[0m\u001b[0m\n\u001b[1;32m     55\u001b[0m \u001b[0;34m\u001b[0m\u001b[0m\n",
      "\u001b[0;32m/var/folders/6d/gn8xz2l52x32r5r2m_yxl_vr0000gp/T/ipykernel_26771/2648676151.py\u001b[0m in \u001b[0;36mperformance_metrics\u001b[0;34m(tp, fp, tn, fn)\u001b[0m\n\u001b[1;32m     35\u001b[0m     \u001b[0mfn\u001b[0m \u001b[0;34m=\u001b[0m \u001b[0mround_to_5\u001b[0m\u001b[0;34m(\u001b[0m\u001b[0mfn\u001b[0m\u001b[0;34m)\u001b[0m\u001b[0;34m\u001b[0m\u001b[0;34m\u001b[0m\u001b[0m\n\u001b[1;32m     36\u001b[0m \u001b[0;34m\u001b[0m\u001b[0m\n\u001b[0;32m---> 37\u001b[0;31m     \u001b[0msensitivity\u001b[0m \u001b[0;34m=\u001b[0m \u001b[0mround\u001b[0m\u001b[0;34m(\u001b[0m\u001b[0;34m(\u001b[0m\u001b[0mtp\u001b[0m\u001b[0;34m/\u001b[0m\u001b[0;34m(\u001b[0m\u001b[0mtp\u001b[0m\u001b[0;34m+\u001b[0m\u001b[0mfn\u001b[0m\u001b[0;34m)\u001b[0m\u001b[0;34m)\u001b[0m \u001b[0;34m*\u001b[0m\u001b[0;36m100\u001b[0m\u001b[0;34m,\u001b[0m \u001b[0;36m2\u001b[0m\u001b[0;34m)\u001b[0m\u001b[0;34m\u001b[0m\u001b[0;34m\u001b[0m\u001b[0m\n\u001b[0m\u001b[1;32m     38\u001b[0m     \u001b[0mspecificity\u001b[0m \u001b[0;34m=\u001b[0m \u001b[0mround\u001b[0m\u001b[0;34m(\u001b[0m\u001b[0;34m(\u001b[0m\u001b[0mtn\u001b[0m\u001b[0;34m/\u001b[0m\u001b[0;34m(\u001b[0m\u001b[0mtn\u001b[0m\u001b[0;34m+\u001b[0m\u001b[0mfp\u001b[0m\u001b[0;34m)\u001b[0m\u001b[0;34m)\u001b[0m \u001b[0;34m*\u001b[0m\u001b[0;36m100\u001b[0m\u001b[0;34m,\u001b[0m \u001b[0;36m2\u001b[0m\u001b[0;34m)\u001b[0m\u001b[0;34m\u001b[0m\u001b[0;34m\u001b[0m\u001b[0m\n\u001b[1;32m     39\u001b[0m     \u001b[0mfdr\u001b[0m \u001b[0;34m=\u001b[0m \u001b[0mround\u001b[0m\u001b[0;34m(\u001b[0m\u001b[0;34m(\u001b[0m\u001b[0mfp\u001b[0m\u001b[0;34m/\u001b[0m\u001b[0;34m(\u001b[0m\u001b[0mfp\u001b[0m\u001b[0;34m+\u001b[0m\u001b[0mtp\u001b[0m\u001b[0;34m)\u001b[0m\u001b[0;34m)\u001b[0m \u001b[0;34m*\u001b[0m\u001b[0;36m100\u001b[0m\u001b[0;34m,\u001b[0m \u001b[0;36m2\u001b[0m\u001b[0;34m)\u001b[0m\u001b[0;34m\u001b[0m\u001b[0;34m\u001b[0m\u001b[0m\n",
      "\u001b[0;31mZeroDivisionError\u001b[0m: division by zero"
     ]
    }
   ],
   "source": [
    "ae_prim_care_probable_before = (df.loc[\n",
    "    df[\"ae_before_with_hospital_discharge_prim_care_probable\"]==1\n",
    ", \"patient_id\"])\n",
    "\n",
    "ae_prim_care_suspected_before = (df.loc[\n",
    "    df[\"ae_before_with_hospital_discharge_prim_care_suspected\"]==1\n",
    ", \"patient_id\"])\n",
    "\n",
    "print(f'Number with A&E attendance and recent suspected covid code in primary care before admission: {round_to_5(len(ae_prim_care_suspected_before))} ({round((round_to_5(len(ae_prim_care_suspected_before))/num_emergency_cov_admissions)*100, 2)}%)')\n",
    "print(f'Number with A&E attendance and recent probable covid code in primary care before admission: {round_to_5(len(ae_prim_care_probable_before))} ({round((round_to_5(len(ae_prim_care_probable_before))/num_emergency_cov_admissions)*100, 2)}%)')\n",
    "\n",
    "tp_ae_suspected = round_to_5(len(df[\n",
    "    (df[\"suspected_covid_primary_care_before_ae\"]==1)  & \n",
    "    emergency_admission_filter_hosp_discharge\n",
    "]))\n",
    "\n",
    "fp_ae_suspected = round_to_5(len(df[\n",
    "    (df[\"suspected_covid_primary_care_before_ae\"]==1)  & \n",
    "    ~emergency_admission_filter_hosp_discharge\n",
    "]))\n",
    "\n",
    "tn_ae_suspected = round_to_5(len(df[\n",
    "    (df[\"suspected_covid_primary_care_before_ae\"]==0)  & \n",
    "    ~emergency_admission_filter_hosp_discharge\n",
    "]))\n",
    "\n",
    "fn_ae_suspected = round_to_5(len(df[\n",
    "    (df[\"suspected_covid_primary_care_before_ae\"]==0)  & \n",
    "    emergency_admission_filter_hosp_discharge\n",
    "]))\n",
    "\n",
    "tp_ae_probable = round_to_5(len(df[\n",
    "    (df[\"covid_primary_care_before_ae\"]==1)  & \n",
    "    emergency_admission_filter_hosp_discharge\n",
    "]))\n",
    "\n",
    "fp_ae_probable = round_to_5(len(df[\n",
    "    (df[\"covid_primary_care_before_ae\"]==1)  & \n",
    "    ~emergency_admission_filter_hosp_discharge\n",
    "]))\n",
    "\n",
    "tn_ae_probable = round_to_5(len(df[\n",
    "    (df[\"covid_primary_care_before_ae\"]==0)  & \n",
    "    ~emergency_admission_filter_hosp_discharge\n",
    "]))\n",
    "\n",
    "fn_ae_probable = round_to_5(len(df[\n",
    "    (df[\"covid_primary_care_before_ae\"]==0)  & \n",
    "    emergency_admission_filter_hosp_discharge\n",
    "]))\n",
    "\n",
    "\n",
    "prim_care_suspected = performance_metrics(tp_ae_suspected, fp_ae_suspected, tn_ae_suspected, fn_ae_suspected)\n",
    "prim_care_probable = performance_metrics(tp_ae_probable, fp_ae_probable, tn_ae_probable, fn_ae_probable)\n",
    "\n",
    "print(f'False positives (FDR) - A&E attendance and probable covid code in primary care: {fp_ae_probable} ({prim_care_probable[4]}%)')\n",
    "print(f'False positives (FDR) - A&E attendance and suspected covid code in primary care: {fp_ae_suspected} ({prim_care_suspected[4]}%)')"
   ]
  },
  {
   "cell_type": "markdown",
   "metadata": {},
   "source": [
    "#### Method 4 - Positive test result\n",
    "\n",
    "Restrict to those with a positive COVID-19 test result recorded up to 4 weeks prior to A&E attendance."
   ]
  },
  {
   "cell_type": "code",
   "execution_count": 18,
   "metadata": {},
   "outputs": [
    {
     "name": "stdout",
     "output_type": "stream",
     "text": [
      "Number with A&E attendance and recent positive test (2 weeks) before admission: 500 (62.5%)\n",
      "Number with A&E attendance and recent positive test (4 weeks) before admissio: 500 (62.5%)\n",
      "False positives (FDR) - A&E attendance and recent positive test (2 weeks): 500 (50.0%)\n",
      "False positives (FDR) - A&E attendance and recent positive test (4 weeks): 500 (50.0%)\n"
     ]
    }
   ],
   "source": [
    "ae_pos_test_before_2_weeks = (df.loc[\n",
    "    df[\"ae_before_with_hospital_discharge_positive_covid_test_2_weeks\"]==1\n",
    ", \"patient_id\"])\n",
    "\n",
    "ae_pos_test_before = (df.loc[\n",
    "    df[\"ae_before_with_hospital_discharge_positive_covid_test\"]==1\n",
    ", \"patient_id\"])\n",
    "\n",
    "\n",
    "print(f'Number with A&E attendance and recent positive test (2 weeks) before admission: {round_to_5(len(ae_pos_test_before_2_weeks))} ({round((round_to_5(len(ae_pos_test_before_2_weeks))/num_emergency_cov_admissions)*100, 2)}%)')\n",
    "print(f'Number with A&E attendance and recent positive test (4 weeks) before admissio: {round_to_5(len(ae_pos_test_before))} ({round((round_to_5(len(ae_pos_test_before))/num_emergency_cov_admissions)*100, 2)}%)')\n",
    "\n",
    "tp_ae_test = round_to_5(len(df[\n",
    "    (df[\"pos_test\"]==1)  & \n",
    "    emergency_admission_filter_hosp_discharge\n",
    "]))\n",
    "\n",
    "fp_ae_test = round_to_5(len(df[\n",
    "    (df[\"pos_test\"]==1)  & \n",
    "    ~emergency_admission_filter_hosp_discharge\n",
    "]))\n",
    "\n",
    "tn_ae_test = round_to_5(len(df[\n",
    "    (df[\"pos_test\"]==0)  & \n",
    "    ~emergency_admission_filter_hosp_discharge\n",
    "]))\n",
    "\n",
    "fn_ae_test = round_to_5(len(df[\n",
    "    (df[\"pos_test\"]==0)  & \n",
    "    emergency_admission_filter_hosp_discharge\n",
    "]))\n",
    "\n",
    "tp_ae_test_2_weeks = round_to_5(len(df[\n",
    "    (df[\"pos_test_2_weeks\"]==1)  & \n",
    "    emergency_admission_filter_hosp_discharge\n",
    "]))\n",
    "\n",
    "fp_ae_test_2_weeks = round_to_5(len(df[\n",
    "    (df[\"pos_test_2_weeks\"]==1)  & \n",
    "    ~emergency_admission_filter_hosp_discharge\n",
    "]))\n",
    "\n",
    "tn_ae_test_2_weeks = round_to_5(len(df[\n",
    "    (df[\"pos_test_2_weeks\"]==0)  & \n",
    "    ~emergency_admission_filter_hosp_discharge\n",
    "]))\n",
    "\n",
    "fn_ae_test_2_weeks = round_to_5(len(df[\n",
    "    (df[\"pos_test_2_weeks\"]==0)  & \n",
    "    emergency_admission_filter_hosp_discharge\n",
    "]))\n",
    "\n",
    "\n",
    "positive_test_2_weeks = performance_metrics(tn_ae_test_2_weeks, fp_ae_test_2_weeks, tn_ae_test_2_weeks, fn_ae_test_2_weeks)\n",
    "positive_test_4_weeks = performance_metrics(tn_ae_test, fp_ae_test, tn_ae_test, fn_ae_test)\n",
    "\n",
    "print(f'False positives (FDR) - A&E attendance and recent positive test (2 weeks): {fp_ae_test_2_weeks} ({positive_test_2_weeks[4]}%)')\n",
    "print(f'False positives (FDR) - A&E attendance and recent positive test (4 weeks): {fp_ae_test} ({positive_test_4_weeks[4]}%)')"
   ]
  },
  {
   "cell_type": "markdown",
   "metadata": {},
   "source": [
    "####  Combining approaches"
   ]
  },
  {
   "cell_type": "markdown",
   "metadata": {},
   "source": [
    "##### Diagnosis codes (resp or cov) with recent positive test"
   ]
  },
  {
   "cell_type": "code",
   "execution_count": 20,
   "metadata": {},
   "outputs": [
    {
     "name": "stdout",
     "output_type": "stream",
     "text": [
      "Number with A&E attendance with either covid or respiratory diagnosis code and recent positive test (2 weeks) before admission: 380 (47.5%)\n"
     ]
    },
    {
     "ename": "ZeroDivisionError",
     "evalue": "division by zero",
     "output_type": "error",
     "traceback": [
      "\u001b[0;31m---------------------------------------------------------------------------\u001b[0m",
      "\u001b[0;31mZeroDivisionError\u001b[0m                         Traceback (most recent call last)",
      "\u001b[0;32m/var/folders/6d/gn8xz2l52x32r5r2m_yxl_vr0000gp/T/ipykernel_26771/3321607294.py\u001b[0m in \u001b[0;36m<module>\u001b[0;34m\u001b[0m\n\u001b[1;32m     53\u001b[0m \u001b[0;34m\u001b[0m\u001b[0m\n\u001b[1;32m     54\u001b[0m \u001b[0;34m\u001b[0m\u001b[0m\n\u001b[0;32m---> 55\u001b[0;31m \u001b[0mcode_plus_test\u001b[0m \u001b[0;34m=\u001b[0m \u001b[0mperformance_metrics\u001b[0m\u001b[0;34m(\u001b[0m\u001b[0mtp_ae_hos_resp_cov_plus_test_2_weeks\u001b[0m\u001b[0;34m,\u001b[0m \u001b[0mfp_ae_hos_resp_cov_plus_test_2_weeks\u001b[0m\u001b[0;34m,\u001b[0m \u001b[0mtn_ae_hos_resp_cov_plus_test_2_weeks\u001b[0m\u001b[0;34m,\u001b[0m \u001b[0mfn_ae_hos_resp_cov_plus_test_2_weeks\u001b[0m\u001b[0;34m)\u001b[0m\u001b[0;34m\u001b[0m\u001b[0;34m\u001b[0m\u001b[0m\n\u001b[0m\u001b[1;32m     56\u001b[0m \u001b[0mprint\u001b[0m\u001b[0;34m(\u001b[0m\u001b[0;34mf'False positives (FDR): {fp_ae_hos_resp_cov_plus_test_2_weeks} ({code_plus_test[4]}%)'\u001b[0m\u001b[0;34m)\u001b[0m\u001b[0;34m\u001b[0m\u001b[0;34m\u001b[0m\u001b[0m\n",
      "\u001b[0;32m/var/folders/6d/gn8xz2l52x32r5r2m_yxl_vr0000gp/T/ipykernel_26771/2648676151.py\u001b[0m in \u001b[0;36mperformance_metrics\u001b[0;34m(tp, fp, tn, fn)\u001b[0m\n\u001b[1;32m     35\u001b[0m     \u001b[0mfn\u001b[0m \u001b[0;34m=\u001b[0m \u001b[0mround_to_5\u001b[0m\u001b[0;34m(\u001b[0m\u001b[0mfn\u001b[0m\u001b[0;34m)\u001b[0m\u001b[0;34m\u001b[0m\u001b[0;34m\u001b[0m\u001b[0m\n\u001b[1;32m     36\u001b[0m \u001b[0;34m\u001b[0m\u001b[0m\n\u001b[0;32m---> 37\u001b[0;31m     \u001b[0msensitivity\u001b[0m \u001b[0;34m=\u001b[0m \u001b[0mround\u001b[0m\u001b[0;34m(\u001b[0m\u001b[0;34m(\u001b[0m\u001b[0mtp\u001b[0m\u001b[0;34m/\u001b[0m\u001b[0;34m(\u001b[0m\u001b[0mtp\u001b[0m\u001b[0;34m+\u001b[0m\u001b[0mfn\u001b[0m\u001b[0;34m)\u001b[0m\u001b[0;34m)\u001b[0m \u001b[0;34m*\u001b[0m\u001b[0;36m100\u001b[0m\u001b[0;34m,\u001b[0m \u001b[0;36m2\u001b[0m\u001b[0;34m)\u001b[0m\u001b[0;34m\u001b[0m\u001b[0;34m\u001b[0m\u001b[0m\n\u001b[0m\u001b[1;32m     38\u001b[0m     \u001b[0mspecificity\u001b[0m \u001b[0;34m=\u001b[0m \u001b[0mround\u001b[0m\u001b[0;34m(\u001b[0m\u001b[0;34m(\u001b[0m\u001b[0mtn\u001b[0m\u001b[0;34m/\u001b[0m\u001b[0;34m(\u001b[0m\u001b[0mtn\u001b[0m\u001b[0;34m+\u001b[0m\u001b[0mfp\u001b[0m\u001b[0;34m)\u001b[0m\u001b[0;34m)\u001b[0m \u001b[0;34m*\u001b[0m\u001b[0;36m100\u001b[0m\u001b[0;34m,\u001b[0m \u001b[0;36m2\u001b[0m\u001b[0;34m)\u001b[0m\u001b[0;34m\u001b[0m\u001b[0;34m\u001b[0m\u001b[0m\n\u001b[1;32m     39\u001b[0m     \u001b[0mfdr\u001b[0m \u001b[0;34m=\u001b[0m \u001b[0mround\u001b[0m\u001b[0;34m(\u001b[0m\u001b[0;34m(\u001b[0m\u001b[0mfp\u001b[0m\u001b[0;34m/\u001b[0m\u001b[0;34m(\u001b[0m\u001b[0mfp\u001b[0m\u001b[0;34m+\u001b[0m\u001b[0mtp\u001b[0m\u001b[0;34m)\u001b[0m\u001b[0;34m)\u001b[0m \u001b[0;34m*\u001b[0m\u001b[0;36m100\u001b[0m\u001b[0;34m,\u001b[0m \u001b[0;36m2\u001b[0m\u001b[0;34m)\u001b[0m\u001b[0;34m\u001b[0m\u001b[0;34m\u001b[0m\u001b[0m\n",
      "\u001b[0;31mZeroDivisionError\u001b[0m: division by zero"
     ]
    }
   ],
   "source": [
    "ae_hos_resp_cov_plus_test_2_weeks = (df.loc[(\n",
    "        (df[\"ae_before_with_hospital_discharge_covid\"]==1) | \n",
    "        (df[\"ae_before_with_hospital_discharge_resp\"]==1) \n",
    "    )&\n",
    "    (df[\"ae_before_with_hospital_discharge_positive_covid_test_2_weeks\"]==1)\n",
    ", \"patient_id\"])\n",
    "\n",
    "print(f'Number with A&E attendance with either covid or respiratory diagnosis code and recent positive test (2 weeks) before admission: {round_to_5(len(ae_hos_resp_cov_plus_test_2_weeks))} ({round((round_to_5(len(ae_hos_resp_cov_plus_test_2_weeks))/num_emergency_cov_admissions)*100, 2)}%)')\n",
    "\n",
    "tp_ae_hos_resp_cov_plus_test_2_weeks = round_to_5(len(df[\n",
    "    (\n",
    "        (\n",
    "            (df[\"ae_cov\"]==1) |\n",
    "            (df[\"ae_resp\"]==1)    \n",
    "        )&\n",
    "        (df[\"pos_test_2_weeks\"]==1)\n",
    "    )& \n",
    "    emergency_admission_filter_hosp_discharge\n",
    "]))\n",
    "\n",
    "fp_ae_hos_resp_cov_plus_test_2_weeks = round_to_5(len(df[\n",
    "    (\n",
    "        (\n",
    "            (df[\"ae_cov\"]==1) |\n",
    "            (df[\"ae_resp\"]==1)    \n",
    "        )&\n",
    "        (df[\"pos_test_2_weeks\"]==1)\n",
    "    )& \n",
    "    ~emergency_admission_filter_hosp_discharge\n",
    "]))\n",
    "\n",
    "tn_ae_hos_resp_cov_plus_test_2_weeks = round_to_5(len(df[\n",
    "    ~(\n",
    "        (\n",
    "            (df[\"ae_cov\"]==1) |\n",
    "            (df[\"ae_resp\"]==1)    \n",
    "        )&\n",
    "        (df[\"pos_test_2_weeks\"]==1)\n",
    "    )& \n",
    "    ~emergency_admission_filter_hosp_discharge\n",
    "]))\n",
    "\n",
    "fn_ae_hos_resp_cov_plus_test_2_weeks = round_to_5(len(df[\n",
    "    ~(\n",
    "        (\n",
    "            (df[\"ae_cov\"]==1) |\n",
    "            (df[\"ae_resp\"]==1)    \n",
    "        )&\n",
    "        (df[\"pos_test_2_weeks\"]==1)\n",
    "    )& \n",
    "    emergency_admission_filter_hosp_discharge\n",
    "]))\n",
    "\n",
    "\n",
    "code_plus_test = performance_metrics(tp_ae_hos_resp_cov_plus_test_2_weeks, fp_ae_hos_resp_cov_plus_test_2_weeks, tn_ae_hos_resp_cov_plus_test_2_weeks, fn_ae_hos_resp_cov_plus_test_2_weeks)\n",
    "print(f'False positives (FDR): {fp_ae_hos_resp_cov_plus_test_2_weeks} ({code_plus_test[4]}%)')\n"
   ]
  },
  {
   "cell_type": "markdown",
   "metadata": {},
   "source": [
    "##### Covid in primary care with recent positive test"
   ]
  },
  {
   "cell_type": "code",
   "execution_count": 21,
   "metadata": {},
   "outputs": [
    {
     "name": "stdout",
     "output_type": "stream",
     "text": [
      "Number with A&E attendance with suspected or probable covid in primary care and recent positive test (2 weeks) before admission: 375 (46.88%)\n"
     ]
    },
    {
     "ename": "ZeroDivisionError",
     "evalue": "division by zero",
     "output_type": "error",
     "traceback": [
      "\u001b[0;31m---------------------------------------------------------------------------\u001b[0m",
      "\u001b[0;31mZeroDivisionError\u001b[0m                         Traceback (most recent call last)",
      "\u001b[0;32m/var/folders/6d/gn8xz2l52x32r5r2m_yxl_vr0000gp/T/ipykernel_26771/2858837067.py\u001b[0m in \u001b[0;36m<module>\u001b[0;34m\u001b[0m\n\u001b[1;32m     57\u001b[0m \u001b[0;34m\u001b[0m\u001b[0m\n\u001b[1;32m     58\u001b[0m \u001b[0;34m\u001b[0m\u001b[0m\n\u001b[0;32m---> 59\u001b[0;31m \u001b[0mprimary_care_plus_test\u001b[0m \u001b[0;34m=\u001b[0m \u001b[0mperformance_metrics\u001b[0m\u001b[0;34m(\u001b[0m\u001b[0mtp_ae_hosp_prim_care_before_plus_2_week_test\u001b[0m\u001b[0;34m,\u001b[0m \u001b[0mfp_ae_hosp_prim_care_before_plus_2_week_test\u001b[0m\u001b[0;34m,\u001b[0m \u001b[0mtn_ae_hosp_prim_care_before_plus_2_week_test\u001b[0m\u001b[0;34m,\u001b[0m \u001b[0mfn_ae_hosp_prim_care_before_plus_2_week_test\u001b[0m\u001b[0;34m)\u001b[0m\u001b[0;34m\u001b[0m\u001b[0;34m\u001b[0m\u001b[0m\n\u001b[0m\u001b[1;32m     60\u001b[0m \u001b[0mprint\u001b[0m\u001b[0;34m(\u001b[0m\u001b[0;34mf'False positives (FDR): {fp_ae_hosp_prim_care_before_plus_2_week_test} ({primary_care_plus_test[4]}%)'\u001b[0m\u001b[0;34m)\u001b[0m\u001b[0;34m\u001b[0m\u001b[0;34m\u001b[0m\u001b[0m\n",
      "\u001b[0;32m/var/folders/6d/gn8xz2l52x32r5r2m_yxl_vr0000gp/T/ipykernel_26771/2648676151.py\u001b[0m in \u001b[0;36mperformance_metrics\u001b[0;34m(tp, fp, tn, fn)\u001b[0m\n\u001b[1;32m     35\u001b[0m     \u001b[0mfn\u001b[0m \u001b[0;34m=\u001b[0m \u001b[0mround_to_5\u001b[0m\u001b[0;34m(\u001b[0m\u001b[0mfn\u001b[0m\u001b[0;34m)\u001b[0m\u001b[0;34m\u001b[0m\u001b[0;34m\u001b[0m\u001b[0m\n\u001b[1;32m     36\u001b[0m \u001b[0;34m\u001b[0m\u001b[0m\n\u001b[0;32m---> 37\u001b[0;31m     \u001b[0msensitivity\u001b[0m \u001b[0;34m=\u001b[0m \u001b[0mround\u001b[0m\u001b[0;34m(\u001b[0m\u001b[0;34m(\u001b[0m\u001b[0mtp\u001b[0m\u001b[0;34m/\u001b[0m\u001b[0;34m(\u001b[0m\u001b[0mtp\u001b[0m\u001b[0;34m+\u001b[0m\u001b[0mfn\u001b[0m\u001b[0;34m)\u001b[0m\u001b[0;34m)\u001b[0m \u001b[0;34m*\u001b[0m\u001b[0;36m100\u001b[0m\u001b[0;34m,\u001b[0m \u001b[0;36m2\u001b[0m\u001b[0;34m)\u001b[0m\u001b[0;34m\u001b[0m\u001b[0;34m\u001b[0m\u001b[0m\n\u001b[0m\u001b[1;32m     38\u001b[0m     \u001b[0mspecificity\u001b[0m \u001b[0;34m=\u001b[0m \u001b[0mround\u001b[0m\u001b[0;34m(\u001b[0m\u001b[0;34m(\u001b[0m\u001b[0mtn\u001b[0m\u001b[0;34m/\u001b[0m\u001b[0;34m(\u001b[0m\u001b[0mtn\u001b[0m\u001b[0;34m+\u001b[0m\u001b[0mfp\u001b[0m\u001b[0;34m)\u001b[0m\u001b[0;34m)\u001b[0m \u001b[0;34m*\u001b[0m\u001b[0;36m100\u001b[0m\u001b[0;34m,\u001b[0m \u001b[0;36m2\u001b[0m\u001b[0;34m)\u001b[0m\u001b[0;34m\u001b[0m\u001b[0;34m\u001b[0m\u001b[0m\n\u001b[1;32m     39\u001b[0m     \u001b[0mfdr\u001b[0m \u001b[0;34m=\u001b[0m \u001b[0mround\u001b[0m\u001b[0;34m(\u001b[0m\u001b[0;34m(\u001b[0m\u001b[0mfp\u001b[0m\u001b[0;34m/\u001b[0m\u001b[0;34m(\u001b[0m\u001b[0mfp\u001b[0m\u001b[0;34m+\u001b[0m\u001b[0mtp\u001b[0m\u001b[0;34m)\u001b[0m\u001b[0;34m)\u001b[0m \u001b[0;34m*\u001b[0m\u001b[0;36m100\u001b[0m\u001b[0;34m,\u001b[0m \u001b[0;36m2\u001b[0m\u001b[0;34m)\u001b[0m\u001b[0;34m\u001b[0m\u001b[0;34m\u001b[0m\u001b[0m\n",
      "\u001b[0;31mZeroDivisionError\u001b[0m: division by zero"
     ]
    }
   ],
   "source": [
    "ae_hosp_prim_care_before_plus_2_week_test = (df.loc[(\n",
    "        (df[\"ae_before_with_hospital_discharge_prim_care_suspected\"]==1) | \n",
    "        (df[\"ae_before_with_hospital_discharge_prim_care_probable\"]==1) \n",
    "    )\n",
    "&\n",
    "    (df[\"ae_before_with_hospital_discharge_positive_covid_test_2_weeks\"]==1)\n",
    ", \"patient_id\"])\n",
    "\n",
    "print(f'Number with A&E attendance with suspected or probable covid in primary care and recent positive test (2 weeks) before admission: {round_to_5(len(ae_hosp_prim_care_before_plus_2_week_test))} ({round((round_to_5(len(ae_hosp_prim_care_before_plus_2_week_test))/num_emergency_cov_admissions)*100, 2)}%)')\n",
    "\n",
    "tp_ae_hosp_prim_care_before_plus_2_week_test = round_to_5(len(df[\n",
    "    (\n",
    "        (\n",
    "            (df[\"covid_primary_care_before_ae\"]==1) |\n",
    "            (df[\"suspected_covid_primary_care_before_ae\"]==1)    \n",
    "        )&\n",
    "        (df[\"pos_test_2_weeks\"]==1)\n",
    "    )& \n",
    "    emergency_admission_filter_hosp_discharge\n",
    "]))\n",
    "\n",
    "fp_ae_hosp_prim_care_before_plus_2_week_test = round_to_5(len(df[\n",
    "    (\n",
    "        (\n",
    "            (df[\"covid_primary_care_before_ae\"]==1) |\n",
    "            (df[\"suspected_covid_primary_care_before_ae\"]==1)    \n",
    "        )&\n",
    "        (df[\"pos_test_2_weeks\"]==1)\n",
    "    )& \n",
    "    ~emergency_admission_filter_hosp_discharge\n",
    "]))\n",
    "\n",
    "tn_ae_hosp_prim_care_before_plus_2_week_test = round_to_5(len(df[\n",
    "    ~(\n",
    "        (\n",
    "            (df[\"covid_primary_care_before_ae\"]==1) |\n",
    "            (df[\"suspected_covid_primary_care_before_ae\"]==1)    \n",
    "        )&\n",
    "        (df[\"pos_test_2_weeks\"]==1)\n",
    "    )& \n",
    "    ~emergency_admission_filter_hosp_discharge\n",
    "]))\n",
    "\n",
    "fn_ae_hosp_prim_care_before_plus_2_week_test = round_to_5(len(df[\n",
    "    ~(\n",
    "        (\n",
    "            (df[\"covid_primary_care_before_ae\"]==1) |\n",
    "            (df[\"suspected_covid_primary_care_before_ae\"]==1)    \n",
    "        )&\n",
    "        (df[\"pos_test_2_weeks\"]==1)\n",
    "    )& \n",
    "    emergency_admission_filter_hosp_discharge\n",
    "]))\n",
    "\n",
    "\n",
    "\n",
    "\n",
    "\n",
    "primary_care_plus_test = performance_metrics(tp_ae_hosp_prim_care_before_plus_2_week_test, fp_ae_hosp_prim_care_before_plus_2_week_test, tn_ae_hosp_prim_care_before_plus_2_week_test, fn_ae_hosp_prim_care_before_plus_2_week_test)\n",
    "print(f'False positives (FDR): {fp_ae_hosp_prim_care_before_plus_2_week_test} ({primary_care_plus_test[4]}%)')\n"
   ]
  },
  {
   "cell_type": "markdown",
   "metadata": {},
   "source": [
    "##### Recent positive test and either covid in primary care or diagnosis code (resp or cov)"
   ]
  },
  {
   "cell_type": "code",
   "execution_count": 22,
   "metadata": {},
   "outputs": [
    {
     "name": "stdout",
     "output_type": "stream",
     "text": [
      "Number with A&E attendance with recent positive test and either suspected or probable covid in primary care or a covid or respiratory diagnosis code on attendance: 470 (58.75%)\n"
     ]
    },
    {
     "ename": "ZeroDivisionError",
     "evalue": "division by zero",
     "output_type": "error",
     "traceback": [
      "\u001b[0;31m---------------------------------------------------------------------------\u001b[0m",
      "\u001b[0;31mZeroDivisionError\u001b[0m                         Traceback (most recent call last)",
      "\u001b[0;32m/var/folders/6d/gn8xz2l52x32r5r2m_yxl_vr0000gp/T/ipykernel_26771/913784838.py\u001b[0m in \u001b[0;36m<module>\u001b[0;34m\u001b[0m\n\u001b[1;32m     64\u001b[0m \u001b[0;34m\u001b[0m\u001b[0m\n\u001b[1;32m     65\u001b[0m \u001b[0;34m\u001b[0m\u001b[0m\n\u001b[0;32m---> 66\u001b[0;31m \u001b[0mpos_test_prim_care_or_diagnosis_code\u001b[0m \u001b[0;34m=\u001b[0m \u001b[0mperformance_metrics\u001b[0m\u001b[0;34m(\u001b[0m\u001b[0mtp_combined_before\u001b[0m\u001b[0;34m,\u001b[0m \u001b[0mfp_combined_before\u001b[0m\u001b[0;34m,\u001b[0m \u001b[0mtn_combined_before\u001b[0m\u001b[0;34m,\u001b[0m \u001b[0mfn_combined_before\u001b[0m\u001b[0;34m)\u001b[0m\u001b[0;34m\u001b[0m\u001b[0;34m\u001b[0m\u001b[0m\n\u001b[0m\u001b[1;32m     67\u001b[0m \u001b[0mprint\u001b[0m\u001b[0;34m(\u001b[0m\u001b[0;34mf'False positives (FDR): {fp_combined_before} ({pos_test_prim_care_or_diagnosis_code}%)'\u001b[0m\u001b[0;34m)\u001b[0m\u001b[0;34m\u001b[0m\u001b[0;34m\u001b[0m\u001b[0m\n",
      "\u001b[0;32m/var/folders/6d/gn8xz2l52x32r5r2m_yxl_vr0000gp/T/ipykernel_26771/2648676151.py\u001b[0m in \u001b[0;36mperformance_metrics\u001b[0;34m(tp, fp, tn, fn)\u001b[0m\n\u001b[1;32m     35\u001b[0m     \u001b[0mfn\u001b[0m \u001b[0;34m=\u001b[0m \u001b[0mround_to_5\u001b[0m\u001b[0;34m(\u001b[0m\u001b[0mfn\u001b[0m\u001b[0;34m)\u001b[0m\u001b[0;34m\u001b[0m\u001b[0;34m\u001b[0m\u001b[0m\n\u001b[1;32m     36\u001b[0m \u001b[0;34m\u001b[0m\u001b[0m\n\u001b[0;32m---> 37\u001b[0;31m     \u001b[0msensitivity\u001b[0m \u001b[0;34m=\u001b[0m \u001b[0mround\u001b[0m\u001b[0;34m(\u001b[0m\u001b[0;34m(\u001b[0m\u001b[0mtp\u001b[0m\u001b[0;34m/\u001b[0m\u001b[0;34m(\u001b[0m\u001b[0mtp\u001b[0m\u001b[0;34m+\u001b[0m\u001b[0mfn\u001b[0m\u001b[0;34m)\u001b[0m\u001b[0;34m)\u001b[0m \u001b[0;34m*\u001b[0m\u001b[0;36m100\u001b[0m\u001b[0;34m,\u001b[0m \u001b[0;36m2\u001b[0m\u001b[0;34m)\u001b[0m\u001b[0;34m\u001b[0m\u001b[0;34m\u001b[0m\u001b[0m\n\u001b[0m\u001b[1;32m     38\u001b[0m     \u001b[0mspecificity\u001b[0m \u001b[0;34m=\u001b[0m \u001b[0mround\u001b[0m\u001b[0;34m(\u001b[0m\u001b[0;34m(\u001b[0m\u001b[0mtn\u001b[0m\u001b[0;34m/\u001b[0m\u001b[0;34m(\u001b[0m\u001b[0mtn\u001b[0m\u001b[0;34m+\u001b[0m\u001b[0mfp\u001b[0m\u001b[0;34m)\u001b[0m\u001b[0;34m)\u001b[0m \u001b[0;34m*\u001b[0m\u001b[0;36m100\u001b[0m\u001b[0;34m,\u001b[0m \u001b[0;36m2\u001b[0m\u001b[0;34m)\u001b[0m\u001b[0;34m\u001b[0m\u001b[0;34m\u001b[0m\u001b[0m\n\u001b[1;32m     39\u001b[0m     \u001b[0mfdr\u001b[0m \u001b[0;34m=\u001b[0m \u001b[0mround\u001b[0m\u001b[0;34m(\u001b[0m\u001b[0;34m(\u001b[0m\u001b[0mfp\u001b[0m\u001b[0;34m/\u001b[0m\u001b[0;34m(\u001b[0m\u001b[0mfp\u001b[0m\u001b[0;34m+\u001b[0m\u001b[0mtp\u001b[0m\u001b[0;34m)\u001b[0m\u001b[0;34m)\u001b[0m \u001b[0;34m*\u001b[0m\u001b[0;36m100\u001b[0m\u001b[0;34m,\u001b[0m \u001b[0;36m2\u001b[0m\u001b[0;34m)\u001b[0m\u001b[0;34m\u001b[0m\u001b[0;34m\u001b[0m\u001b[0m\n",
      "\u001b[0;31mZeroDivisionError\u001b[0m: division by zero"
     ]
    }
   ],
   "source": [
    "combined_before = (df.loc[\n",
    "        (df[\"ae_before_with_hospital_discharge_positive_covid_test_2_weeks\"]==1) &\n",
    "        (\n",
    "            (df[\"ae_before_with_hospital_discharge_prim_care_suspected\"]==1) | \n",
    "            (df[\"ae_before_with_hospital_discharge_prim_care_probable\"]==1) |\n",
    "            (df[\"ae_before_with_hospital_discharge_covid\"]==1) | \n",
    "            (df[\"ae_before_with_hospital_discharge_resp\"]==1)   \n",
    "        )\n",
    ", \"patient_id\"])\n",
    "\n",
    "print(f'Number with A&E attendance with recent positive test and either suspected or probable covid in primary care or a covid or respiratory diagnosis code on attendance: {round_to_5(len(combined_before))} ({round((round_to_5(len(combined_before))/num_emergency_cov_admissions)*100, 2)}%)')\n",
    "\n",
    "tp_combined_before = round_to_5(len(df[\n",
    "    (\n",
    "        (\n",
    "            (df[\"covid_primary_care_before_ae\"]==1) |\n",
    "            (df[\"suspected_covid_primary_care_before_ae\"]==1) |\n",
    "            (df[\"ae_cov\"]==1) |\n",
    "            (df[\"ae_resp\"]==1)  \n",
    "        )&\n",
    "        (df[\"pos_test_2_weeks\"]==1)\n",
    "    )& \n",
    "    emergency_admission_filter_hosp_discharge\n",
    "]))\n",
    "\n",
    "fp_combined_before = round_to_5(len(df[\n",
    "    (\n",
    "        (\n",
    "            (df[\"covid_primary_care_before_ae\"]==1) |\n",
    "            (df[\"suspected_covid_primary_care_before_ae\"]==1) |\n",
    "            (df[\"ae_cov\"]==1) |\n",
    "            (df[\"ae_resp\"]==1)  \n",
    "        )&\n",
    "        (df[\"pos_test_2_weeks\"]==1)\n",
    "    )& \n",
    "    ~emergency_admission_filter_hosp_discharge\n",
    "]))\n",
    "\n",
    "tn_combined_before = round_to_5(len(df[\n",
    "    ~(\n",
    "        (\n",
    "            (df[\"covid_primary_care_before_ae\"]==1) |\n",
    "            (df[\"suspected_covid_primary_care_before_ae\"]==1) |\n",
    "            (df[\"ae_cov\"]==1) |\n",
    "            (df[\"ae_resp\"]==1)  \n",
    "        )&\n",
    "        (df[\"pos_test_2_weeks\"]==1)\n",
    "    )& \n",
    "    ~emergency_admission_filter_hosp_discharge\n",
    "]))\n",
    "\n",
    "fn_combined_before = round_to_5(len(df[\n",
    "    ~(\n",
    "        (\n",
    "            (df[\"covid_primary_care_before_ae\"]==1) |\n",
    "            (df[\"suspected_covid_primary_care_before_ae\"]==1) |\n",
    "            (df[\"ae_cov\"]==1) |\n",
    "            (df[\"ae_resp\"]==1)  \n",
    "        )&\n",
    "        (df[\"pos_test_2_weeks\"]==1)\n",
    "    )& \n",
    "    emergency_admission_filter_hosp_discharge\n",
    "]))\n",
    "\n",
    "\n",
    "pos_test_prim_care_or_diagnosis_code = performance_metrics(tp_combined_before, fp_combined_before, tn_combined_before, fn_combined_before)\n",
    "print(f'False positives (FDR): {fp_combined_before} ({pos_test_prim_care_or_diagnosis_code}%)')\n"
   ]
  },
  {
   "cell_type": "code",
   "execution_count": 23,
   "metadata": {},
   "outputs": [],
   "source": [
    "identification_table_index = [\"tp\", \"fp\", \"sensitivity\", \"specificity\", \"fdr\"]\n",
    "identification_table = pd.DataFrame({\n",
    "    \"discharge_destination\": pd.Series(discharge_destination,index=identification_table_index),\n",
    "    \"covid_diagnosis_code\": pd.Series(diagnosis_code_cov,index=identification_table_index),\n",
    "    \"resp_diagnosis_code\": pd.Series(diagnosis_code_resp,index=identification_table_index),\n",
    "    \"primary_care_suspected\": pd.Series(prim_care_suspected,index=identification_table_index),\n",
    "    \"primary_care_probable\": pd.Series(prim_care_probable,index=identification_table_index),\n",
    "    \"positive_test_2_weeks\": pd.Series(positive_test_2_weeks,index=identification_table_index),\n",
    "    \"positive_test_4_weeks\": pd.Series(positive_test_4_weeks,index=identification_table_index),\n",
    "    \"diagnosis_code_with_positive_test\": pd.Series(code_plus_test,index=identification_table_index),\n",
    "    \"primary_care_with_positive_test\": pd.Series(primary_care_plus_test,index=identification_table_index),\n",
    "    \"pos_test_prim_care_or_diagnosis\": pd.Series(pos_test_prim_care_or_diagnosis_code,index=identification_table_index)\n",
    "    \n",
    "})\n",
    "identification_table.to_csv(\"output/jun/identification_table_hosp_discharge.csv\")"
   ]
  },
  {
   "cell_type": "code",
   "execution_count": 24,
   "metadata": {},
   "outputs": [
    {
     "data": {
      "image/png": "[encoded data removed]",
      "text/plain": [
       "<Figure size 504x504 with 2 Axes>"
      ]
     },
     "metadata": {
      "needs_background": "light"
     },
     "output_type": "display_data"
    }
   ],
   "source": [
    "produce_matrix(columns_list = [ae_cov_before, ae_resp_before, ae_prim_care_probable_before, ae_prim_care_suspected_before, ae_pos_test_before_2_weeks, ae_pos_test_before, ae_hos_resp_cov_plus_test_2_weeks, ae_hosp_prim_care_before_plus_2_week_test], names=[\"Covid diagnosis code\", \"Respiratory diagnosis code\", \"Probable covid code\", \"Suspected covid code\", \"Recent positive test (2 weeks)\", \"Recent positive test (4 weeks)\", \"Diagnosis codes (resp or cov) with recent positive test\", \"Covid in primary care with recent positive test\", \"Recent positive test and either covid in primary care or diagnosis code (resp or cov)\"], filename=\"cm_hosp_discharge\")"
   ]
  },
  {
   "cell_type": "markdown",
   "metadata": {},
   "source": [
    "## Number of emergency primary covid hospital admissions and those that can be identified in A&E attendances\n",
    "### Any A&E attendance"
   ]
  },
  {
   "cell_type": "code",
   "execution_count": 23,
   "metadata": {},
   "outputs": [
    {
     "name": "stdout",
     "output_type": "stream",
     "text": [
      "Number of emergency primary covid hospital admissions: 300\n",
      "Number with A&E attendance before admission: 500 (166.67%)\n",
      "---\n",
      "Number of A&E attendances: 400\n"
     ]
    }
   ],
   "source": [
    "df = pd.read_csv('output/input_prim_cov_2021-06-01.csv.gz', parse_dates=[\"ae_attendance_date\", \"ae_attendance_hosp_discharge_date\", \"emergency_covid_hospital_admission_date\", \"ae_before_date\", \"ae_before_with_hospital_discharge_date\"])\n",
    "\n",
    "\n",
    "\n",
    "num_emergency_cov_admissions = df['emergency_covid_hospital_admission_date'].count()\n",
    "ae_before = (df.loc[\n",
    "    df[\"ae_before_date\"].notnull()\n",
    ", \"patient_id\"])\n",
    "print(f'Number of emergency primary covid hospital admissions: {num_emergency_cov_admissions}')\n",
    "print(f'Number with A&E attendance before admission: {round_to_5(len(ae_before))} ({round((round_to_5(len(ae_before))/num_emergency_cov_admissions)*100, 2)}%)')\n",
    "\n",
    "ae = round_to_5(len(df[\n",
    "    (df[\"ae_attendance_date\"].notnull())\n",
    "]))\n",
    "\n",
    "ae_with_hosp_discharge = round_to_5(len(df[\n",
    "    (df[\"ae_attendance_hosp_discharge_date\"].notnull())\n",
    "]))\n",
    "\n",
    "summary_table = pd.DataFrame({\n",
    "    \"emergency covid hospital admission\": num_emergency_cov_admissions,\n",
    "    \"ae attendance before admission\": round_to_5(len(ae_before)),\n",
    "    \"ae_attendance\": ae, \n",
    "    \"ae attendance with hospital discharge\": ae_with_hosp_discharge,\n",
    "    \n",
    "}, index=[\"count\"])\n",
    "\n",
    "summary_table.to_csv(\"output/jun/summary_table_primary.csv\")\n",
    "\n",
    "print('---')\n",
    "print(f'Number of A&E attendances: {ae}')"
   ]
  },
  {
   "cell_type": "markdown",
   "metadata": {},
   "source": [
    "#### Method 1 - Discharge destination\n",
    "Restrict to those that attended A&E and had a hospital discharge destination (hospital ward, emergency short stay ward, icu)."
   ]
  },
  {
   "cell_type": "code",
   "execution_count": 4,
   "metadata": {},
   "outputs": [
    {
     "name": "stdout",
     "output_type": "stream",
     "text": [
      "Number with A&E attendance with hospital discharge before admission: 500 (62.5%)\n"
     ]
    },
    {
     "ename": "ZeroDivisionError",
     "evalue": "division by zero",
     "output_type": "error",
     "traceback": [
      "\u001b[0;31m---------------------------------------------------------------------------\u001b[0m",
      "\u001b[0;31mZeroDivisionError\u001b[0m                         Traceback (most recent call last)",
      "\u001b[0;32m/var/folders/6d/gn8xz2l52x32r5r2m_yxl_vr0000gp/T/ipykernel_26771/2275324461.py\u001b[0m in \u001b[0;36m<module>\u001b[0;34m\u001b[0m\n\u001b[1;32m     36\u001b[0m \u001b[0;34m\u001b[0m\u001b[0m\n\u001b[1;32m     37\u001b[0m \u001b[0;34m\u001b[0m\u001b[0m\n\u001b[0;32m---> 38\u001b[0;31m \u001b[0mdischarge_destination\u001b[0m \u001b[0;34m=\u001b[0m \u001b[0mperformance_metrics\u001b[0m\u001b[0;34m(\u001b[0m\u001b[0mtp_ae_hosp_discharge\u001b[0m\u001b[0;34m,\u001b[0m \u001b[0mfp_ae_hosp_discharge\u001b[0m\u001b[0;34m,\u001b[0m \u001b[0mtn_ae_hosp_discharge\u001b[0m\u001b[0;34m,\u001b[0m \u001b[0mfn_ae_hosp_discharge\u001b[0m\u001b[0;34m)\u001b[0m\u001b[0;34m\u001b[0m\u001b[0;34m\u001b[0m\u001b[0m\n\u001b[0m\u001b[1;32m     39\u001b[0m \u001b[0;34m\u001b[0m\u001b[0m\n\u001b[1;32m     40\u001b[0m \u001b[0mprint\u001b[0m\u001b[0;34m(\u001b[0m\u001b[0;34mf'False positives (FDR): {fp_ae_hosp_discharge} ({discharge_destination[4]}%)'\u001b[0m\u001b[0;34m)\u001b[0m\u001b[0;34m\u001b[0m\u001b[0;34m\u001b[0m\u001b[0m\n",
      "\u001b[0;32m/var/folders/6d/gn8xz2l52x32r5r2m_yxl_vr0000gp/T/ipykernel_26771/2648676151.py\u001b[0m in \u001b[0;36mperformance_metrics\u001b[0;34m(tp, fp, tn, fn)\u001b[0m\n\u001b[1;32m     37\u001b[0m     \u001b[0msensitivity\u001b[0m \u001b[0;34m=\u001b[0m \u001b[0mround\u001b[0m\u001b[0;34m(\u001b[0m\u001b[0;34m(\u001b[0m\u001b[0mtp\u001b[0m\u001b[0;34m/\u001b[0m\u001b[0;34m(\u001b[0m\u001b[0mtp\u001b[0m\u001b[0;34m+\u001b[0m\u001b[0mfn\u001b[0m\u001b[0;34m)\u001b[0m\u001b[0;34m)\u001b[0m \u001b[0;34m*\u001b[0m\u001b[0;36m100\u001b[0m\u001b[0;34m,\u001b[0m \u001b[0;36m2\u001b[0m\u001b[0;34m)\u001b[0m\u001b[0;34m\u001b[0m\u001b[0;34m\u001b[0m\u001b[0m\n\u001b[1;32m     38\u001b[0m     \u001b[0mspecificity\u001b[0m \u001b[0;34m=\u001b[0m \u001b[0mround\u001b[0m\u001b[0;34m(\u001b[0m\u001b[0;34m(\u001b[0m\u001b[0mtn\u001b[0m\u001b[0;34m/\u001b[0m\u001b[0;34m(\u001b[0m\u001b[0mtn\u001b[0m\u001b[0;34m+\u001b[0m\u001b[0mfp\u001b[0m\u001b[0;34m)\u001b[0m\u001b[0;34m)\u001b[0m \u001b[0;34m*\u001b[0m\u001b[0;36m100\u001b[0m\u001b[0;34m,\u001b[0m \u001b[0;36m2\u001b[0m\u001b[0;34m)\u001b[0m\u001b[0;34m\u001b[0m\u001b[0;34m\u001b[0m\u001b[0m\n\u001b[0;32m---> 39\u001b[0;31m     \u001b[0mfdr\u001b[0m \u001b[0;34m=\u001b[0m \u001b[0mround\u001b[0m\u001b[0;34m(\u001b[0m\u001b[0;34m(\u001b[0m\u001b[0mfp\u001b[0m\u001b[0;34m/\u001b[0m\u001b[0;34m(\u001b[0m\u001b[0mfp\u001b[0m\u001b[0;34m+\u001b[0m\u001b[0mtp\u001b[0m\u001b[0;34m)\u001b[0m\u001b[0;34m)\u001b[0m \u001b[0;34m*\u001b[0m\u001b[0;36m100\u001b[0m\u001b[0;34m,\u001b[0m \u001b[0;36m2\u001b[0m\u001b[0;34m)\u001b[0m\u001b[0;34m\u001b[0m\u001b[0;34m\u001b[0m\u001b[0m\n\u001b[0m\u001b[1;32m     40\u001b[0m     \u001b[0;32mreturn\u001b[0m \u001b[0;34m[\u001b[0m\u001b[0mtp\u001b[0m\u001b[0;34m,\u001b[0m \u001b[0mfp\u001b[0m\u001b[0;34m,\u001b[0m \u001b[0msensitivity\u001b[0m\u001b[0;34m,\u001b[0m \u001b[0mspecificity\u001b[0m\u001b[0;34m,\u001b[0m \u001b[0mfdr\u001b[0m\u001b[0;34m]\u001b[0m\u001b[0;34m\u001b[0m\u001b[0;34m\u001b[0m\u001b[0m\n\u001b[1;32m     41\u001b[0m \u001b[0;34m\u001b[0m\u001b[0m\n",
      "\u001b[0;31mZeroDivisionError\u001b[0m: division by zero"
     ]
    }
   ],
   "source": [
    "ae_hosp_before = (df.loc[\n",
    "    df[\"ae_before_with_hospital_discharge_date\"].notnull()\n",
    ", \"patient_id\"])\n",
    "\n",
    "print(f'Number with A&E attendance with hospital discharge before admission: {round_to_5(len(ae_hosp_before))} ({round((round_to_5(len(ae_hosp_before))/num_emergency_cov_admissions)*100, 2)}%)')\n",
    "\n",
    "emergency_admission_filter = (\n",
    "        (df[\"emergency_covid_hospital_admission_date\"].notnull()) &\n",
    "        (\n",
    "            (df[\"ae_attendance_date\"] < df[\"emergency_covid_hospital_admission_date\"]) &\n",
    "            (df[\"ae_attendance_date\"] > (df[\"emergency_covid_hospital_admission_date\"] - timedelta(days = 14)))\n",
    "        )\n",
    "    ) \n",
    "\n",
    "\n",
    "tp_ae_hosp_discharge = round_to_5(len(df[\n",
    "    (df[\"discharge_destination\"].isin(hosp_discharge_list)) & \n",
    "    emergency_admission_filter\n",
    "]))\n",
    "\n",
    "fp_ae_hosp_discharge = round_to_5(len(df[\n",
    "    (df[\"discharge_destination\"].isin(hosp_discharge_list)) & \n",
    "    ~emergency_admission_filter\n",
    "]))\n",
    "\n",
    "\n",
    "tn_ae_hosp_discharge = round_to_5(len(df[\n",
    "    ~(df[\"discharge_destination\"].isin(hosp_discharge_list)) & \n",
    "    ~emergency_admission_filter\n",
    "]))\n",
    "\n",
    "fn_ae_hosp_discharge = round_to_5(len(df[\n",
    "    ~(df[\"discharge_destination\"].isin(hosp_discharge_list)) & \n",
    "    emergency_admission_filter\n",
    "]))\n",
    "\n",
    "\n",
    "discharge_destination = performance_metrics(tp_ae_hosp_discharge, fp_ae_hosp_discharge, tn_ae_hosp_discharge, fn_ae_hosp_discharge)\n",
    "\n",
    "print(f'False positives (FDR): {fp_ae_hosp_discharge} ({discharge_destination[4]}%)')"
   ]
  },
  {
   "cell_type": "markdown",
   "metadata": {},
   "source": [
    "#### Method 2 - Diagnosis code\n",
    "Restrict to those with a COVID-19 diagnosis code or respiratory-related diagnosis code from the [emergency care diagnosis refset](https://termbrowser.nhs.uk/?perspective=full&conceptId1=991411000000109&edition=uk-edition&release=v20220216&server=https://termbrowser.nhs.uk/sct-browser-api/snomed&langRefset=900000000000508004)"
   ]
  },
  {
   "cell_type": "code",
   "execution_count": 5,
   "metadata": {},
   "outputs": [
    {
     "name": "stdout",
     "output_type": "stream",
     "text": [
      "Number with A&E attendance and covid diagnosis code before admission: 500 (62.5%)\n",
      "Number with A&E attendance and respiratory code before admission: 500 (62.5%)\n",
      "False positives (FDR) - A&E attendance and covid diagnosis code: 480 (96.0%)\n",
      "False positives (FDR) - A&E attendance and respiratory diagnosis code: 480 (96.0%)\n"
     ]
    }
   ],
   "source": [
    "ae_cov_before = (df.loc[\n",
    "    df[\"ae_before_with_covid\"]==1\n",
    ", \"patient_id\"])\n",
    "\n",
    "ae_resp_before = (df.loc[\n",
    "    df[\"ae_before_with_resp\"]==1\n",
    ", \"patient_id\"])\n",
    "\n",
    "print(f'Number with A&E attendance and covid diagnosis code before admission: {round_to_5(len(ae_cov_before))} ({round((round_to_5(len(ae_cov_before))/num_emergency_cov_admissions)*100, 2)}%)')\n",
    "print(f'Number with A&E attendance and respiratory code before admission: {round_to_5(len(ae_resp_before))} ({round((round_to_5(len(ae_resp_before))/num_emergency_cov_admissions)*100, 2)}%)')\n",
    "\n",
    "tp_ae_cov = round_to_5(len(df[\n",
    "    (df[\"ae_cov\"]==1) & \n",
    "    emergency_admission_filter\n",
    "]))\n",
    "\n",
    "fp_ae_cov = round_to_5(len(df[\n",
    "    (df[\"ae_cov\"]==1) & \n",
    "    ~emergency_admission_filter \n",
    "]))\n",
    "\n",
    "tn_ae_cov = round_to_5(len(df[\n",
    "    (df[\"ae_cov\"]==0) & \n",
    "    ~emergency_admission_filter\n",
    "]))\n",
    "\n",
    "fn_ae_cov = round_to_5(len(df[\n",
    "    (df[\"ae_cov\"]==0) & \n",
    "    emergency_admission_filter \n",
    "]))\n",
    "\n",
    "tp_ae_resp = round_to_5(len(df[\n",
    "    (df[\"ae_resp\"]==1) & \n",
    "    emergency_admission_filter \n",
    "]))\n",
    "\n",
    "fp_ae_resp = round_to_5(len(df[\n",
    "    (df[\"ae_resp\"]==1) & \n",
    "    ~emergency_admission_filter  \n",
    "]))\n",
    "\n",
    "tn_ae_resp = round_to_5(len(df[\n",
    "    (df[\"ae_resp\"]==0) & \n",
    "    ~emergency_admission_filter  \n",
    "]))\n",
    "\n",
    "fn_ae_resp = round_to_5(len(df[\n",
    "    (df[\"ae_resp\"]==0) & \n",
    "    emergency_admission_filter \n",
    "]))\n",
    "\n",
    "\n",
    "diagnosis_code_cov = performance_metrics(tp_ae_cov, fp_ae_cov, tn_ae_cov, fn_ae_cov)\n",
    "diagnosis_code_resp = performance_metrics(tp_ae_resp, fp_ae_resp, tn_ae_resp, fn_ae_resp)\n",
    "\n",
    "print(f'False positives (FDR) - A&E attendance and covid diagnosis code: {fp_ae_cov} ({diagnosis_code_cov[4]}%)')\n",
    "print(f'False positives (FDR) - A&E attendance and respiratory diagnosis code: {fp_ae_resp} ({diagnosis_code_resp[4]}%)')"
   ]
  },
  {
   "cell_type": "markdown",
   "metadata": {},
   "source": [
    "#### Method 3 - Identification in primary care\n",
    "\n",
    "Restrict to those with a probable or suspected COVID-19 code recorded in primary care in the 2 weeks prior to A&E attendance."
   ]
  },
  {
   "cell_type": "code",
   "execution_count": 6,
   "metadata": {},
   "outputs": [
    {
     "name": "stdout",
     "output_type": "stream",
     "text": [
      "Number with A&E attendance and recent suspected covid code in primary care before admission: 500 (62.5%)\n",
      "Number with A&E attendance and recent probable covid code in primary care before admission: 500 (62.5%)\n",
      "False positives (FDR) - A&E attendance and probable covid code in primary care: 96.0%)\n",
      "False positives (FDR) - A&E attendance and suspected covid code in primary care: 96.0%)\n"
     ]
    }
   ],
   "source": [
    "ae_prim_care_probable_before = (df.loc[\n",
    "    df[\"ae_before_with_prim_care_probable\"]==1\n",
    ", \"patient_id\"])\n",
    "\n",
    "ae_prim_care_suspected_before = (df.loc[\n",
    "    df[\"ae_before_with_prim_care_suspected\"]==1\n",
    ", \"patient_id\"])\n",
    "\n",
    "print(f'Number with A&E attendance and recent suspected covid code in primary care before admission: {round_to_5(len(ae_prim_care_suspected_before))} ({round((round_to_5(len(ae_prim_care_suspected_before))/num_emergency_cov_admissions)*100, 2)}%)')\n",
    "print(f'Number with A&E attendance and recent probable covid code in primary care before admission: {round_to_5(len(ae_prim_care_probable_before))} ({round((round_to_5(len(ae_prim_care_probable_before))/num_emergency_cov_admissions)*100, 2)}%)')\n",
    "\n",
    "tp_ae_suspected = round_to_5(len(df[\n",
    "    (df[\"suspected_covid_primary_care_before_ae\"]==1) & \n",
    "    emergency_admission_filter \n",
    "]))\n",
    "\n",
    "fp_ae_suspected = round_to_5(len(df[\n",
    "    (df[\"suspected_covid_primary_care_before_ae\"]==1) & \n",
    "    ~emergency_admission_filter \n",
    "]))\n",
    "\n",
    "tn_ae_suspected = round_to_5(len(df[\n",
    "    (df[\"suspected_covid_primary_care_before_ae\"]==0) & \n",
    "    emergency_admission_filter\n",
    "]))\n",
    "\n",
    "\n",
    "fn_ae_suspected = round_to_5(len(df[\n",
    "    (df[\"suspected_covid_primary_care_before_ae\"]==0) & \n",
    "    ~emergency_admission_filter  \n",
    "]))\n",
    "\n",
    "tp_ae_probable = round_to_5(len(df[\n",
    "    (df[\"covid_primary_care_before_ae\"]==1) & \n",
    "    emergency_admission_filter \n",
    "]))\n",
    "\n",
    "fp_ae_probable = round_to_5(len(df[\n",
    "    (df[\"covid_primary_care_before_ae\"]==1) & \n",
    "    ~emergency_admission_filter \n",
    "]))\n",
    "\n",
    "tn_ae_probable = round_to_5(len(df[\n",
    "    (df[\"covid_primary_care_before_ae\"]==0) & \n",
    "    emergency_admission_filter  \n",
    "]))\n",
    "\n",
    "fn_ae_probable = round_to_5(len(df[\n",
    "    (df[\"covid_primary_care_before_ae\"]==0) & \n",
    "    ~emergency_admission_filter  \n",
    "]))\n",
    "\n",
    "prim_care_suspected = performance_metrics(tp_ae_suspected, fp_ae_suspected, tn_ae_suspected, fn_ae_suspected)\n",
    "prim_care_probable = performance_metrics(tp_ae_probable, fp_ae_probable, tn_ae_probable, fn_ae_probable)\n",
    "print(f'False positives (FDR) - A&E attendance and probable covid code in primary care: {prim_care_probable[4]}%)')\n",
    "print(f'False positives (FDR) - A&E attendance and suspected covid code in primary care: {prim_care_suspected[4]}%)')"
   ]
  },
  {
   "cell_type": "markdown",
   "metadata": {},
   "source": [
    "#### Method 4 - Positive test result\n",
    "\n",
    "Restrict to those with a positive COVID-19 test result recorded up to 4 weeks prior to A&E attendance."
   ]
  },
  {
   "cell_type": "code",
   "execution_count": 7,
   "metadata": {},
   "outputs": [
    {
     "name": "stdout",
     "output_type": "stream",
     "text": [
      "Number with A&E attendance and recent positive test (2 weeks) before admission: 500 (62.5%)\n",
      "Number with A&E attendance and recent positive test (4 weeks) before admissio: 500 (62.5%)\n",
      "False positives (FDR) - A&E attendance and recent positive test (2 weeks): 490 (98.0%)\n",
      "False positives (FDR) - A&E attendance and recent positive test (4 weeks): 480 (96.0%)\n"
     ]
    }
   ],
   "source": [
    "ae_pos_test_before_2_weeks = (df.loc[\n",
    "    df[\"ae_before_with_positive_covid_test_2_weeks\"]==1\n",
    ", \"patient_id\"])\n",
    "\n",
    "ae_pos_test_before = (df.loc[\n",
    "    df[\"ae_before_with_positive_covid_test\"]==1\n",
    ", \"patient_id\"])\n",
    "\n",
    "\n",
    "print(f'Number with A&E attendance and recent positive test (2 weeks) before admission: {round_to_5(len(ae_pos_test_before_2_weeks))} ({round((round_to_5(len(ae_pos_test_before_2_weeks))/num_emergency_cov_admissions)*100, 2)}%)')\n",
    "print(f'Number with A&E attendance and recent positive test (4 weeks) before admissio: {round_to_5(len(ae_pos_test_before))} ({round((round_to_5(len(ae_pos_test_before))/num_emergency_cov_admissions)*100, 2)}%)')\n",
    "\n",
    "tp_ae_test = round_to_5(len(df[\n",
    "    (df[\"pos_test\"]==1) & \n",
    "    emergency_admission_filter   \n",
    "]))\n",
    "\n",
    "fp_ae_test = round_to_5(len(df[\n",
    "    (df[\"pos_test\"]==1) & \n",
    "    ~emergency_admission_filter   \n",
    "]))\n",
    "\n",
    "tn_ae_test = round_to_5(len(df[\n",
    "    (df[\"pos_test\"]==0) & \n",
    "    ~emergency_admission_filter   \n",
    "]))\n",
    "\n",
    "fn_ae_test = round_to_5(len(df[\n",
    "    (df[\"pos_test\"]==0) & \n",
    "    emergency_admission_filter   \n",
    "]))\n",
    "\n",
    "tp_ae_test_2_weeks = round_to_5(len(df[\n",
    "    (df[\"pos_test_2_weeks\"]==1) & \n",
    "    emergency_admission_filter    \n",
    "]))\n",
    "\n",
    "fp_ae_test_2_weeks = round_to_5(len(df[\n",
    "    (df[\"pos_test_2_weeks\"]==1) & \n",
    "    ~emergency_admission_filter   \n",
    "]))\n",
    "\n",
    "tn_ae_test_2_weeks = round_to_5(len(df[\n",
    "    (df[\"pos_test_2_weeks\"]==0) & \n",
    "    ~emergency_admission_filter    \n",
    "]))\n",
    "\n",
    "fn_ae_test_2_weeks = round_to_5(len(df[\n",
    "    (df[\"pos_test_2_weeks\"]==0) & \n",
    "    emergency_admission_filter    \n",
    "]))\n",
    "\n",
    "positive_test_2_weeks = performance_metrics(tp_ae_test_2_weeks, fp_ae_test_2_weeks, tn_ae_test_2_weeks, fn_ae_test_2_weeks)\n",
    "positive_test_4_weeks = performance_metrics(tp_ae_test, fp_ae_test, tn_ae_test, fn_ae_test)\n",
    "\n",
    "print(f'False positives (FDR) - A&E attendance and recent positive test (2 weeks): {fp_ae_test_2_weeks} ({positive_test_2_weeks[4]}%)')\n",
    "print(f'False positives (FDR) - A&E attendance and recent positive test (4 weeks): {fp_ae_test} ({positive_test_4_weeks[4]}%)')\n"
   ]
  },
  {
   "cell_type": "markdown",
   "metadata": {},
   "source": [
    "####  Combining approaches"
   ]
  },
  {
   "cell_type": "markdown",
   "metadata": {},
   "source": [
    "##### Diagnosis codes (resp or cov) with recent positive test"
   ]
  },
  {
   "cell_type": "code",
   "execution_count": 8,
   "metadata": {},
   "outputs": [
    {
     "name": "stdout",
     "output_type": "stream",
     "text": [
      "Number with A&E attendance with either covid or respiratory diagnosis code and recent positive test (2 weeks) before admission: 385 (48.12%)\n",
      "False positives (FDR): 365 (97.33%)\n"
     ]
    }
   ],
   "source": [
    "ae_hos_resp_cov_plus_test_2_weeks = (df.loc[(\n",
    "        (df[\"ae_before_with_covid\"]==1) | \n",
    "        (df[\"ae_before_with_resp\"]==1) \n",
    "    )&\n",
    "    (df[\"ae_before_with_positive_covid_test_2_weeks\"]==1)\n",
    ", \"patient_id\"])\n",
    "\n",
    "print(f'Number with A&E attendance with either covid or respiratory diagnosis code and recent positive test (2 weeks) before admission: {round_to_5(len(ae_hos_resp_cov_plus_test_2_weeks))} ({round((round_to_5(len(ae_hos_resp_cov_plus_test_2_weeks))/num_emergency_cov_admissions)*100, 2)}%)')\n",
    "\n",
    "tp_ae_hos_resp_cov_plus_test_2_weeks = round_to_5(len(df[\n",
    "    (\n",
    "        (\n",
    "            (df[\"ae_cov\"]==1) |\n",
    "            (df[\"ae_resp\"]==1)    \n",
    "        )&\n",
    "        (df[\"pos_test_2_weeks\"]==1)\n",
    "    )\n",
    "    & \n",
    "    emergency_admission_filter   \n",
    "]))\n",
    "\n",
    "fp_ae_hos_resp_cov_plus_test_2_weeks = round_to_5(len(df[\n",
    "    (\n",
    "        (\n",
    "            (df[\"ae_cov\"]==1) |\n",
    "            (df[\"ae_resp\"]==1)    \n",
    "        )&\n",
    "        (df[\"pos_test_2_weeks\"]==1)\n",
    "    )\n",
    "    & \n",
    "    ~emergency_admission_filter   \n",
    "]))\n",
    "\n",
    "tn_ae_hos_resp_cov_plus_test_2_weeks = round_to_5(len(df[\n",
    "    ~(\n",
    "        (\n",
    "            (df[\"ae_cov\"]==1) |\n",
    "            (df[\"ae_resp\"]==1)    \n",
    "        )&\n",
    "        (df[\"pos_test_2_weeks\"]==1)\n",
    "    )\n",
    "    & \n",
    "    ~emergency_admission_filter   \n",
    "]))\n",
    "\n",
    "fn_ae_hos_resp_cov_plus_test_2_weeks = round_to_5(len(df[\n",
    "    ~(\n",
    "        (\n",
    "            (df[\"ae_cov\"]==1) |\n",
    "            (df[\"ae_resp\"]==1)    \n",
    "        )&\n",
    "        (df[\"pos_test_2_weeks\"]==1)\n",
    "    )\n",
    "    & \n",
    "    emergency_admission_filter   \n",
    "]))\n",
    "\n",
    "\n",
    "code_plus_test = performance_metrics(tp_ae_hos_resp_cov_plus_test_2_weeks, fp_ae_hos_resp_cov_plus_test_2_weeks, tn_ae_hos_resp_cov_plus_test_2_weeks, fn_ae_hos_resp_cov_plus_test_2_weeks)\n",
    "print(f'False positives (FDR): {fp_ae_hos_resp_cov_plus_test_2_weeks} ({code_plus_test[4]}%)')\n"
   ]
  },
  {
   "cell_type": "markdown",
   "metadata": {},
   "source": [
    "##### Covid in primary care with recent positive test"
   ]
  },
  {
   "cell_type": "code",
   "execution_count": 9,
   "metadata": {},
   "outputs": [
    {
     "name": "stdout",
     "output_type": "stream",
     "text": [
      "Number with A&E attendance with suspected or probable covid in primary care and recent positive test (2 weeks) before admission: 375 (46.88%)\n",
      "False positives (FDR): 360 (97.3%)\n"
     ]
    }
   ],
   "source": [
    "ae_hosp_prim_care_before_plus_2_week_test = (df.loc[\n",
    "    \n",
    "    \n",
    "    (\n",
    "        (df[\"ae_before_with_prim_care_suspected\"]==1) | \n",
    "        (df[\"ae_before_with_prim_care_probable\"]==1) \n",
    "    )\n",
    "&\n",
    "    (df[\"ae_before_with_positive_covid_test_2_weeks\"]==1)\n",
    ", \"patient_id\"])\n",
    "\n",
    "print(f'Number with A&E attendance with suspected or probable covid in primary care and recent positive test (2 weeks) before admission: {round_to_5(len(ae_hosp_prim_care_before_plus_2_week_test))} ({round((round_to_5(len(ae_hosp_prim_care_before_plus_2_week_test))/num_emergency_cov_admissions)*100, 2)}%)')\n",
    "\n",
    "tp_ae_hosp_prim_care_before_plus_2_week_test = round_to_5(len(df[\n",
    "    (\n",
    "        (\n",
    "            (df[\"covid_primary_care_before_ae\"]==1) |\n",
    "            (df[\"suspected_covid_primary_care_before_ae\"]==1)    \n",
    "        )&\n",
    "        (df[\"pos_test_2_weeks\"]==1)\n",
    "    )\n",
    "    & \n",
    "    emergency_admission_filter   \n",
    "]))\n",
    "\n",
    "\n",
    "fp_ae_hosp_prim_care_before_plus_2_week_test = round_to_5(len(df[\n",
    "    (\n",
    "        (\n",
    "            (df[\"covid_primary_care_before_ae\"]==1) |\n",
    "            (df[\"suspected_covid_primary_care_before_ae\"]==1)    \n",
    "        )&\n",
    "        (df[\"pos_test_2_weeks\"]==1)\n",
    "    )\n",
    "    & \n",
    "    ~emergency_admission_filter   \n",
    "]))\n",
    "\n",
    "tn_ae_hosp_prim_care_before_plus_2_week_test = round_to_5(len(df[\n",
    "    ~(\n",
    "        (\n",
    "            (df[\"covid_primary_care_before_ae\"]==1) |\n",
    "            (df[\"suspected_covid_primary_care_before_ae\"]==1)    \n",
    "        )&\n",
    "        (df[\"pos_test_2_weeks\"]==1)\n",
    "    )\n",
    "    & \n",
    "    ~emergency_admission_filter   \n",
    "]))\n",
    "\n",
    "fn_ae_hosp_prim_care_before_plus_2_week_test = round_to_5(len(df[\n",
    "    ~(\n",
    "        (\n",
    "            (df[\"covid_primary_care_before_ae\"]==1) |\n",
    "            (df[\"suspected_covid_primary_care_before_ae\"]==1)    \n",
    "        )&\n",
    "        (df[\"pos_test_2_weeks\"]==1)\n",
    "    )\n",
    "    & \n",
    "    emergency_admission_filter   \n",
    "]))\n",
    "\n",
    "\n",
    "\n",
    "\n",
    "primary_care_plus_test = performance_metrics(tp_ae_hosp_prim_care_before_plus_2_week_test, fp_ae_hosp_prim_care_before_plus_2_week_test, tn_ae_hosp_prim_care_before_plus_2_week_test, fn_ae_hosp_prim_care_before_plus_2_week_test)\n",
    "\n",
    "print(f'False positives (FDR): {fp_ae_hosp_prim_care_before_plus_2_week_test} ({primary_care_plus_test[4]}%)')\n"
   ]
  },
  {
   "cell_type": "markdown",
   "metadata": {},
   "source": [
    "##### Recent positive test and either covid in primary care or diagnosis code (resp or cov)"
   ]
  },
  {
   "cell_type": "code",
   "execution_count": 10,
   "metadata": {},
   "outputs": [
    {
     "name": "stdout",
     "output_type": "stream",
     "text": [
      "Number with A&E attendance with recent positive test and either suspected or probable covid in primary care or a covid or respiratory diagnosis code on attendance: 475 (59.38%)\n",
      "False positives (FDR): 460 (97.87%)\n"
     ]
    }
   ],
   "source": [
    "combined_before = (df.loc[\n",
    "        (df[\"ae_before_with_positive_covid_test_2_weeks\"]==1) &\n",
    "        (\n",
    "            (df[\"ae_before_with_prim_care_suspected\"]==1) | \n",
    "            (df[\"ae_before_with_prim_care_probable\"]==1) |\n",
    "            (df[\"ae_before_with_covid\"]==1) | \n",
    "            (df[\"ae_before_with_resp\"]==1)   \n",
    "        )\n",
    ", \"patient_id\"])\n",
    "\n",
    "print(f'Number with A&E attendance with recent positive test and either suspected or probable covid in primary care or a covid or respiratory diagnosis code on attendance: {round_to_5(len(combined_before))} ({round((round_to_5(len(combined_before))/num_emergency_cov_admissions)*100, 2)}%)')\n",
    "\n",
    "tp_combined_before = round_to_5(len(df[\n",
    "    (\n",
    "        (\n",
    "            (df[\"covid_primary_care_before_ae\"]==1) |\n",
    "            (df[\"suspected_covid_primary_care_before_ae\"]==1) |\n",
    "            (df[\"ae_cov\"]==1) |\n",
    "            (df[\"ae_resp\"]==1)\n",
    "        \n",
    "        )\n",
    "        &\n",
    "        (df[\"pos_test_2_weeks\"]==1)\n",
    "    )\n",
    "    & \n",
    "    emergency_admission_filter   \n",
    "]))\n",
    "\n",
    "fp_combined_before = round_to_5(len(df[\n",
    "    (\n",
    "        (\n",
    "            (df[\"covid_primary_care_before_ae\"]==1) |\n",
    "            (df[\"suspected_covid_primary_care_before_ae\"]==1) |\n",
    "            (df[\"ae_cov\"]==1) |\n",
    "            (df[\"ae_resp\"]==1)\n",
    "        \n",
    "        )\n",
    "        &\n",
    "        (df[\"pos_test_2_weeks\"]==1)\n",
    "    )\n",
    "    & \n",
    "    ~emergency_admission_filter   \n",
    "]))\n",
    "\n",
    "\n",
    "tn_combined_before = round_to_5(len(df[\n",
    "    ~(\n",
    "        (\n",
    "            (df[\"covid_primary_care_before_ae\"]==1) |\n",
    "            (df[\"suspected_covid_primary_care_before_ae\"]==1) |\n",
    "            (df[\"ae_cov\"]==1) |\n",
    "            (df[\"ae_resp\"]==1)\n",
    "        \n",
    "        )\n",
    "        &\n",
    "        (df[\"pos_test_2_weeks\"]==1)\n",
    "    )\n",
    "    & \n",
    "    ~emergency_admission_filter   \n",
    "]))\n",
    "\n",
    "\n",
    "fn_combined_before = round_to_5(len(df[\n",
    "    ~(\n",
    "        (\n",
    "            (df[\"covid_primary_care_before_ae\"]==1) |\n",
    "            (df[\"suspected_covid_primary_care_before_ae\"]==1) |\n",
    "            (df[\"ae_cov\"]==1) |\n",
    "            (df[\"ae_resp\"]==1)\n",
    "        \n",
    "        )\n",
    "        &\n",
    "        (df[\"pos_test_2_weeks\"]==1)\n",
    "    )\n",
    "    & \n",
    "    emergency_admission_filter   \n",
    "]))\n",
    "\n",
    "pos_test_prim_care_or_diagnosis_code = performance_metrics(tp_combined_before, fp_combined_before, tn_combined_before, fn_combined_before)\n",
    "print(f'False positives (FDR): {fp_combined_before} ({pos_test_prim_care_or_diagnosis_code[4]}%)')\n"
   ]
  },
  {
   "cell_type": "code",
   "execution_count": 11,
   "metadata": {},
   "outputs": [
    {
     "ename": "NameError",
     "evalue": "name 'discharge_destination' is not defined",
     "output_type": "error",
     "traceback": [
      "\u001b[0;31m---------------------------------------------------------------------------\u001b[0m",
      "\u001b[0;31mNameError\u001b[0m                                 Traceback (most recent call last)",
      "\u001b[0;32m/var/folders/6d/gn8xz2l52x32r5r2m_yxl_vr0000gp/T/ipykernel_26771/3296456457.py\u001b[0m in \u001b[0;36m<module>\u001b[0;34m\u001b[0m\n\u001b[1;32m      1\u001b[0m \u001b[0midentification_table_index\u001b[0m \u001b[0;34m=\u001b[0m \u001b[0;34m[\u001b[0m\u001b[0;34m\"tp\"\u001b[0m\u001b[0;34m,\u001b[0m \u001b[0;34m\"fp\"\u001b[0m\u001b[0;34m,\u001b[0m \u001b[0;34m\"sensitivity\"\u001b[0m\u001b[0;34m,\u001b[0m \u001b[0;34m\"specificity\"\u001b[0m\u001b[0;34m,\u001b[0m \u001b[0;34m\"fdr\"\u001b[0m\u001b[0;34m]\u001b[0m\u001b[0;34m\u001b[0m\u001b[0;34m\u001b[0m\u001b[0m\n\u001b[1;32m      2\u001b[0m identification_table = pd.DataFrame({\n\u001b[0;32m----> 3\u001b[0;31m     \u001b[0;34m\"discharge_destination\"\u001b[0m\u001b[0;34m:\u001b[0m \u001b[0mpd\u001b[0m\u001b[0;34m.\u001b[0m\u001b[0mSeries\u001b[0m\u001b[0;34m(\u001b[0m\u001b[0mdischarge_destination\u001b[0m\u001b[0;34m,\u001b[0m\u001b[0mindex\u001b[0m\u001b[0;34m=\u001b[0m\u001b[0midentification_table_index\u001b[0m\u001b[0;34m)\u001b[0m\u001b[0;34m,\u001b[0m\u001b[0;34m\u001b[0m\u001b[0;34m\u001b[0m\u001b[0m\n\u001b[0m\u001b[1;32m      4\u001b[0m     \u001b[0;34m\"covid_diagnosis_code\"\u001b[0m\u001b[0;34m:\u001b[0m \u001b[0mpd\u001b[0m\u001b[0;34m.\u001b[0m\u001b[0mSeries\u001b[0m\u001b[0;34m(\u001b[0m\u001b[0mdiagnosis_code_cov\u001b[0m\u001b[0;34m,\u001b[0m\u001b[0mindex\u001b[0m\u001b[0;34m=\u001b[0m\u001b[0midentification_table_index\u001b[0m\u001b[0;34m)\u001b[0m\u001b[0;34m,\u001b[0m\u001b[0;34m\u001b[0m\u001b[0;34m\u001b[0m\u001b[0m\n\u001b[1;32m      5\u001b[0m     \u001b[0;34m\"resp_diagnosis_code\"\u001b[0m\u001b[0;34m:\u001b[0m \u001b[0mpd\u001b[0m\u001b[0;34m.\u001b[0m\u001b[0mSeries\u001b[0m\u001b[0;34m(\u001b[0m\u001b[0mdiagnosis_code_resp\u001b[0m\u001b[0;34m,\u001b[0m\u001b[0mindex\u001b[0m\u001b[0;34m=\u001b[0m\u001b[0midentification_table_index\u001b[0m\u001b[0;34m)\u001b[0m\u001b[0;34m,\u001b[0m\u001b[0;34m\u001b[0m\u001b[0;34m\u001b[0m\u001b[0m\n",
      "\u001b[0;31mNameError\u001b[0m: name 'discharge_destination' is not defined"
     ]
    }
   ],
   "source": [
    "identification_table_index = [\"tp\", \"fp\", \"sensitivity\", \"specificity\", \"fdr\"]\n",
    "identification_table = pd.DataFrame({\n",
    "    \"discharge_destination\": pd.Series(discharge_destination,index=identification_table_index),\n",
    "    \"covid_diagnosis_code\": pd.Series(diagnosis_code_cov,index=identification_table_index),\n",
    "    \"resp_diagnosis_code\": pd.Series(diagnosis_code_resp,index=identification_table_index),\n",
    "    \"primary_care_suspected\": pd.Series(prim_care_suspected,index=identification_table_index),\n",
    "    \"primary_care_probable\": pd.Series(prim_care_probable,index=identification_table_index),\n",
    "    \"positive_test_2_weeks\": pd.Series(positive_test_2_weeks,index=identification_table_index),\n",
    "    \"positive_test_4_weeks\": pd.Series(positive_test_4_weeks,index=identification_table_index),\n",
    "    \"diagnosis_code_with_positive_test\": pd.Series(code_plus_test,index=identification_table_index),\n",
    "    \"primary_care_with_positive_test\": pd.Series(primary_care_plus_test,index=identification_table_index),\n",
    "    \"pos_test_prim_care_or_diagnosis\": pd.Series(pos_test_prim_care_or_diagnosis_code,index=identification_table_index)\n",
    "    \n",
    "})\n",
    "identification_table.to_csv(\"output/jun/identification_table_no_hosp_discharge_primary.csv\")"
   ]
  },
  {
   "cell_type": "code",
   "execution_count": 12,
   "metadata": {},
   "outputs": [
    {
     "data": {
      "image/png": "[encoded data removed]",
      "text/plain": [
       "<Figure size 504x504 with 2 Axes>"
      ]
     },
     "metadata": {
      "needs_background": "light"
     },
     "output_type": "display_data"
    }
   ],
   "source": [
    "produce_matrix(columns_list = [ae_hosp_before, ae_cov_before, ae_resp_before, ae_prim_care_probable_before, ae_prim_care_suspected_before, ae_pos_test_before_2_weeks, ae_pos_test_before, ae_hos_resp_cov_plus_test_2_weeks, ae_hosp_prim_care_before_plus_2_week_test], names=[\"Hospital discharge\", \"Covid diagnosis code\", \"Respiratory diagnosis code\", \"Probable covid code\", \"Suspected covid code\", \"Recent positive test (2 weeks)\", \"Recent positive test (4 weeks)\", \"Diagnosis codes (resp or cov) with recent positive test\", \"Covid in primary care with recent positive test\", \"Recent positive test and either covid in primary care or diagnosis code (resp or cov)\"], filename=\"cm_no_hosp_discharge_primary\")\n"
   ]
  },
  {
   "cell_type": "markdown",
   "metadata": {},
   "source": [
    "### Restrict to A&E attendance with hospital discharge"
   ]
  },
  {
   "cell_type": "code",
   "execution_count": 13,
   "metadata": {},
   "outputs": [
    {
     "name": "stdout",
     "output_type": "stream",
     "text": [
      "Number of A&E attendances with hospital discharge: 400\n"
     ]
    }
   ],
   "source": [
    "ae_with_hosp_discharge = round_to_5(len(df[\n",
    "    (df[\"ae_attendance_hosp_discharge_date\"].notnull())\n",
    "]))\n",
    "print(f'Number of A&E attendances with hospital discharge: {ae_with_hosp_discharge}')"
   ]
  },
  {
   "cell_type": "markdown",
   "metadata": {},
   "source": [
    "#### Method 1 - Discharge destination\n",
    "Restrict to those that attended A&E and had a hospital discharge destination (hospital ward, emergency short stay ward, icu)."
   ]
  },
  {
   "cell_type": "code",
   "execution_count": 14,
   "metadata": {},
   "outputs": [
    {
     "name": "stdout",
     "output_type": "stream",
     "text": [
      "Number with A&E attendance with hospital discharge before admission: 500 (62.5%)\n",
      "False positives (FDR): 40 (100.0%)\n"
     ]
    }
   ],
   "source": [
    "emergency_admission_filter_hosp_discharge = (\n",
    "        (df[\"emergency_covid_hospital_admission_date\"].notnull()) &\n",
    "        (\n",
    "            (df[\"ae_attendance_date\"] < df[\"emergency_covid_hospital_admission_date\"]) &\n",
    "            (df[\"ae_attendance_date\"] > (df[\"emergency_covid_hospital_admission_date\"] - timedelta(days = 14))) &\n",
    "            (df[\"discharge_destination\"].isin(hosp_discharge_list))\n",
    "        )\n",
    "    ) \n",
    "\n",
    "\n",
    "ae_hosp_before = (df.loc[\n",
    "    df[\"ae_before_with_hospital_discharge_date\"].notnull()\n",
    ", \"patient_id\"])\n",
    "\n",
    "print(f'Number with A&E attendance with hospital discharge before admission: {round_to_5(len(ae_hosp_before))} ({round((round_to_5(len(ae_hosp_before))/num_emergency_cov_admissions)*100, 2)}%)')\n",
    "\n",
    "tp_ae_hosp_discharge = round_to_5(len(df[\n",
    "    (df[\"discharge_destination\"].isin(hosp_discharge_list)) & \n",
    "    emergency_admission_filter\n",
    "]))\n",
    "\n",
    "fp_ae_hosp_discharge = round_to_5(len(df[\n",
    "    (df[\"discharge_destination\"].isin(hosp_discharge_list)) & \n",
    "    ~emergency_admission_filter\n",
    "]))\n",
    "\n",
    "tn_ae_hosp_discharge = round_to_5(len(df[\n",
    "    ~(df[\"discharge_destination\"].isin(hosp_discharge_list)) & \n",
    "    ~emergency_admission_filter\n",
    "]))\n",
    "\n",
    "fp_ae_hosp_discharge = round_to_5(len(df[\n",
    "    ~(df[\"discharge_destination\"].isin(hosp_discharge_list)) & \n",
    "    emergency_admission_filter\n",
    "]))\n",
    "\n",
    "\n",
    "discharge_destination = performance_metrics(tp_ae_hosp_discharge, fp_ae_hosp_discharge, tn_ae_hosp_discharge, fn_ae_hosp_discharge)\n",
    "print(f'False positives (FDR): {fp_ae_hosp_discharge} ({discharge_destination[4]}%)')"
   ]
  },
  {
   "cell_type": "markdown",
   "metadata": {},
   "source": [
    "#### Method 2 - Diagnosis code\n",
    "Restrict to those with a COVID-19 diagnosis code or respiratory-related diagnosis code from the [emergency care diagnosis refset](https://termbrowser.nhs.uk/?perspective=full&conceptId1=991411000000109&edition=uk-edition&release=v20220216&server=https://termbrowser.nhs.uk/sct-browser-api/snomed&langRefset=900000000000508004)"
   ]
  },
  {
   "cell_type": "code",
   "execution_count": 15,
   "metadata": {},
   "outputs": [
    {
     "name": "stdout",
     "output_type": "stream",
     "text": [
      "Number with A&E attendance and covid diagnosis code before admission: 500 (62.5%)\n",
      "Number with A&E attendance and respiratory code before admission: 500 (62.5%)\n"
     ]
    },
    {
     "ename": "ZeroDivisionError",
     "evalue": "division by zero",
     "output_type": "error",
     "traceback": [
      "\u001b[0;31m---------------------------------------------------------------------------\u001b[0m",
      "\u001b[0;31mZeroDivisionError\u001b[0m                         Traceback (most recent call last)",
      "\u001b[0;32m/var/folders/6d/gn8xz2l52x32r5r2m_yxl_vr0000gp/T/ipykernel_26771/1413385209.py\u001b[0m in \u001b[0;36m<module>\u001b[0;34m\u001b[0m\n\u001b[1;32m     51\u001b[0m \u001b[0;34m\u001b[0m\u001b[0m\n\u001b[1;32m     52\u001b[0m \u001b[0;34m\u001b[0m\u001b[0m\n\u001b[0;32m---> 53\u001b[0;31m \u001b[0mdiagnosis_code_cov\u001b[0m \u001b[0;34m=\u001b[0m \u001b[0mperformance_metrics\u001b[0m\u001b[0;34m(\u001b[0m\u001b[0mtp_ae_cov\u001b[0m\u001b[0;34m,\u001b[0m \u001b[0mfp_ae_cov\u001b[0m\u001b[0;34m,\u001b[0m \u001b[0mtn_ae_cov\u001b[0m\u001b[0;34m,\u001b[0m \u001b[0mfn_ae_cov\u001b[0m\u001b[0;34m)\u001b[0m\u001b[0;34m\u001b[0m\u001b[0;34m\u001b[0m\u001b[0m\n\u001b[0m\u001b[1;32m     54\u001b[0m \u001b[0mdiagnosis_code_resp\u001b[0m \u001b[0;34m=\u001b[0m \u001b[0mperformance_metrics\u001b[0m\u001b[0;34m(\u001b[0m\u001b[0mtp_ae_resp\u001b[0m\u001b[0;34m,\u001b[0m \u001b[0mfp_ae_resp\u001b[0m\u001b[0;34m,\u001b[0m \u001b[0mtn_ae_resp\u001b[0m\u001b[0;34m,\u001b[0m \u001b[0mfn_ae_resp\u001b[0m\u001b[0;34m)\u001b[0m\u001b[0;34m\u001b[0m\u001b[0;34m\u001b[0m\u001b[0m\n\u001b[1;32m     55\u001b[0m \u001b[0;34m\u001b[0m\u001b[0m\n",
      "\u001b[0;32m/var/folders/6d/gn8xz2l52x32r5r2m_yxl_vr0000gp/T/ipykernel_26771/2648676151.py\u001b[0m in \u001b[0;36mperformance_metrics\u001b[0;34m(tp, fp, tn, fn)\u001b[0m\n\u001b[1;32m     35\u001b[0m     \u001b[0mfn\u001b[0m \u001b[0;34m=\u001b[0m \u001b[0mround_to_5\u001b[0m\u001b[0;34m(\u001b[0m\u001b[0mfn\u001b[0m\u001b[0;34m)\u001b[0m\u001b[0;34m\u001b[0m\u001b[0;34m\u001b[0m\u001b[0m\n\u001b[1;32m     36\u001b[0m \u001b[0;34m\u001b[0m\u001b[0m\n\u001b[0;32m---> 37\u001b[0;31m     \u001b[0msensitivity\u001b[0m \u001b[0;34m=\u001b[0m \u001b[0mround\u001b[0m\u001b[0;34m(\u001b[0m\u001b[0;34m(\u001b[0m\u001b[0mtp\u001b[0m\u001b[0;34m/\u001b[0m\u001b[0;34m(\u001b[0m\u001b[0mtp\u001b[0m\u001b[0;34m+\u001b[0m\u001b[0mfn\u001b[0m\u001b[0;34m)\u001b[0m\u001b[0;34m)\u001b[0m \u001b[0;34m*\u001b[0m\u001b[0;36m100\u001b[0m\u001b[0;34m,\u001b[0m \u001b[0;36m2\u001b[0m\u001b[0;34m)\u001b[0m\u001b[0;34m\u001b[0m\u001b[0;34m\u001b[0m\u001b[0m\n\u001b[0m\u001b[1;32m     38\u001b[0m     \u001b[0mspecificity\u001b[0m \u001b[0;34m=\u001b[0m \u001b[0mround\u001b[0m\u001b[0;34m(\u001b[0m\u001b[0;34m(\u001b[0m\u001b[0mtn\u001b[0m\u001b[0;34m/\u001b[0m\u001b[0;34m(\u001b[0m\u001b[0mtn\u001b[0m\u001b[0;34m+\u001b[0m\u001b[0mfp\u001b[0m\u001b[0;34m)\u001b[0m\u001b[0;34m)\u001b[0m \u001b[0;34m*\u001b[0m\u001b[0;36m100\u001b[0m\u001b[0;34m,\u001b[0m \u001b[0;36m2\u001b[0m\u001b[0;34m)\u001b[0m\u001b[0;34m\u001b[0m\u001b[0;34m\u001b[0m\u001b[0m\n\u001b[1;32m     39\u001b[0m     \u001b[0mfdr\u001b[0m \u001b[0;34m=\u001b[0m \u001b[0mround\u001b[0m\u001b[0;34m(\u001b[0m\u001b[0;34m(\u001b[0m\u001b[0mfp\u001b[0m\u001b[0;34m/\u001b[0m\u001b[0;34m(\u001b[0m\u001b[0mfp\u001b[0m\u001b[0;34m+\u001b[0m\u001b[0mtp\u001b[0m\u001b[0;34m)\u001b[0m\u001b[0;34m)\u001b[0m \u001b[0;34m*\u001b[0m\u001b[0;36m100\u001b[0m\u001b[0;34m,\u001b[0m \u001b[0;36m2\u001b[0m\u001b[0;34m)\u001b[0m\u001b[0;34m\u001b[0m\u001b[0;34m\u001b[0m\u001b[0m\n",
      "\u001b[0;31mZeroDivisionError\u001b[0m: division by zero"
     ]
    }
   ],
   "source": [
    "ae_cov_before = (df.loc[\n",
    "    df[\"ae_before_with_hospital_discharge_covid\"]==1\n",
    ", \"patient_id\"])\n",
    "\n",
    "ae_resp_before = (df.loc[\n",
    "    df[\"ae_before_with_hospital_discharge_resp\"]==1\n",
    ", \"patient_id\"])\n",
    "\n",
    "print(f'Number with A&E attendance and covid diagnosis code before admission: {round_to_5(len(ae_cov_before))} ({round((round_to_5(len(ae_cov_before))/num_emergency_cov_admissions)*100, 2)}%)')\n",
    "print(f'Number with A&E attendance and respiratory code before admission: {round_to_5(len(ae_resp_before))} ({round((round_to_5(len(ae_resp_before))/num_emergency_cov_admissions)*100, 2)}%)')\n",
    "\n",
    "tp_ae_cov = round_to_5(len(df[\n",
    "    (df[\"ae_cov\"]==1)  & \n",
    "    emergency_admission_filter_hosp_discharge\n",
    "]))\n",
    "\n",
    "fp_ae_cov = round_to_5(len(df[\n",
    "    (df[\"ae_cov\"]==1)  & \n",
    "    ~emergency_admission_filter_hosp_discharge\n",
    "]))\n",
    "\n",
    "tn_ae_cov = round_to_5(len(df[\n",
    "    (df[\"ae_cov\"]==0)  & \n",
    "    ~emergency_admission_filter_hosp_discharge\n",
    "]))\n",
    "\n",
    "fn_ae_cov = round_to_5(len(df[\n",
    "    (df[\"ae_cov\"]==0)  & \n",
    "    emergency_admission_filter_hosp_discharge\n",
    "]))\n",
    "\n",
    "tp_ae_resp = round_to_5(len(df[\n",
    "    (df[\"ae_resp\"]==1)  & \n",
    "    emergency_admission_filter_hosp_discharge\n",
    "]))\n",
    "\n",
    "fp_ae_resp = round_to_5(len(df[\n",
    "    (df[\"ae_resp\"]==1)  & \n",
    "    ~emergency_admission_filter_hosp_discharge\n",
    "]))\n",
    "\n",
    "tn_ae_resp = round_to_5(len(df[\n",
    "    (df[\"ae_resp\"]==0)  & \n",
    "    ~emergency_admission_filter_hosp_discharge\n",
    "]))\n",
    "\n",
    "fn_ae_resp = round_to_5(len(df[\n",
    "    (df[\"ae_resp\"]==0)  & \n",
    "    emergency_admission_filter_hosp_discharge\n",
    "]))\n",
    "\n",
    "\n",
    "diagnosis_code_cov = performance_metrics(tp_ae_cov, fp_ae_cov, tn_ae_cov, fn_ae_cov)\n",
    "diagnosis_code_resp = performance_metrics(tp_ae_resp, fp_ae_resp, tn_ae_resp, fn_ae_resp)\n",
    "\n",
    "print(f'False positives (FDR) - A&E attendance and covid diagnosis code: {fp_ae_cov} ({diagnosis_code_cov[4]}%)')\n",
    "print(f'False positives (FDR) - A&E attendance and respiratory diagnosis code: {fp_ae_resp} ({diagnosis_code_resp[4]}%)')"
   ]
  },
  {
   "cell_type": "markdown",
   "metadata": {},
   "source": [
    "#### Method 3 - Identification in primary care\n",
    "\n",
    "Restrict to those with a probable or suspected COVID-19 code recorded in primary care in the 2 weeks prior to A&E attendance."
   ]
  },
  {
   "cell_type": "code",
   "execution_count": 17,
   "metadata": {},
   "outputs": [
    {
     "name": "stdout",
     "output_type": "stream",
     "text": [
      "Number with A&E attendance and recent suspected covid code in primary care before admission: 500 (62.5%)\n",
      "Number with A&E attendance and recent probable covid code in primary care before admission: 500 (62.5%)\n"
     ]
    },
    {
     "ename": "ZeroDivisionError",
     "evalue": "division by zero",
     "output_type": "error",
     "traceback": [
      "\u001b[0;31m---------------------------------------------------------------------------\u001b[0m",
      "\u001b[0;31mZeroDivisionError\u001b[0m                         Traceback (most recent call last)",
      "\u001b[0;32m/var/folders/6d/gn8xz2l52x32r5r2m_yxl_vr0000gp/T/ipykernel_26771/1923448341.py\u001b[0m in \u001b[0;36m<module>\u001b[0;34m\u001b[0m\n\u001b[1;32m     51\u001b[0m \u001b[0;34m\u001b[0m\u001b[0m\n\u001b[1;32m     52\u001b[0m \u001b[0;34m\u001b[0m\u001b[0m\n\u001b[0;32m---> 53\u001b[0;31m \u001b[0mprim_care_suspected\u001b[0m \u001b[0;34m=\u001b[0m \u001b[0mperformance_metrics\u001b[0m\u001b[0;34m(\u001b[0m\u001b[0mtp_ae_suspected\u001b[0m\u001b[0;34m,\u001b[0m \u001b[0mfp_ae_suspected\u001b[0m\u001b[0;34m,\u001b[0m \u001b[0mtn_ae_suspected\u001b[0m\u001b[0;34m,\u001b[0m \u001b[0mfn_ae_suspected\u001b[0m\u001b[0;34m)\u001b[0m\u001b[0;34m\u001b[0m\u001b[0;34m\u001b[0m\u001b[0m\n\u001b[0m\u001b[1;32m     54\u001b[0m \u001b[0mprim_care_probable\u001b[0m \u001b[0;34m=\u001b[0m \u001b[0mperformance_metrics\u001b[0m\u001b[0;34m(\u001b[0m\u001b[0mtp_ae_probable\u001b[0m\u001b[0;34m,\u001b[0m \u001b[0mfp_ae_probable\u001b[0m\u001b[0;34m,\u001b[0m \u001b[0mtn_ae_probable\u001b[0m\u001b[0;34m,\u001b[0m \u001b[0mfn_ae_probable\u001b[0m\u001b[0;34m)\u001b[0m\u001b[0;34m\u001b[0m\u001b[0;34m\u001b[0m\u001b[0m\n\u001b[1;32m     55\u001b[0m \u001b[0;34m\u001b[0m\u001b[0m\n",
      "\u001b[0;32m/var/folders/6d/gn8xz2l52x32r5r2m_yxl_vr0000gp/T/ipykernel_26771/2648676151.py\u001b[0m in \u001b[0;36mperformance_metrics\u001b[0;34m(tp, fp, tn, fn)\u001b[0m\n\u001b[1;32m     35\u001b[0m     \u001b[0mfn\u001b[0m \u001b[0;34m=\u001b[0m \u001b[0mround_to_5\u001b[0m\u001b[0;34m(\u001b[0m\u001b[0mfn\u001b[0m\u001b[0;34m)\u001b[0m\u001b[0;34m\u001b[0m\u001b[0;34m\u001b[0m\u001b[0m\n\u001b[1;32m     36\u001b[0m \u001b[0;34m\u001b[0m\u001b[0m\n\u001b[0;32m---> 37\u001b[0;31m     \u001b[0msensitivity\u001b[0m \u001b[0;34m=\u001b[0m \u001b[0mround\u001b[0m\u001b[0;34m(\u001b[0m\u001b[0;34m(\u001b[0m\u001b[0mtp\u001b[0m\u001b[0;34m/\u001b[0m\u001b[0;34m(\u001b[0m\u001b[0mtp\u001b[0m\u001b[0;34m+\u001b[0m\u001b[0mfn\u001b[0m\u001b[0;34m)\u001b[0m\u001b[0;34m)\u001b[0m \u001b[0;34m*\u001b[0m\u001b[0;36m100\u001b[0m\u001b[0;34m,\u001b[0m \u001b[0;36m2\u001b[0m\u001b[0;34m)\u001b[0m\u001b[0;34m\u001b[0m\u001b[0;34m\u001b[0m\u001b[0m\n\u001b[0m\u001b[1;32m     38\u001b[0m     \u001b[0mspecificity\u001b[0m \u001b[0;34m=\u001b[0m \u001b[0mround\u001b[0m\u001b[0;34m(\u001b[0m\u001b[0;34m(\u001b[0m\u001b[0mtn\u001b[0m\u001b[0;34m/\u001b[0m\u001b[0;34m(\u001b[0m\u001b[0mtn\u001b[0m\u001b[0;34m+\u001b[0m\u001b[0mfp\u001b[0m\u001b[0;34m)\u001b[0m\u001b[0;34m)\u001b[0m \u001b[0;34m*\u001b[0m\u001b[0;36m100\u001b[0m\u001b[0;34m,\u001b[0m \u001b[0;36m2\u001b[0m\u001b[0;34m)\u001b[0m\u001b[0;34m\u001b[0m\u001b[0;34m\u001b[0m\u001b[0m\n\u001b[1;32m     39\u001b[0m     \u001b[0mfdr\u001b[0m \u001b[0;34m=\u001b[0m \u001b[0mround\u001b[0m\u001b[0;34m(\u001b[0m\u001b[0;34m(\u001b[0m\u001b[0mfp\u001b[0m\u001b[0;34m/\u001b[0m\u001b[0;34m(\u001b[0m\u001b[0mfp\u001b[0m\u001b[0;34m+\u001b[0m\u001b[0mtp\u001b[0m\u001b[0;34m)\u001b[0m\u001b[0;34m)\u001b[0m \u001b[0;34m*\u001b[0m\u001b[0;36m100\u001b[0m\u001b[0;34m,\u001b[0m \u001b[0;36m2\u001b[0m\u001b[0;34m)\u001b[0m\u001b[0;34m\u001b[0m\u001b[0;34m\u001b[0m\u001b[0m\n",
      "\u001b[0;31mZeroDivisionError\u001b[0m: division by zero"
     ]
    }
   ],
   "source": [
    "ae_prim_care_probable_before = (df.loc[\n",
    "    df[\"ae_before_with_hospital_discharge_prim_care_probable\"]==1\n",
    ", \"patient_id\"])\n",
    "\n",
    "ae_prim_care_suspected_before = (df.loc[\n",
    "    df[\"ae_before_with_hospital_discharge_prim_care_suspected\"]==1\n",
    ", \"patient_id\"])\n",
    "\n",
    "print(f'Number with A&E attendance and recent suspected covid code in primary care before admission: {round_to_5(len(ae_prim_care_suspected_before))} ({round((round_to_5(len(ae_prim_care_suspected_before))/num_emergency_cov_admissions)*100, 2)}%)')\n",
    "print(f'Number with A&E attendance and recent probable covid code in primary care before admission: {round_to_5(len(ae_prim_care_probable_before))} ({round((round_to_5(len(ae_prim_care_probable_before))/num_emergency_cov_admissions)*100, 2)}%)')\n",
    "\n",
    "tp_ae_suspected = round_to_5(len(df[\n",
    "    (df[\"suspected_covid_primary_care_before_ae\"]==1)  & \n",
    "    emergency_admission_filter_hosp_discharge\n",
    "]))\n",
    "\n",
    "fp_ae_suspected = round_to_5(len(df[\n",
    "    (df[\"suspected_covid_primary_care_before_ae\"]==1)  & \n",
    "    ~emergency_admission_filter_hosp_discharge\n",
    "]))\n",
    "\n",
    "tn_ae_suspected = round_to_5(len(df[\n",
    "    (df[\"suspected_covid_primary_care_before_ae\"]==0)  & \n",
    "    ~emergency_admission_filter_hosp_discharge\n",
    "]))\n",
    "\n",
    "fn_ae_suspected = round_to_5(len(df[\n",
    "    (df[\"suspected_covid_primary_care_before_ae\"]==0)  & \n",
    "    emergency_admission_filter_hosp_discharge\n",
    "]))\n",
    "\n",
    "tp_ae_probable = round_to_5(len(df[\n",
    "    (df[\"covid_primary_care_before_ae\"]==1)  & \n",
    "    emergency_admission_filter_hosp_discharge\n",
    "]))\n",
    "\n",
    "fp_ae_probable = round_to_5(len(df[\n",
    "    (df[\"covid_primary_care_before_ae\"]==1)  & \n",
    "    ~emergency_admission_filter_hosp_discharge\n",
    "]))\n",
    "\n",
    "tn_ae_probable = round_to_5(len(df[\n",
    "    (df[\"covid_primary_care_before_ae\"]==0)  & \n",
    "    ~emergency_admission_filter_hosp_discharge\n",
    "]))\n",
    "\n",
    "fn_ae_probable = round_to_5(len(df[\n",
    "    (df[\"covid_primary_care_before_ae\"]==0)  & \n",
    "    emergency_admission_filter_hosp_discharge\n",
    "]))\n",
    "\n",
    "\n",
    "prim_care_suspected = performance_metrics(tp_ae_suspected, fp_ae_suspected, tn_ae_suspected, fn_ae_suspected)\n",
    "prim_care_probable = performance_metrics(tp_ae_probable, fp_ae_probable, tn_ae_probable, fn_ae_probable)\n",
    "\n",
    "print(f'False positives (FDR) - A&E attendance and probable covid code in primary care: {fp_ae_probable} ({prim_care_probable[4]}%)')\n",
    "print(f'False positives (FDR) - A&E attendance and suspected covid code in primary care: {fp_ae_suspected} ({prim_care_suspected[4]}%)')"
   ]
  },
  {
   "cell_type": "markdown",
   "metadata": {},
   "source": [
    "#### Method 4 - Positive test result\n",
    "\n",
    "Restrict to those with a positive COVID-19 test result recorded up to 4 weeks prior to A&E attendance."
   ]
  },
  {
   "cell_type": "code",
   "execution_count": 18,
   "metadata": {},
   "outputs": [
    {
     "name": "stdout",
     "output_type": "stream",
     "text": [
      "Number with A&E attendance and recent positive test (2 weeks) before admission: 500 (62.5%)\n",
      "Number with A&E attendance and recent positive test (4 weeks) before admissio: 500 (62.5%)\n",
      "False positives (FDR) - A&E attendance and recent positive test (2 weeks): 500 (50.0%)\n",
      "False positives (FDR) - A&E attendance and recent positive test (4 weeks): 500 (50.0%)\n"
     ]
    }
   ],
   "source": [
    "ae_pos_test_before_2_weeks = (df.loc[\n",
    "    df[\"ae_before_with_hospital_discharge_positive_covid_test_2_weeks\"]==1\n",
    ", \"patient_id\"])\n",
    "\n",
    "ae_pos_test_before = (df.loc[\n",
    "    df[\"ae_before_with_hospital_discharge_positive_covid_test\"]==1\n",
    ", \"patient_id\"])\n",
    "\n",
    "\n",
    "print(f'Number with A&E attendance and recent positive test (2 weeks) before admission: {round_to_5(len(ae_pos_test_before_2_weeks))} ({round((round_to_5(len(ae_pos_test_before_2_weeks))/num_emergency_cov_admissions)*100, 2)}%)')\n",
    "print(f'Number with A&E attendance and recent positive test (4 weeks) before admissio: {round_to_5(len(ae_pos_test_before))} ({round((round_to_5(len(ae_pos_test_before))/num_emergency_cov_admissions)*100, 2)}%)')\n",
    "\n",
    "tp_ae_test = round_to_5(len(df[\n",
    "    (df[\"pos_test\"]==1)  & \n",
    "    emergency_admission_filter_hosp_discharge\n",
    "]))\n",
    "\n",
    "fp_ae_test = round_to_5(len(df[\n",
    "    (df[\"pos_test\"]==1)  & \n",
    "    ~emergency_admission_filter_hosp_discharge\n",
    "]))\n",
    "\n",
    "tn_ae_test = round_to_5(len(df[\n",
    "    (df[\"pos_test\"]==0)  & \n",
    "    ~emergency_admission_filter_hosp_discharge\n",
    "]))\n",
    "\n",
    "fn_ae_test = round_to_5(len(df[\n",
    "    (df[\"pos_test\"]==0)  & \n",
    "    emergency_admission_filter_hosp_discharge\n",
    "]))\n",
    "\n",
    "tp_ae_test_2_weeks = round_to_5(len(df[\n",
    "    (df[\"pos_test_2_weeks\"]==1)  & \n",
    "    emergency_admission_filter_hosp_discharge\n",
    "]))\n",
    "\n",
    "fp_ae_test_2_weeks = round_to_5(len(df[\n",
    "    (df[\"pos_test_2_weeks\"]==1)  & \n",
    "    ~emergency_admission_filter_hosp_discharge\n",
    "]))\n",
    "\n",
    "tn_ae_test_2_weeks = round_to_5(len(df[\n",
    "    (df[\"pos_test_2_weeks\"]==0)  & \n",
    "    ~emergency_admission_filter_hosp_discharge\n",
    "]))\n",
    "\n",
    "fn_ae_test_2_weeks = round_to_5(len(df[\n",
    "    (df[\"pos_test_2_weeks\"]==0)  & \n",
    "    emergency_admission_filter_hosp_discharge\n",
    "]))\n",
    "\n",
    "\n",
    "positive_test_2_weeks = performance_metrics(tn_ae_test_2_weeks, fp_ae_test_2_weeks, tn_ae_test_2_weeks, fn_ae_test_2_weeks)\n",
    "positive_test_4_weeks = performance_metrics(tn_ae_test, fp_ae_test, tn_ae_test, fn_ae_test)\n",
    "\n",
    "print(f'False positives (FDR) - A&E attendance and recent positive test (2 weeks): {fp_ae_test_2_weeks} ({positive_test_2_weeks[4]}%)')\n",
    "print(f'False positives (FDR) - A&E attendance and recent positive test (4 weeks): {fp_ae_test} ({positive_test_4_weeks[4]}%)')"
   ]
  },
  {
   "cell_type": "markdown",
   "metadata": {},
   "source": [
    "####  Combining approaches"
   ]
  },
  {
   "cell_type": "markdown",
   "metadata": {},
   "source": [
    "##### Diagnosis codes (resp or cov) with recent positive test"
   ]
  },
  {
   "cell_type": "code",
   "execution_count": 20,
   "metadata": {},
   "outputs": [
    {
     "name": "stdout",
     "output_type": "stream",
     "text": [
      "Number with A&E attendance with either covid or respiratory diagnosis code and recent positive test (2 weeks) before admission: 380 (47.5%)\n"
     ]
    },
    {
     "ename": "ZeroDivisionError",
     "evalue": "division by zero",
     "output_type": "error",
     "traceback": [
      "\u001b[0;31m---------------------------------------------------------------------------\u001b[0m",
      "\u001b[0;31mZeroDivisionError\u001b[0m                         Traceback (most recent call last)",
      "\u001b[0;32m/var/folders/6d/gn8xz2l52x32r5r2m_yxl_vr0000gp/T/ipykernel_26771/3321607294.py\u001b[0m in \u001b[0;36m<module>\u001b[0;34m\u001b[0m\n\u001b[1;32m     53\u001b[0m \u001b[0;34m\u001b[0m\u001b[0m\n\u001b[1;32m     54\u001b[0m \u001b[0;34m\u001b[0m\u001b[0m\n\u001b[0;32m---> 55\u001b[0;31m \u001b[0mcode_plus_test\u001b[0m \u001b[0;34m=\u001b[0m \u001b[0mperformance_metrics\u001b[0m\u001b[0;34m(\u001b[0m\u001b[0mtp_ae_hos_resp_cov_plus_test_2_weeks\u001b[0m\u001b[0;34m,\u001b[0m \u001b[0mfp_ae_hos_resp_cov_plus_test_2_weeks\u001b[0m\u001b[0;34m,\u001b[0m \u001b[0mtn_ae_hos_resp_cov_plus_test_2_weeks\u001b[0m\u001b[0;34m,\u001b[0m \u001b[0mfn_ae_hos_resp_cov_plus_test_2_weeks\u001b[0m\u001b[0;34m)\u001b[0m\u001b[0;34m\u001b[0m\u001b[0;34m\u001b[0m\u001b[0m\n\u001b[0m\u001b[1;32m     56\u001b[0m \u001b[0mprint\u001b[0m\u001b[0;34m(\u001b[0m\u001b[0;34mf'False positives (FDR): {fp_ae_hos_resp_cov_plus_test_2_weeks} ({code_plus_test[4]}%)'\u001b[0m\u001b[0;34m)\u001b[0m\u001b[0;34m\u001b[0m\u001b[0;34m\u001b[0m\u001b[0m\n",
      "\u001b[0;32m/var/folders/6d/gn8xz2l52x32r5r2m_yxl_vr0000gp/T/ipykernel_26771/2648676151.py\u001b[0m in \u001b[0;36mperformance_metrics\u001b[0;34m(tp, fp, tn, fn)\u001b[0m\n\u001b[1;32m     35\u001b[0m     \u001b[0mfn\u001b[0m \u001b[0;34m=\u001b[0m \u001b[0mround_to_5\u001b[0m\u001b[0;34m(\u001b[0m\u001b[0mfn\u001b[0m\u001b[0;34m)\u001b[0m\u001b[0;34m\u001b[0m\u001b[0;34m\u001b[0m\u001b[0m\n\u001b[1;32m     36\u001b[0m \u001b[0;34m\u001b[0m\u001b[0m\n\u001b[0;32m---> 37\u001b[0;31m     \u001b[0msensitivity\u001b[0m \u001b[0;34m=\u001b[0m \u001b[0mround\u001b[0m\u001b[0;34m(\u001b[0m\u001b[0;34m(\u001b[0m\u001b[0mtp\u001b[0m\u001b[0;34m/\u001b[0m\u001b[0;34m(\u001b[0m\u001b[0mtp\u001b[0m\u001b[0;34m+\u001b[0m\u001b[0mfn\u001b[0m\u001b[0;34m)\u001b[0m\u001b[0;34m)\u001b[0m \u001b[0;34m*\u001b[0m\u001b[0;36m100\u001b[0m\u001b[0;34m,\u001b[0m \u001b[0;36m2\u001b[0m\u001b[0;34m)\u001b[0m\u001b[0;34m\u001b[0m\u001b[0;34m\u001b[0m\u001b[0m\n\u001b[0m\u001b[1;32m     38\u001b[0m     \u001b[0mspecificity\u001b[0m \u001b[0;34m=\u001b[0m \u001b[0mround\u001b[0m\u001b[0;34m(\u001b[0m\u001b[0;34m(\u001b[0m\u001b[0mtn\u001b[0m\u001b[0;34m/\u001b[0m\u001b[0;34m(\u001b[0m\u001b[0mtn\u001b[0m\u001b[0;34m+\u001b[0m\u001b[0mfp\u001b[0m\u001b[0;34m)\u001b[0m\u001b[0;34m)\u001b[0m \u001b[0;34m*\u001b[0m\u001b[0;36m100\u001b[0m\u001b[0;34m,\u001b[0m \u001b[0;36m2\u001b[0m\u001b[0;34m)\u001b[0m\u001b[0;34m\u001b[0m\u001b[0;34m\u001b[0m\u001b[0m\n\u001b[1;32m     39\u001b[0m     \u001b[0mfdr\u001b[0m \u001b[0;34m=\u001b[0m \u001b[0mround\u001b[0m\u001b[0;34m(\u001b[0m\u001b[0;34m(\u001b[0m\u001b[0mfp\u001b[0m\u001b[0;34m/\u001b[0m\u001b[0;34m(\u001b[0m\u001b[0mfp\u001b[0m\u001b[0;34m+\u001b[0m\u001b[0mtp\u001b[0m\u001b[0;34m)\u001b[0m\u001b[0;34m)\u001b[0m \u001b[0;34m*\u001b[0m\u001b[0;36m100\u001b[0m\u001b[0;34m,\u001b[0m \u001b[0;36m2\u001b[0m\u001b[0;34m)\u001b[0m\u001b[0;34m\u001b[0m\u001b[0;34m\u001b[0m\u001b[0m\n",
      "\u001b[0;31mZeroDivisionError\u001b[0m: division by zero"
     ]
    }
   ],
   "source": [
    "ae_hos_resp_cov_plus_test_2_weeks = (df.loc[(\n",
    "        (df[\"ae_before_with_hospital_discharge_covid\"]==1) | \n",
    "        (df[\"ae_before_with_hospital_discharge_resp\"]==1) \n",
    "    )&\n",
    "    (df[\"ae_before_with_hospital_discharge_positive_covid_test_2_weeks\"]==1)\n",
    ", \"patient_id\"])\n",
    "\n",
    "print(f'Number with A&E attendance with either covid or respiratory diagnosis code and recent positive test (2 weeks) before admission: {round_to_5(len(ae_hos_resp_cov_plus_test_2_weeks))} ({round((round_to_5(len(ae_hos_resp_cov_plus_test_2_weeks))/num_emergency_cov_admissions)*100, 2)}%)')\n",
    "\n",
    "tp_ae_hos_resp_cov_plus_test_2_weeks = round_to_5(len(df[\n",
    "    (\n",
    "        (\n",
    "            (df[\"ae_cov\"]==1) |\n",
    "            (df[\"ae_resp\"]==1)    \n",
    "        )&\n",
    "        (df[\"pos_test_2_weeks\"]==1)\n",
    "    )& \n",
    "    emergency_admission_filter_hosp_discharge\n",
    "]))\n",
    "\n",
    "fp_ae_hos_resp_cov_plus_test_2_weeks = round_to_5(len(df[\n",
    "    (\n",
    "        (\n",
    "            (df[\"ae_cov\"]==1) |\n",
    "            (df[\"ae_resp\"]==1)    \n",
    "        )&\n",
    "        (df[\"pos_test_2_weeks\"]==1)\n",
    "    )& \n",
    "    ~emergency_admission_filter_hosp_discharge\n",
    "]))\n",
    "\n",
    "tn_ae_hos_resp_cov_plus_test_2_weeks = round_to_5(len(df[\n",
    "    ~(\n",
    "        (\n",
    "            (df[\"ae_cov\"]==1) |\n",
    "            (df[\"ae_resp\"]==1)    \n",
    "        )&\n",
    "        (df[\"pos_test_2_weeks\"]==1)\n",
    "    )& \n",
    "    ~emergency_admission_filter_hosp_discharge\n",
    "]))\n",
    "\n",
    "fn_ae_hos_resp_cov_plus_test_2_weeks = round_to_5(len(df[\n",
    "    ~(\n",
    "        (\n",
    "            (df[\"ae_cov\"]==1) |\n",
    "            (df[\"ae_resp\"]==1)    \n",
    "        )&\n",
    "        (df[\"pos_test_2_weeks\"]==1)\n",
    "    )& \n",
    "    emergency_admission_filter_hosp_discharge\n",
    "]))\n",
    "\n",
    "\n",
    "code_plus_test = performance_metrics(tp_ae_hos_resp_cov_plus_test_2_weeks, fp_ae_hos_resp_cov_plus_test_2_weeks, tn_ae_hos_resp_cov_plus_test_2_weeks, fn_ae_hos_resp_cov_plus_test_2_weeks)\n",
    "print(f'False positives (FDR): {fp_ae_hos_resp_cov_plus_test_2_weeks} ({code_plus_test[4]}%)')\n"
   ]
  },
  {
   "cell_type": "markdown",
   "metadata": {},
   "source": [
    "##### Covid in primary care with recent positive test"
   ]
  },
  {
   "cell_type": "code",
   "execution_count": 21,
   "metadata": {},
   "outputs": [
    {
     "name": "stdout",
     "output_type": "stream",
     "text": [
      "Number with A&E attendance with suspected or probable covid in primary care and recent positive test (2 weeks) before admission: 375 (46.88%)\n"
     ]
    },
    {
     "ename": "ZeroDivisionError",
     "evalue": "division by zero",
     "output_type": "error",
     "traceback": [
      "\u001b[0;31m---------------------------------------------------------------------------\u001b[0m",
      "\u001b[0;31mZeroDivisionError\u001b[0m                         Traceback (most recent call last)",
      "\u001b[0;32m/var/folders/6d/gn8xz2l52x32r5r2m_yxl_vr0000gp/T/ipykernel_26771/2858837067.py\u001b[0m in \u001b[0;36m<module>\u001b[0;34m\u001b[0m\n\u001b[1;32m     57\u001b[0m \u001b[0;34m\u001b[0m\u001b[0m\n\u001b[1;32m     58\u001b[0m \u001b[0;34m\u001b[0m\u001b[0m\n\u001b[0;32m---> 59\u001b[0;31m \u001b[0mprimary_care_plus_test\u001b[0m \u001b[0;34m=\u001b[0m \u001b[0mperformance_metrics\u001b[0m\u001b[0;34m(\u001b[0m\u001b[0mtp_ae_hosp_prim_care_before_plus_2_week_test\u001b[0m\u001b[0;34m,\u001b[0m \u001b[0mfp_ae_hosp_prim_care_before_plus_2_week_test\u001b[0m\u001b[0;34m,\u001b[0m \u001b[0mtn_ae_hosp_prim_care_before_plus_2_week_test\u001b[0m\u001b[0;34m,\u001b[0m \u001b[0mfn_ae_hosp_prim_care_before_plus_2_week_test\u001b[0m\u001b[0;34m)\u001b[0m\u001b[0;34m\u001b[0m\u001b[0;34m\u001b[0m\u001b[0m\n\u001b[0m\u001b[1;32m     60\u001b[0m \u001b[0mprint\u001b[0m\u001b[0;34m(\u001b[0m\u001b[0;34mf'False positives (FDR): {fp_ae_hosp_prim_care_before_plus_2_week_test} ({primary_care_plus_test[4]}%)'\u001b[0m\u001b[0;34m)\u001b[0m\u001b[0;34m\u001b[0m\u001b[0;34m\u001b[0m\u001b[0m\n",
      "\u001b[0;32m/var/folders/6d/gn8xz2l52x32r5r2m_yxl_vr0000gp/T/ipykernel_26771/2648676151.py\u001b[0m in \u001b[0;36mperformance_metrics\u001b[0;34m(tp, fp, tn, fn)\u001b[0m\n\u001b[1;32m     35\u001b[0m     \u001b[0mfn\u001b[0m \u001b[0;34m=\u001b[0m \u001b[0mround_to_5\u001b[0m\u001b[0;34m(\u001b[0m\u001b[0mfn\u001b[0m\u001b[0;34m)\u001b[0m\u001b[0;34m\u001b[0m\u001b[0;34m\u001b[0m\u001b[0m\n\u001b[1;32m     36\u001b[0m \u001b[0;34m\u001b[0m\u001b[0m\n\u001b[0;32m---> 37\u001b[0;31m     \u001b[0msensitivity\u001b[0m \u001b[0;34m=\u001b[0m \u001b[0mround\u001b[0m\u001b[0;34m(\u001b[0m\u001b[0;34m(\u001b[0m\u001b[0mtp\u001b[0m\u001b[0;34m/\u001b[0m\u001b[0;34m(\u001b[0m\u001b[0mtp\u001b[0m\u001b[0;34m+\u001b[0m\u001b[0mfn\u001b[0m\u001b[0;34m)\u001b[0m\u001b[0;34m)\u001b[0m \u001b[0;34m*\u001b[0m\u001b[0;36m100\u001b[0m\u001b[0;34m,\u001b[0m \u001b[0;36m2\u001b[0m\u001b[0;34m)\u001b[0m\u001b[0;34m\u001b[0m\u001b[0;34m\u001b[0m\u001b[0m\n\u001b[0m\u001b[1;32m     38\u001b[0m     \u001b[0mspecificity\u001b[0m \u001b[0;34m=\u001b[0m \u001b[0mround\u001b[0m\u001b[0;34m(\u001b[0m\u001b[0;34m(\u001b[0m\u001b[0mtn\u001b[0m\u001b[0;34m/\u001b[0m\u001b[0;34m(\u001b[0m\u001b[0mtn\u001b[0m\u001b[0;34m+\u001b[0m\u001b[0mfp\u001b[0m\u001b[0;34m)\u001b[0m\u001b[0;34m)\u001b[0m \u001b[0;34m*\u001b[0m\u001b[0;36m100\u001b[0m\u001b[0;34m,\u001b[0m \u001b[0;36m2\u001b[0m\u001b[0;34m)\u001b[0m\u001b[0;34m\u001b[0m\u001b[0;34m\u001b[0m\u001b[0m\n\u001b[1;32m     39\u001b[0m     \u001b[0mfdr\u001b[0m \u001b[0;34m=\u001b[0m \u001b[0mround\u001b[0m\u001b[0;34m(\u001b[0m\u001b[0;34m(\u001b[0m\u001b[0mfp\u001b[0m\u001b[0;34m/\u001b[0m\u001b[0;34m(\u001b[0m\u001b[0mfp\u001b[0m\u001b[0;34m+\u001b[0m\u001b[0mtp\u001b[0m\u001b[0;34m)\u001b[0m\u001b[0;34m)\u001b[0m \u001b[0;34m*\u001b[0m\u001b[0;36m100\u001b[0m\u001b[0;34m,\u001b[0m \u001b[0;36m2\u001b[0m\u001b[0;34m)\u001b[0m\u001b[0;34m\u001b[0m\u001b[0;34m\u001b[0m\u001b[0m\n",
      "\u001b[0;31mZeroDivisionError\u001b[0m: division by zero"
     ]
    }
   ],
   "source": [
    "ae_hosp_prim_care_before_plus_2_week_test = (df.loc[(\n",
    "        (df[\"ae_before_with_hospital_discharge_prim_care_suspected\"]==1) | \n",
    "        (df[\"ae_before_with_hospital_discharge_prim_care_probable\"]==1) \n",
    "    )\n",
    "&\n",
    "    (df[\"ae_before_with_hospital_discharge_positive_covid_test_2_weeks\"]==1)\n",
    ", \"patient_id\"])\n",
    "\n",
    "print(f'Number with A&E attendance with suspected or probable covid in primary care and recent positive test (2 weeks) before admission: {round_to_5(len(ae_hosp_prim_care_before_plus_2_week_test))} ({round((round_to_5(len(ae_hosp_prim_care_before_plus_2_week_test))/num_emergency_cov_admissions)*100, 2)}%)')\n",
    "\n",
    "tp_ae_hosp_prim_care_before_plus_2_week_test = round_to_5(len(df[\n",
    "    (\n",
    "        (\n",
    "            (df[\"covid_primary_care_before_ae\"]==1) |\n",
    "            (df[\"suspected_covid_primary_care_before_ae\"]==1)    \n",
    "        )&\n",
    "        (df[\"pos_test_2_weeks\"]==1)\n",
    "    )& \n",
    "    emergency_admission_filter_hosp_discharge\n",
    "]))\n",
    "\n",
    "fp_ae_hosp_prim_care_before_plus_2_week_test = round_to_5(len(df[\n",
    "    (\n",
    "        (\n",
    "            (df[\"covid_primary_care_before_ae\"]==1) |\n",
    "            (df[\"suspected_covid_primary_care_before_ae\"]==1)    \n",
    "        )&\n",
    "        (df[\"pos_test_2_weeks\"]==1)\n",
    "    )& \n",
    "    ~emergency_admission_filter_hosp_discharge\n",
    "]))\n",
    "\n",
    "tn_ae_hosp_prim_care_before_plus_2_week_test = round_to_5(len(df[\n",
    "    ~(\n",
    "        (\n",
    "            (df[\"covid_primary_care_before_ae\"]==1) |\n",
    "            (df[\"suspected_covid_primary_care_before_ae\"]==1)    \n",
    "        )&\n",
    "        (df[\"pos_test_2_weeks\"]==1)\n",
    "    )& \n",
    "    ~emergency_admission_filter_hosp_discharge\n",
    "]))\n",
    "\n",
    "fn_ae_hosp_prim_care_before_plus_2_week_test = round_to_5(len(df[\n",
    "    ~(\n",
    "        (\n",
    "            (df[\"covid_primary_care_before_ae\"]==1) |\n",
    "            (df[\"suspected_covid_primary_care_before_ae\"]==1)    \n",
    "        )&\n",
    "        (df[\"pos_test_2_weeks\"]==1)\n",
    "    )& \n",
    "    emergency_admission_filter_hosp_discharge\n",
    "]))\n",
    "\n",
    "\n",
    "\n",
    "\n",
    "\n",
    "primary_care_plus_test = performance_metrics(tp_ae_hosp_prim_care_before_plus_2_week_test, fp_ae_hosp_prim_care_before_plus_2_week_test, tn_ae_hosp_prim_care_before_plus_2_week_test, fn_ae_hosp_prim_care_before_plus_2_week_test)\n",
    "print(f'False positives (FDR): {fp_ae_hosp_prim_care_before_plus_2_week_test} ({primary_care_plus_test[4]}%)')\n"
   ]
  },
  {
   "cell_type": "markdown",
   "metadata": {},
   "source": [
    "##### Recent positive test and either covid in primary care or diagnosis code (resp or cov)"
   ]
  },
  {
   "cell_type": "code",
   "execution_count": 22,
   "metadata": {},
   "outputs": [
    {
     "name": "stdout",
     "output_type": "stream",
     "text": [
      "Number with A&E attendance with recent positive test and either suspected or probable covid in primary care or a covid or respiratory diagnosis code on attendance: 470 (58.75%)\n"
     ]
    },
    {
     "ename": "ZeroDivisionError",
     "evalue": "division by zero",
     "output_type": "error",
     "traceback": [
      "\u001b[0;31m---------------------------------------------------------------------------\u001b[0m",
      "\u001b[0;31mZeroDivisionError\u001b[0m                         Traceback (most recent call last)",
      "\u001b[0;32m/var/folders/6d/gn8xz2l52x32r5r2m_yxl_vr0000gp/T/ipykernel_26771/913784838.py\u001b[0m in \u001b[0;36m<module>\u001b[0;34m\u001b[0m\n\u001b[1;32m     64\u001b[0m \u001b[0;34m\u001b[0m\u001b[0m\n\u001b[1;32m     65\u001b[0m \u001b[0;34m\u001b[0m\u001b[0m\n\u001b[0;32m---> 66\u001b[0;31m \u001b[0mpos_test_prim_care_or_diagnosis_code\u001b[0m \u001b[0;34m=\u001b[0m \u001b[0mperformance_metrics\u001b[0m\u001b[0;34m(\u001b[0m\u001b[0mtp_combined_before\u001b[0m\u001b[0;34m,\u001b[0m \u001b[0mfp_combined_before\u001b[0m\u001b[0;34m,\u001b[0m \u001b[0mtn_combined_before\u001b[0m\u001b[0;34m,\u001b[0m \u001b[0mfn_combined_before\u001b[0m\u001b[0;34m)\u001b[0m\u001b[0;34m\u001b[0m\u001b[0;34m\u001b[0m\u001b[0m\n\u001b[0m\u001b[1;32m     67\u001b[0m \u001b[0mprint\u001b[0m\u001b[0;34m(\u001b[0m\u001b[0;34mf'False positives (FDR): {fp_combined_before} ({pos_test_prim_care_or_diagnosis_code}%)'\u001b[0m\u001b[0;34m)\u001b[0m\u001b[0;34m\u001b[0m\u001b[0;34m\u001b[0m\u001b[0m\n",
      "\u001b[0;32m/var/folders/6d/gn8xz2l52x32r5r2m_yxl_vr0000gp/T/ipykernel_26771/2648676151.py\u001b[0m in \u001b[0;36mperformance_metrics\u001b[0;34m(tp, fp, tn, fn)\u001b[0m\n\u001b[1;32m     35\u001b[0m     \u001b[0mfn\u001b[0m \u001b[0;34m=\u001b[0m \u001b[0mround_to_5\u001b[0m\u001b[0;34m(\u001b[0m\u001b[0mfn\u001b[0m\u001b[0;34m)\u001b[0m\u001b[0;34m\u001b[0m\u001b[0;34m\u001b[0m\u001b[0m\n\u001b[1;32m     36\u001b[0m \u001b[0;34m\u001b[0m\u001b[0m\n\u001b[0;32m---> 37\u001b[0;31m     \u001b[0msensitivity\u001b[0m \u001b[0;34m=\u001b[0m \u001b[0mround\u001b[0m\u001b[0;34m(\u001b[0m\u001b[0;34m(\u001b[0m\u001b[0mtp\u001b[0m\u001b[0;34m/\u001b[0m\u001b[0;34m(\u001b[0m\u001b[0mtp\u001b[0m\u001b[0;34m+\u001b[0m\u001b[0mfn\u001b[0m\u001b[0;34m)\u001b[0m\u001b[0;34m)\u001b[0m \u001b[0;34m*\u001b[0m\u001b[0;36m100\u001b[0m\u001b[0;34m,\u001b[0m \u001b[0;36m2\u001b[0m\u001b[0;34m)\u001b[0m\u001b[0;34m\u001b[0m\u001b[0;34m\u001b[0m\u001b[0m\n\u001b[0m\u001b[1;32m     38\u001b[0m     \u001b[0mspecificity\u001b[0m \u001b[0;34m=\u001b[0m \u001b[0mround\u001b[0m\u001b[0;34m(\u001b[0m\u001b[0;34m(\u001b[0m\u001b[0mtn\u001b[0m\u001b[0;34m/\u001b[0m\u001b[0;34m(\u001b[0m\u001b[0mtn\u001b[0m\u001b[0;34m+\u001b[0m\u001b[0mfp\u001b[0m\u001b[0;34m)\u001b[0m\u001b[0;34m)\u001b[0m \u001b[0;34m*\u001b[0m\u001b[0;36m100\u001b[0m\u001b[0;34m,\u001b[0m \u001b[0;36m2\u001b[0m\u001b[0;34m)\u001b[0m\u001b[0;34m\u001b[0m\u001b[0;34m\u001b[0m\u001b[0m\n\u001b[1;32m     39\u001b[0m     \u001b[0mfdr\u001b[0m \u001b[0;34m=\u001b[0m \u001b[0mround\u001b[0m\u001b[0;34m(\u001b[0m\u001b[0;34m(\u001b[0m\u001b[0mfp\u001b[0m\u001b[0;34m/\u001b[0m\u001b[0;34m(\u001b[0m\u001b[0mfp\u001b[0m\u001b[0;34m+\u001b[0m\u001b[0mtp\u001b[0m\u001b[0;34m)\u001b[0m\u001b[0;34m)\u001b[0m \u001b[0;34m*\u001b[0m\u001b[0;36m100\u001b[0m\u001b[0;34m,\u001b[0m \u001b[0;36m2\u001b[0m\u001b[0;34m)\u001b[0m\u001b[0;34m\u001b[0m\u001b[0;34m\u001b[0m\u001b[0m\n",
      "\u001b[0;31mZeroDivisionError\u001b[0m: division by zero"
     ]
    }
   ],
   "source": [
    "combined_before = (df.loc[\n",
    "        (df[\"ae_before_with_hospital_discharge_positive_covid_test_2_weeks\"]==1) &\n",
    "        (\n",
    "            (df[\"ae_before_with_hospital_discharge_prim_care_suspected\"]==1) | \n",
    "            (df[\"ae_before_with_hospital_discharge_prim_care_probable\"]==1) |\n",
    "            (df[\"ae_before_with_hospital_discharge_covid\"]==1) | \n",
    "            (df[\"ae_before_with_hospital_discharge_resp\"]==1)   \n",
    "        )\n",
    ", \"patient_id\"])\n",
    "\n",
    "print(f'Number with A&E attendance with recent positive test and either suspected or probable covid in primary care or a covid or respiratory diagnosis code on attendance: {round_to_5(len(combined_before))} ({round((round_to_5(len(combined_before))/num_emergency_cov_admissions)*100, 2)}%)')\n",
    "\n",
    "tp_combined_before = round_to_5(len(df[\n",
    "    (\n",
    "        (\n",
    "            (df[\"covid_primary_care_before_ae\"]==1) |\n",
    "            (df[\"suspected_covid_primary_care_before_ae\"]==1) |\n",
    "            (df[\"ae_cov\"]==1) |\n",
    "            (df[\"ae_resp\"]==1)  \n",
    "        )&\n",
    "        (df[\"pos_test_2_weeks\"]==1)\n",
    "    )& \n",
    "    emergency_admission_filter_hosp_discharge\n",
    "]))\n",
    "\n",
    "fp_combined_before = round_to_5(len(df[\n",
    "    (\n",
    "        (\n",
    "            (df[\"covid_primary_care_before_ae\"]==1) |\n",
    "            (df[\"suspected_covid_primary_care_before_ae\"]==1) |\n",
    "            (df[\"ae_cov\"]==1) |\n",
    "            (df[\"ae_resp\"]==1)  \n",
    "        )&\n",
    "        (df[\"pos_test_2_weeks\"]==1)\n",
    "    )& \n",
    "    ~emergency_admission_filter_hosp_discharge\n",
    "]))\n",
    "\n",
    "tn_combined_before = round_to_5(len(df[\n",
    "    ~(\n",
    "        (\n",
    "            (df[\"covid_primary_care_before_ae\"]==1) |\n",
    "            (df[\"suspected_covid_primary_care_before_ae\"]==1) |\n",
    "            (df[\"ae_cov\"]==1) |\n",
    "            (df[\"ae_resp\"]==1)  \n",
    "        )&\n",
    "        (df[\"pos_test_2_weeks\"]==1)\n",
    "    )& \n",
    "    ~emergency_admission_filter_hosp_discharge\n",
    "]))\n",
    "\n",
    "fn_combined_before = round_to_5(len(df[\n",
    "    ~(\n",
    "        (\n",
    "            (df[\"covid_primary_care_before_ae\"]==1) |\n",
    "            (df[\"suspected_covid_primary_care_before_ae\"]==1) |\n",
    "            (df[\"ae_cov\"]==1) |\n",
    "            (df[\"ae_resp\"]==1)  \n",
    "        )&\n",
    "        (df[\"pos_test_2_weeks\"]==1)\n",
    "    )& \n",
    "    emergency_admission_filter_hosp_discharge\n",
    "]))\n",
    "\n",
    "\n",
    "pos_test_prim_care_or_diagnosis_code = performance_metrics(tp_combined_before, fp_combined_before, tn_combined_before, fn_combined_before)\n",
    "print(f'False positives (FDR): {fp_combined_before} ({pos_test_prim_care_or_diagnosis_code}%)')\n"
   ]
  },
  {
   "cell_type": "code",
   "execution_count": 23,
   "metadata": {},
   "outputs": [],
   "source": [
    "identification_table_index = [\"tp\", \"fp\", \"sensitivity\", \"specificity\", \"fdr\"]\n",
    "identification_table = pd.DataFrame({\n",
    "    \"discharge_destination\": pd.Series(discharge_destination,index=identification_table_index),\n",
    "    \"covid_diagnosis_code\": pd.Series(diagnosis_code_cov,index=identification_table_index),\n",
    "    \"resp_diagnosis_code\": pd.Series(diagnosis_code_resp,index=identification_table_index),\n",
    "    \"primary_care_suspected\": pd.Series(prim_care_suspected,index=identification_table_index),\n",
    "    \"primary_care_probable\": pd.Series(prim_care_probable,index=identification_table_index),\n",
    "    \"positive_test_2_weeks\": pd.Series(positive_test_2_weeks,index=identification_table_index),\n",
    "    \"positive_test_4_weeks\": pd.Series(positive_test_4_weeks,index=identification_table_index),\n",
    "    \"diagnosis_code_with_positive_test\": pd.Series(code_plus_test,index=identification_table_index),\n",
    "    \"primary_care_with_positive_test\": pd.Series(primary_care_plus_test,index=identification_table_index),\n",
    "    \"pos_test_prim_care_or_diagnosis\": pd.Series(pos_test_prim_care_or_diagnosis_code,index=identification_table_index)\n",
    "    \n",
    "})\n",
    "identification_table.to_csv(\"output/jun/identification_table_hosp_discharge_primary.csv\")"
   ]
  },
  {
   "cell_type": "code",
   "execution_count": 24,
   "metadata": {},
   "outputs": [
    {
     "data": {
      "image/png": "[encoded data removed]",
      "text/plain": [
       "<Figure size 504x504 with 2 Axes>"
      ]
     },
     "metadata": {
      "needs_background": "light"
     },
     "output_type": "display_data"
    }
   ],
   "source": [
    "produce_matrix(columns_list = [ae_cov_before, ae_resp_before, ae_prim_care_probable_before, ae_prim_care_suspected_before, ae_pos_test_before_2_weeks, ae_pos_test_before, ae_hos_resp_cov_plus_test_2_weeks, ae_hosp_prim_care_before_plus_2_week_test], names=[\"Covid diagnosis code\", \"Respiratory diagnosis code\", \"Probable covid code\", \"Suspected covid code\", \"Recent positive test (2 weeks)\", \"Recent positive test (4 weeks)\", \"Diagnosis codes (resp or cov) with recent positive test\", \"Covid in primary care with recent positive test\", \"Recent positive test and either covid in primary care or diagnosis code (resp or cov)\"], filename=\"cm_hosp_discharge_primary\")"
   ]
  }
 ],
 "metadata": {
  "kernelspec": {
   "display_name": "Python 3 (ipykernel)",
   "language": "python",
   "name": "python3"
  },
  "language_info": {
   "codemirror_mode": {
    "name": "ipython",
    "version": 3
   },
   "file_extension": ".py",
   "mimetype": "text/x-python",
   "name": "python",
   "nbconvert_exporter": "python",
   "pygments_lexer": "ipython3",
   "version": "3.9.6"
  }
 },
 "nbformat": 4,
 "nbformat_minor": 4
}
