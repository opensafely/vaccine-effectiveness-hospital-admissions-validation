{
 "cells": [
  {
   "cell_type": "code",
   "execution_count": 3,
   "metadata": {},
   "outputs": [],
   "source": [
    "import pandas as pd\n",
    "import os\n",
    "os.chdir('../')"
   ]
  },
  {
   "cell_type": "code",
   "execution_count": 4,
   "metadata": {},
   "outputs": [],
   "source": [
    "df = pd.read_csv('output/input.csv')"
   ]
  },
  {
   "cell_type": "code",
   "execution_count": 7,
   "metadata": {},
   "outputs": [
    {
     "name": "stdout",
     "output_type": "stream",
     "text": [
      "10000\n"
     ]
    }
   ],
   "source": [
    "num_patients=len(df[\"patient_id\"].unique())\n",
    "print(num_patients)"
   ]
  },
  {
   "cell_type": "code",
   "execution_count": 11,
   "metadata": {},
   "outputs": [
    {
     "name": "stdout",
     "output_type": "stream",
     "text": [
      "3000\n",
      "3000\n",
      "3000\n",
      "3000\n",
      "1084\n"
     ]
    }
   ],
   "source": [
    "num_patients_hospital_admission = len(df.loc[df[\"hospital_admission_any_cause\"]==1,\"patient_id\"])\n",
    "print(num_patients_hospital_admission)\n",
    "\n",
    "num_patients_emergency_hospital_admission = len(df.loc[df[\"emergency_hospital_admission_date\"].notnull(),\"patient_id\"])\n",
    "print(num_patients_emergency_hospital_admission)\n",
    "\n",
    "num_patients_emergency_covid_hospital_admission = len(df.loc[df[\"emergency_covid_hospital_admission_date\"].notnull(),\"patient_id\"])\n",
    "print(num_patients_emergency_covid_hospital_admission)\n",
    "\n",
    "num_patients_emergency_primary_covid_hospital_admission = len(df.loc[df[\"emergency_primary_covid_hospital_admission_date\"].notnull(),\"patient_id\"])\n",
    "print(num_patients_emergency_primary_covid_hospital_admission)\n",
    "\n",
    "num_ae_before = len(df.loc[\n",
    "    (df[\"emergency_primary_covid_hospital_admission_date\"].notnull()) &\n",
    "    (df[\"ae_attendance_before_emergency_covid_hospital_admission_any_cause_hosp_discharge\"]==1) &\n",
    "    (\n",
    "        (df[\"ae_attendance_before_emergency_covid_hospital_covid_status\"]==1) |\n",
    "        (\n",
    "            (df[\"ae_attendance_before_emergency_covid_hospital_respiratory_status\"]==1) &\n",
    "            (df[\"positive_covid_test_before_ae_attendance_before_emergency_covid_hospital\"]==1)\n",
    "        )\n",
    "    )\n",
    "    ,\"patient_id\"])\n",
    "\n",
    "print(num_ae_before)"
   ]
  },
  {
   "cell_type": "code",
   "execution_count": 12,
   "metadata": {},
   "outputs": [
    {
     "name": "stdout",
     "output_type": "stream",
     "text": [
      "4000\n",
      "4000\n",
      "4000\n",
      "9001\n",
      "9001\n",
      "5000\n",
      "1147\n"
     ]
    }
   ],
   "source": [
    "num_patients_ae = len(df.loc[df[\"ae_attendance_any_cause\"]==1,\"patient_id\"])\n",
    "print(num_patients_ae)\n",
    "\n",
    "num_patients_ae_with_discharge = len(df.loc[df[\"ae_attendance_any_cause_with_discharge\"]==1,\"patient_id\"])\n",
    "print(num_patients_ae_with_discharge)\n",
    "\n",
    "num_patients_ae_hosp_discharge = len(df.loc[df[\"ae_attendance_any_cause_hosp_discharge\"]==1,\"patient_id\"])\n",
    "print(num_patients_ae)\n",
    "\n",
    "num_patients_ae_covid = len(df.loc[df[\"ae_attendance_covid_status\"]==1,\"patient_id\"])\n",
    "print(num_patients_ae_covid)\n",
    "\n",
    "num_patients_ae_resp = len(df.loc[df[\"ae_attendance_respiratory_status\"]==1,\"patient_id\"])\n",
    "print(num_patients_ae_resp)\n",
    "\n",
    "num_patients_ae_covid_test = len(df.loc[df[\"positive_covid_test_before_ae_attendance\"]==1,\"patient_id\"])\n",
    "print(num_patients_ae_covid_test)\n",
    "\n",
    "num_admitted_after = len(df.loc[\n",
    "    (df[\"emergency_primary_covid_hospital_admission_after_ae\"]==1) &\n",
    "    (df[\"ae_attendance_any_cause_hosp_discharge\"]==1) &\n",
    "    (\n",
    "        (df[\"ae_attendance_covid_status\"]==1) |\n",
    "        ((df[\"ae_attendance_respiratory_status\"]==1) & (df[\"positive_covid_test_before_ae_attendance\"]==1))\n",
    "    )\n",
    "    ,\"patient_id\"])\n",
    "\n",
    "print(num_admitted_after)"
   ]
  }
 ],
 "metadata": {
  "kernelspec": {
   "display_name": "Python 3",
   "language": "python",
   "name": "python3"
  },
  "language_info": {
   "codemirror_mode": {
    "name": "ipython",
    "version": 3
   },
   "file_extension": ".py",
   "mimetype": "text/x-python",
   "name": "python",
   "nbconvert_exporter": "python",
   "pygments_lexer": "ipython3",
   "version": "3.8.10"
  }
 },
 "nbformat": 4,
 "nbformat_minor": 5
}
