{
 "cells": [
  {
   "cell_type": "code",
   "execution_count": 1,
   "metadata": {},
   "outputs": [],
   "source": [
    "import pandas as pd\n",
    "import os\n",
    "from venn import venn\n",
    "%matplotlib inline\n",
    "os.chdir('../')"
   ]
  },
  {
   "cell_type": "code",
   "execution_count": 2,
   "metadata": {},
   "outputs": [],
   "source": [
    "df = pd.read_csv('output/input_alternative.csv')"
   ]
  },
  {
   "cell_type": "code",
   "execution_count": 3,
   "metadata": {},
   "outputs": [
    {
     "name": "stdout",
     "output_type": "stream",
     "text": [
      "num patients: 10000\n"
     ]
    }
   ],
   "source": [
    "num_patients=len(df[\"patient_id\"].unique())\n",
    "print(\"num patients:\", num_patients)"
   ]
  },
  {
   "cell_type": "markdown",
   "metadata": {},
   "source": [
    "Hospitalisations"
   ]
  },
  {
   "cell_type": "code",
   "execution_count": 4,
   "metadata": {},
   "outputs": [],
   "source": [
    "\n",
    "num_patients_hospital_admission = len(df.loc[df[\"hospital_admission_any_cause\"]==1,\"patient_id\"])\n",
    "\n",
    "\n",
    "num_patients_emergency_hospital_admission = len(df.loc[df[\"emergency_hospital_admission_date\"].notnull(),\"patient_id\"])\n",
    "\n",
    "\n",
    "num_patients_emergency_covid_hospital_admission = len(df.loc[df[\"emergency_covid_hospital_admission_date\"].notnull(),\"patient_id\"])\n",
    "\n",
    "num_patients_emergency_primary_covid_hospital_admission = len(df.loc[df[\"emergency_primary_covid_hospital_admission_date\"].notnull(),\"patient_id\"])\n",
    "\n",
    "\n",
    "\n"
   ]
  },
  {
   "cell_type": "code",
   "execution_count": 5,
   "metadata": {},
   "outputs": [
    {
     "data": {
      "text/html": [
       "<div>\n",
       "<style scoped>\n",
       "    .dataframe tbody tr th:only-of-type {\n",
       "        vertical-align: middle;\n",
       "    }\n",
       "\n",
       "    .dataframe tbody tr th {\n",
       "        vertical-align: top;\n",
       "    }\n",
       "\n",
       "    .dataframe thead th {\n",
       "        text-align: right;\n",
       "    }\n",
       "</style>\n",
       "<table border=\"1\" class=\"dataframe\">\n",
       "  <thead>\n",
       "    <tr style=\"text-align: right;\">\n",
       "      <th></th>\n",
       "      <th>0</th>\n",
       "    </tr>\n",
       "  </thead>\n",
       "  <tbody>\n",
       "    <tr>\n",
       "      <th>hospital_admission</th>\n",
       "      <td>3000</td>\n",
       "    </tr>\n",
       "    <tr>\n",
       "      <th>emergency_hospital_admission</th>\n",
       "      <td>3000</td>\n",
       "    </tr>\n",
       "    <tr>\n",
       "      <th>emergency_admission_covid</th>\n",
       "      <td>3000</td>\n",
       "    </tr>\n",
       "    <tr>\n",
       "      <th>emergency_admission_primary_covid</th>\n",
       "      <td>3000</td>\n",
       "    </tr>\n",
       "  </tbody>\n",
       "</table>\n",
       "</div>"
      ],
      "text/plain": [
       "                                      0\n",
       "hospital_admission                 3000\n",
       "emergency_hospital_admission       3000\n",
       "emergency_admission_covid          3000\n",
       "emergency_admission_primary_covid  3000"
      ]
     },
     "execution_count": 5,
     "metadata": {},
     "output_type": "execute_result"
    }
   ],
   "source": [
    "hospitalisation_dict = {\n",
    "    \"hospital_admission\": num_patients_hospital_admission,\n",
    "    \"emergency_hospital_admission\": num_patients_emergency_hospital_admission,\n",
    "    \"emergency_admission_covid\": num_patients_emergency_covid_hospital_admission,\n",
    "    \"emergency_admission_primary_covid\": num_patients_emergency_primary_covid_hospital_admission,\n",
    "}\n",
    "\n",
    "pd.DataFrame.from_dict(hospitalisation_dict, orient='index')"
   ]
  },
  {
   "cell_type": "markdown",
   "metadata": {},
   "source": [
    "A&E before COVID emergency hospital admission:"
   ]
  },
  {
   "cell_type": "code",
   "execution_count": 6,
   "metadata": {},
   "outputs": [],
   "source": [
    "num_ae_before = len(df.loc[\n",
    "    (df[\"emergency_covid_hospital_admission_date\"].notnull()) &\n",
    "    (df[\"ae_attendance_before_emergency_covid_hospital_admission\"]==1)\n",
    "    ,\"patient_id\"])\n",
    "\n",
    "num_ae_with_discharge = len(df.loc[\n",
    "    (df[\"emergency_covid_hospital_admission_date\"].notnull()) &\n",
    "    (df[\"ae_attendance_before_emergency_covid_hospital_admission_any_cause_with_discharge\"]==1)\n",
    "    ,\"patient_id\"])\n",
    "\n",
    "num_ae_with_hospital_discharge = len(df.loc[\n",
    "    (df[\"emergency_covid_hospital_admission_date\"].notnull()) &\n",
    "    (df[\"ae_attendance_before_emergency_covid_hospital_admission_any_cause_hosp_discharge\"]==1)\n",
    "    ,\"patient_id\"])\n",
    "\n",
    "num_ae_with_hospital_discharge_covid = len(df.loc[\n",
    "    (df[\"emergency_covid_hospital_admission_date\"].notnull()) &\n",
    "    (df[\"ae_attendance_before_emergency_covid_hospital_admission_any_cause_hosp_discharge\"]==1) &\n",
    "    (df[\"ae_attendance_before_emergency_covid_hospital_covid_status\"]==1)\n",
    "    ,\"patient_id\"])\n",
    "\n",
    "num_ae_with_hospital_discharge_resp_plus_pos_test = len(df.loc[\n",
    "    (df[\"emergency_covid_hospital_admission_date\"].notnull()) &\n",
    "    (df[\"ae_attendance_before_emergency_covid_hospital_admission_any_cause_hosp_discharge\"]==1) &\n",
    "    ((df[\"ae_attendance_before_emergency_covid_hospital_respiratory_status\"]==1) & (df[\"positive_covid_test_before_ae_attendance_before_emergency_covid_hospital\"]==1))\n",
    "    ,\"patient_id\"])\n",
    "\n",
    "\n",
    "num_ae_classified = len(df.loc[\n",
    "    (df[\"emergency_primary_covid_hospital_admission_date\"].notnull()) &\n",
    "    (df[\"ae_attendance_before_prim_emergency_covid_hospital_admission_any_cause_hosp_discharge\"]==1) &\n",
    "    (\n",
    "        (df[\"ae_attendance_before_prim_emergency_covid_hospital_covid_status\"]==1) |\n",
    "        (\n",
    "            (df[\"ae_attendance_before_prim_emergency_covid_hospital_respiratory_status\"]==1) &\n",
    "            (df[\"positive_covid_test_before_ae_attendance_before_prim_emergency_covid_hospital\"]==1)\n",
    "        )\n",
    "    )\n",
    "    ,\"patient_id\"])\n"
   ]
  },
  {
   "cell_type": "code",
   "execution_count": 25,
   "metadata": {},
   "outputs": [],
   "source": [
    "# ae admission with criteria but no hospital admission or the hospital admission was before ae\n",
    "ae_admission_no_hospital = len(df.loc[\n",
    "    (\n",
    "       (df[\"emergency_primary_covid_hospital_admission_date\"].isnull()) &\n",
    "        \n",
    "        \n",
    "        \n",
    "        ~(\n",
    "            (df[\"ae_attendance_any_cause_hosp_discharge\"]==1) &\n",
    "            (\n",
    "                (df[\"ae_attendance_covid_status\"]==1) |\n",
    "                ((df[\"ae_attendance_respiratory_status\"]==1) & (df[\"positive_covid_test_before_ae_attendance\"]==1))\n",
    "            )\n",
    "       )\n",
    "        \n",
    "        \n",
    "    )\n",
    "    \n",
    "\n",
    "    \n",
    "    ,\"patient_id\"])\n",
    "ae_admission_no_hospital \n",
    "\n",
    "df[\"ae_admission_no_hospital\"] = df.loc[\n",
    "    (\n",
    "       (df[\"emergency_primary_covid_hospital_admission_date\"].isnull()) &\n",
    "        \n",
    "        \n",
    "        \n",
    "        ~(\n",
    "            (df[\"ae_attendance_any_cause_hosp_discharge\"]==1) &\n",
    "            (\n",
    "                (df[\"ae_attendance_covid_status\"]==1) |\n",
    "                ((df[\"ae_attendance_respiratory_status\"]==1) & (df[\"positive_covid_test_before_ae_attendance\"]==1))\n",
    "            )\n",
    "       )\n",
    "        \n",
    "        \n",
    "    )\n",
    "    \n",
    "    \n",
    "    \n",
    "    \n",
    "    ,\"patient_id\"]"
   ]
  },
  {
   "cell_type": "code",
   "execution_count": 26,
   "metadata": {},
   "outputs": [
    {
     "data": {
      "text/html": [
       "<div>\n",
       "<style scoped>\n",
       "    .dataframe tbody tr th:only-of-type {\n",
       "        vertical-align: middle;\n",
       "    }\n",
       "\n",
       "    .dataframe tbody tr th {\n",
       "        vertical-align: top;\n",
       "    }\n",
       "\n",
       "    .dataframe thead th {\n",
       "        text-align: right;\n",
       "    }\n",
       "</style>\n",
       "<table border=\"1\" class=\"dataframe\">\n",
       "  <thead>\n",
       "    <tr style=\"text-align: right;\">\n",
       "      <th></th>\n",
       "      <th>0</th>\n",
       "    </tr>\n",
       "  </thead>\n",
       "  <tbody>\n",
       "    <tr>\n",
       "      <th>ae before</th>\n",
       "      <td>1509</td>\n",
       "    </tr>\n",
       "    <tr>\n",
       "      <th>ae before with discharge</th>\n",
       "      <td>1189</td>\n",
       "    </tr>\n",
       "    <tr>\n",
       "      <th>ae before with hospital discharge</th>\n",
       "      <td>1178</td>\n",
       "    </tr>\n",
       "    <tr>\n",
       "      <th>ae with covid and hospital discharge</th>\n",
       "      <td>1057</td>\n",
       "    </tr>\n",
       "    <tr>\n",
       "      <th>ae with resp/test and hospital discharge</th>\n",
       "      <td>511</td>\n",
       "    </tr>\n",
       "    <tr>\n",
       "      <th>classified</th>\n",
       "      <td>1090</td>\n",
       "    </tr>\n",
       "  </tbody>\n",
       "</table>\n",
       "</div>"
      ],
      "text/plain": [
       "                                             0\n",
       "ae before                                 1509\n",
       "ae before with discharge                  1189\n",
       "ae before with hospital discharge         1178\n",
       "ae with covid and hospital discharge      1057\n",
       "ae with resp/test and hospital discharge   511\n",
       "classified                                1090"
      ]
     },
     "execution_count": 26,
     "metadata": {},
     "output_type": "execute_result"
    }
   ],
   "source": [
    "ae_before_hospitalisation_dict = {\n",
    "    \"ae before\": num_ae_before,\n",
    "    \"ae before with discharge\": num_ae_with_discharge,\n",
    "    \"ae before with hospital discharge\": num_ae_with_hospital_discharge,\n",
    "    \"ae with covid and hospital discharge\": num_ae_with_hospital_discharge_covid,\n",
    "    \"ae with resp/test and hospital discharge\": num_ae_with_hospital_discharge_resp_plus_pos_test,\n",
    "    \"classified\": num_ae_classified\n",
    "}\n",
    "\n",
    "pd.DataFrame.from_dict(ae_before_hospitalisation_dict, orient='index')"
   ]
  },
  {
   "cell_type": "code",
   "execution_count": null,
   "metadata": {},
   "outputs": [],
   "source": []
  },
  {
   "cell_type": "markdown",
   "metadata": {},
   "source": [
    "A&E before primary COVID emergency hospital admission:"
   ]
  },
  {
   "cell_type": "code",
   "execution_count": 27,
   "metadata": {},
   "outputs": [],
   "source": [
    "num_ae_before_prim = len(df.loc[\n",
    "    (df[\"emergency_primary_covid_hospital_admission_date\"].notnull()) &\n",
    "    (df[\"ae_attendance_before_prim_emergency_covid_hospital_admission\"]==1)\n",
    "    ,\"patient_id\"])\n",
    "\n",
    "num_ae_with_discharge_prim = len(df.loc[\n",
    "    (df[\"emergency_primary_covid_hospital_admission_date\"].notnull()) &\n",
    "    (df[\"ae_attendance_before_prim_emergency_covid_hospital_admission_any_cause_with_discharge\"]==1)\n",
    "    ,\"patient_id\"])\n",
    "\n",
    "num_ae_with_hospital_discharge_prim = len(df.loc[\n",
    "    (df[\"emergency_primary_covid_hospital_admission_date\"].notnull()) &\n",
    "    (df[\"ae_attendance_before_prim_emergency_covid_hospital_admission_any_cause_hosp_discharge\"]==1)\n",
    "    ,\"patient_id\"])\n",
    "\n",
    "num_ae_with_hospital_discharge_covid_prim = len(df.loc[\n",
    "    (df[\"emergency_primary_covid_hospital_admission_date\"].notnull()) &\n",
    "    (df[\"ae_attendance_before_prim_emergency_covid_hospital_admission_any_cause_hosp_discharge\"]==1) &\n",
    "    (df[\"ae_attendance_before_prim_emergency_covid_hospital_covid_status\"]==1)\n",
    "    ,\"patient_id\"])\n",
    "\n",
    "num_ae_with_hospital_discharge_resp_plus_pos_test_prim = len(df.loc[\n",
    "    (df[\"emergency_primary_covid_hospital_admission_date\"].notnull()) &\n",
    "    (df[\"ae_attendance_before_prim_emergency_covid_hospital_admission_any_cause_hosp_discharge\"]==1) &\n",
    "    ((df[\"ae_attendance_before_prim_emergency_covid_hospital_respiratory_status\"]==1) & (df[\"positive_covid_test_before_ae_attendance_before_prim_emergency_covid_hospital\"]==1))\n",
    "    ,\"patient_id\"])\n",
    "\n",
    "\n",
    "num_ae_classified_prim = len(df.loc[\n",
    "    (df[\"emergency_primary_covid_hospital_admission_date\"].notnull()) &\n",
    "    (df[\"ae_attendance_before_prim_emergency_covid_hospital_admission_any_cause_hosp_discharge\"]==1) &\n",
    "    (\n",
    "        (df[\"ae_attendance_before_prim_emergency_covid_hospital_covid_status\"]==1) |\n",
    "        (\n",
    "            (df[\"ae_attendance_before_prim_emergency_covid_hospital_respiratory_status\"]==1) &\n",
    "            (df[\"positive_covid_test_before_ae_attendance_before_prim_emergency_covid_hospital\"]==1)\n",
    "        )\n",
    "    )\n",
    "    ,\"patient_id\"])\n",
    "\n",
    "df[\"num_ae_classified_prim\"] = df.loc[\n",
    "    (df[\"emergency_primary_covid_hospital_admission_date\"].notnull()) &\n",
    "    (df[\"ae_attendance_before_prim_emergency_covid_hospital_admission_any_cause_hosp_discharge\"]==1) &\n",
    "    (\n",
    "        (df[\"ae_attendance_before_prim_emergency_covid_hospital_covid_status\"]==1) |\n",
    "        (\n",
    "            (df[\"ae_attendance_before_prim_emergency_covid_hospital_respiratory_status\"]==1) &\n",
    "            (df[\"positive_covid_test_before_ae_attendance_before_prim_emergency_covid_hospital\"]==1)\n",
    "        )\n",
    "    )\n",
    "    ,\"patient_id\"]"
   ]
  },
  {
   "cell_type": "code",
   "execution_count": 28,
   "metadata": {},
   "outputs": [
    {
     "data": {
      "text/html": [
       "<div>\n",
       "<style scoped>\n",
       "    .dataframe tbody tr th:only-of-type {\n",
       "        vertical-align: middle;\n",
       "    }\n",
       "\n",
       "    .dataframe tbody tr th {\n",
       "        vertical-align: top;\n",
       "    }\n",
       "\n",
       "    .dataframe thead th {\n",
       "        text-align: right;\n",
       "    }\n",
       "</style>\n",
       "<table border=\"1\" class=\"dataframe\">\n",
       "  <thead>\n",
       "    <tr style=\"text-align: right;\">\n",
       "      <th></th>\n",
       "      <th>0</th>\n",
       "    </tr>\n",
       "  </thead>\n",
       "  <tbody>\n",
       "    <tr>\n",
       "      <th>ae before</th>\n",
       "      <td>1498</td>\n",
       "    </tr>\n",
       "    <tr>\n",
       "      <th>ae before with discharge</th>\n",
       "      <td>1217</td>\n",
       "    </tr>\n",
       "    <tr>\n",
       "      <th>ae before with hospital discharge</th>\n",
       "      <td>1154</td>\n",
       "    </tr>\n",
       "    <tr>\n",
       "      <th>ae with covid and hospital discharge</th>\n",
       "      <td>1036</td>\n",
       "    </tr>\n",
       "    <tr>\n",
       "      <th>ae with resp/test and hospital discharge</th>\n",
       "      <td>509</td>\n",
       "    </tr>\n",
       "    <tr>\n",
       "      <th>classified</th>\n",
       "      <td>1090</td>\n",
       "    </tr>\n",
       "    <tr>\n",
       "      <th>ae no hospital</th>\n",
       "      <td>4408</td>\n",
       "    </tr>\n",
       "  </tbody>\n",
       "</table>\n",
       "</div>"
      ],
      "text/plain": [
       "                                             0\n",
       "ae before                                 1498\n",
       "ae before with discharge                  1217\n",
       "ae before with hospital discharge         1154\n",
       "ae with covid and hospital discharge      1036\n",
       "ae with resp/test and hospital discharge   509\n",
       "classified                                1090\n",
       "ae no hospital                            4408"
      ]
     },
     "execution_count": 28,
     "metadata": {},
     "output_type": "execute_result"
    }
   ],
   "source": [
    "ae_before_hospitalisation_prim_dict = {\n",
    "    \"ae before\": num_ae_before_prim,\n",
    "    \"ae before with discharge\": num_ae_with_discharge_prim,\n",
    "    \"ae before with hospital discharge\": num_ae_with_hospital_discharge_prim,\n",
    "    \"ae with covid and hospital discharge\": num_ae_with_hospital_discharge_covid_prim,\n",
    "    \"ae with resp/test and hospital discharge\": num_ae_with_hospital_discharge_resp_plus_pos_test_prim,\n",
    "    \"classified\": num_ae_classified_prim,\n",
    "    \"ae no hospital\" :ae_admission_no_hospital \n",
    "}\n",
    "\n",
    "pd.DataFrame.from_dict(ae_before_hospitalisation_prim_dict, orient='index')"
   ]
  },
  {
   "cell_type": "code",
   "execution_count": 29,
   "metadata": {},
   "outputs": [
    {
     "data": {
      "text/plain": [
       "<matplotlib.axes._subplots.AxesSubplot at 0x7fe6fe9ef2b0>"
      ]
     },
     "execution_count": 29,
     "metadata": {},
     "output_type": "execute_result"
    },
    {
     "data": {
      "image/png": "[encoded data removed]",
      "text/plain": [
       "<Figure size 576x576 with 1 Axes>"
      ]
     },
     "metadata": {},
     "output_type": "display_data"
    }
   ],
   "source": [
    "venn({ \"AE before\": set(df.loc[df[\"ae_admission_no_hospital\"].notnull() | df[\"num_ae_classified_prim\"].notnull(), \"patient_id\"]), \"Emergency primary COVID-19 hospital admission\": set(df.loc[df[\"emergency_primary_covid_hospital_admission_date\"].notnull(), \"patient_id\"])})"
   ]
  },
  {
   "cell_type": "markdown",
   "metadata": {},
   "source": [
    "A&E admissions"
   ]
  },
  {
   "cell_type": "code",
   "execution_count": 30,
   "metadata": {},
   "outputs": [],
   "source": [
    "num_patients_ae = len(df.loc[df[\"ae_attendance_any_cause\"]==1,\"patient_id\"])\n",
    "\n",
    "num_patients_ae_with_discharge = len(df.loc[df[\"ae_attendance_any_cause_with_discharge\"]==1,\"patient_id\"])\n",
    "\n",
    "\n",
    "num_patients_ae_hosp_discharge = len(df.loc[df[\"ae_attendance_any_cause_hosp_discharge\"]==1,\"patient_id\"])\n",
    "\n",
    "\n",
    "num_patients_ae_covid = len(df.loc[df[\"ae_attendance_covid_status\"]==1,\"patient_id\"])\n",
    "\n",
    "\n",
    "num_patients_ae_resp = len(df.loc[df[\"ae_attendance_respiratory_status\"]==1,\"patient_id\"])\n",
    "\n",
    "\n",
    "num_patients_ae_covid_test = len(df.loc[df[\"positive_covid_test_before_ae_attendance\"]==1,\"patient_id\"])\n",
    "\n",
    "num_patients_classified_at_ae = len(df.loc[\n",
    "    (df[\"ae_attendance_any_cause_hosp_discharge\"]==1) &\n",
    "    (\n",
    "        (df[\"ae_attendance_covid_status\"]==1) |\n",
    "        ((df[\"ae_attendance_respiratory_status\"]==1) & (df[\"positive_covid_test_before_ae_attendance\"]==1))\n",
    "    )\n",
    "    ,\"patient_id\"])\n",
    "\n",
    "df[\"classified_at_ae\"] = df.loc[\n",
    "    (df[\"ae_attendance_any_cause_hosp_discharge\"]==1) &\n",
    "    (\n",
    "        (df[\"ae_attendance_covid_status\"]==1) |\n",
    "        ((df[\"ae_attendance_respiratory_status\"]==1) & (df[\"positive_covid_test_before_ae_attendance\"]==1))\n",
    "    )\n",
    "    ,\"patient_id\"]\n",
    "\n",
    "num_admitted_after_primary = len(df.loc[\n",
    "    (df[\"emergency_primary_covid_hospital_admission_after_ae\"]==1) &\n",
    "    (df[\"ae_attendance_any_cause_hosp_discharge\"]==1) &\n",
    "    (\n",
    "        (df[\"ae_attendance_covid_status\"]==1) |\n",
    "        ((df[\"ae_attendance_respiratory_status\"]==1) & (df[\"positive_covid_test_before_ae_attendance\"]==1))\n",
    "    )\n",
    "    ,\"patient_id\"])\n",
    "\n",
    "df[\"admitted_after_primary\"] = df.loc[\n",
    "    (df[\"emergency_primary_covid_hospital_admission_after_ae\"]==1) &\n",
    "    (df[\"ae_attendance_any_cause_hosp_discharge\"]==1) &\n",
    "    (\n",
    "        (df[\"ae_attendance_covid_status\"]==1) |\n",
    "        ((df[\"ae_attendance_respiratory_status\"]==1) & (df[\"positive_covid_test_before_ae_attendance\"]==1))\n",
    "    )\n",
    "    ,\"patient_id\"]\n",
    "\n",
    "num_admitted_after = len(df.loc[\n",
    "    (df[\"emergency_covid_hospital_admission_after_ae\"]==1) &\n",
    "    (df[\"ae_attendance_any_cause_hosp_discharge\"]==1) &\n",
    "    (\n",
    "        (df[\"ae_attendance_covid_status\"]==1) |\n",
    "        ((df[\"ae_attendance_respiratory_status\"]==1) & (df[\"positive_covid_test_before_ae_attendance\"]==1))\n",
    "    )\n",
    "    ,\"patient_id\"])\n",
    "\n",
    "df[\"num_admitted_after\"] = df.loc[\n",
    "    (df[\"emergency_covid_hospital_admission_after_ae\"]==1) &\n",
    "    (df[\"ae_attendance_any_cause_hosp_discharge\"]==1) &\n",
    "    (\n",
    "        (df[\"ae_attendance_covid_status\"]==1) |\n",
    "        ((df[\"ae_attendance_respiratory_status\"]==1) & (df[\"positive_covid_test_before_ae_attendance\"]==1))\n",
    "    )\n",
    "    ,\"patient_id\"]\n"
   ]
  },
  {
   "cell_type": "code",
   "execution_count": 31,
   "metadata": {},
   "outputs": [],
   "source": [
    "df[\"emergency_primary_covid_hospital_admission_date\"] = pd.to_datetime(df[\"emergency_primary_covid_hospital_admission_date\"])\n",
    "df[\"ae_attendance_any_cause_date\"] = pd.to_datetime(df[\"ae_attendance_any_cause_date\"])\n",
    "    "
   ]
  },
  {
   "cell_type": "code",
   "execution_count": 32,
   "metadata": {},
   "outputs": [],
   "source": [
    "# hospital admission but no a&E satisfying or satisyfing ae but it was not before hospital\n",
    "df[\"hospital_admission_no_ae\"] = df.loc[\n",
    "    \n",
    "    (\n",
    "        (df[\"emergency_primary_covid_hospital_admission_date\"].notnull()) & (df[\"ae_attendance_any_cause_date\"].isnull())\n",
    "    )\n",
    "    |\n",
    "    (\n",
    "         ~((df[\"ae_attendance_any_cause_hosp_discharge\"]==1) &\n",
    "            (\n",
    "                (df[\"ae_attendance_covid_status\"]==1) |\n",
    "                ((df[\"ae_attendance_respiratory_status\"]==1) & (df[\"positive_covid_test_before_ae_attendance\"]==1))\n",
    "            )\n",
    "        )\n",
    "        & \n",
    "        \n",
    "        (df[\"emergency_primary_covid_hospital_admission_date\"].notnull()) \n",
    "        \n",
    "        \n",
    "       \n",
    "    )\n",
    "  \n",
    "    \n",
    "    \n",
    "    ,\"patient_id\"]\n",
    "\n",
    "hospital_admission_no_ae = len(df.loc[\n",
    "   \n",
    "    (\n",
    "        (df[\"emergency_primary_covid_hospital_admission_date\"].notnull()) &\n",
    "        \n",
    "        \n",
    "        ~((df[\"ae_attendance_any_cause_hosp_discharge\"]==1) &\n",
    "            (\n",
    "                (df[\"ae_attendance_covid_status\"]==1) |\n",
    "                ((df[\"ae_attendance_respiratory_status\"]==1) & (df[\"positive_covid_test_before_ae_attendance\"]==1))\n",
    "            )\n",
    "        )\n",
    "    )\n",
    "   \n",
    "    \n",
    "    \n",
    "    ,\"patient_id\"]\n",
    ")\n"
   ]
  },
  {
   "cell_type": "code",
   "execution_count": 33,
   "metadata": {},
   "outputs": [
    {
     "data": {
      "text/html": [
       "<div>\n",
       "<style scoped>\n",
       "    .dataframe tbody tr th:only-of-type {\n",
       "        vertical-align: middle;\n",
       "    }\n",
       "\n",
       "    .dataframe tbody tr th {\n",
       "        vertical-align: top;\n",
       "    }\n",
       "\n",
       "    .dataframe thead th {\n",
       "        text-align: right;\n",
       "    }\n",
       "</style>\n",
       "<table border=\"1\" class=\"dataframe\">\n",
       "  <thead>\n",
       "    <tr style=\"text-align: right;\">\n",
       "      <th></th>\n",
       "      <th>0</th>\n",
       "    </tr>\n",
       "  </thead>\n",
       "  <tbody>\n",
       "    <tr>\n",
       "      <th>ae</th>\n",
       "      <td>4000</td>\n",
       "    </tr>\n",
       "    <tr>\n",
       "      <th>ae with discharge</th>\n",
       "      <td>4000</td>\n",
       "    </tr>\n",
       "    <tr>\n",
       "      <th>ae with hospital discharge</th>\n",
       "      <td>4000</td>\n",
       "    </tr>\n",
       "    <tr>\n",
       "      <th>ae with covid</th>\n",
       "      <td>9001</td>\n",
       "    </tr>\n",
       "    <tr>\n",
       "      <th>ae with resp</th>\n",
       "      <td>9001</td>\n",
       "    </tr>\n",
       "    <tr>\n",
       "      <th>covid test +ve</th>\n",
       "      <td>5000</td>\n",
       "    </tr>\n",
       "  </tbody>\n",
       "</table>\n",
       "</div>"
      ],
      "text/plain": [
       "                               0\n",
       "ae                          4000\n",
       "ae with discharge           4000\n",
       "ae with hospital discharge  4000\n",
       "ae with covid               9001\n",
       "ae with resp                9001\n",
       "covid test +ve              5000"
      ]
     },
     "execution_count": 33,
     "metadata": {},
     "output_type": "execute_result"
    }
   ],
   "source": [
    "ae_dict = {\n",
    "    \"ae\": num_patients_ae,\n",
    "    \"ae with discharge\": num_patients_ae_with_discharge,\n",
    "    \"ae with hospital discharge\": num_patients_ae_hosp_discharge,\n",
    "    \"ae with covid\": num_patients_ae_covid,\n",
    "    \"ae with resp\": num_patients_ae_resp,\n",
    "    \"covid test +ve\": num_patients_ae_covid_test\n",
    "}\n",
    "\n",
    "pd.DataFrame.from_dict(ae_dict, orient='index')"
   ]
  },
  {
   "cell_type": "markdown",
   "metadata": {},
   "source": [
    "Hospitalisation after A&E"
   ]
  },
  {
   "cell_type": "code",
   "execution_count": 34,
   "metadata": {},
   "outputs": [
    {
     "data": {
      "text/html": [
       "<div>\n",
       "<style scoped>\n",
       "    .dataframe tbody tr th:only-of-type {\n",
       "        vertical-align: middle;\n",
       "    }\n",
       "\n",
       "    .dataframe tbody tr th {\n",
       "        vertical-align: top;\n",
       "    }\n",
       "\n",
       "    .dataframe thead th {\n",
       "        text-align: right;\n",
       "    }\n",
       "</style>\n",
       "<table border=\"1\" class=\"dataframe\">\n",
       "  <thead>\n",
       "    <tr style=\"text-align: right;\">\n",
       "      <th></th>\n",
       "      <th>0</th>\n",
       "    </tr>\n",
       "  </thead>\n",
       "  <tbody>\n",
       "    <tr>\n",
       "      <th>num classified at ae</th>\n",
       "      <td>3766</td>\n",
       "    </tr>\n",
       "    <tr>\n",
       "      <th>hospital after ae</th>\n",
       "      <td>1118</td>\n",
       "    </tr>\n",
       "    <tr>\n",
       "      <th>primary hospital after ae</th>\n",
       "      <td>1119</td>\n",
       "    </tr>\n",
       "    <tr>\n",
       "      <th>hospital admission no ae</th>\n",
       "      <td>1826</td>\n",
       "    </tr>\n",
       "  </tbody>\n",
       "</table>\n",
       "</div>"
      ],
      "text/plain": [
       "                              0\n",
       "num classified at ae       3766\n",
       "hospital after ae          1118\n",
       "primary hospital after ae  1119\n",
       "hospital admission no ae   1826"
      ]
     },
     "execution_count": 34,
     "metadata": {},
     "output_type": "execute_result"
    }
   ],
   "source": [
    "hospital_after_ae_dict = {\n",
    "    \"num classified at ae\": num_patients_classified_at_ae,\n",
    "    \"hospital after ae\": num_admitted_after,\n",
    "    \"primary hospital after ae\": num_admitted_after_primary,\n",
    "    \"hospital admission no ae\": hospital_admission_no_ae\n",
    "}\n",
    "\n",
    "pd.DataFrame.from_dict(hospital_after_ae_dict, orient='index')"
   ]
  },
  {
   "cell_type": "code",
   "execution_count": null,
   "metadata": {},
   "outputs": [],
   "source": []
  },
  {
   "cell_type": "code",
   "execution_count": 35,
   "metadata": {},
   "outputs": [
    {
     "data": {
      "text/plain": [
       "<matplotlib.axes._subplots.AxesSubplot at 0x7fe6fef44790>"
      ]
     },
     "execution_count": 35,
     "metadata": {},
     "output_type": "execute_result"
    },
    {
     "data": {
      "image/png": "[encoded data removed]",
      "text/plain": [
       "<Figure size 576x576 with 1 Axes>"
      ]
     },
     "metadata": {},
     "output_type": "display_data"
    }
   ],
   "source": [
    "venn({\"A&E attendance with filters\": set(df.loc[df[\"classified_at_ae\"].notnull(), \"patient_id\"]), \"Emergency primary COVID-19 hospital admission\": set(df.loc[df[\"hospital_admission_no_ae\"].notnull() | df[\"admitted_after_primary\"].notnull(), \"patient_id\"])})"
   ]
  },
  {
   "cell_type": "code",
   "execution_count": null,
   "metadata": {},
   "outputs": [],
   "source": []
  },
  {
   "cell_type": "code",
   "execution_count": null,
   "metadata": {},
   "outputs": [],
   "source": []
  }
 ],
 "metadata": {
  "kernelspec": {
   "display_name": "Python 3",
   "language": "python",
   "name": "python3"
  },
  "language_info": {
   "codemirror_mode": {
    "name": "ipython",
    "version": 3
   },
   "file_extension": ".py",
   "mimetype": "text/x-python",
   "name": "python",
   "nbconvert_exporter": "python",
   "pygments_lexer": "ipython3",
   "version": "3.8.10"
  }
 },
 "nbformat": 4,
 "nbformat_minor": 4
}
