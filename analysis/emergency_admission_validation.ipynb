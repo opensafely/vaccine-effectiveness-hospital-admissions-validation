{
 "cells": [
  {
   "cell_type": "markdown",
   "id": "historic-western",
   "metadata": {},
   "source": [
    "## ECDS emergency care admission vs SUS hospital admission validation\n",
    "\n",
    "There is a delay between patients being admitted to hospital with COVID-19 and this data being made available.  SUS-APCS data is the 'gold standard' for COVID-19 hospital admission but is only created once the patient is discharged (home, elswehere or died).  Data for ongoing hospital spells at the time of the SUS extract is therefore not available, creating an ascertainment bias against longer spells and more recent spells. \n",
    "\n",
    "This means we cannot rapidly evaluate vaccine effectiveness with respect to reducing hospital admission.\n",
    "\n",
    "As a large proportion of hospital admission comes through A&E attendance, emergency admission data through ECDS may provide a good enough picture of hospital admission.  Below is a validation of this.\n",
    "\n",
    "### Methods\n",
    "\n",
    "* Patients hospitalised due to COVID-19 are first identified using SUS.\n",
    "* Patients admitted to emergency care due to COVID-19 are identified using the criteria below:\n",
    "    * All patients admitted to A&E AND then discharged to hospital or ICU are selected.\n",
    "    * In these patients, those admitted due to COVID-19 are filtered to include those that\n",
    "        * Are admitted with positive COVID-19 code OR\n",
    "        * Have had positive COVID-19 test in the 2 weeks prior to admission OR\n",
    "        * Have been recorded as COVID-19 positive in primary care 2 weeks prior to admission (primary care positive test, primary care covid code, primary care covid sequalae). \n",
    "* Ability of ECDS data to identify those admitted to hospital due to COVID-19 vs SUS data is assessed.\n"
   ]
  },
  {
   "cell_type": "code",
   "execution_count": 46,
   "id": "mobile-corps",
   "metadata": {},
   "outputs": [],
   "source": [
    "import pandas as pd\n",
    "import numpy as np\n",
    "import seaborn as sns\n",
    "from matplotlib.colors import ListedColormap\n",
    "\n",
    "\n",
    "%matplotlib inline\n",
    "\n",
    "pd.options.display.float_format = '{:.0f}'.format"
   ]
  },
  {
   "cell_type": "code",
   "execution_count": 40,
   "id": "gorgeous-mozambique",
   "metadata": {},
   "outputs": [],
   "source": [
    "df = pd.read_csv('../output/input.csv')\n",
    "ae_discharge_dict = {\"discharged_to_ward\": 306706006, \"discharged_to_icu\": 1066391000000105}\n",
    "ae_discharge_list = [value for (key, value) in ae_discharge_dict.items()]\n",
    "\n",
    "\n",
    "positive_covid_patients_sus = df[df['primary_covid_hospital_admission'].notna()]\n",
    "negative_covid_patients_sus = df[~df['primary_covid_hospital_admission'].notna()]\n",
    "\n",
    "positive_covid_patients_ecds = df[(df['ae_attendance']==1) & ((df['ae_attendance_covid_status']==1) | (df['positive_covid_test_before_ae_attendance'] ==1) | (df['covid_primary_care_before_ae_attendance'] ==1))]\n",
    "negative_covid_patients_ecds = df[~(df['ae_attendance']==1)  & ((df['ae_attendance_covid_status']==1) | (df['positive_covid_test_before_ae_attendance'] ==1) | (df['covid_primary_care_before_ae_attendance'] ==1))]\n",
    "\n",
    "\n",
    "sus_patients_positive = list(positive_covid_patients_sus['patient_id'])\n",
    "ecds_patients_positive = list(positive_covid_patients_ecds['patient_id'])\n",
    "sus_patients_negative = list(negative_covid_patients_sus['patient_id'])\n",
    "ecds_patients_negative = list(negative_covid_patients_ecds['patient_id'])"
   ]
  },
  {
   "cell_type": "code",
   "execution_count": 50,
   "id": "wireless-benchmark",
   "metadata": {},
   "outputs": [
    {
     "data": {
      "text/html": [
       "<div>\n",
       "<style scoped>\n",
       "    .dataframe tbody tr th:only-of-type {\n",
       "        vertical-align: middle;\n",
       "    }\n",
       "\n",
       "    .dataframe tbody tr th {\n",
       "        vertical-align: top;\n",
       "    }\n",
       "\n",
       "    .dataframe thead th {\n",
       "        text-align: right;\n",
       "    }\n",
       "</style>\n",
       "<table border=\"1\" class=\"dataframe\">\n",
       "  <thead>\n",
       "    <tr style=\"text-align: right;\">\n",
       "      <th></th>\n",
       "      <th>SUS-positive</th>\n",
       "      <th>SUS-negative</th>\n",
       "    </tr>\n",
       "  </thead>\n",
       "  <tbody>\n",
       "    <tr>\n",
       "      <th>ECDS-positive</th>\n",
       "      <td>1153</td>\n",
       "      <td>2744</td>\n",
       "    </tr>\n",
       "    <tr>\n",
       "      <th>ECDS-negative</th>\n",
       "      <td>1778</td>\n",
       "      <td>4107</td>\n",
       "    </tr>\n",
       "  </tbody>\n",
       "</table>\n",
       "</div>"
      ],
      "text/plain": [
       "               SUS-positive  SUS-negative\n",
       "ECDS-positive          1153          2744\n",
       "ECDS-negative          1778          4107"
      ]
     },
     "execution_count": 50,
     "metadata": {},
     "output_type": "execute_result"
    }
   ],
   "source": [
    "sus_pos_ecds_pos = len(list(set(sus_patients_positive) & set(ecds_patients_positive)))\n",
    "sus_pos_ecds_neg = len(list(set(sus_patients_positive) & set(ecds_patients_negative)))\n",
    "sus_neg_ecds_pos = len(list(set(sus_patients_negative) & set(ecds_patients_positive)))\n",
    "sus_neg_ecds_neg = len(list(set(sus_patients_negative) & set(ecds_patients_negative)))\n",
    "\n",
    "pd.DataFrame([[sus_pos_ecds_pos, sus_neg_ecds_pos], [sus_pos_ecds_neg, sus_neg_ecds_neg]], columns=[\"SUS-positive\", \"SUS-negative\"], index=[\"ECDS-positive\", \"ECDS-negative\"])\n"
   ]
  },
  {
   "cell_type": "code",
   "execution_count": 41,
   "id": "arctic-energy",
   "metadata": {},
   "outputs": [
    {
     "name": "stdout",
     "output_type": "stream",
     "text": [
      "Sensitivity: 0.38433333333333336\n",
      "Specificity : 0.5867142857142857\n"
     ]
    }
   ],
   "source": [
    "#sensitivity - number of sus identified by ecds\n",
    "#specificity - number of those not in sus who are not in ecds\n",
    "\n",
    "sensitivity = len(list(set(sus_patients_positive).intersection(ecds_patients_positive)))/len(sus_patients_positive)\n",
    "print(f\"Sensitivity: {sensitivity}\")\n",
    "\n",
    "specificity = len(list(set(sus_patients_negative).intersection(ecds_patients_negative)))/len(sus_patients_negative)\n",
    "print(f\"Specificity : {specificity}\")\n"
   ]
  },
  {
   "cell_type": "code",
   "execution_count": 42,
   "id": "advisory-checklist",
   "metadata": {},
   "outputs": [
    {
     "data": {
      "text/plain": [
       "{'ae_attendance_covid_status': 0.9245446660884649,\n",
       " 'positive_covid_test_before_ae_attendance': 0.5125758889852559,\n",
       " 'covid_primary_care_before_ae_attendance': 0.49176062445793584}"
      ]
     },
     "execution_count": 42,
     "metadata": {},
     "output_type": "execute_result"
    }
   ],
   "source": [
    "correct_patient_ids = list(set(sus_patients_positive) & set(ecds_patients_positive))\n",
    "correct_patients = positive_covid_patients_ecds[positive_covid_patients_ecds['patient_id'].isin(correct_patient_ids)]\n",
    "selected_variables = [\"ae_attendance_covid_status\", \"positive_covid_test_before_ae_attendance\", \"positive_covid_test_before_ae_attendance\", \"covid_primary_care_before_ae_attendance\"]\n",
    "\n",
    "vars_dict = {}\n",
    "\n",
    "for var in selected_variables:\n",
    "    nums = correct_patients[correct_patients[var] ==1][var].count()\n",
    "    total = correct_patients.shape[0]\n",
    "    vars_dict[var] = nums/total\n",
    "\n",
    "vars_dict"
   ]
  },
  {
   "cell_type": "code",
   "execution_count": null,
   "id": "abroad-convention",
   "metadata": {},
   "outputs": [],
   "source": []
  }
 ],
 "metadata": {
  "kernelspec": {
   "display_name": "Python 3",
   "language": "python",
   "name": "python3"
  },
  "language_info": {
   "codemirror_mode": {
    "name": "ipython",
    "version": 3
   },
   "file_extension": ".py",
   "mimetype": "text/x-python",
   "name": "python",
   "nbconvert_exporter": "python",
   "pygments_lexer": "ipython3",
   "version": "3.9.1"
  }
 },
 "nbformat": 4,
 "nbformat_minor": 5
}
