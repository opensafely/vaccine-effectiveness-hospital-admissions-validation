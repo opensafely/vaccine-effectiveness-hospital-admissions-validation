{
 "cells": [
  {
   "cell_type": "markdown",
   "id": "historic-western",
   "metadata": {},
   "source": [
    "## ECDS emergency care admission vs SUS hospital admission validation\n",
    "\n",
    "There is a delay between patients being admitted to hospital with COVID-19 and this data being made available.  SUS-APCS data is the 'gold standard' for COVID-19 hospital admission but is only created once the patient is discharged (home, elswehere or died).  Data for ongoing hospital spells at the time of the SUS extract is therefore not available, creating an ascertainment bias against longer spells and more recent spells. \n",
    "\n",
    "This means we cannot rapidly evaluate vaccine effectiveness with respect to reducing hospital admission.\n",
    "\n",
    "As a large proportion of hospital admission comes through A&E attendance, emergency admission data through ECDS may provide a good enough picture of hospital admission.  Below is a validation of this.\n",
    "\n",
    "### Methods\n",
    "\n",
    "* Patients hospitalised due to COVID-19 are first identified using SUS.\n",
    "* Patients admitted to emergency care due to COVID-19 are identified using the criteria below:\n",
    "    * All patients admitted to A&E AND then discharged to hospital or ICU are selected.\n",
    "    * In these patients, those admitted due to COVID-19 are filtered to include those that\n",
    "        * Are admitted with positive COVID-19 code OR\n",
    "        * Have had positive COVID-19 test in the 2 weeks prior to admission OR\n",
    "        * Have been recorded as COVID-19 positive in primary care 2 weeks prior to admission (primary care positive test, primary care covid code, primary care covid sequalae). \n",
    "* Ability of ECDS data to identify those admitted to hospital due to COVID-19 vs SUS data is assessed.\n"
   ]
  },
  {
   "cell_type": "code",
   "execution_count": 1,
   "id": "mobile-corps",
   "metadata": {},
   "outputs": [],
   "source": [
    "import pandas as pd\n",
    "import numpy as np\n",
    "import seaborn as sns\n",
    "from matplotlib.colors import ListedColormap\n",
    "\n",
    "\n",
    "%matplotlib inline\n",
    "\n",
    "pd.options.display.float_format = '{:.0f}'.format"
   ]
  },
  {
   "cell_type": "code",
   "execution_count": 2,
   "id": "gorgeous-mozambique",
   "metadata": {},
   "outputs": [],
   "source": [
    "df = pd.read_csv('../output/input.csv')\n",
    "\n",
    "\n",
    "positive_covid_patients_sus = df[df['primary_covid_hospital_admission'].notna()]\n",
    "negative_covid_patients_sus = df[~df['primary_covid_hospital_admission'].notna()]\n",
    "\n",
    "positive_covid_patients_ecds = df[(df['ae_attendance']==1) & ((df['ae_attendance_covid_status']==1) | (df['positive_covid_test_before_ae_attendance'] ==1) | (df['covid_primary_care_before_ae_attendance'] ==1))]\n",
    "negative_covid_patients_ecds = df[(df['ae_attendance']==0) | ((df['ae_attendance']==1) & ((df['ae_attendance_covid_status']==0) & (df['positive_covid_test_before_ae_attendance'] ==0) & (df['covid_primary_care_before_ae_attendance'] ==0)))]\n",
    "\n",
    "\n",
    "sus_patients_positive = set(list(positive_covid_patients_sus['patient_id']))\n",
    "ecds_patients_positive = set(list(positive_covid_patients_ecds['patient_id']))\n",
    "sus_patients_negative = set(list(negative_covid_patients_sus['patient_id']))\n",
    "ecds_patients_negative = set(list(negative_covid_patients_ecds['patient_id']))"
   ]
  },
  {
   "cell_type": "code",
   "execution_count": 3,
   "id": "forced-haven",
   "metadata": {},
   "outputs": [
    {
     "name": "stdout",
     "output_type": "stream",
     "text": [
      "+ covid hospitalisations SUS: 3000\n",
      "- covid hospitalisations SUS: 7000\n"
     ]
    }
   ],
   "source": [
    "print(f'+ covid hospitalisations SUS: {len(sus_patients_positive)}')\n",
    "print(f'- covid hospitalisations SUS: {len(sus_patients_negative)}')"
   ]
  },
  {
   "cell_type": "code",
   "execution_count": 4,
   "id": "wireless-benchmark",
   "metadata": {},
   "outputs": [
    {
     "data": {
      "text/html": [
       "<div>\n",
       "<style scoped>\n",
       "    .dataframe tbody tr th:only-of-type {\n",
       "        vertical-align: middle;\n",
       "    }\n",
       "\n",
       "    .dataframe tbody tr th {\n",
       "        vertical-align: top;\n",
       "    }\n",
       "\n",
       "    .dataframe thead th {\n",
       "        text-align: right;\n",
       "    }\n",
       "</style>\n",
       "<table border=\"1\" class=\"dataframe\">\n",
       "  <thead>\n",
       "    <tr style=\"text-align: right;\">\n",
       "      <th></th>\n",
       "      <th>SUS-positive</th>\n",
       "      <th>SUS-negative</th>\n",
       "      <th>Total</th>\n",
       "    </tr>\n",
       "  </thead>\n",
       "  <tbody>\n",
       "    <tr>\n",
       "      <th>ECDS-positive</th>\n",
       "      <td>1172</td>\n",
       "      <td>2738</td>\n",
       "      <td>3910</td>\n",
       "    </tr>\n",
       "    <tr>\n",
       "      <th>ECDS-negative</th>\n",
       "      <td>1828</td>\n",
       "      <td>4262</td>\n",
       "      <td>6090</td>\n",
       "    </tr>\n",
       "    <tr>\n",
       "      <th>Total</th>\n",
       "      <td>3000</td>\n",
       "      <td>7000</td>\n",
       "      <td>10000</td>\n",
       "    </tr>\n",
       "  </tbody>\n",
       "</table>\n",
       "</div>"
      ],
      "text/plain": [
       "               SUS-positive  SUS-negative  Total\n",
       "ECDS-positive          1172          2738   3910\n",
       "ECDS-negative          1828          4262   6090\n",
       "Total                  3000          7000  10000"
      ]
     },
     "execution_count": 4,
     "metadata": {},
     "output_type": "execute_result"
    }
   ],
   "source": [
    "sus_pos_ecds_pos = len(list(set(sus_patients_positive) & set(ecds_patients_positive)))\n",
    "sus_pos_ecds_neg = len(list(set(sus_patients_positive) & set(ecds_patients_negative)))\n",
    "sus_neg_ecds_pos = len(list(set(sus_patients_negative) & set(ecds_patients_positive)))\n",
    "sus_neg_ecds_neg = len(list(set(sus_patients_negative) & set(ecds_patients_negative)))\n",
    "\n",
    "pd.DataFrame([[sus_pos_ecds_pos, sus_neg_ecds_pos, (sus_pos_ecds_pos + sus_neg_ecds_pos)], [sus_pos_ecds_neg, sus_neg_ecds_neg, (sus_pos_ecds_neg + sus_neg_ecds_neg)], [(sus_pos_ecds_pos+sus_pos_ecds_neg), (sus_neg_ecds_pos+sus_neg_ecds_neg), (sus_pos_ecds_pos + sus_pos_ecds_neg + sus_neg_ecds_pos + sus_neg_ecds_neg)]], columns=[\"SUS-positive\", \"SUS-negative\", \"Total\"], index=[\"ECDS-positive\", \"ECDS-negative\", \"Total\"])\n"
   ]
  },
  {
   "cell_type": "code",
   "execution_count": 5,
   "id": "arctic-energy",
   "metadata": {},
   "outputs": [
    {
     "name": "stdout",
     "output_type": "stream",
     "text": [
      "Sensitivity: 39.07%\n",
      "Specificity : 60.89%\n"
     ]
    }
   ],
   "source": [
    "#sensitivity - number of sus identified by ecds\n",
    "#specificity - number of those not in sus who are not in ecds\n",
    "\n",
    "sensitivity = (sus_pos_ecds_pos/(sus_pos_ecds_pos + sus_pos_ecds_neg))*100\n",
    "print(f\"Sensitivity: {sensitivity:.2f}%\")\n",
    "\n",
    "specificity = (sus_neg_ecds_neg/(sus_neg_ecds_pos + sus_neg_ecds_neg))*100\n",
    "print(f\"Specificity : {specificity:.2f}%\")\n"
   ]
  },
  {
   "cell_type": "markdown",
   "id": "primary-button",
   "metadata": {},
   "source": [
    "## Variable Breakdown \n",
    "\n",
    "### AE Attendance\n"
   ]
  },
  {
   "cell_type": "code",
   "execution_count": 6,
   "id": "external-prophet",
   "metadata": {},
   "outputs": [
    {
     "data": {
      "text/html": [
       "<div>\n",
       "<style scoped>\n",
       "    .dataframe tbody tr th:only-of-type {\n",
       "        vertical-align: middle;\n",
       "    }\n",
       "\n",
       "    .dataframe tbody tr th {\n",
       "        vertical-align: top;\n",
       "    }\n",
       "\n",
       "    .dataframe thead th {\n",
       "        text-align: right;\n",
       "    }\n",
       "</style>\n",
       "<table border=\"1\" class=\"dataframe\">\n",
       "  <thead>\n",
       "    <tr style=\"text-align: right;\">\n",
       "      <th></th>\n",
       "      <th>SUS-positive</th>\n",
       "      <th>SUS-negative</th>\n",
       "      <th>Total</th>\n",
       "    </tr>\n",
       "  </thead>\n",
       "  <tbody>\n",
       "    <tr>\n",
       "      <th>AE attendance +</th>\n",
       "      <td>1191</td>\n",
       "      <td>2809</td>\n",
       "      <td>4000</td>\n",
       "    </tr>\n",
       "    <tr>\n",
       "      <th>AE attendance -</th>\n",
       "      <td>1809</td>\n",
       "      <td>4191</td>\n",
       "      <td>6000</td>\n",
       "    </tr>\n",
       "    <tr>\n",
       "      <th>Total</th>\n",
       "      <td>3000</td>\n",
       "      <td>7000</td>\n",
       "      <td>10000</td>\n",
       "    </tr>\n",
       "  </tbody>\n",
       "</table>\n",
       "</div>"
      ],
      "text/plain": [
       "                 SUS-positive  SUS-negative  Total\n",
       "AE attendance +          1191          2809   4000\n",
       "AE attendance -          1809          4191   6000\n",
       "Total                    3000          7000  10000"
      ]
     },
     "execution_count": 6,
     "metadata": {},
     "output_type": "execute_result"
    }
   ],
   "source": [
    "positive_ae_covid_ecds = df[((df['ae_attendance']==1))]\n",
    "negative_ae_covid_ecds = df[((df['ae_attendance']==0))]\n",
    "\n",
    "\n",
    "ecds_patients_positive = set(list(positive_ae_covid_ecds['patient_id']))\n",
    "ecds_patients_negative = set(list(negative_ae_covid_ecds['patient_id']))\n",
    "\n",
    "sus_pos_ecds_pos = len(list(set(sus_patients_positive) & set(ecds_patients_positive)))\n",
    "sus_pos_ecds_neg = len(list(set(sus_patients_positive) & set(ecds_patients_negative)))\n",
    "sus_neg_ecds_pos = len(list(set(sus_patients_negative) & set(ecds_patients_positive)))\n",
    "sus_neg_ecds_neg = len(list(set(sus_patients_negative) & set(ecds_patients_negative)))\n",
    "\n",
    "pd.DataFrame([[sus_pos_ecds_pos, sus_neg_ecds_pos, (sus_pos_ecds_pos + sus_neg_ecds_pos)], [sus_pos_ecds_neg, sus_neg_ecds_neg, (sus_pos_ecds_neg + sus_neg_ecds_neg)], [(sus_pos_ecds_pos+sus_pos_ecds_neg), (sus_neg_ecds_pos+sus_neg_ecds_neg), (sus_pos_ecds_pos + sus_pos_ecds_neg + sus_neg_ecds_pos + sus_neg_ecds_neg)]], columns=[\"SUS-positive\", \"SUS-negative\", \"Total\"], index=[\"AE attendance +\", \"AE attendance -\", \"Total\"])\n"
   ]
  },
  {
   "cell_type": "code",
   "execution_count": 7,
   "id": "crucial-commitment",
   "metadata": {},
   "outputs": [
    {
     "name": "stdout",
     "output_type": "stream",
     "text": [
      "Sensitivity: 39.70%\n",
      "Specificity : 59.87%\n"
     ]
    }
   ],
   "source": [
    "sensitivity = (sus_pos_ecds_pos/(sus_pos_ecds_pos + sus_pos_ecds_neg))*100\n",
    "print(f\"Sensitivity: {sensitivity:.2f}%\")\n",
    "\n",
    "specificity = (sus_neg_ecds_neg/(sus_neg_ecds_pos + sus_neg_ecds_neg))*100\n",
    "print(f\"Specificity : {specificity:.2f}%\")\n"
   ]
  },
  {
   "cell_type": "markdown",
   "id": "exotic-patio",
   "metadata": {},
   "source": [
    "### AE Attendance + AE Covid Status"
   ]
  },
  {
   "cell_type": "code",
   "execution_count": 8,
   "id": "intensive-farmer",
   "metadata": {},
   "outputs": [
    {
     "data": {
      "text/html": [
       "<div>\n",
       "<style scoped>\n",
       "    .dataframe tbody tr th:only-of-type {\n",
       "        vertical-align: middle;\n",
       "    }\n",
       "\n",
       "    .dataframe tbody tr th {\n",
       "        vertical-align: top;\n",
       "    }\n",
       "\n",
       "    .dataframe thead th {\n",
       "        text-align: right;\n",
       "    }\n",
       "</style>\n",
       "<table border=\"1\" class=\"dataframe\">\n",
       "  <thead>\n",
       "    <tr style=\"text-align: right;\">\n",
       "      <th></th>\n",
       "      <th>SUS-positive</th>\n",
       "      <th>SUS-negative</th>\n",
       "      <th>Total</th>\n",
       "    </tr>\n",
       "  </thead>\n",
       "  <tbody>\n",
       "    <tr>\n",
       "      <th>AE Covid +</th>\n",
       "      <td>1078</td>\n",
       "      <td>2514</td>\n",
       "      <td>3592</td>\n",
       "    </tr>\n",
       "    <tr>\n",
       "      <th>AE Covid -</th>\n",
       "      <td>1922</td>\n",
       "      <td>4486</td>\n",
       "      <td>6408</td>\n",
       "    </tr>\n",
       "    <tr>\n",
       "      <th>Total</th>\n",
       "      <td>3000</td>\n",
       "      <td>7000</td>\n",
       "      <td>10000</td>\n",
       "    </tr>\n",
       "  </tbody>\n",
       "</table>\n",
       "</div>"
      ],
      "text/plain": [
       "            SUS-positive  SUS-negative  Total\n",
       "AE Covid +          1078          2514   3592\n",
       "AE Covid -          1922          4486   6408\n",
       "Total               3000          7000  10000"
      ]
     },
     "execution_count": 8,
     "metadata": {},
     "output_type": "execute_result"
    }
   ],
   "source": [
    "positive_ae_covid_ecds = df[(df['ae_attendance']==1) & ((df['ae_attendance_covid_status']==1))]\n",
    "negative_ae_covid_ecds = df[((df['ae_attendance']==0) | ((df['ae_attendance']==1) & (df['ae_attendance_covid_status']==0)))]\n",
    "\n",
    "\n",
    "\n",
    "ecds_patients_positive = set(list(positive_ae_covid_ecds['patient_id']))\n",
    "ecds_patients_negative = set(list(negative_ae_covid_ecds['patient_id']))\n",
    "\n",
    "sus_pos_ecds_pos = len(list(set(sus_patients_positive) & set(ecds_patients_positive)))\n",
    "sus_pos_ecds_neg = len(list(set(sus_patients_positive) & set(ecds_patients_negative)))\n",
    "sus_neg_ecds_pos = len(list(set(sus_patients_negative) & set(ecds_patients_positive)))\n",
    "sus_neg_ecds_neg = len(list(set(sus_patients_negative) & set(ecds_patients_negative)))\n",
    "\n",
    "pd.DataFrame([[sus_pos_ecds_pos, sus_neg_ecds_pos, (sus_pos_ecds_pos + sus_neg_ecds_pos)], [sus_pos_ecds_neg, sus_neg_ecds_neg, (sus_pos_ecds_neg + sus_neg_ecds_neg)], [(sus_pos_ecds_pos+sus_pos_ecds_neg), (sus_neg_ecds_pos+sus_neg_ecds_neg), (sus_pos_ecds_pos + sus_pos_ecds_neg + sus_neg_ecds_pos + sus_neg_ecds_neg)]], columns=[\"SUS-positive\", \"SUS-negative\", \"Total\"], index=[\"AE Covid +\", \"AE Covid -\", \"Total\"])\n",
    "\n"
   ]
  },
  {
   "cell_type": "code",
   "execution_count": 9,
   "id": "large-treasure",
   "metadata": {},
   "outputs": [
    {
     "name": "stdout",
     "output_type": "stream",
     "text": [
      "Sensitivity: 35.93%\n",
      "Specificity : 64.09%\n"
     ]
    }
   ],
   "source": [
    "sensitivity = (sus_pos_ecds_pos/(sus_pos_ecds_pos + sus_pos_ecds_neg))*100\n",
    "print(f\"Sensitivity: {sensitivity:.2f}%\")\n",
    "\n",
    "specificity = (sus_neg_ecds_neg/(sus_neg_ecds_pos + sus_neg_ecds_neg))*100\n",
    "print(f\"Specificity : {specificity:.2f}%\")\n"
   ]
  },
  {
   "cell_type": "markdown",
   "id": "defensive-miller",
   "metadata": {},
   "source": [
    "###  AE Attendance + Recent Positive Covid Test"
   ]
  },
  {
   "cell_type": "code",
   "execution_count": 10,
   "id": "accurate-mercury",
   "metadata": {},
   "outputs": [
    {
     "data": {
      "text/html": [
       "<div>\n",
       "<style scoped>\n",
       "    .dataframe tbody tr th:only-of-type {\n",
       "        vertical-align: middle;\n",
       "    }\n",
       "\n",
       "    .dataframe tbody tr th {\n",
       "        vertical-align: top;\n",
       "    }\n",
       "\n",
       "    .dataframe thead th {\n",
       "        text-align: right;\n",
       "    }\n",
       "</style>\n",
       "<table border=\"1\" class=\"dataframe\">\n",
       "  <thead>\n",
       "    <tr style=\"text-align: right;\">\n",
       "      <th></th>\n",
       "      <th>SUS-positive</th>\n",
       "      <th>SUS-negative</th>\n",
       "      <th>Total</th>\n",
       "    </tr>\n",
       "  </thead>\n",
       "  <tbody>\n",
       "    <tr>\n",
       "      <th>Covid Test +</th>\n",
       "      <td>609</td>\n",
       "      <td>1418</td>\n",
       "      <td>2027</td>\n",
       "    </tr>\n",
       "    <tr>\n",
       "      <th>Covid Test -</th>\n",
       "      <td>2391</td>\n",
       "      <td>5582</td>\n",
       "      <td>7973</td>\n",
       "    </tr>\n",
       "    <tr>\n",
       "      <th>Total</th>\n",
       "      <td>3000</td>\n",
       "      <td>7000</td>\n",
       "      <td>10000</td>\n",
       "    </tr>\n",
       "  </tbody>\n",
       "</table>\n",
       "</div>"
      ],
      "text/plain": [
       "              SUS-positive  SUS-negative  Total\n",
       "Covid Test +           609          1418   2027\n",
       "Covid Test -          2391          5582   7973\n",
       "Total                 3000          7000  10000"
      ]
     },
     "execution_count": 10,
     "metadata": {},
     "output_type": "execute_result"
    }
   ],
   "source": [
    "positive_cov_test_ecds = df[(df['ae_attendance']==1) & ((df['positive_covid_test_before_ae_attendance']==1))]\n",
    "negative_cov_test_ecds = df[((df['ae_attendance']==0) | ((df['ae_attendance']==1) & (df['positive_covid_test_before_ae_attendance']==0)))]\n",
    "\n",
    "\n",
    "ecds_patients_positive = set(list(positive_cov_test_ecds['patient_id']))\n",
    "ecds_patients_negative = set(list(negative_cov_test_ecds['patient_id']))\n",
    "\n",
    "sus_pos_ecds_pos = len(list(set(sus_patients_positive) & set(ecds_patients_positive)))\n",
    "sus_pos_ecds_neg = len(list(set(sus_patients_positive) & set(ecds_patients_negative)))\n",
    "sus_neg_ecds_pos = len(list(set(sus_patients_negative) & set(ecds_patients_positive)))\n",
    "sus_neg_ecds_neg = len(list(set(sus_patients_negative) & set(ecds_patients_negative)))\n",
    "\n",
    "pd.DataFrame([[sus_pos_ecds_pos, sus_neg_ecds_pos, (sus_pos_ecds_pos + sus_neg_ecds_pos)], [sus_pos_ecds_neg, sus_neg_ecds_neg, (sus_pos_ecds_neg + sus_neg_ecds_neg)], [(sus_pos_ecds_pos+sus_pos_ecds_neg), (sus_neg_ecds_pos+sus_neg_ecds_neg), (sus_pos_ecds_pos + sus_pos_ecds_neg + sus_neg_ecds_pos + sus_neg_ecds_neg)]], columns=[\"SUS-positive\", \"SUS-negative\", \"Total\"], index=[\"Covid Test +\", \"Covid Test -\", \"Total\"])\n"
   ]
  },
  {
   "cell_type": "code",
   "execution_count": 11,
   "id": "chief-oxygen",
   "metadata": {},
   "outputs": [
    {
     "name": "stdout",
     "output_type": "stream",
     "text": [
      "Sensitivity: 20.30%\n",
      "Specificity : 79.74%\n"
     ]
    }
   ],
   "source": [
    "sensitivity = (sus_pos_ecds_pos/(sus_pos_ecds_pos + sus_pos_ecds_neg))*100\n",
    "print(f\"Sensitivity: {sensitivity:.2f}%\")\n",
    "\n",
    "specificity = (sus_neg_ecds_neg/(sus_neg_ecds_pos + sus_neg_ecds_neg))*100\n",
    "print(f\"Specificity : {specificity:.2f}%\")\n"
   ]
  },
  {
   "cell_type": "markdown",
   "id": "aging-statistics",
   "metadata": {},
   "source": [
    "### AE Attendance + Covid Positive Primary Care"
   ]
  },
  {
   "cell_type": "code",
   "execution_count": 12,
   "id": "broken-confidence",
   "metadata": {},
   "outputs": [
    {
     "data": {
      "text/html": [
       "<div>\n",
       "<style scoped>\n",
       "    .dataframe tbody tr th:only-of-type {\n",
       "        vertical-align: middle;\n",
       "    }\n",
       "\n",
       "    .dataframe tbody tr th {\n",
       "        vertical-align: top;\n",
       "    }\n",
       "\n",
       "    .dataframe thead th {\n",
       "        text-align: right;\n",
       "    }\n",
       "</style>\n",
       "<table border=\"1\" class=\"dataframe\">\n",
       "  <thead>\n",
       "    <tr style=\"text-align: right;\">\n",
       "      <th></th>\n",
       "      <th>SUS-positive</th>\n",
       "      <th>SUS-negative</th>\n",
       "      <th>Total</th>\n",
       "    </tr>\n",
       "  </thead>\n",
       "  <tbody>\n",
       "    <tr>\n",
       "      <th>Primary Care Covid +</th>\n",
       "      <td>609</td>\n",
       "      <td>1418</td>\n",
       "      <td>2027</td>\n",
       "    </tr>\n",
       "    <tr>\n",
       "      <th>Primary Care Covid -</th>\n",
       "      <td>2391</td>\n",
       "      <td>5582</td>\n",
       "      <td>7973</td>\n",
       "    </tr>\n",
       "    <tr>\n",
       "      <th>Total</th>\n",
       "      <td>3000</td>\n",
       "      <td>7000</td>\n",
       "      <td>10000</td>\n",
       "    </tr>\n",
       "  </tbody>\n",
       "</table>\n",
       "</div>"
      ],
      "text/plain": [
       "                      SUS-positive  SUS-negative  Total\n",
       "Primary Care Covid +           609          1418   2027\n",
       "Primary Care Covid -          2391          5582   7973\n",
       "Total                         3000          7000  10000"
      ]
     },
     "execution_count": 12,
     "metadata": {},
     "output_type": "execute_result"
    }
   ],
   "source": [
    "positive_cov_pc_ecds = df[(df['ae_attendance']==1) & ((df['covid_primary_care_before_ae_attendance']==1))]\n",
    "negative_cov_pc_ecds = df[((df['ae_attendance']==0) | ((df['ae_attendance']==1) & (df['covid_primary_care_before_ae_attendance']==0)))]\n",
    "\n",
    "\n",
    "ecds_patients_positive = set(list(positive_cov_test_ecds['patient_id']))\n",
    "ecds_patients_negative = set(list(negative_cov_test_ecds['patient_id']))\n",
    "\n",
    "sus_pos_ecds_pos = len(list(set(sus_patients_positive) & set(ecds_patients_positive)))\n",
    "sus_pos_ecds_neg = len(list(set(sus_patients_positive) & set(ecds_patients_negative)))\n",
    "sus_neg_ecds_pos = len(list(set(sus_patients_negative) & set(ecds_patients_positive)))\n",
    "sus_neg_ecds_neg = len(list(set(sus_patients_negative) & set(ecds_patients_negative)))\n",
    "\n",
    "pd.DataFrame([[sus_pos_ecds_pos, sus_neg_ecds_pos, (sus_pos_ecds_pos + sus_neg_ecds_pos)], [sus_pos_ecds_neg, sus_neg_ecds_neg, (sus_pos_ecds_neg + sus_neg_ecds_neg)], [(sus_pos_ecds_pos+sus_pos_ecds_neg), (sus_neg_ecds_pos+sus_neg_ecds_neg), (sus_pos_ecds_pos + sus_pos_ecds_neg + sus_neg_ecds_pos + sus_neg_ecds_neg)]], columns=[\"SUS-positive\", \"SUS-negative\", \"Total\"], index=[\"Primary Care Covid +\", \"Primary Care Covid -\", \"Total\"])\n"
   ]
  },
  {
   "cell_type": "code",
   "execution_count": 13,
   "id": "middle-dayton",
   "metadata": {},
   "outputs": [
    {
     "name": "stdout",
     "output_type": "stream",
     "text": [
      "Sensitivity: 20.30%\n",
      "Specificity : 79.74%\n"
     ]
    }
   ],
   "source": [
    "sensitivity = (sus_pos_ecds_pos/(sus_pos_ecds_pos + sus_pos_ecds_neg))*100\n",
    "print(f\"Sensitivity: {sensitivity:.2f}%\")\n",
    "\n",
    "specificity = (sus_neg_ecds_neg/(sus_neg_ecds_pos + sus_neg_ecds_neg))*100\n",
    "print(f\"Specificity : {specificity:.2f}%\")\n"
   ]
  },
  {
   "cell_type": "code",
   "execution_count": null,
   "id": "express-hometown",
   "metadata": {},
   "outputs": [],
   "source": []
  }
 ],
 "metadata": {
  "kernelspec": {
   "display_name": "Python 3",
   "language": "python",
   "name": "python3"
  },
  "language_info": {
   "codemirror_mode": {
    "name": "ipython",
    "version": 3
   },
   "file_extension": ".py",
   "mimetype": "text/x-python",
   "name": "python",
   "nbconvert_exporter": "python",
   "pygments_lexer": "ipython3",
   "version": "3.9.1"
  }
 },
 "nbformat": 4,
 "nbformat_minor": 5
}
