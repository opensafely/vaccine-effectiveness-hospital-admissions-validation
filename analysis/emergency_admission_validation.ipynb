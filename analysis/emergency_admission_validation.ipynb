{
 "cells": [
  {
   "cell_type": "markdown",
   "id": "historic-western",
   "metadata": {},
   "source": [
    "## ECDS emergency care admission vs SUS hospital admission validation\n",
    "\n",
    "There is a delay between patients being admitted to hospital with COVID-19 and this data being made available.  SUS-APCS data is the 'gold standard' for COVID-19 hospital admission but is only created once the patient is discharged (home, elswehere or died).  Data for ongoing hospital spells at the time of the SUS extract is therefore not available, creating an ascertainment bias against longer spells and more recent spells. \n",
    "\n",
    "This means we cannot rapidly evaluate vaccine effectiveness with respect to reducing hospital admission.\n",
    "\n",
    "As a large proportion of hospital admission comes through A&E attendance, emergency admission data through ECDS may provide a good enough picture of hospital admission.  Below is a validation of this.\n",
    "\n",
    "### Methods\n",
    "\n",
    "* Patients hospitalised due to COVID-19 are first identified using SUS.\n",
    "* Patients admitted to emergency care due to COVID-19 are identified using the criteria below:\n",
    "    * All patients admitted to A&E AND then discharged to hospital or ICU are selected.\n",
    "    * In these patients, those admitted due to COVID-19 are filtered to include those that\n",
    "        * Are admitted with positive COVID-19 code OR\n",
    "        * Have had positive COVID-19 test in the 2 weeks prior to admission OR\n",
    "        * Have been recorded as COVID-19 positive in primary care 2 weeks prior to admission (primary care positive test, primary care covid code, primary care covid sequalae). \n",
    "* Ability of ECDS data to identify those admitted to hospital due to COVID-19 vs SUS data is assessed.\n"
   ]
  },
  {
   "cell_type": "code",
   "execution_count": 1,
   "id": "mobile-corps",
   "metadata": {},
   "outputs": [],
   "source": [
    "import pandas as pd\n",
    "import numpy as np\n",
    "import seaborn as sns\n",
    "from matplotlib.colors import ListedColormap\n",
    "\n",
    "\n",
    "%matplotlib inline\n",
    "\n",
    "pd.options.display.float_format = '{:.0f}'.format"
   ]
  },
  {
   "cell_type": "code",
   "execution_count": 2,
   "id": "gorgeous-mozambique",
   "metadata": {},
   "outputs": [],
   "source": [
    "df = pd.read_csv('../output/input.csv')\n",
    "ae_discharge_dict = {\"discharged_to_ward\": 306706006, \"discharged_to_icu\": 1066391000000105}\n",
    "ae_discharge_list = [value for (key, value) in ae_discharge_dict.items()]\n",
    "\n",
    "\n",
    "positive_covid_patients_sus = df[df['primary_covid_hospital_admission'].notna()]\n",
    "negative_covid_patients_sus = df[~df['primary_covid_hospital_admission'].notna()]\n",
    "\n",
    "positive_covid_patients_ecds = df[(df['ae_attendance']==1) & ((df['ae_attendance_covid_status']==1) | (df['positive_covid_test_before_ae_attendance'] ==1) | (df['covid_primary_care_before_ae_attendance'] ==1))]\n",
    "negative_covid_patients_ecds = df[~(df['ae_attendance']==1)  & ((df['ae_attendance_covid_status']==1) | (df['positive_covid_test_before_ae_attendance'] ==1) | (df['covid_primary_care_before_ae_attendance'] ==1))]\n",
    "\n",
    "\n",
    "sus_patients_positive = set(list(positive_covid_patients_sus['patient_id']))\n",
    "ecds_patients_positive = set(list(positive_covid_patients_ecds['patient_id']))\n",
    "sus_patients_negative = set(list(negative_covid_patients_sus['patient_id']))\n",
    "ecds_patients_negative = set(list(negative_covid_patients_ecds['patient_id']))"
   ]
  },
  {
   "cell_type": "code",
   "execution_count": 3,
   "id": "wireless-benchmark",
   "metadata": {},
   "outputs": [
    {
     "data": {
      "text/html": [
       "<div>\n",
       "<style scoped>\n",
       "    .dataframe tbody tr th:only-of-type {\n",
       "        vertical-align: middle;\n",
       "    }\n",
       "\n",
       "    .dataframe tbody tr th {\n",
       "        vertical-align: top;\n",
       "    }\n",
       "\n",
       "    .dataframe thead th {\n",
       "        text-align: right;\n",
       "    }\n",
       "</style>\n",
       "<table border=\"1\" class=\"dataframe\">\n",
       "  <thead>\n",
       "    <tr style=\"text-align: right;\">\n",
       "      <th></th>\n",
       "      <th>SUS-positive</th>\n",
       "      <th>SUS-negative</th>\n",
       "      <th>Total</th>\n",
       "    </tr>\n",
       "  </thead>\n",
       "  <tbody>\n",
       "    <tr>\n",
       "      <th>ECDS-positive</th>\n",
       "      <td>1153</td>\n",
       "      <td>2744</td>\n",
       "      <td>3897</td>\n",
       "    </tr>\n",
       "    <tr>\n",
       "      <th>ECDS-negative</th>\n",
       "      <td>1778</td>\n",
       "      <td>4107</td>\n",
       "      <td>5885</td>\n",
       "    </tr>\n",
       "    <tr>\n",
       "      <th>Total</th>\n",
       "      <td>2931</td>\n",
       "      <td>6851</td>\n",
       "      <td>9782</td>\n",
       "    </tr>\n",
       "  </tbody>\n",
       "</table>\n",
       "</div>"
      ],
      "text/plain": [
       "               SUS-positive  SUS-negative  Total\n",
       "ECDS-positive          1153          2744   3897\n",
       "ECDS-negative          1778          4107   5885\n",
       "Total                  2931          6851   9782"
      ]
     },
     "execution_count": 3,
     "metadata": {},
     "output_type": "execute_result"
    }
   ],
   "source": [
    "sus_pos_ecds_pos = len(list(set(sus_patients_positive) & set(ecds_patients_positive)))\n",
    "sus_pos_ecds_neg = len(list(set(sus_patients_positive) & set(ecds_patients_negative)))\n",
    "sus_neg_ecds_pos = len(list(set(sus_patients_negative) & set(ecds_patients_positive)))\n",
    "sus_neg_ecds_neg = len(list(set(sus_patients_negative) & set(ecds_patients_negative)))\n",
    "\n",
    "pd.DataFrame([[sus_pos_ecds_pos, sus_neg_ecds_pos, (sus_pos_ecds_pos + sus_neg_ecds_pos)], [sus_pos_ecds_neg, sus_neg_ecds_neg, (sus_pos_ecds_neg + sus_neg_ecds_neg)], [(sus_pos_ecds_pos+sus_pos_ecds_neg), (sus_neg_ecds_pos+sus_neg_ecds_neg), (sus_pos_ecds_pos + sus_pos_ecds_neg + sus_neg_ecds_pos + sus_neg_ecds_neg)]], columns=[\"SUS-positive\", \"SUS-negative\", \"Total\"], index=[\"ECDS-positive\", \"ECDS-negative\", \"Total\"])\n"
   ]
  },
  {
   "cell_type": "code",
   "execution_count": 4,
   "id": "arctic-energy",
   "metadata": {},
   "outputs": [
    {
     "name": "stdout",
     "output_type": "stream",
     "text": [
      "Sensitivity: 39.34%\n",
      "Specificity : 59.95%\n"
     ]
    }
   ],
   "source": [
    "#sensitivity - number of sus identified by ecds\n",
    "#specificity - number of those not in sus who are not in ecds\n",
    "\n",
    "# sensitivity = (sus_pos_ecds_pos/(sus_pos_ecds_pos + sus_pos_ecds_neg))*100\n",
    "# print(f\"Sensitivity: {sensitivity:.2f}%\")\n",
    "\n",
    "# specificity = (sus_neg_ecds_neg/(sus_neg_ecds_pos + sus_neg_ecds_neg))*100\n",
    "# print(f\"Specificity : {specificity:.2f}%\")\n"
   ]
  },
  {
   "cell_type": "markdown",
   "id": "superior-february",
   "metadata": {},
   "source": [
    "## Variable Breakdown \n",
    "\n",
    "### AE Covid Status"
   ]
  },
  {
   "cell_type": "code",
   "execution_count": 5,
   "id": "swedish-interview",
   "metadata": {},
   "outputs": [
    {
     "data": {
      "text/html": [
       "<div>\n",
       "<style scoped>\n",
       "    .dataframe tbody tr th:only-of-type {\n",
       "        vertical-align: middle;\n",
       "    }\n",
       "\n",
       "    .dataframe tbody tr th {\n",
       "        vertical-align: top;\n",
       "    }\n",
       "\n",
       "    .dataframe thead th {\n",
       "        text-align: right;\n",
       "    }\n",
       "</style>\n",
       "<table border=\"1\" class=\"dataframe\">\n",
       "  <thead>\n",
       "    <tr style=\"text-align: right;\">\n",
       "      <th></th>\n",
       "      <th>SUS-positive</th>\n",
       "      <th>SUS-negative</th>\n",
       "      <th>Total</th>\n",
       "    </tr>\n",
       "  </thead>\n",
       "  <tbody>\n",
       "    <tr>\n",
       "      <th>AE Covid +</th>\n",
       "      <td>1066</td>\n",
       "      <td>2519</td>\n",
       "      <td>3585</td>\n",
       "    </tr>\n",
       "    <tr>\n",
       "      <th>AE Covid -</th>\n",
       "      <td>1646</td>\n",
       "      <td>3770</td>\n",
       "      <td>5416</td>\n",
       "    </tr>\n",
       "    <tr>\n",
       "      <th>Total</th>\n",
       "      <td>2712</td>\n",
       "      <td>6289</td>\n",
       "      <td>9001</td>\n",
       "    </tr>\n",
       "  </tbody>\n",
       "</table>\n",
       "</div>"
      ],
      "text/plain": [
       "            SUS-positive  SUS-negative  Total\n",
       "AE Covid +          1066          2519   3585\n",
       "AE Covid -          1646          3770   5416\n",
       "Total               2712          6289   9001"
      ]
     },
     "execution_count": 5,
     "metadata": {},
     "output_type": "execute_result"
    }
   ],
   "source": [
    "positive_ae_covid_ecds = df[(df['ae_attendance']==1) & ((df['ae_attendance_covid_status']==1))]\n",
    "negative_ae_covid_ecds = df[~(df['ae_attendance']==1)  & ((df['ae_attendance_covid_status']==1))]\n",
    "\n",
    "ecds_patients_positive = set(list(positive_ae_covid_ecds['patient_id']))\n",
    "ecds_patients_negative = set(list(negative_ae_covid_ecds['patient_id']))\n",
    "\n",
    "sus_pos_ecds_pos = len(list(set(sus_patients_positive) & set(ecds_patients_positive)))\n",
    "sus_pos_ecds_neg = len(list(set(sus_patients_positive) & set(ecds_patients_negative)))\n",
    "sus_neg_ecds_pos = len(list(set(sus_patients_negative) & set(ecds_patients_positive)))\n",
    "sus_neg_ecds_neg = len(list(set(sus_patients_negative) & set(ecds_patients_negative)))\n",
    "\n",
    "pd.DataFrame([[sus_pos_ecds_pos, sus_neg_ecds_pos, (sus_pos_ecds_pos + sus_neg_ecds_pos)], [sus_pos_ecds_neg, sus_neg_ecds_neg, (sus_pos_ecds_neg + sus_neg_ecds_neg)], [(sus_pos_ecds_pos+sus_pos_ecds_neg), (sus_neg_ecds_pos+sus_neg_ecds_neg), (sus_pos_ecds_pos + sus_pos_ecds_neg + sus_neg_ecds_pos + sus_neg_ecds_neg)]], columns=[\"SUS-positive\", \"SUS-negative\", \"Total\"], index=[\"AE Covid +\", \"AE Covid -\", \"Total\"])\n",
    "\n"
   ]
  },
  {
   "cell_type": "code",
   "execution_count": 6,
   "id": "sunset-carnival",
   "metadata": {},
   "outputs": [
    {
     "name": "stdout",
     "output_type": "stream",
     "text": [
      "Sensitivity: 39.31%\n",
      "Specificity : 59.95%\n"
     ]
    }
   ],
   "source": [
    "# sensitivity = (sus_pos_ecds_pos/(sus_pos_ecds_pos + sus_pos_ecds_neg))*100\n",
    "# print(f\"Sensitivity: {sensitivity:.2f}%\")\n",
    "\n",
    "# specificity = (sus_neg_ecds_neg/(sus_neg_ecds_pos + sus_neg_ecds_neg))*100\n",
    "# print(f\"Specificity : {specificity:.2f}%\")\n"
   ]
  },
  {
   "cell_type": "markdown",
   "id": "tough-hollywood",
   "metadata": {},
   "source": [
    "### Recent Positive Covid Test"
   ]
  },
  {
   "cell_type": "code",
   "execution_count": 7,
   "id": "conservative-consistency",
   "metadata": {},
   "outputs": [
    {
     "data": {
      "text/html": [
       "<div>\n",
       "<style scoped>\n",
       "    .dataframe tbody tr th:only-of-type {\n",
       "        vertical-align: middle;\n",
       "    }\n",
       "\n",
       "    .dataframe tbody tr th {\n",
       "        vertical-align: top;\n",
       "    }\n",
       "\n",
       "    .dataframe thead th {\n",
       "        text-align: right;\n",
       "    }\n",
       "</style>\n",
       "<table border=\"1\" class=\"dataframe\">\n",
       "  <thead>\n",
       "    <tr style=\"text-align: right;\">\n",
       "      <th></th>\n",
       "      <th>SUS-positive</th>\n",
       "      <th>SUS-negative</th>\n",
       "      <th>Total</th>\n",
       "    </tr>\n",
       "  </thead>\n",
       "  <tbody>\n",
       "    <tr>\n",
       "      <th>Covid Test +</th>\n",
       "      <td>591</td>\n",
       "      <td>1444</td>\n",
       "      <td>2035</td>\n",
       "    </tr>\n",
       "    <tr>\n",
       "      <th>Covid Test -</th>\n",
       "      <td>872</td>\n",
       "      <td>2093</td>\n",
       "      <td>2965</td>\n",
       "    </tr>\n",
       "    <tr>\n",
       "      <th>Total</th>\n",
       "      <td>1463</td>\n",
       "      <td>3537</td>\n",
       "      <td>5000</td>\n",
       "    </tr>\n",
       "  </tbody>\n",
       "</table>\n",
       "</div>"
      ],
      "text/plain": [
       "              SUS-positive  SUS-negative  Total\n",
       "Covid Test +           591          1444   2035\n",
       "Covid Test -           872          2093   2965\n",
       "Total                 1463          3537   5000"
      ]
     },
     "execution_count": 7,
     "metadata": {},
     "output_type": "execute_result"
    }
   ],
   "source": [
    "positive_cov_test_ecds = df[(df['ae_attendance']==1) & ((df['positive_covid_test_before_ae_attendance']==1))]\n",
    "negative_cov_test_ecds = df[~(df['ae_attendance']==1)  & ((df['positive_covid_test_before_ae_attendance']==1))]\n",
    "\n",
    "ecds_patients_positive = set(list(positive_cov_test_ecds['patient_id']))\n",
    "ecds_patients_negative = set(list(negative_cov_test_ecds['patient_id']))\n",
    "\n",
    "sus_pos_ecds_pos = len(list(set(sus_patients_positive) & set(ecds_patients_positive)))\n",
    "sus_pos_ecds_neg = len(list(set(sus_patients_positive) & set(ecds_patients_negative)))\n",
    "sus_neg_ecds_pos = len(list(set(sus_patients_negative) & set(ecds_patients_positive)))\n",
    "sus_neg_ecds_neg = len(list(set(sus_patients_negative) & set(ecds_patients_negative)))\n",
    "\n",
    "pd.DataFrame([[sus_pos_ecds_pos, sus_neg_ecds_pos, (sus_pos_ecds_pos + sus_neg_ecds_pos)], [sus_pos_ecds_neg, sus_neg_ecds_neg, (sus_pos_ecds_neg + sus_neg_ecds_neg)], [(sus_pos_ecds_pos+sus_pos_ecds_neg), (sus_neg_ecds_pos+sus_neg_ecds_neg), (sus_pos_ecds_pos + sus_pos_ecds_neg + sus_neg_ecds_pos + sus_neg_ecds_neg)]], columns=[\"SUS-positive\", \"SUS-negative\", \"Total\"], index=[\"Covid Test +\", \"Covid Test -\", \"Total\"])\n"
   ]
  },
  {
   "cell_type": "code",
   "execution_count": 8,
   "id": "respiratory-usage",
   "metadata": {},
   "outputs": [
    {
     "name": "stdout",
     "output_type": "stream",
     "text": [
      "Sensitivity: 40.40%\n",
      "Specificity : 59.17%\n"
     ]
    }
   ],
   "source": [
    "# sensitivity = (sus_pos_ecds_pos/(sus_pos_ecds_pos + sus_pos_ecds_neg))*100\n",
    "# print(f\"Sensitivity: {sensitivity:.2f}%\")\n",
    "\n",
    "# specificity = (sus_neg_ecds_neg/(sus_neg_ecds_pos + sus_neg_ecds_neg))*100\n",
    "# print(f\"Specificity : {specificity:.2f}%\")\n"
   ]
  },
  {
   "cell_type": "markdown",
   "id": "shared-benefit",
   "metadata": {},
   "source": [
    "### Covid Positive Primary Care"
   ]
  },
  {
   "cell_type": "code",
   "execution_count": 9,
   "id": "hollow-influence",
   "metadata": {},
   "outputs": [
    {
     "data": {
      "text/html": [
       "<div>\n",
       "<style scoped>\n",
       "    .dataframe tbody tr th:only-of-type {\n",
       "        vertical-align: middle;\n",
       "    }\n",
       "\n",
       "    .dataframe tbody tr th {\n",
       "        vertical-align: top;\n",
       "    }\n",
       "\n",
       "    .dataframe thead th {\n",
       "        text-align: right;\n",
       "    }\n",
       "</style>\n",
       "<table border=\"1\" class=\"dataframe\">\n",
       "  <thead>\n",
       "    <tr style=\"text-align: right;\">\n",
       "      <th></th>\n",
       "      <th>SUS-positive</th>\n",
       "      <th>SUS-negative</th>\n",
       "      <th>Total</th>\n",
       "    </tr>\n",
       "  </thead>\n",
       "  <tbody>\n",
       "    <tr>\n",
       "      <th>Primary Care Covid +</th>\n",
       "      <td>567</td>\n",
       "      <td>1384</td>\n",
       "      <td>1951</td>\n",
       "    </tr>\n",
       "    <tr>\n",
       "      <th>Primary Care Covid -</th>\n",
       "      <td>912</td>\n",
       "      <td>2137</td>\n",
       "      <td>3049</td>\n",
       "    </tr>\n",
       "    <tr>\n",
       "      <th>Total</th>\n",
       "      <td>1479</td>\n",
       "      <td>3521</td>\n",
       "      <td>5000</td>\n",
       "    </tr>\n",
       "  </tbody>\n",
       "</table>\n",
       "</div>"
      ],
      "text/plain": [
       "                      SUS-positive  SUS-negative  Total\n",
       "Primary Care Covid +           567          1384   1951\n",
       "Primary Care Covid -           912          2137   3049\n",
       "Total                         1479          3521   5000"
      ]
     },
     "execution_count": 9,
     "metadata": {},
     "output_type": "execute_result"
    }
   ],
   "source": [
    "positive_cov_test_ecds = df[(df['ae_attendance']==1) & ((df['covid_primary_care_before_ae_attendance']==1))]\n",
    "negative_cov_test_ecds = df[~(df['ae_attendance']==1)  & ((df['covid_primary_care_before_ae_attendance']==1))]\n",
    "\n",
    "ecds_patients_positive = set(list(positive_cov_test_ecds['patient_id']))\n",
    "ecds_patients_negative = set(list(negative_cov_test_ecds['patient_id']))\n",
    "\n",
    "sus_pos_ecds_pos = len(list(set(sus_patients_positive) & set(ecds_patients_positive)))\n",
    "sus_pos_ecds_neg = len(list(set(sus_patients_positive) & set(ecds_patients_negative)))\n",
    "sus_neg_ecds_pos = len(list(set(sus_patients_negative) & set(ecds_patients_positive)))\n",
    "sus_neg_ecds_neg = len(list(set(sus_patients_negative) & set(ecds_patients_negative)))\n",
    "\n",
    "pd.DataFrame([[sus_pos_ecds_pos, sus_neg_ecds_pos, (sus_pos_ecds_pos + sus_neg_ecds_pos)], [sus_pos_ecds_neg, sus_neg_ecds_neg, (sus_pos_ecds_neg + sus_neg_ecds_neg)], [(sus_pos_ecds_pos+sus_pos_ecds_neg), (sus_neg_ecds_pos+sus_neg_ecds_neg), (sus_pos_ecds_pos + sus_pos_ecds_neg + sus_neg_ecds_pos + sus_neg_ecds_neg)]], columns=[\"SUS-positive\", \"SUS-negative\", \"Total\"], index=[\"Primary Care Covid +\", \"Primary Care Covid -\", \"Total\"])\n"
   ]
  },
  {
   "cell_type": "code",
   "execution_count": 10,
   "id": "dramatic-wellington",
   "metadata": {},
   "outputs": [
    {
     "name": "stdout",
     "output_type": "stream",
     "text": [
      "Sensitivity: 38.34%\n",
      "Specificity : 60.69%\n"
     ]
    }
   ],
   "source": [
    "# sensitivity = (sus_pos_ecds_pos/(sus_pos_ecds_pos + sus_pos_ecds_neg))*100\n",
    "# print(f\"Sensitivity: {sensitivity:.2f}%\")\n",
    "\n",
    "# specificity = (sus_neg_ecds_neg/(sus_neg_ecds_pos + sus_neg_ecds_neg))*100\n",
    "# print(f\"Specificity : {specificity:.2f}%\")\n"
   ]
  },
  {
   "cell_type": "code",
   "execution_count": null,
   "id": "indie-spice",
   "metadata": {},
   "outputs": [],
   "source": []
  }
 ],
 "metadata": {
  "kernelspec": {
   "display_name": "Python 3",
   "language": "python",
   "name": "python3"
  },
  "language_info": {
   "codemirror_mode": {
    "name": "ipython",
    "version": 3
   },
   "file_extension": ".py",
   "mimetype": "text/x-python",
   "name": "python",
   "nbconvert_exporter": "python",
   "pygments_lexer": "ipython3",
   "version": "3.9.1"
  }
 },
 "nbformat": 4,
 "nbformat_minor": 5
}
