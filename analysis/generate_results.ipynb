{
 "cells": [
  {
   "cell_type": "code",
   "execution_count": 1,
   "metadata": {},
   "outputs": [],
   "source": [
    "import pandas as pd\n",
    "import os\n",
    "os.chdir('../')"
   ]
  },
  {
   "cell_type": "code",
   "execution_count": 2,
   "metadata": {},
   "outputs": [],
   "source": [
    "df = pd.read_csv('output/input.csv')"
   ]
  },
  {
   "cell_type": "markdown",
   "metadata": {},
   "source": [
    "Number of emergency covid hospital admissions and those that can be identified in A&E attendances"
   ]
  },
  {
   "cell_type": "code",
   "execution_count": 3,
   "metadata": {},
   "outputs": [
    {
     "name": "stdout",
     "output_type": "stream",
     "text": [
      "Emergency covid hospital admissions: 300\n",
      "With A&E attendance and hospital discharge: 500\n",
      "With A&E attendance, hospital discharge and covid code: 500\n",
      "With A&E attendance, hospital discharge and resp or covid code: 500\n",
      "With A&E attendance, hospital discharge and pos test before: 500\n",
      "With A&E attendance, hospital discharge and suspected covid in primary care: 500\n",
      "With A&E attendance, hospital discharge and covid in primary care: 500\n"
     ]
    }
   ],
   "source": [
    "num_emergency_cov_admissions = df['emergency_covid_hospital_admission_date'].count()\n",
    "ae_hosp_before = df[\"ae_before_with_hospital_discharge_date\"].count()\n",
    "ae_hosp_cov_before = df[\"ae_before_with_hospital_discharge_covid\"].sum()\n",
    "ae_hosp_resp_before = df[\"ae_before_with_hospital_discharge_resp\"].sum()\n",
    "ae_hosp_prim_care_probable_before = df[\"ae_before_with_hospital_discharge_prim_care_probable\"].sum()\n",
    "ae_hosp_prim_care_suspected_before = df[\"ae_before_with_hospital_discharge_prim_care_suspected\"].sum()\n",
    "ae_hosp_pos_test_before = df[\"ae_before_with_hospital_discharge_positive_covid_test\"].sum()\n",
    "\n",
    "print(f'Emergency covid hospital admissions: {num_emergency_cov_admissions}')\n",
    "print(f'With A&E attendance and hospital discharge: {ae_hosp_before}')\n",
    "print(f'With A&E attendance, hospital discharge and covid code: {ae_hosp_cov_before}')\n",
    "print(f'With A&E attendance, hospital discharge and resp or covid code: {ae_hosp_resp_before}')\n",
    "print(f'With A&E attendance, hospital discharge and pos test before: {ae_hosp_pos_test_before}')\n",
    "print(f'With A&E attendance, hospital discharge and suspected covid in primary care: {ae_hosp_prim_care_suspected_before}')\n",
    "print(f'With A&E attendance, hospital discharge and covid in primary care: {ae_hosp_prim_care_probable_before}')\n"
   ]
  },
  {
   "cell_type": "markdown",
   "metadata": {},
   "source": [
    "False positives"
   ]
  },
  {
   "cell_type": "code",
   "execution_count": 5,
   "metadata": {},
   "outputs": [
    {
     "name": "stdout",
     "output_type": "stream",
     "text": [
      "With A&E attendance and hospital discharge: 268\n",
      "With A&E attendance, hospital discharge and covid code: 141\n",
      "With A&E attendance, hospital discharge and resp or covid code: 136\n",
      "With A&E attendance, hospital discharge and pos test before: 131\n",
      "With A&E attendance, hospital discharge and suspected covid in primary care: 136\n",
      "With A&E attendance, hospital discharge and covid in primary care: 129\n"
     ]
    }
   ],
   "source": [
    "fp_ae_hosp_discharge = len(df[\n",
    "    (df[\"ae_attendance_hosp_discharge_date\"].notnull()) & \n",
    "    (df[\"emergency_covid_hospital_admission_after_ae_hosp_discharge\"]==0)\n",
    "\n",
    "])\n",
    "\n",
    "fp_ae_hosp_discharge_cov = len(df[\n",
    "    (df[\"ae_attendance_hosp_discharge_date\"].notnull()) & \n",
    "    (df[\"ae_cov\"]==1) & \n",
    "    (df[\"emergency_covid_hospital_admission_after_ae_hosp_discharge\"]==0)\n",
    "    \n",
    "])\n",
    "\n",
    "fp_ae_hosp_discharge_resp = len(df[\n",
    "    (df[\"ae_attendance_hosp_discharge_date\"].notnull()) & \n",
    "    (df[\"ae_resp\"]==1) & \n",
    "    (df[\"emergency_covid_hospital_admission_after_ae_hosp_discharge\"]==0)\n",
    "    \n",
    "])\n",
    "fp_ae_hosp_discharge_test = len(df[\n",
    "    (df[\"ae_attendance_hosp_discharge_date\"].notnull()) & \n",
    "    (df[\"pos_test\"]==1) & \n",
    "    (df[\"emergency_covid_hospital_admission_after_ae_hosp_discharge\"]==0)\n",
    "    \n",
    "])\n",
    "\n",
    "fp_ae_hosp_discharge_suspected = len(df[\n",
    "    (df[\"ae_attendance_hosp_discharge_date\"].notnull()) & \n",
    "    (df[\"suspected_covid_primary_care_before_ae\"]==1) & \n",
    "    (df[\"emergency_covid_hospital_admission_after_ae_hosp_discharge\"]==0)    \n",
    "])\n",
    "\n",
    "fp_ae_hosp_discharge_probable = len(df[\n",
    "    (df[\"ae_attendance_hosp_discharge_date\"].notnull()) & \n",
    "    (df[\"covid_primary_care_before_ae\"]==1) & \n",
    "    (df[\"emergency_covid_hospital_admission_after_ae_hosp_discharge\"]==0)\n",
    "])\n",
    "\n",
    "print(f'With A&E attendance and hospital discharge: {fp_ae_hosp_discharge}')\n",
    "print(f'With A&E attendance, hospital discharge and covid code: {fp_ae_hosp_discharge_cov}')\n",
    "print(f'With A&E attendance, hospital discharge and resp or covid code: {fp_ae_hosp_discharge_resp}')\n",
    "print(f'With A&E attendance, hospital discharge and pos test before: {fp_ae_hosp_discharge_test}')\n",
    "print(f'With A&E attendance, hospital discharge and suspected covid in primary care: {fp_ae_hosp_discharge_suspected}')\n",
    "print(f'With A&E attendance, hospital discharge and covid in primary care: {fp_ae_hosp_discharge_probable}')\n"
   ]
  },
  {
   "cell_type": "code",
   "execution_count": null,
   "metadata": {},
   "outputs": [],
   "source": []
  }
 ],
 "metadata": {
  "kernelspec": {
   "display_name": "Python 3",
   "language": "python",
   "name": "python3"
  },
  "language_info": {
   "codemirror_mode": {
    "name": "ipython",
    "version": 3
   },
   "file_extension": ".py",
   "mimetype": "text/x-python",
   "name": "python",
   "nbconvert_exporter": "python",
   "pygments_lexer": "ipython3",
   "version": "3.8.10"
  }
 },
 "nbformat": 4,
 "nbformat_minor": 4
}
