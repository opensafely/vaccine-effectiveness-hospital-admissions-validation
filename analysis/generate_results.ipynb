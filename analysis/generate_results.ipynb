{
 "cells": [
  {
   "cell_type": "code",
   "execution_count": 1,
   "metadata": {},
   "outputs": [],
   "source": [
    "import pandas as pd\n",
    "import os\n",
    "os.chdir('../')"
   ]
  },
  {
   "cell_type": "code",
   "execution_count": 2,
   "metadata": {},
   "outputs": [],
   "source": [
    "df = pd.read_csv('output/input.csv')"
   ]
  },
  {
   "cell_type": "markdown",
   "metadata": {},
   "source": [
    "Number of emergency covid hospital admissions and those that can be identified in A&E attendances"
   ]
  },
  {
   "cell_type": "code",
   "execution_count": 4,
   "metadata": {},
   "outputs": [
    {
     "name": "stdout",
     "output_type": "stream",
     "text": [
      "Emergency covid hospital admissions: 300\n",
      "With A&E attendance and hospital discharge: 500\n",
      "With A&E attendance, hospital discharge and covid code: 500\n",
      "With A&E attendance, hospital discharge and resp or covid code: 500\n",
      "With A&E attendance, hospital discharge and pos test before: 500\n",
      "With A&E attendance, hospital discharge and suspected covid in primary care: 500\n",
      "With A&E attendance, hospital discharge and covid in primary care: 500\n"
     ]
    }
   ],
   "source": [
    "num_emergency_cov_admissions = df['emergency_covid_hospital_admission_date'].count()\n",
    "ae_hosp_before = df[\"ae_before_with_hospital_discharge_date\"].count()\n",
    "ae_hosp_cov_before = df[\"ae_before_with_hospital_discharge_covid\"].sum()\n",
    "ae_hosp_resp_before = df[\"ae_before_with_hospital_discharge_resp\"].sum()\n",
    "ae_hosp_prim_care_probable_before = df[\"ae_before_with_hospital_discharge_prim_care_probable\"].sum()\n",
    "ae_hosp_prim_care_suspected_before = df[\"ae_before_with_hospital_discharge_prim_care_suspected\"].sum()\n",
    "ae_hosp_pos_test_before = df[\"ae_before_with_hospital_discharge_positive_covid_test\"].sum()\n",
    "\n",
    "print(f'Emergency covid hospital admissions: {num_emergency_cov_admissions}')\n",
    "print(f'With A&E attendance and hospital discharge: {ae_hosp_before}')\n",
    "print(f'With A&E attendance, hospital discharge and covid code: {ae_hosp_cov_before}')\n",
    "print(f'With A&E attendance, hospital discharge and resp or covid code: {ae_hosp_resp_before}')\n",
    "print(f'With A&E attendance, hospital discharge and pos test before: {ae_hosp_pos_test_before}')\n",
    "print(f'With A&E attendance, hospital discharge and suspected covid in primary care: {ae_hosp_prim_care_suspected_before}')\n",
    "print(f'With A&E attendance, hospital discharge and covid in primary care: {ae_hosp_prim_care_probable_before}')\n"
   ]
  },
  {
   "cell_type": "markdown",
   "metadata": {},
   "source": [
    "False positives"
   ]
  },
  {
   "cell_type": "code",
   "execution_count": 12,
   "metadata": {},
   "outputs": [
    {
     "name": "stdout",
     "output_type": "stream",
     "text": [
      "With A&E attendance and hospital discharge: 700\n",
      "With A&E attendance, hospital discharge and covid code: 500\n",
      "With A&E attendance, hospital discharge and resp or covid code: 500\n",
      "With A&E attendance, hospital discharge and pos test before: 500\n",
      "With A&E attendance, hospital discharge and suspected covid in primary care: 500\n",
      "With A&E attendance, hospital discharge and covid in primary care: 500\n"
     ]
    }
   ],
   "source": [
    "fp_ae_hosp_discharge = sum(df[\"emergency_covid_hospital_admission_after_ae_hosp_discharge\"]==0)\n",
    "fp_ae_hosp_discharge_cov = sum(df[\"emergency_covid_hospital_admission_after_ae_hosp_discharge_cov_code\"]==0)\n",
    "fp_ae_hosp_discharge_resp = sum(df[\"emergency_covid_hospital_admission_after_ae_hosp_discharge_resp_code\"]==0)\n",
    "fp_ae_hosp_discharge_test = sum(df[\"emergency_covid_hospital_admission_after_ae_hosp_discharge_pos_test\"]==0)\n",
    "fp_ae_hosp_discharge_suspected = sum(df[\"emergency_covid_hospital_admission_after_ae_hosp_discharge_cov_suspected_prim_care\"]==0)\n",
    "fp_ae_hosp_discharge_probable = sum(df[\"emergency_covid_hospital_admission_after_ae_hosp_discharge_cov_prim_care\"]==0)\n",
    "\n",
    "print(f'With A&E attendance and hospital discharge: {fp_ae_hosp_discharge}')\n",
    "print(f'With A&E attendance, hospital discharge and covid code: {fp_ae_hosp_discharge_cov}')\n",
    "print(f'With A&E attendance, hospital discharge and resp or covid code: {fp_ae_hosp_discharge_resp}')\n",
    "print(f'With A&E attendance, hospital discharge and pos test before: {fp_ae_hosp_discharge_test}')\n",
    "print(f'With A&E attendance, hospital discharge and suspected covid in primary care: {fp_ae_hosp_discharge_suspected}')\n",
    "print(f'With A&E attendance, hospital discharge and covid in primary care: {fp_ae_hosp_discharge_probable}')\n"
   ]
  },
  {
   "cell_type": "code",
   "execution_count": null,
   "metadata": {},
   "outputs": [],
   "source": []
  }
 ],
 "metadata": {
  "kernelspec": {
   "display_name": "Python 3",
   "language": "python",
   "name": "python3"
  },
  "language_info": {
   "codemirror_mode": {
    "name": "ipython",
    "version": 3
   },
   "file_extension": ".py",
   "mimetype": "text/x-python",
   "name": "python",
   "nbconvert_exporter": "python",
   "pygments_lexer": "ipython3",
   "version": "3.8.10"
  }
 },
 "nbformat": 4,
 "nbformat_minor": 4
}
