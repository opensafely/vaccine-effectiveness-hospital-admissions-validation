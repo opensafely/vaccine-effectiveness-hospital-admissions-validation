{
 "cells": [
  {
   "cell_type": "markdown",
   "id": "historic-western",
   "metadata": {},
   "source": [
    "## Identification of patients admitted to hospital due to COVID-19 using emergence care attendance data\n",
    "\n",
    "### Background\n",
    "There is an urgent need to understand which patients are being admitted to hospital with COVID-19.  SUS-APCS data is the 'gold standard' for COVID-19 hospital admission but is only made available once the patient is discharged from hospital which can be many weeks or months after their admission.  Data for ongoing hospital spells at the time of the SUS-APCS extract is therefore not available, creating an ascertainment bias against longer spells and more recent spells. \n",
    "\n",
    "Hospital admission is a crucial outcome for vaccine evaluation.  The absence of rapidly available hospital admissions data means we cannot rapidly evaluate vaccine effectiveness with respect to reducing hospital admission, compare different vaccines' impact on hospital admission or identify changes in vaccine effectives on admission over time.\n",
    "\n",
    "A large proportion of hospital admission comes through A&E attendance. Emergency admission data through ECDS is much more rapidly available than SUS-APCS.  We therefore set out to validate if those patients being admitted to hospital due to COVID-19 could be identified earlier using data made available through SUS-APCS.\n",
    "\n",
    "### Methods\n",
    "\n",
    "Working on behalf of NHS England we used routine clinical data from 24 million patients to conduct a retrospective cohort study of comprehensive electronic health record data in NHS England, using the OpenSAFELY-TPP platform which covers approximately 40% of the general population in England.  Using data between 2020-09-01 and 2021-01-01, we selected a study population that included all those that were registered with a GP practice at the start of the study period, were aged between 18-110 at the start of the study period, had not died before the start of the study period and those who had either attended emergency care or had been admitted to hospital at any point during the study period.  \n",
    "\n",
    "Patients that were admitted to hospital with COVID-19 as their primary diagnosis were identified using a COVID-19 identification codelist made available at [OpenSAFELY Codelists here](https://codelists.opensafely.org/codelist/opensafely/covid-identification/2020-06-03/).  Patients that attended emergency care with COVID-19 were identified using the following SNOMED diagnosis code: 1240751000000100 and their discharge destination is extracted.  Patients attending emergency care with respiratory-related diagnosis codes were identified using the codelist available here ([upper resp infectio, lower resp infection, sars, pneumonia, resp failure]).Whether patients attending emergency care had had a positive COVID-19 test in the period inclusive of the 2 weeks prior to attendance and 1 weeks after attendance was also extracted, as was whether patients attending emergency care had had COVID-19 confirmed in primary care in the period 2 weeks prior to admission using the following [codelists]().\n",
    "\n",
    "We first assessed how many patients hospitalised for any cause could be identified in those attending emergency care for any reason.  We then explore how many patients hospitalised for any cause could be identified in those attending emergency care who were discharged to either the ward or emergency short stay ward.  \n",
    "\n",
    "We then look at identifying those admitted to hospital for COVID-19 in the emergency care data.  In the emergency care data, patients are defined as being admitted to hospital for COVID-19 if they attend emergency care and they have either had a recent positive COVID-19 test, have had recently confirmed COVID-19 in primary care, or are recorded as having a COVID-19 diagnosis code at attendance.  Using this classification we provide a contingency matrix and measures of measures of the predictive ability of identifying COVID-19 hospitalisations using emergency care data.  Variable importance of this classification is then assessed using Matthew's Correlation Coefficient (MCC)."
   ]
  },
  {
   "cell_type": "code",
   "execution_count": 1,
   "id": "mobile-corps",
   "metadata": {},
   "outputs": [],
   "source": [
    "import pandas as pd\n",
    "import numpy as np\n",
    "import seaborn as sns\n",
    "from matplotlib.colors import ListedColormap\n",
    "from IPython.display import Markdown as md\n",
    "from IPython.display import HTML, display\n",
    "from collections import Counter\n",
    "from scipy.stats import chi2_contingency\n",
    "from scipy.stats import chi2\n",
    "import math\n",
    "\n",
    "%matplotlib inline\n",
    "\n",
    "pd.options.display.float_format = '{:.0f}'.format"
   ]
  },
  {
   "cell_type": "code",
   "execution_count": 2,
   "id": "little-thought",
   "metadata": {},
   "outputs": [],
   "source": [
    "df = pd.read_csv('../output/input.csv')\n",
    "num_patients = len(df['patient_id'].unique())\n",
    "num_patients_hosp = len(df[df['hospital_admission'].notna()]['patient_id'].unique())\n",
    "num_patients_hosp_prim_covid = len(df[df['primary_covid_hospital_admission'].notna()]['patient_id'].unique())\n",
    "num_patients_hosp_covid = len(df[df['covid_hospital_admission'].notna()]['patient_id'].unique())\n",
    "num_patients_hosp_positive_cov_test = len(df[(df['hospital_admission'].notna()) & (df['positive_covid_test_before_hospital_admission']==1)]['patient_id'].unique())\n",
    "num_patients_hosp_positive_cov_pc = len(df[(df['hospital_admission'].notna()) & (df['covid_primary_care_before_hospital_admission']==1)]['patient_id'].unique())\n",
    "\n",
    "\n",
    "num_patients_cov_hosp_attended_ae_any = len(df[(df['primary_covid_hospital_admission'].notna()) & (df['ae_attendance_any']==1)]['patient_id'].unique())\n",
    "num_patients_cov_hosp_attended_ae = len(df[(df['primary_covid_hospital_admission'].notna()) & (df['ae_attendance']==1)]['patient_id'].unique())\n",
    "num_patients_cov_hosp_attended_ae_covid = len(df[(df['primary_covid_hospital_admission'].notna()) & ((df['ae_attendance_any']==1)&(df['ae_attendance_covid_status']==1))]['patient_id'].unique())\n",
    "num_patients_cov_hosp_attended_ae_pos_test = len(df[(df['primary_covid_hospital_admission'].notna()) & ((df['ae_attendance_any']==1)&(df['positive_covid_test_before_ae_attendance']==1))]['patient_id'].unique())\n",
    "num_patients_cov_hosp_attended_ae_pos_test_month = len(df[(df['primary_covid_hospital_admission'].notna()) & ((df['ae_attendance_any']==1)&(df['positive_covid_test_month_before_ae_attendance']==1))]['patient_id'].unique())\n",
    "num_patients_cov_hosp_attended_ae_pos_pc = len(df[(df['primary_covid_hospital_admission'].notna()) & ((df['ae_attendance_any']==1)&(df['covid_primary_care_before_ae_attendance']==1))]['patient_id'].unique())\n",
    "num_patients_cov_hosp_attended_ae_resp = len(df[(df['primary_covid_hospital_admission'].notna()) & ((df['ae_attendance_any']==1)&(df['ae_attendance_respiratory_status']==1))]['patient_id'].unique())\n",
    "\n",
    "\n",
    "num_patients_ae = len(df[df['ae_attendance_any']==1]['patient_id'].unique())\n",
    "num_patients_ae_with_discharge_destination = len(df[(df['ae_attendance_any']==1) & df['discharge_destination'].notna()]['patient_id'].unique())\n",
    "num_patients_ae_hosp_discharge = len(df[df['ae_attendance']==1]['patient_id'].unique())\n",
    "num_patients_ae_pos_covid = len(df[(df['ae_attendance']==1) & (df['ae_attendance_covid_status']==1)]['patient_id'].unique())\n",
    "num_patients_ae_pos_covid_test = len(df[(df['ae_attendance']==1) & (df['positive_covid_test_before_ae_attendance']==1)]['patient_id'].unique())\n",
    "num_patients_ae_pos_covid_pc = len(df[(df['ae_attendance']==1) & (df['covid_primary_care_before_ae_attendance']==1)]['patient_id'].unique())"
   ]
  },
  {
   "cell_type": "markdown",
   "id": "packed-camera",
   "metadata": {},
   "source": [
    "### Results"
   ]
  },
  {
   "cell_type": "code",
   "execution_count": 3,
   "id": "annual-notion",
   "metadata": {},
   "outputs": [
    {
     "data": {
      "text/markdown": [
       "Between 2020-09-01 and 2021-09-01 10000 people out of 24 million in our dataset either attended emergency care (4000) or were admitted to hospital (3000). In those admitted to hospital, 3000 (100.0%) were admitted with a COVID-19 diagnosis code.  3000 (100.0) were admitted with a COVID-19 as their primary diagnosis code. In those attending emergency care, 1614 (40.35%) had a recorded discharge destination.  A breakdown of discharge destination is shown below."
      ],
      "text/plain": [
       "<IPython.core.display.Markdown object>"
      ]
     },
     "execution_count": 3,
     "metadata": {},
     "output_type": "execute_result"
    }
   ],
   "source": [
    "md(f'Between 2020-09-01 and 2021-09-01 {num_patients} people out of 24 million in our dataset either attended emergency care ({num_patients_ae}) or were admitted to hospital ({num_patients_hosp}). In those admitted to hospital, {num_patients_hosp_covid} ({(num_patients_hosp_covid/num_patients_hosp)*100}%) were admitted with a COVID-19 diagnosis code.  {num_patients_hosp_prim_covid} ({(num_patients_hosp_prim_covid/num_patients_hosp)*100}) were admitted with a COVID-19 as their primary diagnosis code. In those attending emergency care, {num_patients_ae_with_discharge_destination} ({(num_patients_ae_with_discharge_destination/num_patients_ae)*100}%) had a recorded discharge destination.  A breakdown of discharge destination is shown below.')\n"
   ]
  },
  {
   "cell_type": "code",
   "execution_count": 4,
   "id": "unusual-malta",
   "metadata": {},
   "outputs": [
    {
     "data": {
      "text/html": [
       "<div>\n",
       "<style scoped>\n",
       "    .dataframe tbody tr th:only-of-type {\n",
       "        vertical-align: middle;\n",
       "    }\n",
       "\n",
       "    .dataframe tbody tr th {\n",
       "        vertical-align: top;\n",
       "    }\n",
       "\n",
       "    .dataframe thead th {\n",
       "        text-align: right;\n",
       "    }\n",
       "</style>\n",
       "<table border=\"1\" class=\"dataframe\">\n",
       "  <thead>\n",
       "    <tr style=\"text-align: right;\">\n",
       "      <th></th>\n",
       "      <th>Discharge Destination</th>\n",
       "      <th>%</th>\n",
       "    </tr>\n",
       "  </thead>\n",
       "  <tbody>\n",
       "    <tr>\n",
       "      <th>0</th>\n",
       "      <td>Ward</td>\n",
       "      <td>2000</td>\n",
       "    </tr>\n",
       "    <tr>\n",
       "      <th>1</th>\n",
       "      <td>ICU</td>\n",
       "      <td>2000</td>\n",
       "    </tr>\n",
       "    <tr>\n",
       "      <th>2</th>\n",
       "      <td>missing</td>\n",
       "      <td>6000</td>\n",
       "    </tr>\n",
       "  </tbody>\n",
       "</table>\n",
       "</div>"
      ],
      "text/plain": [
       "  Discharge Destination     %\n",
       "0                  Ward  2000\n",
       "1                   ICU  2000\n",
       "2               missing  6000"
      ]
     },
     "execution_count": 4,
     "metadata": {},
     "output_type": "execute_result"
    }
   ],
   "source": [
    "df['discharge_destination'] = df['discharge_destination'].astype('category')\n",
    "not_null_dict = (Counter(df['discharge_destination'].notnull()))\n",
    "destination_dict = (Counter(df[df['discharge_destination'].notnull()]['discharge_destination']))\n",
    "missing_number = not_null_dict[False]\n",
    "destination_dict['missing'] = missing_number\n",
    "\n",
    "discharge_dict = {1066341000000100:\"Ambulatory Emergency Care\", 19712007: \"Patient Transfer\", 183919006: \"Urgent admission to hospice\", 1066361000000104: \"High dependency unit\", 305398007: \"Mortuary\", 1066381000000108: \"Special baby care unit\", 1066331000000109: \"Emergency department short stay ward\", 306705005: \"Police custody\", 306706006:\"Ward\", 306689006: \"Home\", 306694006: \"Nursing Home\", 306691003: \"Residential Home\", 1066351000000102: \"Hospital at Home\", 1066401000000108: \"Neonatal ICU\", 1066371000000106: \"Coronary Care Unit\", 50861005: \"Legal Custody\", 1066391000000105: \"ICU\", \"missing\": \"missing\"}\n",
    "\n",
    "data = []\n",
    "for key, value in destination_dict.items():\n",
    "    row = [discharge_dict[key], value]\n",
    "    data.append(row)\n",
    "\n",
    "discharge_destination_df = pd.DataFrame(data, columns=[\"Discharge Destination\", \"%\"])\n",
    "discharge_destination_df\n",
    "\n"
   ]
  },
  {
   "cell_type": "code",
   "execution_count": 5,
   "id": "british-anger",
   "metadata": {},
   "outputs": [
    {
     "data": {
      "text/markdown": [
       "In those who attended emergency care, 3581 (89.53%) patients attended with COVID diagnosis code, 1989 (49.73%) patients had had a positive COVID-19 in the 2 weeks prior to attendance and 2023 (50.58%) patients had had COVID-19 confirmed in primary care in the weeks prior to attendance"
      ],
      "text/plain": [
       "<IPython.core.display.Markdown object>"
      ]
     },
     "execution_count": 5,
     "metadata": {},
     "output_type": "execute_result"
    }
   ],
   "source": [
    "md(f'In those who attended emergency care, {num_patients_ae_pos_covid} ({(num_patients_ae_pos_covid/num_patients_ae)*100:.2f}%) patients attended with COVID diagnosis code, {num_patients_ae_pos_covid_test} ({(num_patients_ae_pos_covid_test/num_patients_ae)*100:.2f}%) patients had had a positive COVID-19 in the 2 weeks prior to attendance and {num_patients_ae_pos_covid_pc} ({(num_patients_ae_pos_covid_pc/num_patients_ae)*100:.2f}%) patients had had COVID-19 confirmed in primary care in the weeks prior to attendance')\n",
    "\n"
   ]
  },
  {
   "cell_type": "code",
   "execution_count": 6,
   "id": "prospective-semester",
   "metadata": {},
   "outputs": [
    {
     "data": {
      "text/markdown": [
       "In patients who were hospitalised with a primary diagnosis of COVID-19, 1177 (39.23%) attended emergency care.  Of these people, 1061 (35.37%) had a COVID-19 diagnosis code on attendance.  1040 (34.67%) attended emergency care with respiratory related diagnosis codes.583 (19.43%) had had a positive COVID-19 test in the 2 weeks prior to attendance, and 587 (19.57%) had had a positive test within the month prior to attendance.  586 (19.53%) of these patients had had COVID-19 confirmed in primary care in the 2 weeks prior to emergency attendance."
      ],
      "text/plain": [
       "<IPython.core.display.Markdown object>"
      ]
     },
     "execution_count": 6,
     "metadata": {},
     "output_type": "execute_result"
    }
   ],
   "source": [
    "md(f'In patients who were hospitalised with a primary diagnosis of COVID-19, {num_patients_cov_hosp_attended_ae_any} ({(num_patients_cov_hosp_attended_ae_any/num_patients_hosp_prim_covid)*100:.2f}%) attended emergency care.  Of these people, {num_patients_cov_hosp_attended_ae_covid} ({(num_patients_cov_hosp_attended_ae_covid/num_patients_hosp_prim_covid)*100:.2f}%) had a COVID-19 diagnosis code on attendance.  {num_patients_cov_hosp_attended_ae_resp} ({(num_patients_cov_hosp_attended_ae_resp/num_patients_hosp_prim_covid)*100:.2f}%) attended emergency care with respiratory related diagnosis codes.{num_patients_cov_hosp_attended_ae_pos_test} ({(num_patients_cov_hosp_attended_ae_pos_test/num_patients_hosp_prim_covid)*100:.2f}%) had had a positive COVID-19 test in the 2 weeks prior to attendance, and {num_patients_cov_hosp_attended_ae_pos_test_month} ({(num_patients_cov_hosp_attended_ae_pos_test_month/num_patients_hosp_prim_covid)*100:.2f}%) had had a positive test within the month prior to attendance.  {num_patients_cov_hosp_attended_ae_pos_pc} ({(num_patients_cov_hosp_attended_ae_pos_pc/num_patients_hosp_prim_covid)*100:.2f}%) of these patients had had COVID-19 confirmed in primary care in the 2 weeks prior to emergency attendance.')\n"
   ]
  },
  {
   "cell_type": "code",
   "execution_count": 7,
   "id": "unnecessary-adapter",
   "metadata": {
    "code_folding": [],
    "scrolled": false,
    "variables": {
     "(num_patients_ae/num_patients_ae)100": "<p><strong>SyntaxError</strong>: invalid syntax (<ipython-input-47-c0558208f3d2>, line 1)</p>\n",
     "(num_patients_ae_hosp_discharge/num_patients_ae)<em>100": "<p><strong>NameError</strong>: name &#39;em&#39; is not defined</p>\n",
     "(num_patients_ae_pos_covid/num_patients_ae)100": "<p><strong>SyntaxError</strong>: invalid syntax (<ipython-input-47-81d1e1460ad3>, line 1)</p>\n",
     "(num_patients_ae_pos_covid_pc/num_patients_ae)100": "<p><strong>SyntaxError</strong>: invalid syntax (<ipython-input-47-eb6d5c87b8ed>, line 1)</p>\n",
     "(num_patients_ae_pos_covid_test/num_patients_ae)<em>100": "<p><strong>NameError</strong>: name &#39;em&#39; is not defined</p>\n",
     "(num_patients_hosp_covid/num_patients_hosp)<em>100": "<p><strong>NameError</strong>: name &#39;em&#39; is not defined</p>\n",
     "(num_patients_hosp_positive_cov_pc/num_patients_hosp)<em>100": "<p><strong>NameError</strong>: name &#39;em&#39; is not defined</p>\n",
     "(num_patients_hosp_positive_cov_test/num_patients_hosp)100": "<p><strong>SyntaxError</strong>: invalid syntax (<ipython-input-47-e6b11a714312>, line 1)</p>\n",
     "(num_patients_hosp_prim_covid/num_patients_hosp)100": "<p><strong>SyntaxError</strong>: invalid syntax (<ipython-input-47-b4660b553bcf>, line 1)</p>\n",
     "num_patients_ae": "4000",
     "num_patients_ae_hosp_discharge": "4000",
     "num_patients_ae_pos_covid": "3578",
     "num_patients_ae_pos_covid_pc": "2011",
     "num_patients_ae_pos_covid_test": "2050",
     "num_patients_hosp_covid": "3000",
     "num_patients_hosp_positive_cov_pc": "1473",
     "num_patients_hosp_positive_cov_test": "1505",
     "num_patients_hosp_prim_covid": "3000"
    }
   },
   "outputs": [
    {
     "data": {
      "text/html": [
       "<table><tr><th>Group</th><th>Total</th><th>%</th></tr><tr><th>Hospital Admission</th></tr><tr><td>Admitted</td><td>3000</td><td>100.0</td></tr><tr><td>Admitted with primary COVID-19</td><td>3000</td><td>100.0</td></tr><tr><td>Admitted with COVID-19</td><td>3000</td><td>100.0</td></tr><tr><th>Emergence Care Attendance</th></tr><tr><td>Attended</td><td>4000</td><td>100.0</td></tr><tr><td>Attendeded AE with discharge destination</td><td>1614</td><td>40.35</td></tr><tr><td>Attended with COVID</td><td>3581</td><td>89.525</td></tr><tr><td>Recent + COVID Test</td><td>1989</td><td>49.725</td></tr><tr><td>Recent + COVID in Primary Care</td><td>2023</td><td>50.575</td></tr><tr><th>Primary Covid Hospital Admission</th></tr><tr><td>Attended AE</td><td>1177</td><td>39.233333333333334</td></tr><tr><td>Attended AE with hospital discharge</td><td>1194</td><td>39.800000000000004</td></tr><tr><td>Attended AE COVID code</td><td>1061</td><td>35.36666666666667</td></tr><tr><td>Attended AE recent + test</td><td>583</td><td>19.433333333333334</td></tr><tr><td>Attended AE + Covid Month</td><td>587</td><td>19.566666666666666</td></tr><tr><td>Attended AE recent + PC</td><td>586</td><td>19.53333333333333</td></tr><tr><td>Attended AE resp</td><td>1040</td><td>34.66666666666667</td></tr></table>"
      ],
      "text/plain": [
       "<IPython.core.display.HTML object>"
      ]
     },
     "metadata": {},
     "output_type": "display_data"
    }
   ],
   "source": [
    "\n",
    "display(HTML(f'<table><tr><th>Group</th><th>Total</th><th>%</th></tr><tr><th>Hospital Admission</th></tr><tr><td>Admitted</td><td>{num_patients_hosp}</td><td>{(num_patients_hosp/num_patients_hosp)*100}</td></tr><tr><td>Admitted with primary COVID-19</td><td>{num_patients_hosp_prim_covid}</td><td>{(num_patients_hosp_prim_covid/num_patients_hosp)*100}</td></tr><tr><td>Admitted with COVID-19</td><td>{num_patients_hosp_covid}</td><td>{(num_patients_hosp_covid/num_patients_hosp)*100}</td></tr><tr><th>Emergence Care Attendance</th></tr><tr><td>Attended</td><td>{num_patients_ae}</td><td>{(num_patients_ae/num_patients_ae)*100}</td></tr><tr><td>Attendeded AE with discharge destination</td><td>{num_patients_ae_with_discharge_destination}</td><td>{(num_patients_ae_with_discharge_destination/num_patients_ae)*100}</td></tr><tr><td>Attended with COVID</td><td>{num_patients_ae_pos_covid}</td><td>{(num_patients_ae_pos_covid/num_patients_ae)*100}</td></tr><tr><td>Recent + COVID Test</td><td>{num_patients_ae_pos_covid_test}</td><td>{(num_patients_ae_pos_covid_test/num_patients_ae)*100}</td></tr><tr><td>Recent + COVID in Primary Care</td><td>{num_patients_ae_pos_covid_pc}</td><td>{(num_patients_ae_pos_covid_pc/num_patients_ae)*100}</td></tr><tr><th>Primary Covid Hospital Admission</th></tr><tr><td>Attended AE</td><td>{num_patients_cov_hosp_attended_ae_any}</td><td>{(num_patients_cov_hosp_attended_ae_any/num_patients_hosp_prim_covid)*100}</td></tr><tr><td>Attended AE with hospital discharge</td><td>{num_patients_cov_hosp_attended_ae}</td><td>{(num_patients_cov_hosp_attended_ae/num_patients_hosp_prim_covid)*100}</td></tr><tr><td>Attended AE COVID code</td><td>{num_patients_cov_hosp_attended_ae_covid}</td><td>{(num_patients_cov_hosp_attended_ae_covid/num_patients_hosp_prim_covid)*100}</td></tr><tr><td>Attended AE recent + test</td><td>{num_patients_cov_hosp_attended_ae_pos_test}</td><td>{(num_patients_cov_hosp_attended_ae_pos_test/num_patients_hosp_prim_covid)*100}</td></tr><tr><td>Attended AE + Covid Month</td><td>{num_patients_cov_hosp_attended_ae_pos_test_month}</td><td>{(num_patients_cov_hosp_attended_ae_pos_test_month/num_patients_hosp_prim_covid)*100}</td></tr><tr><td>Attended AE recent + PC</td><td>{num_patients_cov_hosp_attended_ae_pos_pc}</td><td>{(num_patients_cov_hosp_attended_ae_pos_pc/num_patients_hosp_prim_covid)*100}</td></tr><tr><td>Attended AE resp</td><td>{num_patients_cov_hosp_attended_ae_resp}</td><td>{(num_patients_cov_hosp_attended_ae_resp/num_patients_hosp_prim_covid)*100}</td></tr></table>'\n",
    "            ))\n",
    "    \n",
    "    "
   ]
  },
  {
   "cell_type": "markdown",
   "id": "secure-supervisor",
   "metadata": {},
   "source": [
    "The confusion matrix below shows the relationship between those patients attending emergency care (with hospital discharge) who are predicted to later be hospitalised due to COVID-19 (identified through ECDS) (using emergency care covid status, recent positive test and recent covid confirmed in pc) and those who actually attend hospital due to COVID-19 (SUS). "
   ]
  },
  {
   "cell_type": "code",
   "execution_count": null,
   "id": "flying-bosnia",
   "metadata": {},
   "outputs": [],
   "source": [
    "positive_covid_patients_sus = df[df['primary_covid_hospital_admission'].notna()]\n",
    "negative_covid_patients_sus = df[~df['primary_covid_hospital_admission'].notna()]\n",
    "\n",
    "positive_covid_patients_ecds = df[(df['ae_attendance']==1) & ((df['ae_attendance_covid_status']==1) | (df['positive_covid_test_before_ae_attendance'] ==1) | (df['covid_primary_care_before_ae_attendance'] ==1))]\n",
    "negative_covid_patients_ecds = df[(df['ae_attendance']==0) | ((df['ae_attendance']==1) & ((df['ae_attendance_covid_status']==0) & (df['positive_covid_test_before_ae_attendance'] ==0) & (df['covid_primary_care_before_ae_attendance'] ==0)))]\n",
    "\n",
    "\n",
    "sus_patients_positive = set(list(positive_covid_patients_sus['patient_id']))\n",
    "ecds_patients_positive = set(list(positive_covid_patients_ecds['patient_id']))\n",
    "\n",
    "sus_patients_negative = set(list(negative_covid_patients_sus['patient_id']))\n",
    "ecds_patients_negative = set(list(negative_covid_patients_ecds['patient_id']))\n",
    "\n",
    "\n",
    "sus_pos_ecds_pos = len(list(set(sus_patients_positive) & set(ecds_patients_positive)))\n",
    "sus_pos_ecds_neg = len(list(set(sus_patients_positive) & set(ecds_patients_negative)))\n",
    "sus_neg_ecds_pos = len(list(set(sus_patients_negative) & set(ecds_patients_positive)))\n",
    "sus_neg_ecds_neg = len(list(set(sus_patients_negative) & set(ecds_patients_negative)))"
   ]
  },
  {
   "cell_type": "code",
   "execution_count": null,
   "id": "developed-giant",
   "metadata": {},
   "outputs": [],
   "source": [
    "output = pd.DataFrame([[sus_pos_ecds_pos, sus_neg_ecds_pos, (sus_pos_ecds_pos + sus_neg_ecds_pos)], [sus_pos_ecds_neg, sus_neg_ecds_neg, (sus_pos_ecds_neg + sus_neg_ecds_neg)], [(sus_pos_ecds_pos+sus_pos_ecds_neg), (sus_neg_ecds_pos+sus_neg_ecds_neg), (sus_pos_ecds_pos + sus_pos_ecds_neg + sus_neg_ecds_pos + sus_neg_ecds_neg)]], columns=[\"SUS-positive\", \"SUS-negative\", \"Total\"], index=[\"ECDS-positive\", \"ECDS-negative\", \"Total\"])\n",
    "output"
   ]
  },
  {
   "cell_type": "code",
   "execution_count": null,
   "id": "compact-antarctica",
   "metadata": {},
   "outputs": [],
   "source": [
    "sensitivity = (sus_pos_ecds_pos/(sus_pos_ecds_pos + sus_pos_ecds_neg))*100\n",
    "print(f\"Sensitivity: {sensitivity:.2f}%\")\n",
    "\n",
    "specificity = (sus_neg_ecds_neg/(sus_neg_ecds_pos + sus_neg_ecds_neg))*100\n",
    "print(f\"Specificity : {specificity:.2f}%\")\n",
    "\n",
    "ppv = (sus_pos_ecds_pos/(sus_pos_ecds_pos + sus_neg_ecds_pos))*100\n",
    "print((f\"PPV: {ppv:.2f}%\"))\n",
    "\n",
    "npv = (sus_neg_ecds_neg/(sus_neg_ecds_neg + sus_pos_ecds_neg))*100\n",
    "print(f\"NPV : {npv:.2f}%\")\n",
    "\n",
    "MCC = ((sus_pos_ecds_pos * sus_neg_ecds_neg)-(sus_neg_ecds_pos * sus_pos_ecds_neg))/math.sqrt((sus_pos_ecds_pos + sus_neg_ecds_pos)*(sus_pos_ecds_neg+sus_neg_ecds_neg)*(sus_pos_ecds_pos + sus_pos_ecds_neg)*(sus_neg_ecds_pos+sus_neg_ecds_neg))\n",
    "print(f\"MCC: {MCC:.3f}\")"
   ]
  },
  {
   "cell_type": "markdown",
   "id": "stock-banking",
   "metadata": {},
   "source": [
    "The confusion matrix below shows the relationship between those patients attending emergency care (no discharge filter) who are predicted to later be hospitalised due to COVID-19 (identified through ECDS) (using emergency care covid status, recent positive test and recent covid confirmed in pc) and those who actually attend hospital due to COVID-19 (SUS). "
   ]
  },
  {
   "cell_type": "code",
   "execution_count": 8,
   "id": "posted-treasury",
   "metadata": {},
   "outputs": [],
   "source": [
    "positive_covid_patients_sus = df[df['primary_covid_hospital_admission'].notna()]\n",
    "negative_covid_patients_sus = df[~df['primary_covid_hospital_admission'].notna()]\n",
    "\n",
    "positive_covid_patients_ecds = df[(df['ae_attendance_any']==1) & ((df['ae_attendance_covid_status']==1) | (df['positive_covid_test_before_ae_attendance'] ==1) | (df['covid_primary_care_before_ae_attendance'] ==1))]\n",
    "negative_covid_patients_ecds = df[(df['ae_attendance_any']==0) | ((df['ae_attendance']==1) & ((df['ae_attendance_covid_status']==0) & (df['positive_covid_test_before_ae_attendance'] ==0) & (df['covid_primary_care_before_ae_attendance'] ==0)))]\n",
    "\n",
    "\n",
    "sus_patients_positive = set(list(positive_covid_patients_sus['patient_id']))\n",
    "ecds_patients_positive = set(list(positive_covid_patients_ecds['patient_id']))\n",
    "\n",
    "sus_patients_negative = set(list(negative_covid_patients_sus['patient_id']))\n",
    "ecds_patients_negative = set(list(negative_covid_patients_ecds['patient_id']))\n",
    "\n",
    "\n",
    "sus_pos_ecds_pos = len(list(set(sus_patients_positive) & set(ecds_patients_positive)))\n",
    "sus_pos_ecds_neg = len(list(set(sus_patients_positive) & set(ecds_patients_negative)))\n",
    "sus_neg_ecds_pos = len(list(set(sus_patients_negative) & set(ecds_patients_positive)))\n",
    "sus_neg_ecds_neg = len(list(set(sus_patients_negative) & set(ecds_patients_negative)))"
   ]
  },
  {
   "cell_type": "code",
   "execution_count": 9,
   "id": "wireless-benchmark",
   "metadata": {
    "scrolled": false
   },
   "outputs": [
    {
     "data": {
      "text/html": [
       "<div>\n",
       "<style scoped>\n",
       "    .dataframe tbody tr th:only-of-type {\n",
       "        vertical-align: middle;\n",
       "    }\n",
       "\n",
       "    .dataframe tbody tr th {\n",
       "        vertical-align: top;\n",
       "    }\n",
       "\n",
       "    .dataframe thead th {\n",
       "        text-align: right;\n",
       "    }\n",
       "</style>\n",
       "<table border=\"1\" class=\"dataframe\">\n",
       "  <thead>\n",
       "    <tr style=\"text-align: right;\">\n",
       "      <th></th>\n",
       "      <th>SUS-positive</th>\n",
       "      <th>SUS-negative</th>\n",
       "      <th>Total</th>\n",
       "    </tr>\n",
       "  </thead>\n",
       "  <tbody>\n",
       "    <tr>\n",
       "      <th>ECDS-positive</th>\n",
       "      <td>1152</td>\n",
       "      <td>2746</td>\n",
       "      <td>3898</td>\n",
       "    </tr>\n",
       "    <tr>\n",
       "      <th>ECDS-negative</th>\n",
       "      <td>1834</td>\n",
       "      <td>4211</td>\n",
       "      <td>6045</td>\n",
       "    </tr>\n",
       "    <tr>\n",
       "      <th>Total</th>\n",
       "      <td>2986</td>\n",
       "      <td>6957</td>\n",
       "      <td>9943</td>\n",
       "    </tr>\n",
       "  </tbody>\n",
       "</table>\n",
       "</div>"
      ],
      "text/plain": [
       "               SUS-positive  SUS-negative  Total\n",
       "ECDS-positive          1152          2746   3898\n",
       "ECDS-negative          1834          4211   6045\n",
       "Total                  2986          6957   9943"
      ]
     },
     "execution_count": 9,
     "metadata": {},
     "output_type": "execute_result"
    }
   ],
   "source": [
    "output = pd.DataFrame([[sus_pos_ecds_pos, sus_neg_ecds_pos, (sus_pos_ecds_pos + sus_neg_ecds_pos)], [sus_pos_ecds_neg, sus_neg_ecds_neg, (sus_pos_ecds_neg + sus_neg_ecds_neg)], [(sus_pos_ecds_pos+sus_pos_ecds_neg), (sus_neg_ecds_pos+sus_neg_ecds_neg), (sus_pos_ecds_pos + sus_pos_ecds_neg + sus_neg_ecds_pos + sus_neg_ecds_neg)]], columns=[\"SUS-positive\", \"SUS-negative\", \"Total\"], index=[\"ECDS-positive\", \"ECDS-negative\", \"Total\"])\n",
    "output"
   ]
  },
  {
   "cell_type": "markdown",
   "id": "sweet-pontiac",
   "metadata": {},
   "source": [
    "Predictive ability shown below"
   ]
  },
  {
   "cell_type": "code",
   "execution_count": 10,
   "id": "arctic-energy",
   "metadata": {},
   "outputs": [
    {
     "name": "stdout",
     "output_type": "stream",
     "text": [
      "Sensitivity: 38.58%\n",
      "Specificity : 60.53%\n",
      "PPV: 29.55%\n",
      "NPV : 69.66%\n",
      "MCC: -0.008\n"
     ]
    }
   ],
   "source": [
    "\n",
    "#sensitivity - number of sus identified by ecds\n",
    "#specificity - number of those not in sus who are not in ecds\n",
    "#ppv - number of positive in ecds who are positive in sus\n",
    "#npv - number of negative in ecds who are negative in sus\n",
    "\n",
    "sensitivity = (sus_pos_ecds_pos/(sus_pos_ecds_pos + sus_pos_ecds_neg))*100\n",
    "print(f\"Sensitivity: {sensitivity:.2f}%\")\n",
    "\n",
    "specificity = (sus_neg_ecds_neg/(sus_neg_ecds_pos + sus_neg_ecds_neg))*100\n",
    "print(f\"Specificity : {specificity:.2f}%\")\n",
    "\n",
    "ppv = (sus_pos_ecds_pos/(sus_pos_ecds_pos + sus_neg_ecds_pos))*100\n",
    "print((f\"PPV: {ppv:.2f}%\"))\n",
    "\n",
    "npv = (sus_neg_ecds_neg/(sus_neg_ecds_neg + sus_pos_ecds_neg))*100\n",
    "print(f\"NPV : {npv:.2f}%\")\n",
    "\n",
    "MCC = ((sus_pos_ecds_pos * sus_neg_ecds_neg)-(sus_neg_ecds_pos * sus_pos_ecds_neg))/math.sqrt((sus_pos_ecds_pos + sus_neg_ecds_pos)*(sus_pos_ecds_neg+sus_neg_ecds_neg)*(sus_pos_ecds_pos + sus_pos_ecds_neg)*(sus_neg_ecds_pos+sus_neg_ecds_neg))\n",
    "print(f\"MCC: {MCC:.3f}\")\n"
   ]
  },
  {
   "cell_type": "markdown",
   "id": "senior-humor",
   "metadata": {},
   "source": [
    "The confusion matrix below shows the relationship between those patients attending emergency care (no discharge filter) who are predicted to later be hospitalised due to COVID-19 (identified through ECDS) (using emergency care covid status, recent positive test and recent covid confirmed in pc and emergency care resp status) and those who actually attend hospital due to COVID-19 (SUS). "
   ]
  },
  {
   "cell_type": "code",
   "execution_count": 11,
   "id": "negative-brick",
   "metadata": {},
   "outputs": [],
   "source": [
    "positive_covid_patients_sus = df[df['primary_covid_hospital_admission'].notna()]\n",
    "negative_covid_patients_sus = df[~df['primary_covid_hospital_admission'].notna()]\n",
    "\n",
    "positive_covid_patients_ecds = df[(df['ae_attendance_any']==1) & ((df['ae_attendance_covid_status']==1) | (df['positive_covid_test_before_ae_attendance'] ==1) | (df['covid_primary_care_before_ae_attendance'] ==1) | (df['ae_attendance_respiratory_status'] ==1))]\n",
    "negative_covid_patients_ecds = df[(df['ae_attendance_any']==0) | ((df['ae_attendance']==1) & ((df['ae_attendance_covid_status']==0) & (df['positive_covid_test_before_ae_attendance'] ==0) & (df['covid_primary_care_before_ae_attendance'] ==0) & (df['ae_attendance_respiratory_status'] ==0)))]\n",
    "\n",
    "\n",
    "sus_patients_positive = set(list(positive_covid_patients_sus['patient_id']))\n",
    "ecds_patients_positive = set(list(positive_covid_patients_ecds['patient_id']))\n",
    "\n",
    "sus_patients_negative = set(list(negative_covid_patients_sus['patient_id']))\n",
    "ecds_patients_negative = set(list(negative_covid_patients_ecds['patient_id']))\n",
    "\n",
    "\n",
    "sus_pos_ecds_pos = len(list(set(sus_patients_positive) & set(ecds_patients_positive)))\n",
    "sus_pos_ecds_neg = len(list(set(sus_patients_positive) & set(ecds_patients_negative)))\n",
    "sus_neg_ecds_pos = len(list(set(sus_patients_negative) & set(ecds_patients_positive)))\n",
    "sus_neg_ecds_neg = len(list(set(sus_patients_negative) & set(ecds_patients_negative)))"
   ]
  },
  {
   "cell_type": "code",
   "execution_count": 12,
   "id": "chubby-somerset",
   "metadata": {},
   "outputs": [
    {
     "data": {
      "text/html": [
       "<div>\n",
       "<style scoped>\n",
       "    .dataframe tbody tr th:only-of-type {\n",
       "        vertical-align: middle;\n",
       "    }\n",
       "\n",
       "    .dataframe tbody tr th {\n",
       "        vertical-align: top;\n",
       "    }\n",
       "\n",
       "    .dataframe thead th {\n",
       "        text-align: right;\n",
       "    }\n",
       "</style>\n",
       "<table border=\"1\" class=\"dataframe\">\n",
       "  <thead>\n",
       "    <tr style=\"text-align: right;\">\n",
       "      <th></th>\n",
       "      <th>SUS-positive</th>\n",
       "      <th>SUS-negative</th>\n",
       "      <th>Total</th>\n",
       "    </tr>\n",
       "  </thead>\n",
       "  <tbody>\n",
       "    <tr>\n",
       "      <th>ECDS-positive</th>\n",
       "      <td>1174</td>\n",
       "      <td>2812</td>\n",
       "      <td>3986</td>\n",
       "    </tr>\n",
       "    <tr>\n",
       "      <th>ECDS-negative</th>\n",
       "      <td>1826</td>\n",
       "      <td>4182</td>\n",
       "      <td>6008</td>\n",
       "    </tr>\n",
       "    <tr>\n",
       "      <th>Total</th>\n",
       "      <td>3000</td>\n",
       "      <td>6994</td>\n",
       "      <td>9994</td>\n",
       "    </tr>\n",
       "  </tbody>\n",
       "</table>\n",
       "</div>"
      ],
      "text/plain": [
       "               SUS-positive  SUS-negative  Total\n",
       "ECDS-positive          1174          2812   3986\n",
       "ECDS-negative          1826          4182   6008\n",
       "Total                  3000          6994   9994"
      ]
     },
     "execution_count": 12,
     "metadata": {},
     "output_type": "execute_result"
    }
   ],
   "source": [
    "output = pd.DataFrame([[sus_pos_ecds_pos, sus_neg_ecds_pos, (sus_pos_ecds_pos + sus_neg_ecds_pos)], [sus_pos_ecds_neg, sus_neg_ecds_neg, (sus_pos_ecds_neg + sus_neg_ecds_neg)], [(sus_pos_ecds_pos+sus_pos_ecds_neg), (sus_neg_ecds_pos+sus_neg_ecds_neg), (sus_pos_ecds_pos + sus_pos_ecds_neg + sus_neg_ecds_pos + sus_neg_ecds_neg)]], columns=[\"SUS-positive\", \"SUS-negative\", \"Total\"], index=[\"ECDS-positive\", \"ECDS-negative\", \"Total\"])\n",
    "output"
   ]
  },
  {
   "cell_type": "code",
   "execution_count": 13,
   "id": "artificial-vacuum",
   "metadata": {},
   "outputs": [
    {
     "name": "stdout",
     "output_type": "stream",
     "text": [
      "Sensitivity: 39.13%\n",
      "Specificity : 59.79%\n",
      "PPV: 29.45%\n",
      "NPV : 69.61%\n",
      "MCC: -0.010\n"
     ]
    }
   ],
   "source": [
    "#sensitivity - number of sus identified by ecds\n",
    "#specificity - number of those not in sus who are not in ecds\n",
    "#ppv - number of positive in ecds who are positive in sus\n",
    "#npv - number of negative in ecds who are negative in sus\n",
    "\n",
    "sensitivity = (sus_pos_ecds_pos/(sus_pos_ecds_pos + sus_pos_ecds_neg))*100\n",
    "print(f\"Sensitivity: {sensitivity:.2f}%\")\n",
    "\n",
    "specificity = (sus_neg_ecds_neg/(sus_neg_ecds_pos + sus_neg_ecds_neg))*100\n",
    "print(f\"Specificity : {specificity:.2f}%\")\n",
    "\n",
    "ppv = (sus_pos_ecds_pos/(sus_pos_ecds_pos + sus_neg_ecds_pos))*100\n",
    "print((f\"PPV: {ppv:.2f}%\"))\n",
    "\n",
    "npv = (sus_neg_ecds_neg/(sus_neg_ecds_neg + sus_pos_ecds_neg))*100\n",
    "print(f\"NPV : {npv:.2f}%\")\n",
    "\n",
    "MCC = ((sus_pos_ecds_pos * sus_neg_ecds_neg)-(sus_neg_ecds_pos * sus_pos_ecds_neg))/math.sqrt((sus_pos_ecds_pos + sus_neg_ecds_pos)*(sus_pos_ecds_neg+sus_neg_ecds_neg)*(sus_pos_ecds_pos + sus_pos_ecds_neg)*(sus_neg_ecds_pos+sus_neg_ecds_neg))\n",
    "print(f\"MCC: {MCC:.3f}\")"
   ]
  },
  {
   "cell_type": "code",
   "execution_count": 14,
   "id": "otherwise-penguin",
   "metadata": {
    "code_folding": []
   },
   "outputs": [],
   "source": [
    "def get_stats_var(df, var):\n",
    "    positive_ecds = df[(df['ae_attendance_any']==1) & ((df[var]==1))]\n",
    "    negative_ecds = df[((df['ae_attendance_any']==0) | ((df['ae_attendance_any']==1) & (df[var]==0)))]\n",
    "\n",
    "    ecds_patients_positive = set(list(positive_ecds['patient_id']))\n",
    "    ecds_patients_negative = set(list(negative_ecds['patient_id']))\n",
    "\n",
    "    sus_pos_ecds_pos = len(list(set(sus_patients_positive) & set(ecds_patients_positive)))\n",
    "    sus_pos_ecds_neg = len(list(set(sus_patients_positive) & set(ecds_patients_negative)))\n",
    "    sus_neg_ecds_pos = len(list(set(sus_patients_negative) & set(ecds_patients_positive)))\n",
    "    sus_neg_ecds_neg = len(list(set(sus_patients_negative) & set(ecds_patients_negative)))\n",
    "\n",
    "    output=pd.DataFrame([[sus_pos_ecds_pos, sus_neg_ecds_pos, (sus_pos_ecds_pos + sus_neg_ecds_pos)], [sus_pos_ecds_neg, sus_neg_ecds_neg, (sus_pos_ecds_neg + sus_neg_ecds_neg)], [(sus_pos_ecds_pos+sus_pos_ecds_neg), (sus_neg_ecds_pos+sus_neg_ecds_neg), (sus_pos_ecds_pos + sus_pos_ecds_neg + sus_neg_ecds_pos + sus_neg_ecds_neg)]], columns=[\"SUS-positive\", \"SUS-negative\", \"Total\"], index=[\"AE Covid +\", \"AE Covid -\", \"Total\"])\n",
    "    \n",
    "    sensitivity = (sus_pos_ecds_pos/(sus_pos_ecds_pos + sus_pos_ecds_neg))*100\n",
    "    specificity = (sus_neg_ecds_neg/(sus_neg_ecds_pos + sus_neg_ecds_neg))*100\n",
    "    ppv = (sus_pos_ecds_pos/(sus_pos_ecds_pos + sus_neg_ecds_pos))*100\n",
    "    npv = (sus_neg_ecds_neg/(sus_neg_ecds_neg + sus_pos_ecds_neg))*100\n",
    "    MCC = ((sus_pos_ecds_pos * sus_neg_ecds_neg)-(sus_neg_ecds_pos * sus_pos_ecds_neg))/math.sqrt((sus_pos_ecds_pos + sus_neg_ecds_pos)*(sus_pos_ecds_neg+sus_neg_ecds_neg)*(sus_pos_ecds_pos + sus_pos_ecds_neg)*(sus_neg_ecds_pos+sus_neg_ecds_neg))\n",
    "\n",
    "    \n",
    "    return output, sensitivity, specificity, ppv, npv, MCC"
   ]
  },
  {
   "cell_type": "code",
   "execution_count": 15,
   "id": "settled-insured",
   "metadata": {},
   "outputs": [],
   "source": [
    "cm_covid_status, sensitivity_covid_status, specificity_covid_status, ppv_covid_status, npv_covid_status, mcc_covid_status = get_stats_var(df, 'ae_attendance_covid_status')\n",
    "cm_respiratory_status, sensitivity_respiratory_status, specificity_respiratory_status, ppv_respiratory_status, npv_respiratory_status, mcc_respiratory_status = get_stats_var(df, 'ae_attendance_respiratory_status')\n",
    "cm_test, sensitivity_test, specificity_test, ppv_test, npv_test, mcc_test = get_stats_var(df, 'positive_covid_test_before_ae_attendance')\n",
    "cm_test_month, sensitivity_test_month, specificity_test_month, ppv_test_month, npv_test_month, mcc_test_month = get_stats_var(df, 'positive_covid_test_month_before_ae_attendance')\n",
    "cm_covid_pc, sensitivity_covid_pc, specificity_covid_pc, ppv_covid_pc, npv_covid_pc, mcc_covid_pc = get_stats_var(df, 'covid_primary_care_before_ae_attendance')\n"
   ]
  },
  {
   "cell_type": "markdown",
   "id": "monetary-facial",
   "metadata": {},
   "source": [
    "The performance of individual variables when combined with emergency attendance (no discharge filter) in identifying COVID hospitalisations is shown below."
   ]
  },
  {
   "cell_type": "code",
   "execution_count": 22,
   "id": "failing-lover",
   "metadata": {
    "scrolled": true
   },
   "outputs": [
    {
     "data": {
      "text/html": [
       "<div>\n",
       "<style scoped>\n",
       "    .dataframe tbody tr th:only-of-type {\n",
       "        vertical-align: middle;\n",
       "    }\n",
       "\n",
       "    .dataframe tbody tr th {\n",
       "        vertical-align: top;\n",
       "    }\n",
       "\n",
       "    .dataframe thead th {\n",
       "        text-align: right;\n",
       "    }\n",
       "</style>\n",
       "<table border=\"1\" class=\"dataframe\">\n",
       "  <thead>\n",
       "    <tr style=\"text-align: right;\">\n",
       "      <th></th>\n",
       "      <th>Variable</th>\n",
       "      <th>Sensitivity (%)</th>\n",
       "      <th>Specificity (%)</th>\n",
       "      <th>PPV (%)</th>\n",
       "      <th>NPV (%)</th>\n",
       "      <th>MCC</th>\n",
       "    </tr>\n",
       "  </thead>\n",
       "  <tbody>\n",
       "    <tr>\n",
       "      <th>0</th>\n",
       "      <td>Covid Status</td>\n",
       "      <td>35.37</td>\n",
       "      <td>63.73</td>\n",
       "      <td>29.47</td>\n",
       "      <td>69.70</td>\n",
       "      <td>-0.01</td>\n",
       "    </tr>\n",
       "    <tr>\n",
       "      <th>1</th>\n",
       "      <td>Respiratory Status</td>\n",
       "      <td>34.67</td>\n",
       "      <td>63.74</td>\n",
       "      <td>29.07</td>\n",
       "      <td>69.48</td>\n",
       "      <td>-0.02</td>\n",
       "    </tr>\n",
       "    <tr>\n",
       "      <th>2</th>\n",
       "      <td>Positive Covid Test Last 2 weeks</td>\n",
       "      <td>19.43</td>\n",
       "      <td>80.34</td>\n",
       "      <td>29.76</td>\n",
       "      <td>69.94</td>\n",
       "      <td>-0.00</td>\n",
       "    </tr>\n",
       "    <tr>\n",
       "      <th>3</th>\n",
       "      <td>Positive Covid Test Last Month</td>\n",
       "      <td>19.57</td>\n",
       "      <td>79.81</td>\n",
       "      <td>29.35</td>\n",
       "      <td>69.84</td>\n",
       "      <td>-0.01</td>\n",
       "    </tr>\n",
       "    <tr>\n",
       "      <th>4</th>\n",
       "      <td>Positive Covid in Primary Care</td>\n",
       "      <td>19.53</td>\n",
       "      <td>79.67</td>\n",
       "      <td>29.17</td>\n",
       "      <td>69.79</td>\n",
       "      <td>-0.01</td>\n",
       "    </tr>\n",
       "  </tbody>\n",
       "</table>\n",
       "</div>"
      ],
      "text/plain": [
       "                           Variable  Sensitivity (%)  Specificity (%)  \\\n",
       "0                      Covid Status            35.37            63.73   \n",
       "1                Respiratory Status            34.67            63.74   \n",
       "2  Positive Covid Test Last 2 weeks            19.43            80.34   \n",
       "3    Positive Covid Test Last Month            19.57            79.81   \n",
       "4    Positive Covid in Primary Care            19.53            79.67   \n",
       "\n",
       "   PPV (%)  NPV (%)   MCC  \n",
       "0    29.47    69.70 -0.01  \n",
       "1    29.07    69.48 -0.02  \n",
       "2    29.76    69.94 -0.00  \n",
       "3    29.35    69.84 -0.01  \n",
       "4    29.17    69.79 -0.01  "
      ]
     },
     "execution_count": 22,
     "metadata": {},
     "output_type": "execute_result"
    }
   ],
   "source": [
    "pd.options.display.float_format = '{:.2f}'.format\n",
    "\n",
    "data = [\n",
    "    ['Covid Status',sensitivity_covid_status, specificity_covid_status, ppv_covid_status, npv_covid_status, mcc_covid_status],\n",
    "    ['Respiratory Status', sensitivity_respiratory_status, specificity_respiratory_status, ppv_respiratory_status, npv_respiratory_status, mcc_respiratory_status],\n",
    "    ['Positive Covid Test Last 2 weeks',sensitivity_test, specificity_test, ppv_test, npv_test, mcc_test],\n",
    "    ['Positive Covid Test Last Month', sensitivity_test_month, specificity_test_month, ppv_test_month, npv_test_month, mcc_test_month],\n",
    "    ['Positive Covid in Primary Care',sensitivity_covid_pc, specificity_covid_pc, ppv_covid_pc, npv_covid_pc, mcc_covid_pc],\n",
    "]\n",
    "\n",
    "pd.DataFrame(data, columns=[\"Variable\", \"Sensitivity (%)\", \"Specificity (%)\", \"PPV (%)\", \"NPV (%)\", \"MCC\"])\n"
   ]
  },
  {
   "cell_type": "code",
   "execution_count": 23,
   "id": "sudden-colorado",
   "metadata": {},
   "outputs": [],
   "source": [
    "pd.options.display.float_format = '{:.0f}'.format"
   ]
  },
  {
   "cell_type": "markdown",
   "id": "incomplete-width",
   "metadata": {},
   "source": [
    "Below are results in those for which a emergency care discharge destination is recorded."
   ]
  },
  {
   "cell_type": "code",
   "execution_count": 17,
   "id": "pointed-training",
   "metadata": {},
   "outputs": [
    {
     "name": "stderr",
     "output_type": "stream",
     "text": [
      "<ipython-input-17-1198134282aa>:9: UserWarning: Boolean Series key will be reindexed to match DataFrame index.\n",
      "  positive_covid_patients_ecds = df_subset[(df['ae_attendance']==1) & ((df['ae_attendance_covid_status']==1) | (df['positive_covid_test_before_ae_attendance'] ==1) | (df['covid_primary_care_before_ae_attendance'] ==1))]\n",
      "<ipython-input-17-1198134282aa>:10: UserWarning: Boolean Series key will be reindexed to match DataFrame index.\n",
      "  negative_covid_patients_ecds = df_subset[(df['ae_attendance']==0) | ((df['ae_attendance']==1) & ((df['ae_attendance_covid_status']==0) & (df['positive_covid_test_before_ae_attendance'] ==0) & (df['covid_primary_care_before_ae_attendance'] ==0)))]\n"
     ]
    }
   ],
   "source": [
    "mask = df['discharge_destination'].notna()\n",
    "\n",
    "df_subset = df[df['discharge_destination'].notna()]\n",
    "\n",
    "\n",
    "positive_covid_patients_sus = df_subset[df_subset['primary_covid_hospital_admission'].notna()]\n",
    "negative_covid_patients_sus = df_subset[~df_subset['primary_covid_hospital_admission'].notna()]\n",
    "\n",
    "positive_covid_patients_ecds = df_subset[(df['ae_attendance']==1) & ((df['ae_attendance_covid_status']==1) | (df['positive_covid_test_before_ae_attendance'] ==1) | (df['covid_primary_care_before_ae_attendance'] ==1))]\n",
    "negative_covid_patients_ecds = df_subset[(df['ae_attendance']==0) | ((df['ae_attendance']==1) & ((df['ae_attendance_covid_status']==0) & (df['positive_covid_test_before_ae_attendance'] ==0) & (df['covid_primary_care_before_ae_attendance'] ==0)))]\n",
    "\n",
    "\n",
    "sus_patients_positive = set(list(positive_covid_patients_sus['patient_id']))\n",
    "ecds_patients_positive = set(list(positive_covid_patients_ecds['patient_id']))\n",
    "\n",
    "sus_patients_negative = set(list(negative_covid_patients_sus['patient_id']))\n",
    "ecds_patients_negative = set(list(negative_covid_patients_ecds['patient_id']))\n",
    "\n",
    "\n",
    "sus_pos_ecds_pos = len(list(set(sus_patients_positive) & set(ecds_patients_positive)))\n",
    "sus_pos_ecds_neg = len(list(set(sus_patients_positive) & set(ecds_patients_negative)))\n",
    "sus_neg_ecds_pos = len(list(set(sus_patients_negative) & set(ecds_patients_positive)))\n",
    "sus_neg_ecds_neg = len(list(set(sus_patients_negative) & set(ecds_patients_negative)))"
   ]
  },
  {
   "cell_type": "code",
   "execution_count": 18,
   "id": "level-shame",
   "metadata": {},
   "outputs": [
    {
     "data": {
      "text/html": [
       "<div>\n",
       "<style scoped>\n",
       "    .dataframe tbody tr th:only-of-type {\n",
       "        vertical-align: middle;\n",
       "    }\n",
       "\n",
       "    .dataframe tbody tr th {\n",
       "        vertical-align: top;\n",
       "    }\n",
       "\n",
       "    .dataframe thead th {\n",
       "        text-align: right;\n",
       "    }\n",
       "</style>\n",
       "<table border=\"1\" class=\"dataframe\">\n",
       "  <thead>\n",
       "    <tr style=\"text-align: right;\">\n",
       "      <th></th>\n",
       "      <th>SUS-positive</th>\n",
       "      <th>SUS-negative</th>\n",
       "      <th>Total</th>\n",
       "    </tr>\n",
       "  </thead>\n",
       "  <tbody>\n",
       "    <tr>\n",
       "      <th>ECDS-positive</th>\n",
       "      <td>482</td>\n",
       "      <td>1080</td>\n",
       "      <td>1562</td>\n",
       "    </tr>\n",
       "    <tr>\n",
       "      <th>ECDS-negative</th>\n",
       "      <td>709</td>\n",
       "      <td>1729</td>\n",
       "      <td>2438</td>\n",
       "    </tr>\n",
       "    <tr>\n",
       "      <th>Total</th>\n",
       "      <td>1191</td>\n",
       "      <td>2809</td>\n",
       "      <td>4000</td>\n",
       "    </tr>\n",
       "  </tbody>\n",
       "</table>\n",
       "</div>"
      ],
      "text/plain": [
       "               SUS-positive  SUS-negative  Total\n",
       "ECDS-positive           482          1080   1562\n",
       "ECDS-negative           709          1729   2438\n",
       "Total                  1191          2809   4000"
      ]
     },
     "execution_count": 18,
     "metadata": {},
     "output_type": "execute_result"
    }
   ],
   "source": [
    "output = pd.DataFrame([[sus_pos_ecds_pos, sus_neg_ecds_pos, (sus_pos_ecds_pos + sus_neg_ecds_pos)], [sus_pos_ecds_neg, sus_neg_ecds_neg, (sus_pos_ecds_neg + sus_neg_ecds_neg)], [(sus_pos_ecds_pos+sus_pos_ecds_neg), (sus_neg_ecds_pos+sus_neg_ecds_neg), (sus_pos_ecds_pos + sus_pos_ecds_neg + sus_neg_ecds_pos + sus_neg_ecds_neg)]], columns=[\"SUS-positive\", \"SUS-negative\", \"Total\"], index=[\"ECDS-positive\", \"ECDS-negative\", \"Total\"])\n",
    "output"
   ]
  },
  {
   "cell_type": "code",
   "execution_count": 19,
   "id": "annual-peace",
   "metadata": {},
   "outputs": [
    {
     "name": "stdout",
     "output_type": "stream",
     "text": [
      "Sensitivity: 40.47%\n",
      "Specificity : 61.55%\n",
      "PPV: 30.86%\n",
      "NPV : 70.92%\n",
      "MCC: 0.019\n"
     ]
    }
   ],
   "source": [
    "sensitivity = (sus_pos_ecds_pos/(sus_pos_ecds_pos + sus_pos_ecds_neg))*100\n",
    "print(f\"Sensitivity: {sensitivity:.2f}%\")\n",
    "\n",
    "specificity = (sus_neg_ecds_neg/(sus_neg_ecds_pos + sus_neg_ecds_neg))*100\n",
    "print(f\"Specificity : {specificity:.2f}%\")\n",
    "\n",
    "ppv = (sus_pos_ecds_pos/(sus_pos_ecds_pos + sus_neg_ecds_pos))*100\n",
    "print((f\"PPV: {ppv:.2f}%\"))\n",
    "\n",
    "npv = (sus_neg_ecds_neg/(sus_neg_ecds_neg + sus_pos_ecds_neg))*100\n",
    "print(f\"NPV : {npv:.2f}%\")\n",
    "\n",
    "MCC = ((sus_pos_ecds_pos * sus_neg_ecds_neg)-(sus_neg_ecds_pos * sus_pos_ecds_neg))/math.sqrt((sus_pos_ecds_pos + sus_neg_ecds_pos)*(sus_pos_ecds_neg+sus_neg_ecds_neg)*(sus_pos_ecds_pos + sus_pos_ecds_neg)*(sus_neg_ecds_pos+sus_neg_ecds_neg))\n",
    "print(f\"MCC: {MCC:.3f}\")"
   ]
  },
  {
   "cell_type": "markdown",
   "id": "generic-priest",
   "metadata": {},
   "source": [
    "## To Do\n",
    "\n",
    "* Look at performance in subset who do have discharge dsetination.\n",
    "* Think about dates\n",
    "* What discharge destination to include\n",
    "* Resp codes\n",
    "* Discharge destination in those with covid hosp admission"
   ]
  },
  {
   "cell_type": "code",
   "execution_count": null,
   "id": "automated-couple",
   "metadata": {},
   "outputs": [],
   "source": []
  }
 ],
 "metadata": {
  "kernelspec": {
   "display_name": "Python 3",
   "language": "python",
   "name": "python3"
  },
  "language_info": {
   "codemirror_mode": {
    "name": "ipython",
    "version": 3
   },
   "file_extension": ".py",
   "mimetype": "text/x-python",
   "name": "python",
   "nbconvert_exporter": "python",
   "pygments_lexer": "ipython3",
   "version": "3.9.2"
  }
 },
 "nbformat": 4,
 "nbformat_minor": 5
}
