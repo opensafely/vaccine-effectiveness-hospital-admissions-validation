{
 "cells": [
  {
   "cell_type": "markdown",
   "id": "historic-western",
   "metadata": {},
   "source": [
    "## ECDS emergency care admission vs SUS hospital admission validation\n",
    "\n",
    "There is a delay between patients being admitted to hospital with COVID-19 and this data being made available.  SUS is the 'gold standard' for COVID-19 hospital admission but is coded 3 weeks after completion of an episode.  This means we cannot rapidly evaluate vaccine effectiveness with respect to reducing hospital admission.\n",
    "\n",
    "As a large proportion of hospital admission comes through A&E attendance, emergency admission data through ECDS may provide a good enough picture of hospital admission.  Below is a validation of this.\n",
    "\n",
    "### Methods\n",
    "\n",
    "* Patients hospitalised due to COVID-19 are first identified using SUS.\n",
    "* Patients admitted to emergency care due to COVID-19 are identified using the criteria below:\n",
    "    * All patients admitted to A&E AND then discharged to hospital or ICU are selected.\n",
    "    * In these patients, those admitted due to COVID-19 are filtered to include those that\n",
    "        * Are admitted with positive COVID-19 code OR\n",
    "        * Have had positive COVID-19 test in the 2 weeks prior to admission OR\n",
    "        * Have been recorded as COVID-19 positive in primary care 2 weeks prior to admission (primary care positive test, primary care covid code, primary care covid sequalae). \n",
    "* Ability of ECDS data to identify those admitted to hospital due to COVID-19 vs SUS data is assessed.\n"
   ]
  },
  {
   "cell_type": "code",
   "execution_count": 114,
   "id": "mobile-corps",
   "metadata": {},
   "outputs": [],
   "source": [
    "import pandas as pd\n",
    "import numpy as np\n",
    "pd.options.display.float_format = '{:.0f}'.format"
   ]
  },
  {
   "cell_type": "code",
   "execution_count": 129,
   "id": "gorgeous-mozambique",
   "metadata": {},
   "outputs": [],
   "source": [
    "df = pd.read_csv('../output/input.csv')\n",
    "ae_discharge_dict = {\"discharged_to_ward\": 306706006, \"discharged_to_icy\": 1066391000000105}\n",
    "ae_discharge_list = [value for (key, value) in ae_discharge_dict.items()]\n",
    "\n",
    "\n",
    "positive_covid_patients_sus = df[df['covid_hospital_admission'].notna()]\n",
    "negative_covid_patients_sus = df[~df['covid_hospital_admission'].notna()]\n",
    "\n",
    "positive_covid_patients_ecds = df[((df['attended_ae']==1) & (df['discharge_destination'].isin(ae_discharge_list))) & ((df['attended_ae_covid_status']==1) | (df['positive_covid_test_before_admission'] ==1) | (df['covid_primary_care_before_admission'] ==1))]\n",
    "negative_covid_patients_ecds = df[~((df['attended_ae']==1) & (df['discharge_destination'].isin(ae_discharge_list))) & ((df['attended_ae_covid_status']==1) | (df['positive_covid_test_before_admission'] ==1) | (df['covid_primary_care_before_admission'] ==1))]\n",
    "\n",
    "\n",
    "sus_patients_positive = list(positive_covid_patients_sus['patient_id'])\n",
    "ecds_patients_positive = list(positive_covid_patients_ecds['patient_id'])\n",
    "sus_patients_negative = list(negative_covid_patients_sus['patient_id'])\n",
    "ecds_patients_negative = list(negative_covid_patients_ecds['patient_id'])"
   ]
  },
  {
   "cell_type": "code",
   "execution_count": 131,
   "id": "arctic-energy",
   "metadata": {},
   "outputs": [
    {
     "name": "stdout",
     "output_type": "stream",
     "text": [
      "Sensitivity: 0.15384615384615385\n",
      "Specificity : 0.78542104736157\n"
     ]
    }
   ],
   "source": [
    "#sensitivity - number of sus identified by ecds\n",
    "#specificity - number of those not in sus who are not in ecds\n",
    "\n",
    "sensitivity = len(list(set(sus_patients_positive).intersection(ecds_patients_positive)))/len(sus_patients_positive)\n",
    "print(f\"Sensitivity: {sensitivity}\")\n",
    "\n",
    "specificity = len(list(set(sus_patients_negative).intersection(ecds_patients_negative)))/len(sus_patients_negative)\n",
    "print(f\"Specificity : {specificity}\")\n"
   ]
  },
  {
   "cell_type": "code",
   "execution_count": null,
   "id": "abroad-convention",
   "metadata": {},
   "outputs": [],
   "source": []
  }
 ],
 "metadata": {
  "kernelspec": {
   "display_name": "Python 3",
   "language": "python",
   "name": "python3"
  },
  "language_info": {
   "codemirror_mode": {
    "name": "ipython",
    "version": 3
   },
   "file_extension": ".py",
   "mimetype": "text/x-python",
   "name": "python",
   "nbconvert_exporter": "python",
   "pygments_lexer": "ipython3",
   "version": "3.9.1"
  }
 },
 "nbformat": 4,
 "nbformat_minor": 5
}
