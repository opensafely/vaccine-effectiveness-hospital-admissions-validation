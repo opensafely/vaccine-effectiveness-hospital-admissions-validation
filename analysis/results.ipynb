{
 "cells": [
  {
   "cell_type": "code",
   "execution_count": 1,
   "id": "average-assumption",
   "metadata": {},
   "outputs": [],
   "source": [
    "import pandas as pd\n",
    "import numpy as np\n",
    "import seaborn as sns\n",
    "from matplotlib.colors import ListedColormap\n",
    "from IPython.display import Markdown as md\n",
    "from IPython.display import HTML, display\n",
    "from collections import Counter\n",
    "import math\n",
    "\n",
    "%matplotlib inline\n",
    "\n",
    "pd.options.display.float_format = '{:.0f}'.format"
   ]
  },
  {
   "cell_type": "code",
   "execution_count": 2,
   "id": "changed-duncan",
   "metadata": {},
   "outputs": [],
   "source": [
    "df = pd.read_csv('../output/input.csv')\n",
    "\n"
   ]
  },
  {
   "cell_type": "markdown",
   "id": "identical-spain",
   "metadata": {},
   "source": [
    "Emergency hospitalisations"
   ]
  },
  {
   "cell_type": "code",
   "execution_count": 3,
   "id": "brilliant-smile",
   "metadata": {},
   "outputs": [],
   "source": [
    "num_patients = len(df['patient_id'].unique())\n",
    "num_patients_hosp = len(df[df['hospital_admission'].notna()]['patient_id'].unique())\n",
    "num_patients_hosp_emergency = len(df[df['emergency_hospital_admission'].notna()]['patient_id'].unique())\n",
    "num_patients_hosp_prim_covid = len(df[df['primary_covid_hospital_admission'].notna()]['patient_id'].unique())\n",
    "num_patients_hosp_emergency_prim_covid = len(df[df['emergency_primary_covid_hospital_admission'].notna()]['patient_id'].unique())\n",
    "num_patients_hosp_covid = len(df[df['covid_hospital_admission'].notna()]['patient_id'].unique())\n",
    "num_patients_hosp_emergency_covid = len(df[df['emergency_covid_hospital_admission'].notna()]['patient_id'].unique())"
   ]
  },
  {
   "cell_type": "code",
   "execution_count": 4,
   "id": "assigned-remark",
   "metadata": {},
   "outputs": [
    {
     "data": {
      "text/html": [
       "<table><tr><th>Hospital Admission</th></tr><tr><th>Group</th><th>Total</th><th>%</th></tr><tr><td>Hospital Admission</td><td>2864</td><td>-</td></tr><tr><td>Emergency Admission</td><td>2836</td><td>99.02234636871509%</td></tr><tr><td>Admission with Primary Covid</td><td>2867</td><td>100.10%</td></tr><tr><td>Emergency Admission with Primary Covid</td><td>2848</td><td>99.44%</td></tr><tr><td>Admission with secondary Covid</td><td>2839</td><td>99.13%</td></tr><tr><td>Emergency Admission with secondary Covid</td><td>2831</td><td>98.85%</td></tr></table>"
      ],
      "text/plain": [
       "<IPython.core.display.HTML object>"
      ]
     },
     "metadata": {},
     "output_type": "display_data"
    }
   ],
   "source": [
    "display(HTML(f'<table><tr><th>Hospital Admission</th></tr><tr><th>Group</th><th>Total</th><th>%</th></tr><tr><td>Hospital Admission</td><td>{num_patients_hosp}</td><td>-</td></tr><tr><td>Emergency Admission</td><td>{num_patients_hosp_emergency}</td><td>{(num_patients_hosp_emergency/num_patients_hosp)*100}%</td></tr><tr><td>Admission with Primary Covid</td><td>{num_patients_hosp_prim_covid}</td><td>{(num_patients_hosp_prim_covid/num_patients_hosp)*100:.2f}%</td></tr><tr><td>Emergency Admission with Primary Covid</td><td>{num_patients_hosp_emergency_prim_covid}</td><td>{(num_patients_hosp_emergency_prim_covid/num_patients_hosp)*100:.2f}%</td></tr><tr><td>Admission with secondary Covid</td><td>{num_patients_hosp_covid}</td><td>{(num_patients_hosp_covid/num_patients_hosp)*100:.2f}%</td></tr><tr><td>Emergency Admission with secondary Covid</td><td>{num_patients_hosp_emergency_covid}</td><td>{(num_patients_hosp_emergency_covid/num_patients_hosp)*100:.2f}%</td></tr></table>'\n",
    "))"
   ]
  },
  {
   "cell_type": "markdown",
   "id": "bright-circular",
   "metadata": {},
   "source": [
    "Emergency hospitalisations with primary covid"
   ]
  },
  {
   "cell_type": "code",
   "execution_count": 5,
   "id": "restricted-zambia",
   "metadata": {},
   "outputs": [],
   "source": [
    "num_patients_attended_ae = len(df[(df['primary_covid_hospital_admission'].notna() & df['ae_attendance_no_discharge']==1)]['patient_id'].unique())\n",
    "num_patients_attended_ae_with_discharge = len(df[(df['primary_covid_hospital_admission'].notna() & df['discharge_destination'].notna())]['patient_id'].unique())\n",
    "num_patients_attended_ae_cov = len(df[(df['primary_covid_hospital_admission'].notna() & df['ae_attendance_covid_status']==1)]['patient_id'].unique())\n",
    "num_patients_attended_ae_resp = len(df[(df['primary_covid_hospital_admission'].notna() & df['ae_attendance_respiratory_status']==1)]['patient_id'].unique())\n",
    "num_patients_attended_ae_cov_pc = len(df[(df['primary_covid_hospital_admission'].notna() & df['covid_primary_care_before_ae_attendance']==1)]['patient_id'].unique())\n",
    "num_patients_attended_ae_pos_test = len(df[(df['primary_covid_hospital_admission'].notna() & df['positive_covid_test_before_ae_attendance']==1)]['patient_id'].unique())\n",
    "num_patients_attended_ae_pos_test_month = len(df[(df['primary_covid_hospital_admission'].notna() & df['positive_covid_test_month_before_ae_attendance']==1)]['patient_id'].unique())"
   ]
  },
  {
   "cell_type": "code",
   "execution_count": 6,
   "id": "virgin-psychiatry",
   "metadata": {},
   "outputs": [
    {
     "data": {
      "text/html": [
       "<table><tr><th>Emergency Hospitalisation with primary Covid-19</th></tr><tr><th>Group</th><th>Total</th><th>%</th></tr><tr><td>Attended A&E</td><td>1173</td><td>40.91%</td></tr><tr><td>Attended A&E with discharge info</td><td>1122</td><td>39.13%</td></tr><tr><td>Attended A&E with COVID-19 diagnosis code</td><td>2579</td><td>89.95%</td></tr><tr><td>Attended A&E with respiratory-related diagnosis code</td><td>2577</td><td>89.88%</td></tr><tr><td>Attended A&E with recent COVID-19 in PC</td><td>1449</td><td>50.54%</td></tr><tr><td>Attended A&E with positive test in previous 2 weeks</td><td>1453</td><td>50.68%</td></tr><tr><td>Attended A&E with positive test in previous month</td><td>1410</td><td>49.18%</td></tr></table>"
      ],
      "text/plain": [
       "<IPython.core.display.HTML object>"
      ]
     },
     "metadata": {},
     "output_type": "display_data"
    }
   ],
   "source": [
    "display(HTML(f'<table><tr><th>Emergency Hospitalisation with primary Covid-19</th></tr><tr><th>Group</th><th>Total</th><th>%</th></tr><tr><td>Attended A&E</td><td>{num_patients_attended_ae}</td><td>{(num_patients_attended_ae/num_patients_hosp_prim_covid)*100:.2f}%</td></tr><tr><td>Attended A&E with discharge info</td><td>{num_patients_attended_ae_with_discharge}</td><td>{(num_patients_attended_ae_with_discharge/num_patients_hosp_prim_covid)*100:.2f}%</td></tr><tr><td>Attended A&E with COVID-19 diagnosis code</td><td>{num_patients_attended_ae_cov}</td><td>{(num_patients_attended_ae_cov/num_patients_hosp_prim_covid)*100:.2f}%</td></tr><tr><td>Attended A&E with respiratory-related diagnosis code</td><td>{num_patients_attended_ae_resp}</td><td>{(num_patients_attended_ae_resp/num_patients_hosp_prim_covid)*100:.2f}%</td></tr><tr><td>Attended A&E with recent COVID-19 in PC</td><td>{num_patients_attended_ae_cov_pc}</td><td>{(num_patients_attended_ae_cov_pc/num_patients_hosp_prim_covid)*100:.2f}%</td></tr><tr><td>Attended A&E with positive test in previous 2 weeks</td><td>{num_patients_attended_ae_pos_test}</td><td>{(num_patients_attended_ae_pos_test/num_patients_hosp_prim_covid)*100:.2f}%</td></tr><tr><td>Attended A&E with positive test in previous month</td><td>{num_patients_attended_ae_pos_test_month}</td><td>{(num_patients_attended_ae_pos_test_month/num_patients_hosp_prim_covid)*100:.2f}%</td></tr></table>'))\n"
   ]
  },
  {
   "cell_type": "markdown",
   "id": "humanitarian-opera",
   "metadata": {},
   "source": [
    "Discharge destination in patients with primary covid hospitalisation who previously attended A&E."
   ]
  },
  {
   "cell_type": "code",
   "execution_count": 7,
   "id": "quantitative-imaging",
   "metadata": {},
   "outputs": [
    {
     "data": {
      "text/html": [
       "<div>\n",
       "<style scoped>\n",
       "    .dataframe tbody tr th:only-of-type {\n",
       "        vertical-align: middle;\n",
       "    }\n",
       "\n",
       "    .dataframe tbody tr th {\n",
       "        vertical-align: top;\n",
       "    }\n",
       "\n",
       "    .dataframe thead th {\n",
       "        text-align: right;\n",
       "    }\n",
       "</style>\n",
       "<table border=\"1\" class=\"dataframe\">\n",
       "  <thead>\n",
       "    <tr style=\"text-align: right;\">\n",
       "      <th></th>\n",
       "      <th>Discharge Destination</th>\n",
       "      <th>Number</th>\n",
       "      <th>%</th>\n",
       "    </tr>\n",
       "  </thead>\n",
       "  <tbody>\n",
       "    <tr>\n",
       "      <th>0</th>\n",
       "      <td>Ward</td>\n",
       "      <td>218</td>\n",
       "      <td>19</td>\n",
       "    </tr>\n",
       "    <tr>\n",
       "      <th>1</th>\n",
       "      <td>ICU</td>\n",
       "      <td>220</td>\n",
       "      <td>19</td>\n",
       "    </tr>\n",
       "    <tr>\n",
       "      <th>2</th>\n",
       "      <td>missing</td>\n",
       "      <td>735</td>\n",
       "      <td>63</td>\n",
       "    </tr>\n",
       "  </tbody>\n",
       "</table>\n",
       "</div>"
      ],
      "text/plain": [
       "  Discharge Destination  Number  %\n",
       "0                  Ward     218 19\n",
       "1                   ICU     220 19\n",
       "2               missing     735 63"
      ]
     },
     "execution_count": 7,
     "metadata": {},
     "output_type": "execute_result"
    }
   ],
   "source": [
    "prim_cov_ae_discharge = df[(df['primary_covid_hospital_admission'].notna() & df['ae_attendance_no_discharge']==1)]['discharge_destination']\n",
    "missing = prim_cov_ae_discharge.isna().sum()\n",
    "destination_dict = Counter(prim_cov_ae_discharge[prim_cov_ae_discharge.notnull()])\n",
    "destination_dict['missing'] = missing\n",
    "\n",
    "discharge_dict = {1066341000000100:\"Ambulatory Emergency Care\", 19712007: \"Patient Transfer\", 183919006: \"Other\", 1066361000000104: \"High dependency unit\", 305398007: \"Mortuary\", 1066381000000108: \"Other\", 1066331000000109: \"Emergency department short stay ward\", 306705005: \"Other\", 306706006:\"Ward\", 306689006: \"Home\", 306694006: \"Residential or Nursing Home\", 306691003: \"Residential or Nursing Home\", 1066351000000102: \"Other\", 1066401000000108: \"Other\", 1066371000000106: \"Coronary Care Unit\", 50861005: \"Other\", 1066391000000105: \"ICU\", \"missing\": \"missing\"}\n",
    "percent_dict = {}\n",
    "data = []\n",
    "total = 0\n",
    "\n",
    "for key, value in destination_dict.items():\n",
    "    total+=value\n",
    "\n",
    "for key, value in destination_dict.items():\n",
    "    percent = (value/total) * 100\n",
    "    row = [discharge_dict[key], value, percent]\n",
    "    data.append(row)\n",
    "\n",
    "discharge_destination_df = pd.DataFrame(data, columns=[\"Discharge Destination\", \"Number\", \"%\"])\n",
    "discharge_destination_df\n"
   ]
  },
  {
   "cell_type": "markdown",
   "id": "permanent-instrumentation",
   "metadata": {},
   "source": [
    "Define models"
   ]
  },
  {
   "cell_type": "code",
   "execution_count": 8,
   "id": "wanted-trial",
   "metadata": {},
   "outputs": [],
   "source": [
    "positive_covid_patients_sus = df[df['emergency_primary_covid_hospital_admission'].notna()]\n",
    "negative_covid_patients_sus = df[~df['emergency_primary_covid_hospital_admission'].notna()]"
   ]
  },
  {
   "cell_type": "code",
   "execution_count": 9,
   "id": "cross-chile",
   "metadata": {},
   "outputs": [],
   "source": [
    "#model_a\n",
    "\n",
    "positive_covid_patients_a = df[(df['ae_attendance_any']==1) & ((df['ae_attendance_covid_status']==1) | (df['positive_covid_test_before_ae_attendance'] ==1) | (df['covid_primary_care_before_ae_attendance'] ==1))]\n",
    "negative_covid_patients_a = df[(df['ae_attendance_any']==0) | ((df['ae_attendance_any']==1) & ((df['ae_attendance_covid_status']==0) & (df['positive_covid_test_before_ae_attendance'] ==0) & (df['covid_primary_care_before_ae_attendance'] ==0)))]\n",
    "\n",
    "\n",
    "sus_patients_positive = set(list(positive_covid_patients_sus['patient_id']))\n",
    "model_a_patients_positive = set(list(positive_covid_patients_a['patient_id']))\n",
    "\n",
    "sus_patients_negative = set(list(negative_covid_patients_sus['patient_id']))\n",
    "model_a_patients_negative = set(list(negative_covid_patients_a['patient_id']))\n",
    "\n",
    "\n",
    "sus_pos_ecds_pos = len(list(set(sus_patients_positive) & set(model_a_patients_positive)))\n",
    "sus_pos_ecds_neg = len(list(set(sus_patients_positive) & set(model_a_patients_negative)))\n",
    "sus_neg_ecds_pos = len(list(set(sus_patients_negative) & set(model_a_patients_positive)))\n",
    "sus_neg_ecds_neg = len(list(set(sus_patients_negative) & set(model_a_patients_negative)))"
   ]
  },
  {
   "cell_type": "code",
   "execution_count": 10,
   "id": "dress-intersection",
   "metadata": {},
   "outputs": [],
   "source": [
    "sensitivity_a = (sus_pos_ecds_pos/(sus_pos_ecds_pos + sus_pos_ecds_neg))*100\n",
    "specificity_a = (sus_neg_ecds_neg/(sus_neg_ecds_pos + sus_neg_ecds_neg))*100\n",
    "PPV_a = (sus_pos_ecds_pos/(sus_pos_ecds_pos + sus_neg_ecds_pos))*100\n",
    "NPV_a = (sus_neg_ecds_neg/(sus_neg_ecds_neg + sus_pos_ecds_neg))*100\n",
    "MCC_a = ((sus_pos_ecds_pos * sus_neg_ecds_neg)-(sus_neg_ecds_pos * sus_pos_ecds_neg))/math.sqrt((sus_pos_ecds_pos + sus_neg_ecds_pos)*(sus_pos_ecds_neg+sus_neg_ecds_neg)*(sus_pos_ecds_pos + sus_pos_ecds_neg)*(sus_neg_ecds_pos+sus_neg_ecds_neg))\n"
   ]
  },
  {
   "cell_type": "code",
   "execution_count": 11,
   "id": "handled-cheese",
   "metadata": {},
   "outputs": [],
   "source": [
    "#model_b\n",
    "\n",
    "positive_covid_patients_b = df[(df['ae_attendance']==1) & ((df['ae_attendance_covid_status']==1) | (df['positive_covid_test_before_ae_attendance'] ==1) | (df['covid_primary_care_before_ae_attendance'] ==1))]\n",
    "negative_covid_patients_b = df[(df['ae_attendance']==0) | ((df['ae_attendance']==1) & ((df['ae_attendance_covid_status']==0) & (df['positive_covid_test_before_ae_attendance'] ==0) & (df['covid_primary_care_before_ae_attendance'] ==0)))]\n",
    "\n",
    "\n",
    "sus_patients_positive = set(list(positive_covid_patients_sus['patient_id']))\n",
    "model_b_patients_positive = set(list(positive_covid_patients_b['patient_id']))\n",
    "\n",
    "sus_patients_negative = set(list(negative_covid_patients_sus['patient_id']))\n",
    "model_b_patients_negative = set(list(negative_covid_patients_b['patient_id']))\n",
    "\n",
    "\n",
    "sus_pos_ecds_pos = len(list(set(sus_patients_positive) & set(model_b_patients_positive)))\n",
    "sus_pos_ecds_neg = len(list(set(sus_patients_positive) & set(model_b_patients_negative)))\n",
    "sus_neg_ecds_pos = len(list(set(sus_patients_negative) & set(model_b_patients_positive)))\n",
    "sus_neg_ecds_neg = len(list(set(sus_patients_negative) & set(model_b_patients_negative)))"
   ]
  },
  {
   "cell_type": "code",
   "execution_count": 12,
   "id": "fourth-newspaper",
   "metadata": {},
   "outputs": [],
   "source": [
    "sensitivity_b = (sus_pos_ecds_pos/(sus_pos_ecds_pos + sus_pos_ecds_neg))*100\n",
    "specificity_b = (sus_neg_ecds_neg/(sus_neg_ecds_pos + sus_neg_ecds_neg))*100\n",
    "PPV_b = (sus_pos_ecds_pos/(sus_pos_ecds_pos + sus_neg_ecds_pos))*100\n",
    "NPV_b = (sus_neg_ecds_neg/(sus_neg_ecds_neg + sus_pos_ecds_neg))*100\n",
    "MCC_b = ((sus_pos_ecds_pos * sus_neg_ecds_neg)-(sus_neg_ecds_pos * sus_pos_ecds_neg))/math.sqrt((sus_pos_ecds_pos + sus_neg_ecds_pos)*(sus_pos_ecds_neg+sus_neg_ecds_neg)*(sus_pos_ecds_pos + sus_pos_ecds_neg)*(sus_neg_ecds_pos+sus_neg_ecds_neg))\n"
   ]
  },
  {
   "cell_type": "code",
   "execution_count": 13,
   "id": "aquatic-commitment",
   "metadata": {},
   "outputs": [],
   "source": [
    "#model_c\n",
    "\n",
    "positive_covid_patients_c = df[(df['ae_attendance']==1) & ((df['ae_attendance_covid_status']==1) | (df['ae_attendance_respiratory_status']==1) | (df['positive_covid_test_before_ae_attendance'] ==1) | (df['covid_primary_care_before_ae_attendance'] ==1))]\n",
    "negative_covid_patients_c = df[(df['ae_attendance']==0) | ((df['ae_attendance']==1) & ((df['ae_attendance_covid_status']==0) & (df['ae_attendance_respiratory_status']==1) & (df['positive_covid_test_before_ae_attendance'] ==0) & (df['covid_primary_care_before_ae_attendance'] ==0)))]\n",
    "\n",
    "\n",
    "sus_patients_positive = set(list(positive_covid_patients_sus['patient_id']))\n",
    "model_c_patients_positive = set(list(positive_covid_patients_c['patient_id']))\n",
    "\n",
    "sus_patients_negative = set(list(negative_covid_patients_sus['patient_id']))\n",
    "model_c_patients_negative = set(list(negative_covid_patients_c['patient_id']))\n",
    "\n",
    "\n",
    "sus_pos_ecds_pos = len(list(set(sus_patients_positive) & set(model_c_patients_positive)))\n",
    "sus_pos_ecds_neg = len(list(set(sus_patients_positive) & set(model_c_patients_negative)))\n",
    "sus_neg_ecds_pos = len(list(set(sus_patients_negative) & set(model_c_patients_positive)))\n",
    "sus_neg_ecds_neg = len(list(set(sus_patients_negative) & set(model_c_patients_negative)))"
   ]
  },
  {
   "cell_type": "code",
   "execution_count": 14,
   "id": "elementary-aaron",
   "metadata": {},
   "outputs": [],
   "source": [
    "sensitivity_c = (sus_pos_ecds_pos/(sus_pos_ecds_pos + sus_pos_ecds_neg))*100\n",
    "specificity_c = (sus_neg_ecds_neg/(sus_neg_ecds_pos + sus_neg_ecds_neg))*100\n",
    "PPV_c = (sus_pos_ecds_pos/(sus_pos_ecds_pos + sus_neg_ecds_pos))*100\n",
    "NPV_c = (sus_neg_ecds_neg/(sus_neg_ecds_neg + sus_pos_ecds_neg))*100\n",
    "MCC_c = ((sus_pos_ecds_pos * sus_neg_ecds_neg)-(sus_neg_ecds_pos * sus_pos_ecds_neg))/math.sqrt((sus_pos_ecds_pos + sus_neg_ecds_pos)*(sus_pos_ecds_neg+sus_neg_ecds_neg)*(sus_pos_ecds_pos + sus_pos_ecds_neg)*(sus_neg_ecds_pos+sus_neg_ecds_neg))\n"
   ]
  },
  {
   "cell_type": "code",
   "execution_count": 15,
   "id": "enabling-copying",
   "metadata": {},
   "outputs": [
    {
     "data": {
      "text/html": [
       "<table><tr><th>Model</th><th>Sensitivity</th><th>Specificity</th><th>PPV</th><th>NPV</th><th>MCC</th></tr><td>A</td><td>39.48</td><td>61.25</td><td>29.06</td><td>71.58</td><td>0.01</td><tr><td>B</td><td>39.07</td><td>61.00</td><td>28.70</td><td>71.35</td><td>0.00</td></tr><tr><td>C</td><td>39.58</td><td>60.41</td><td>28.69</td><td>71.31</td><td>-0.00</td></tr></table>"
      ],
      "text/plain": [
       "<IPython.core.display.HTML object>"
      ]
     },
     "metadata": {},
     "output_type": "display_data"
    }
   ],
   "source": [
    "\n",
    "display(HTML(f'<table><tr><th>Model</th><th>Sensitivity</th><th>Specificity</th><th>PPV</th><th>NPV</th><th>MCC</th></tr><td>A</td><td>{sensitivity_a:.2f}</td><td>{specificity_a:.2f}</td><td>{PPV_a:.2f}</td><td>{NPV_a:.2f}</td><td>{MCC_a:.2f}</td><tr><td>B</td><td>{sensitivity_b:.2f}</td><td>{specificity_b:.2f}</td><td>{PPV_b:.2f}</td><td>{NPV_b:.2f}</td><td>{MCC_b:.2f}</td></tr><tr><td>C</td><td>{sensitivity_c:.2f}</td><td>{specificity_c:.2f}</td><td>{PPV_c:.2f}</td><td>{NPV_c:.2f}</td><td>{MCC_c:.2f}</td></tr></table>'))\n"
   ]
  },
  {
   "cell_type": "code",
   "execution_count": 16,
   "id": "material-capture",
   "metadata": {},
   "outputs": [],
   "source": [
    "# from venn import venn\n",
    "\n",
    "# data = {\"Model A\": model_a_patients_positive, \"Model B\": model_b_patients_positive, \"Model C\": model_c_patients_positive, \"Actual\":sus_patients_positive}\n",
    "# venn(data, fmt=\"{percentage:.1f}%\")"
   ]
  },
  {
   "cell_type": "markdown",
   "id": "native-committee",
   "metadata": {},
   "source": [
    "Sensitivity analysis in bets model"
   ]
  },
  {
   "cell_type": "code",
   "execution_count": 17,
   "id": "small-producer",
   "metadata": {},
   "outputs": [],
   "source": [
    "sensitivity_dict = {}"
   ]
  },
  {
   "cell_type": "code",
   "execution_count": 18,
   "id": "ahead-reservoir",
   "metadata": {},
   "outputs": [],
   "source": [
    "#drop cov ae\n",
    "positive_covid_patients = df[(df['ae_attendance']==1) & ( (df['positive_covid_test_before_ae_attendance'] ==1) | (df['covid_primary_care_before_ae_attendance'] ==1))]\n",
    "negative_covid_patients = df[(df['ae_attendance']==0) | ((df['ae_attendance']==1) & ( (df['positive_covid_test_before_ae_attendance'] ==0) & (df['covid_primary_care_before_ae_attendance'] ==0)))]\n",
    "model_patients_positive = set(list(positive_covid_patients['patient_id']))\n",
    "model_patients_negative = set(list(negative_covid_patients['patient_id']))\n",
    "sus_pos_ecds_pos = len(list(set(sus_patients_positive) & set(model_patients_positive)))\n",
    "sus_pos_ecds_neg = len(list(set(sus_patients_positive) & set(model_patients_negative)))\n",
    "sus_neg_ecds_pos = len(list(set(sus_patients_negative) & set(model_patients_positive)))\n",
    "sus_neg_ecds_neg = len(list(set(sus_patients_negative) & set(model_patients_negative)))\n",
    "MCC = ((sus_pos_ecds_pos * sus_neg_ecds_neg)-(sus_neg_ecds_pos * sus_pos_ecds_neg))/math.sqrt((sus_pos_ecds_pos + sus_neg_ecds_pos)*(sus_pos_ecds_neg+sus_neg_ecds_neg)*(sus_pos_ecds_pos + sus_pos_ecds_neg)*(sus_neg_ecds_pos+sus_neg_ecds_neg))\n",
    "sensitivity_dict['cov_ae'] = MCC\n"
   ]
  },
  {
   "cell_type": "code",
   "execution_count": 19,
   "id": "sudden-station",
   "metadata": {},
   "outputs": [],
   "source": [
    "#drop recent pos test\n",
    "positive_covid_patients = df[(df['ae_attendance']==1) & ((df['ae_attendance_covid_status']==1)  | (df['covid_primary_care_before_ae_attendance'] ==1))]\n",
    "negative_covid_patients = df[(df['ae_attendance']==0) | ((df['ae_attendance']==1) & ((df['ae_attendance_covid_status']==0)  & (df['covid_primary_care_before_ae_attendance'] ==0)))]\n",
    "model_patients_positive = set(list(positive_covid_patients['patient_id']))\n",
    "model_patients_negative = set(list(negative_covid_patients['patient_id']))\n",
    "sus_pos_ecds_pos = len(list(set(sus_patients_positive) & set(model_patients_positive)))\n",
    "sus_pos_ecds_neg = len(list(set(sus_patients_positive) & set(model_patients_negative)))\n",
    "sus_neg_ecds_pos = len(list(set(sus_patients_negative) & set(model_patients_positive)))\n",
    "sus_neg_ecds_neg = len(list(set(sus_patients_negative) & set(model_patients_negative)))\n",
    "MCC = ((sus_pos_ecds_pos * sus_neg_ecds_neg)-(sus_neg_ecds_pos * sus_pos_ecds_neg))/math.sqrt((sus_pos_ecds_pos + sus_neg_ecds_pos)*(sus_pos_ecds_neg+sus_neg_ecds_neg)*(sus_pos_ecds_pos + sus_pos_ecds_neg)*(sus_neg_ecds_pos+sus_neg_ecds_neg))\n",
    "sensitivity_dict['pos_test'] = MCC"
   ]
  },
  {
   "cell_type": "code",
   "execution_count": 20,
   "id": "bulgarian-particular",
   "metadata": {},
   "outputs": [],
   "source": [
    "#drop cov pc\n",
    "positive_covid_patients = df[(df['ae_attendance']==1) & ((df['ae_attendance_covid_status']==1) | (df['positive_covid_test_before_ae_attendance'] ==1) )]\n",
    "negative_covid_patients = df[(df['ae_attendance']==0) | ((df['ae_attendance']==1) & ((df['ae_attendance_covid_status']==0) & (df['positive_covid_test_before_ae_attendance'] ==0) ))]\n",
    "model_patients_positive = set(list(positive_covid_patients['patient_id']))\n",
    "model_patients_negative = set(list(negative_covid_patients['patient_id']))\n",
    "sus_pos_ecds_pos = len(list(set(sus_patients_positive) & set(model_patients_positive)))\n",
    "sus_pos_ecds_neg = len(list(set(sus_patients_positive) & set(model_patients_negative)))\n",
    "sus_neg_ecds_pos = len(list(set(sus_patients_negative) & set(model_patients_positive)))\n",
    "sus_neg_ecds_neg = len(list(set(sus_patients_negative) & set(model_patients_negative)))\n",
    "MCC = ((sus_pos_ecds_pos * sus_neg_ecds_neg)-(sus_neg_ecds_pos * sus_pos_ecds_neg))/math.sqrt((sus_pos_ecds_pos + sus_neg_ecds_pos)*(sus_pos_ecds_neg+sus_neg_ecds_neg)*(sus_pos_ecds_pos + sus_pos_ecds_neg)*(sus_neg_ecds_pos+sus_neg_ecds_neg))\n",
    "sensitivity_dict['cov_pc'] = MCC"
   ]
  },
  {
   "cell_type": "code",
   "execution_count": 21,
   "id": "potential-opportunity",
   "metadata": {},
   "outputs": [
    {
     "data": {
      "text/plain": [
       "{'cov_ae': 0.008971659219171691,\n",
       " 'pos_test': 0.0006345817070424986,\n",
       " 'cov_pc': 0.0016762243598021568}"
      ]
     },
     "execution_count": 21,
     "metadata": {},
     "output_type": "execute_result"
    }
   ],
   "source": [
    "sensitivity_dict"
   ]
  },
  {
   "cell_type": "code",
   "execution_count": 25,
   "id": "ethical-acquisition",
   "metadata": {},
   "outputs": [
    {
     "data": {
      "text/html": [
       "<table><tr><th>Variable dropped</th><th>MCC</th></tr><tr><td>-</td><td>0.00</td></tr><tr><td>Covid Diagnosis Code</td><td>0.01</td></tr><tr><td>Recent Positive Covid Test</td><td>0.00</td></tr><tr><td>Recent Covid in Primary Care</td><td>0.00</td></tr></table>"
      ],
      "text/plain": [
       "<IPython.core.display.HTML object>"
      ]
     },
     "metadata": {},
     "output_type": "display_data"
    }
   ],
   "source": [
    "display(HTML(f'<table><tr><th>Variable dropped</th><th>MCC</th></tr><tr><td>-</td><td>{MCC_b:.2f}</td></tr><tr><td>Covid Diagnosis Code</td><td>{sensitivity_dict[\"cov_ae\"]:.2f}</td></tr><tr><td>Recent Positive Covid Test</td><td>{sensitivity_dict[\"pos_test\"]:.2f}</td></tr><tr><td>Recent Covid in Primary Care</td><td>{sensitivity_dict[\"cov_pc\"]:.2f}</td></tr></table>'))\n",
    "\n"
   ]
  },
  {
   "cell_type": "code",
   "execution_count": null,
   "id": "legendary-alignment",
   "metadata": {},
   "outputs": [],
   "source": []
  }
 ],
 "metadata": {
  "kernelspec": {
   "display_name": "Python 3",
   "language": "python",
   "name": "python3"
  },
  "language_info": {
   "codemirror_mode": {
    "name": "ipython",
    "version": 3
   },
   "file_extension": ".py",
   "mimetype": "text/x-python",
   "name": "python",
   "nbconvert_exporter": "python",
   "pygments_lexer": "ipython3",
   "version": "3.9.2"
  }
 },
 "nbformat": 4,
 "nbformat_minor": 5
}
