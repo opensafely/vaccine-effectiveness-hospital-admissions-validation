{
 "cells": [
  {
   "cell_type": "code",
   "execution_count": 9,
   "id": "average-assumption",
   "metadata": {},
   "outputs": [],
   "source": [
    "import pandas as pd\n",
    "import numpy as np\n",
    "import seaborn as sns\n",
    "from matplotlib.colors import ListedColormap\n",
    "from IPython.display import Markdown as md\n",
    "from IPython.display import HTML, display\n",
    "from collections import Counter\n",
    "import math\n",
    "\n",
    "%matplotlib inline\n",
    "\n",
    "pd.options.display.float_format = '{:.0f}'.format"
   ]
  },
  {
   "cell_type": "code",
   "execution_count": 10,
   "id": "changed-duncan",
   "metadata": {},
   "outputs": [],
   "source": [
    "df = pd.read_csv('../output/input.csv')\n",
    "\n"
   ]
  },
  {
   "cell_type": "markdown",
   "id": "identical-spain",
   "metadata": {},
   "source": [
    "Emergency hospitalisations"
   ]
  },
  {
   "cell_type": "code",
   "execution_count": 11,
   "id": "brilliant-smile",
   "metadata": {},
   "outputs": [],
   "source": [
    "num_patients = len(df['patient_id'].unique())\n",
    "num_patients_hosp = len(df[df['hospital_admission'].notna()]['patient_id'].unique())\n",
    "num_patients_hosp_prim_covid = len(df[df['primary_covid_hospital_admission'].notna()]['patient_id'].unique())\n",
    "num_patients_hosp_covid = len(df[df['covid_hospital_admission'].notna()]['patient_id'].unique())"
   ]
  },
  {
   "cell_type": "code",
   "execution_count": 12,
   "id": "assigned-remark",
   "metadata": {},
   "outputs": [
    {
     "data": {
      "text/html": [
       "<table><tr><th>Emergency Hospital Admission</th></tr><tr><th>Group</th><th>Total</th><th>%</th></tr><tr><td>Emergency Admission</td><td>2857</td><td>-</td></tr><tr><td>Emergency Admission with Primary Covid</td><td>2850</td><td>99.75%</td></tr><tr><td>Emergency Admission</td><td>2860</td><td>100.11%</td></tr></table>"
      ],
      "text/plain": [
       "<IPython.core.display.HTML object>"
      ]
     },
     "metadata": {},
     "output_type": "display_data"
    }
   ],
   "source": [
    "display(HTML(f'<table><tr><th>Emergency Hospital Admission</th></tr><tr><th>Group</th><th>Total</th><th>%</th></tr><tr><td>Emergency Admission</td><td>{num_patients_hosp}</td><td>-</td></tr><tr><td>Emergency Admission with Primary Covid</td><td>{num_patients_hosp_prim_covid}</td><td>{(num_patients_hosp_prim_covid/num_patients_hosp)*100:.2f}%</td></tr><tr><td>Emergency Admission</td><td>{num_patients_hosp_covid}</td><td>{(num_patients_hosp_covid/num_patients_hosp)*100:.2f}%</td></tr></table>'\n",
    "))"
   ]
  },
  {
   "cell_type": "markdown",
   "id": "direct-literacy",
   "metadata": {},
   "source": [
    "Emergency hospitalisations with primary covid"
   ]
  },
  {
   "cell_type": "code",
   "execution_count": 17,
   "id": "driven-roads",
   "metadata": {},
   "outputs": [],
   "source": [
    "num_patients_attended_ae = len(df[(df['primary_covid_hospital_admission'].notna() & df['ae_attendance_no_discharge']==1)]['patient_id'].unique())\n",
    "num_patients_attended_ae_with_discharge = len(df[(df['primary_covid_hospital_admission'].notna() & df['discharge_destination'].notna())]['patient_id'].unique())\n",
    "num_patients_attended_ae_cov = len(df[(df['primary_covid_hospital_admission'].notna() & df['ae_attendance_covid_status']==1)]['patient_id'].unique())\n",
    "num_patients_attended_ae_resp = len(df[(df['primary_covid_hospital_admission'].notna() & df['ae_attendance_respiratory_status']==1)]['patient_id'].unique())\n",
    "num_patients_attended_ae_cov_pc = len(df[(df['primary_covid_hospital_admission'].notna() & df['covid_primary_care_before_ae_attendance']==1)]['patient_id'].unique())\n",
    "num_patients_attended_ae_pos_test = len(df[(df['primary_covid_hospital_admission'].notna() & df['positive_covid_test_before_ae_attendance']==1)]['patient_id'].unique())\n",
    "num_patients_attended_ae_pos_test_month = len(df[(df['primary_covid_hospital_admission'].notna() & df['positive_covid_test_month_before_ae_attendance']==1)]['patient_id'].unique())"
   ]
  },
  {
   "cell_type": "code",
   "execution_count": 18,
   "id": "academic-shoot",
   "metadata": {},
   "outputs": [
    {
     "data": {
      "text/html": [
       "<table><tr><th>Emergency Hospitalisation with primary Covid-19</th></tr><tr><th>Group</th><th>Total</th><th>%</th></tr><tr><td>Attended A&E</td><td>1156</td><td>40.56%</td></tr><tr><td>Attended A&E with discharge info</td><td>1167</td><td>40.95%</td></tr><tr><td>Attended A&E with COVID-19 diagnosis code</td><td>2567</td><td>90.07%</td></tr><tr><td>Attended A&E with respiratory-related diagnosis code</td><td>2529</td><td>88.74%</td></tr><tr><td>Attended A&E with recent COVID-19 in PC</td><td>1408</td><td>49.40%</td></tr><tr><td>Attended A&E with positive test in previous 2 weeks</td><td>1448</td><td>50.81%</td></tr><tr><td>Attended A&E with positive test in previous month</td><td>1421</td><td>49.86%</td></tr></table>"
      ],
      "text/plain": [
       "<IPython.core.display.HTML object>"
      ]
     },
     "metadata": {},
     "output_type": "display_data"
    }
   ],
   "source": [
    "display(HTML(f'<table><tr><th>Emergency Hospitalisation with primary Covid-19</th></tr><tr><th>Group</th><th>Total</th><th>%</th></tr><tr><td>Attended A&E</td><td>{num_patients_attended_ae}</td><td>{(num_patients_attended_ae/num_patients_hosp_prim_covid)*100:.2f}%</td></tr><tr><td>Attended A&E with discharge info</td><td>{num_patients_attended_ae_with_discharge}</td><td>{(num_patients_attended_ae_with_discharge/num_patients_hosp_prim_covid)*100:.2f}%</td></tr><tr><td>Attended A&E with COVID-19 diagnosis code</td><td>{num_patients_attended_ae_cov}</td><td>{(num_patients_attended_ae_cov/num_patients_hosp_prim_covid)*100:.2f}%</td></tr><tr><td>Attended A&E with respiratory-related diagnosis code</td><td>{num_patients_attended_ae_resp}</td><td>{(num_patients_attended_ae_resp/num_patients_hosp_prim_covid)*100:.2f}%</td></tr><tr><td>Attended A&E with recent COVID-19 in PC</td><td>{num_patients_attended_ae_cov_pc}</td><td>{(num_patients_attended_ae_cov_pc/num_patients_hosp_prim_covid)*100:.2f}%</td></tr><tr><td>Attended A&E with positive test in previous 2 weeks</td><td>{num_patients_attended_ae_pos_test}</td><td>{(num_patients_attended_ae_pos_test/num_patients_hosp_prim_covid)*100:.2f}%</td></tr><tr><td>Attended A&E with positive test in previous month</td><td>{num_patients_attended_ae_pos_test_month}</td><td>{(num_patients_attended_ae_pos_test_month/num_patients_hosp_prim_covid)*100:.2f}%</td></tr></table>'))\n"
   ]
  },
  {
   "cell_type": "markdown",
   "id": "statistical-organic",
   "metadata": {},
   "source": [
    "Discharge destination in patients with primary covid hospitalisation who previously attended A&E."
   ]
  },
  {
   "cell_type": "code",
   "execution_count": 30,
   "id": "quantitative-imaging",
   "metadata": {},
   "outputs": [
    {
     "data": {
      "text/html": [
       "<div>\n",
       "<style scoped>\n",
       "    .dataframe tbody tr th:only-of-type {\n",
       "        vertical-align: middle;\n",
       "    }\n",
       "\n",
       "    .dataframe tbody tr th {\n",
       "        vertical-align: top;\n",
       "    }\n",
       "\n",
       "    .dataframe thead th {\n",
       "        text-align: right;\n",
       "    }\n",
       "</style>\n",
       "<table border=\"1\" class=\"dataframe\">\n",
       "  <thead>\n",
       "    <tr style=\"text-align: right;\">\n",
       "      <th></th>\n",
       "      <th>Discharge Destination</th>\n",
       "      <th>Number</th>\n",
       "      <th>%</th>\n",
       "    </tr>\n",
       "  </thead>\n",
       "  <tbody>\n",
       "    <tr>\n",
       "      <th>0</th>\n",
       "      <td>Ward</td>\n",
       "      <td>228</td>\n",
       "      <td>20</td>\n",
       "    </tr>\n",
       "    <tr>\n",
       "      <th>1</th>\n",
       "      <td>ICU</td>\n",
       "      <td>263</td>\n",
       "      <td>23</td>\n",
       "    </tr>\n",
       "    <tr>\n",
       "      <th>2</th>\n",
       "      <td>missing</td>\n",
       "      <td>665</td>\n",
       "      <td>58</td>\n",
       "    </tr>\n",
       "  </tbody>\n",
       "</table>\n",
       "</div>"
      ],
      "text/plain": [
       "  Discharge Destination  Number  %\n",
       "0                  Ward     228 20\n",
       "1                   ICU     263 23\n",
       "2               missing     665 58"
      ]
     },
     "execution_count": 30,
     "metadata": {},
     "output_type": "execute_result"
    }
   ],
   "source": [
    "prim_cov_ae_discharge = df[(df['primary_covid_hospital_admission'].notna() & df['ae_attendance_no_discharge']==1)]['discharge_destination']\n",
    "missing = prim_cov_ae_discharge.isna().sum()\n",
    "destination_dict = Counter(prim_cov_ae_discharge[prim_cov_ae_discharge.notnull()])\n",
    "destination_dict['missing'] = missing\n",
    "\n",
    "discharge_dict = {1066341000000100:\"Ambulatory Emergency Care\", 19712007: \"Patient Transfer\", 183919006: \"Other\", 1066361000000104: \"High dependency unit\", 305398007: \"Mortuary\", 1066381000000108: \"Other\", 1066331000000109: \"Emergency department short stay ward\", 306705005: \"Other\", 306706006:\"Ward\", 306689006: \"Home\", 306694006: \"Residential or Nursing Home\", 306691003: \"Residential or Nursing Home\", 1066351000000102: \"Other\", 1066401000000108: \"Other\", 1066371000000106: \"Coronary Care Unit\", 50861005: \"Other\", 1066391000000105: \"ICU\", \"missing\": \"missing\"}\n",
    "percent_dict = {}\n",
    "data = []\n",
    "total = 0\n",
    "\n",
    "for key, value in destination_dict.items():\n",
    "    total+=value\n",
    "\n",
    "for key, value in destination_dict.items():\n",
    "    percent = (value/total) * 100\n",
    "    row = [discharge_dict[key], value, percent]\n",
    "    data.append(row)\n",
    "\n",
    "discharge_destination_df = pd.DataFrame(data, columns=[\"Discharge Destination\", \"Number\", \"%\"])\n",
    "discharge_destination_df\n"
   ]
  },
  {
   "cell_type": "markdown",
   "id": "moral-location",
   "metadata": {},
   "source": [
    "Define models"
   ]
  },
  {
   "cell_type": "code",
   "execution_count": 31,
   "id": "funded-louisiana",
   "metadata": {},
   "outputs": [],
   "source": [
    "positive_covid_patients_sus = df[df['primary_covid_hospital_admission'].notna()]\n",
    "negative_covid_patients_sus = df[~df['primary_covid_hospital_admission'].notna()]"
   ]
  },
  {
   "cell_type": "code",
   "execution_count": 32,
   "id": "fresh-founder",
   "metadata": {},
   "outputs": [],
   "source": [
    "#model_a\n",
    "\n",
    "positive_covid_patients_a = df[(df['ae_attendance_any']==1) & ((df['ae_attendance_covid_status']==1) | (df['positive_covid_test_before_ae_attendance'] ==1) | (df['covid_primary_care_before_ae_attendance'] ==1))]\n",
    "negative_covid_patients_a = df[(df['ae_attendance_any']==0) | ((df['ae_attendance_any']==1) & ((df['ae_attendance_covid_status']==0) & (df['positive_covid_test_before_ae_attendance'] ==0) & (df['covid_primary_care_before_ae_attendance'] ==0)))]\n",
    "\n",
    "\n",
    "sus_patients_positive = set(list(positive_covid_patients_sus['patient_id']))\n",
    "model_a_patients_positive = set(list(positive_covid_patients_a['patient_id']))\n",
    "\n",
    "sus_patients_negative = set(list(negative_covid_patients_sus['patient_id']))\n",
    "model_a_patients_negative = set(list(negative_covid_patients_a['patient_id']))\n",
    "\n",
    "\n",
    "sus_pos_ecds_pos = len(list(set(sus_patients_positive) & set(model_a_patients_positive)))\n",
    "sus_pos_ecds_neg = len(list(set(sus_patients_positive) & set(model_a_patients_negative)))\n",
    "sus_neg_ecds_pos = len(list(set(sus_patients_negative) & set(model_a_patients_positive)))\n",
    "sus_neg_ecds_neg = len(list(set(sus_patients_negative) & set(model_a_patients_negative)))"
   ]
  },
  {
   "cell_type": "code",
   "execution_count": 39,
   "id": "ceramic-transaction",
   "metadata": {},
   "outputs": [],
   "source": [
    "sensitivity_a = (sus_pos_ecds_pos/(sus_pos_ecds_pos + sus_pos_ecds_neg))*100\n",
    "specificity_a = (sus_neg_ecds_neg/(sus_neg_ecds_pos + sus_neg_ecds_neg))*100\n",
    "PPV_a = (sus_pos_ecds_pos/(sus_pos_ecds_pos + sus_neg_ecds_pos))*100\n",
    "NPV_a = (sus_neg_ecds_neg/(sus_neg_ecds_neg + sus_pos_ecds_neg))*100\n",
    "MCC_a = ((sus_pos_ecds_pos * sus_neg_ecds_neg)-(sus_neg_ecds_pos * sus_pos_ecds_neg))/math.sqrt((sus_pos_ecds_pos + sus_neg_ecds_pos)*(sus_pos_ecds_neg+sus_neg_ecds_neg)*(sus_pos_ecds_pos + sus_pos_ecds_neg)*(sus_neg_ecds_pos+sus_neg_ecds_neg))\n"
   ]
  },
  {
   "cell_type": "code",
   "execution_count": 40,
   "id": "integral-berry",
   "metadata": {},
   "outputs": [],
   "source": [
    "#model_b\n",
    "\n",
    "positive_covid_patients_b = df[(df['ae_attendance']==1) & ((df['ae_attendance_covid_status']==1) | (df['positive_covid_test_before_ae_attendance'] ==1) | (df['covid_primary_care_before_ae_attendance'] ==1))]\n",
    "negative_covid_patients_b = df[(df['ae_attendance']==0) | ((df['ae_attendance']==1) & ((df['ae_attendance_covid_status']==0) & (df['positive_covid_test_before_ae_attendance'] ==0) & (df['covid_primary_care_before_ae_attendance'] ==0)))]\n",
    "\n",
    "\n",
    "sus_patients_positive = set(list(positive_covid_patients_sus['patient_id']))\n",
    "model_b_patients_positive = set(list(positive_covid_patients_b['patient_id']))\n",
    "\n",
    "sus_patients_negative = set(list(negative_covid_patients_sus['patient_id']))\n",
    "model_b_patients_negative = set(list(negative_covid_patients_b['patient_id']))\n",
    "\n",
    "\n",
    "sus_pos_ecds_pos = len(list(set(sus_patients_positive) & set(model_b_patients_positive)))\n",
    "sus_pos_ecds_neg = len(list(set(sus_patients_positive) & set(model_b_patients_negative)))\n",
    "sus_neg_ecds_pos = len(list(set(sus_patients_negative) & set(model_b_patients_positive)))\n",
    "sus_neg_ecds_neg = len(list(set(sus_patients_negative) & set(model_b_patients_negative)))"
   ]
  },
  {
   "cell_type": "code",
   "execution_count": 41,
   "id": "warming-experiment",
   "metadata": {},
   "outputs": [],
   "source": [
    "sensitivity_b = (sus_pos_ecds_pos/(sus_pos_ecds_pos + sus_pos_ecds_neg))*100\n",
    "specificity_b = (sus_neg_ecds_neg/(sus_neg_ecds_pos + sus_neg_ecds_neg))*100\n",
    "PPV_b = (sus_pos_ecds_pos/(sus_pos_ecds_pos + sus_neg_ecds_pos))*100\n",
    "NPV_b = (sus_neg_ecds_neg/(sus_neg_ecds_neg + sus_pos_ecds_neg))*100\n",
    "MCC_b = ((sus_pos_ecds_pos * sus_neg_ecds_neg)-(sus_neg_ecds_pos * sus_pos_ecds_neg))/math.sqrt((sus_pos_ecds_pos + sus_neg_ecds_pos)*(sus_pos_ecds_neg+sus_neg_ecds_neg)*(sus_pos_ecds_pos + sus_pos_ecds_neg)*(sus_neg_ecds_pos+sus_neg_ecds_neg))\n"
   ]
  },
  {
   "cell_type": "code",
   "execution_count": 42,
   "id": "champion-support",
   "metadata": {},
   "outputs": [],
   "source": [
    "#model_c\n",
    "\n",
    "positive_covid_patients_c = df[(df['ae_attendance']==1) & ((df['ae_attendance_covid_status']==1) | (df['ae_attendance_respiratory_status']==1) | (df['positive_covid_test_before_ae_attendance'] ==1) | (df['covid_primary_care_before_ae_attendance'] ==1))]\n",
    "negative_covid_patients_c = df[(df['ae_attendance']==0) | ((df['ae_attendance']==1) & ((df['ae_attendance_covid_status']==0) & (df['ae_attendance_respiratory_status']==1) & (df['positive_covid_test_before_ae_attendance'] ==0) & (df['covid_primary_care_before_ae_attendance'] ==0)))]\n",
    "\n",
    "\n",
    "sus_patients_positive = set(list(positive_covid_patients_sus['patient_id']))\n",
    "model_c_patients_positive = set(list(positive_covid_patients_c['patient_id']))\n",
    "\n",
    "sus_patients_negative = set(list(negative_covid_patients_sus['patient_id']))\n",
    "model_c_patients_negative = set(list(negative_covid_patients_c['patient_id']))\n",
    "\n",
    "\n",
    "sus_pos_ecds_pos = len(list(set(sus_patients_positive) & set(model_c_patients_positive)))\n",
    "sus_pos_ecds_neg = len(list(set(sus_patients_positive) & set(model_c_patients_negative)))\n",
    "sus_neg_ecds_pos = len(list(set(sus_patients_negative) & set(model_c_patients_positive)))\n",
    "sus_neg_ecds_neg = len(list(set(sus_patients_negative) & set(model_c_patients_negative)))"
   ]
  },
  {
   "cell_type": "code",
   "execution_count": 43,
   "id": "universal-awareness",
   "metadata": {},
   "outputs": [],
   "source": [
    "sensitivity_c = (sus_pos_ecds_pos/(sus_pos_ecds_pos + sus_pos_ecds_neg))*100\n",
    "specificity_c = (sus_neg_ecds_neg/(sus_neg_ecds_pos + sus_neg_ecds_neg))*100\n",
    "PPV_c = (sus_pos_ecds_pos/(sus_pos_ecds_pos + sus_neg_ecds_pos))*100\n",
    "NPV_c = (sus_neg_ecds_neg/(sus_neg_ecds_neg + sus_pos_ecds_neg))*100\n",
    "MCC_c = ((sus_pos_ecds_pos * sus_neg_ecds_neg)-(sus_neg_ecds_pos * sus_pos_ecds_neg))/math.sqrt((sus_pos_ecds_pos + sus_neg_ecds_pos)*(sus_pos_ecds_neg+sus_neg_ecds_neg)*(sus_pos_ecds_pos + sus_pos_ecds_neg)*(sus_neg_ecds_pos+sus_neg_ecds_neg))\n"
   ]
  },
  {
   "cell_type": "code",
   "execution_count": 45,
   "id": "secure-reception",
   "metadata": {},
   "outputs": [
    {
     "data": {
      "text/html": [
       "<table><tr><th>Model</th><th>Sensitivity</th><th>Specificity</th><th>PPV</th><th>NPV</th><th>MCC</th></tr><td>A</td><td>39.02608695652174</td><td>60.25214740925464</td><td>28.113254823352545</td><td>71.27171419206817</td><td>-0.0066626438344852485</td><tr><td>B</td><td>38.3859649122807</td><td>60.909090909090914</td><td>28.13062483929031</td><td>71.26493208967436</td><td>-0.006527623030159036</td></tr><tr><td>C</td><td>39.02608695652174</td><td>60.25214740925464</td><td>28.113254823352545</td><td>71.27171419206817</td><td>-0.0066626438344852485</td></tr></table>"
      ],
      "text/plain": [
       "<IPython.core.display.HTML object>"
      ]
     },
     "metadata": {},
     "output_type": "display_data"
    }
   ],
   "source": [
    "display(HTML(f'<table><tr><th>Model</th><th>Sensitivity</th><th>Specificity</th><th>PPV</th><th>NPV</th><th>MCC</th></tr><td>A</td><td>{sensitivity_a}</td><td>{specificity_a}</td><td>{PPV_a}</td><td>{NPV_a}</td><td>{MCC_a}</td><tr><td>B</td><td>{sensitivity_b}</td><td>{specificity_b}</td><td>{PPV_b}</td><td>{NPV_b}</td><td>{MCC_b}</td></tr><tr><td>C</td><td>{sensitivity_c}</td><td>{specificity_c}</td><td>{PPV_c}</td><td>{NPV_c}</td><td>{MCC_c}</td></tr></table>'))\n"
   ]
  },
  {
   "cell_type": "code",
   "execution_count": 53,
   "id": "light-migration",
   "metadata": {},
   "outputs": [
    {
     "data": {
      "text/plain": [
       "<AxesSubplot:>"
      ]
     },
     "execution_count": 53,
     "metadata": {},
     "output_type": "execute_result"
    },
    {
     "data": {
      "image/png": "[encoded data removed]",
      "text/plain": [
       "<Figure size 576x576 with 1 Axes>"
      ]
     },
     "metadata": {},
     "output_type": "display_data"
    }
   ],
   "source": [
    "# from venn import venn\n",
    "\n",
    "# data = {\"Model A\": model_a_patients_positive, \"Model B\": model_b_patients_positive, \"Model C\": model_c_patients_positive, \"Actual\":sus_patients_positive}\n",
    "# venn(data, fmt=\"{percentage:.1f}%\")"
   ]
  },
  {
   "cell_type": "code",
   "execution_count": null,
   "id": "necessary-ensemble",
   "metadata": {},
   "outputs": [],
   "source": []
  }
 ],
 "metadata": {
  "kernelspec": {
   "display_name": "Python 3",
   "language": "python",
   "name": "python3"
  },
  "language_info": {
   "codemirror_mode": {
    "name": "ipython",
    "version": 3
   },
   "file_extension": ".py",
   "mimetype": "text/x-python",
   "name": "python",
   "nbconvert_exporter": "python",
   "pygments_lexer": "ipython3",
   "version": "3.9.2"
  }
 },
 "nbformat": 4,
 "nbformat_minor": 5
}
